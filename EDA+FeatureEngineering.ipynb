{
 "cells": [
  {
   "cell_type": "code",
   "execution_count": 1,
   "id": "greek-daughter",
   "metadata": {},
   "outputs": [],
   "source": [
    "import pandas as pd \n",
    "import numpy as np\n",
    "import os \n",
    "import matplotlib.pyplot as plt\n",
    "import seaborn as sns\n",
    "import altair as alt\n",
    "from vega_datasets import data\n",
    "import plotly.graph_objects as go\n",
    "import plotly.io as pio\n",
    "\n",
    "plt.style.use('seaborn-whitegrid')"
   ]
  },
  {
   "cell_type": "code",
   "execution_count": 50,
   "id": "literary-obligation",
   "metadata": {},
   "outputs": [
    {
     "data": {
      "text/html": [
       "<div>\n",
       "<style scoped>\n",
       "    .dataframe tbody tr th:only-of-type {\n",
       "        vertical-align: middle;\n",
       "    }\n",
       "\n",
       "    .dataframe tbody tr th {\n",
       "        vertical-align: top;\n",
       "    }\n",
       "\n",
       "    .dataframe thead th {\n",
       "        text-align: right;\n",
       "    }\n",
       "</style>\n",
       "<table border=\"1\" class=\"dataframe\">\n",
       "  <thead>\n",
       "    <tr style=\"text-align: right;\">\n",
       "      <th></th>\n",
       "      <th>dt</th>\n",
       "      <th>AverageTemperature</th>\n",
       "      <th>AverageTemperatureUncertainty</th>\n",
       "      <th>City</th>\n",
       "      <th>Country</th>\n",
       "      <th>Latitude</th>\n",
       "      <th>Longitude</th>\n",
       "      <th>Month</th>\n",
       "      <th>Year</th>\n",
       "      <th>Hemisphere</th>\n",
       "      <th>Seasons</th>\n",
       "    </tr>\n",
       "  </thead>\n",
       "  <tbody>\n",
       "    <tr>\n",
       "      <th>0</th>\n",
       "      <td>1743-11-01</td>\n",
       "      <td>6.068000</td>\n",
       "      <td>1.73700</td>\n",
       "      <td>Århus</td>\n",
       "      <td>Denmark</td>\n",
       "      <td>57.05N</td>\n",
       "      <td>10.33E</td>\n",
       "      <td>Nov</td>\n",
       "      <td>1743</td>\n",
       "      <td>Northern Hemisphere</td>\n",
       "      <td>Autumn</td>\n",
       "    </tr>\n",
       "    <tr>\n",
       "      <th>1</th>\n",
       "      <td>1743-12-01</td>\n",
       "      <td>7.695135</td>\n",
       "      <td>1.66872</td>\n",
       "      <td>Århus</td>\n",
       "      <td>Denmark</td>\n",
       "      <td>57.05N</td>\n",
       "      <td>10.33E</td>\n",
       "      <td>Dec</td>\n",
       "      <td>1743</td>\n",
       "      <td>Northern Hemisphere</td>\n",
       "      <td>Winter</td>\n",
       "    </tr>\n",
       "  </tbody>\n",
       "</table>\n",
       "</div>"
      ],
      "text/plain": [
       "           dt  AverageTemperature  AverageTemperatureUncertainty   City  \\\n",
       "0  1743-11-01            6.068000                        1.73700  Århus   \n",
       "1  1743-12-01            7.695135                        1.66872  Århus   \n",
       "\n",
       "   Country Latitude Longitude Month  Year           Hemisphere Seasons  \n",
       "0  Denmark   57.05N    10.33E   Nov  1743  Northern Hemisphere  Autumn  \n",
       "1  Denmark   57.05N    10.33E   Dec  1743  Northern Hemisphere  Winter  "
      ]
     },
     "execution_count": 50,
     "metadata": {},
     "output_type": "execute_result"
    }
   ],
   "source": [
    "dcity.head(2)"
   ]
  },
  {
   "cell_type": "markdown",
   "id": "respiratory-mexico",
   "metadata": {},
   "source": [
    "#### Notes about the Data\n",
    "* Number of records \n",
    "* Average temperature column Min Value and Max value \n",
    "* AverageTemperatureUncertainty\n",
    "* Number of Countries, do : {len(data['Country'].unique())}\n",
    "* Number of Cities in both city and major city datasets\n",
    "* Year Range \n",
    "\n"
   ]
  },
  {
   "cell_type": "markdown",
   "id": "verbal-pencil",
   "metadata": {},
   "source": [
    "### Observations"
   ]
  },
  {
   "cell_type": "code",
   "execution_count": 51,
   "id": "copyrighted-death",
   "metadata": {},
   "outputs": [],
   "source": [
    "observations = {}"
   ]
  },
  {
   "cell_type": "code",
   "execution_count": 52,
   "id": "sufficient-genealogy",
   "metadata": {},
   "outputs": [
    {
     "data": {
      "text/html": [
       "<div>\n",
       "<style scoped>\n",
       "    .dataframe tbody tr th:only-of-type {\n",
       "        vertical-align: middle;\n",
       "    }\n",
       "\n",
       "    .dataframe tbody tr th {\n",
       "        vertical-align: top;\n",
       "    }\n",
       "\n",
       "    .dataframe thead th {\n",
       "        text-align: right;\n",
       "    }\n",
       "</style>\n",
       "<table border=\"1\" class=\"dataframe\">\n",
       "  <thead>\n",
       "    <tr style=\"text-align: right;\">\n",
       "      <th></th>\n",
       "      <th></th>\n",
       "      <th>AverageTemperature</th>\n",
       "    </tr>\n",
       "    <tr>\n",
       "      <th>Country</th>\n",
       "      <th>Year</th>\n",
       "      <th></th>\n",
       "    </tr>\n",
       "  </thead>\n",
       "  <tbody>\n",
       "    <tr>\n",
       "      <th rowspan=\"5\" valign=\"top\">Afghanistan</th>\n",
       "      <th>1833</th>\n",
       "      <td>13.576000</td>\n",
       "    </tr>\n",
       "    <tr>\n",
       "      <th>1834</th>\n",
       "      <td>13.462000</td>\n",
       "    </tr>\n",
       "    <tr>\n",
       "      <th>1835</th>\n",
       "      <td>14.342919</td>\n",
       "    </tr>\n",
       "    <tr>\n",
       "      <th>1836</th>\n",
       "      <td>14.342919</td>\n",
       "    </tr>\n",
       "    <tr>\n",
       "      <th>1837</th>\n",
       "      <td>14.342919</td>\n",
       "    </tr>\n",
       "    <tr>\n",
       "      <th>...</th>\n",
       "      <th>...</th>\n",
       "      <td>...</td>\n",
       "    </tr>\n",
       "    <tr>\n",
       "      <th rowspan=\"5\" valign=\"top\">Zimbabwe</th>\n",
       "      <th>2009</th>\n",
       "      <td>21.078000</td>\n",
       "    </tr>\n",
       "    <tr>\n",
       "      <th>2010</th>\n",
       "      <td>21.943000</td>\n",
       "    </tr>\n",
       "    <tr>\n",
       "      <th>2011</th>\n",
       "      <td>21.511000</td>\n",
       "    </tr>\n",
       "    <tr>\n",
       "      <th>2012</th>\n",
       "      <td>21.488500</td>\n",
       "    </tr>\n",
       "    <tr>\n",
       "      <th>2013</th>\n",
       "      <td>19.625000</td>\n",
       "    </tr>\n",
       "  </tbody>\n",
       "</table>\n",
       "<p>32881 rows × 1 columns</p>\n",
       "</div>"
      ],
      "text/plain": [
       "                  AverageTemperature\n",
       "Country     Year                    \n",
       "Afghanistan 1833           13.576000\n",
       "            1834           13.462000\n",
       "            1835           14.342919\n",
       "            1836           14.342919\n",
       "            1837           14.342919\n",
       "...                              ...\n",
       "Zimbabwe    2009           21.078000\n",
       "            2010           21.943000\n",
       "            2011           21.511000\n",
       "            2012           21.488500\n",
       "            2013           19.625000\n",
       "\n",
       "[32881 rows x 1 columns]"
      ]
     },
     "execution_count": 52,
     "metadata": {},
     "output_type": "execute_result"
    }
   ],
   "source": [
    "y_countrymed = pd.DataFrame(dcity.groupby(['Country','Year'])['AverageTemperature'].median())\n",
    "observations['y_countrymed'] = 'YearWise Country Median-Temperature'\n",
    "y_countrymed"
   ]
  },
  {
   "cell_type": "code",
   "execution_count": 53,
   "id": "defined-sociology",
   "metadata": {},
   "outputs": [
    {
     "data": {
      "text/html": [
       "<div>\n",
       "<style scoped>\n",
       "    .dataframe tbody tr th:only-of-type {\n",
       "        vertical-align: middle;\n",
       "    }\n",
       "\n",
       "    .dataframe tbody tr th {\n",
       "        vertical-align: top;\n",
       "    }\n",
       "\n",
       "    .dataframe thead th {\n",
       "        text-align: right;\n",
       "    }\n",
       "</style>\n",
       "<table border=\"1\" class=\"dataframe\">\n",
       "  <thead>\n",
       "    <tr style=\"text-align: right;\">\n",
       "      <th></th>\n",
       "      <th></th>\n",
       "      <th>AverageTemperature</th>\n",
       "    </tr>\n",
       "    <tr>\n",
       "      <th>Country</th>\n",
       "      <th>Month</th>\n",
       "      <th></th>\n",
       "    </tr>\n",
       "  </thead>\n",
       "  <tbody>\n",
       "    <tr>\n",
       "      <th rowspan=\"5\" valign=\"top\">Afghanistan</th>\n",
       "      <th>Apr</th>\n",
       "      <td>13.7970</td>\n",
       "    </tr>\n",
       "    <tr>\n",
       "      <th>Aug</th>\n",
       "      <td>24.2690</td>\n",
       "    </tr>\n",
       "    <tr>\n",
       "      <th>Dec</th>\n",
       "      <td>2.7920</td>\n",
       "    </tr>\n",
       "    <tr>\n",
       "      <th>Feb</th>\n",
       "      <td>3.1310</td>\n",
       "    </tr>\n",
       "    <tr>\n",
       "      <th>Jan</th>\n",
       "      <td>1.0580</td>\n",
       "    </tr>\n",
       "    <tr>\n",
       "      <th>...</th>\n",
       "      <th>...</th>\n",
       "      <td>...</td>\n",
       "    </tr>\n",
       "    <tr>\n",
       "      <th rowspan=\"5\" valign=\"top\">Zimbabwe</th>\n",
       "      <th>Mar</th>\n",
       "      <td>21.2410</td>\n",
       "    </tr>\n",
       "    <tr>\n",
       "      <th>May</th>\n",
       "      <td>17.4940</td>\n",
       "    </tr>\n",
       "    <tr>\n",
       "      <th>Nov</th>\n",
       "      <td>22.7500</td>\n",
       "    </tr>\n",
       "    <tr>\n",
       "      <th>Oct</th>\n",
       "      <td>22.6500</td>\n",
       "    </tr>\n",
       "    <tr>\n",
       "      <th>Sept</th>\n",
       "      <td>20.5225</td>\n",
       "    </tr>\n",
       "  </tbody>\n",
       "</table>\n",
       "<p>1908 rows × 1 columns</p>\n",
       "</div>"
      ],
      "text/plain": [
       "                   AverageTemperature\n",
       "Country     Month                    \n",
       "Afghanistan Apr               13.7970\n",
       "            Aug               24.2690\n",
       "            Dec                2.7920\n",
       "            Feb                3.1310\n",
       "            Jan                1.0580\n",
       "...                               ...\n",
       "Zimbabwe    Mar               21.2410\n",
       "            May               17.4940\n",
       "            Nov               22.7500\n",
       "            Oct               22.6500\n",
       "            Sept              20.5225\n",
       "\n",
       "[1908 rows x 1 columns]"
      ]
     },
     "execution_count": 53,
     "metadata": {},
     "output_type": "execute_result"
    }
   ],
   "source": [
    "m_countrymed = pd.DataFrame(dcity.groupby(['Country','Month'])['AverageTemperature'].median())\n",
    "observations['m_countrymed'] = 'Monthly Country Median-Temperature'\n",
    "m_countrymed"
   ]
  },
  {
   "cell_type": "code",
   "execution_count": 54,
   "id": "swedish-departure",
   "metadata": {},
   "outputs": [
    {
     "data": {
      "text/plain": [
       "{\"Côte D'Ivoire\": ['Abidjan'],\n",
       " 'Ethiopia': ['Addis Abeba'],\n",
       " 'Syria': ['Aleppo'],\n",
       " 'Egypt': ['Alexandria', 'Cairo', 'Gizeh'],\n",
       " 'Turkey': ['Ankara', 'Istanbul', 'Izmir'],\n",
       " 'Iraq': ['Baghdad'],\n",
       " 'Germany': ['Berlin'],\n",
       " 'Morocco': ['Casablanca'],\n",
       " 'United States': ['Chicago', 'Los Angeles', 'New York'],\n",
       " 'Vietnam': ['Ho Chi Minh City'],\n",
       " 'Saudi Arabia': ['Jiddah', 'Riyadh'],\n",
       " 'Afghanistan': ['Kabul'],\n",
       " 'Ukraine': ['Kiev'],\n",
       " 'Congo (Democratic Republic Of The)': ['Kinshasa'],\n",
       " 'United Kingdom': ['London'],\n",
       " 'Spain': ['Madrid'],\n",
       " 'Iran': ['Mashhad'],\n",
       " 'Canada': ['Montreal', 'Toronto'],\n",
       " 'Russia': ['Moscow', 'Saint Petersburg'],\n",
       " 'France': ['Paris'],\n",
       " 'Italy': ['Rome'],\n",
       " 'Dominican Republic': ['Santo Domingo'],\n",
       " 'Sudan': ['Umm Durman'],\n",
       " 'Brazil': ['Belo Horizonte',\n",
       "  'Brasília',\n",
       "  'Fortaleza',\n",
       "  'Rio De Janeiro',\n",
       "  'São Paulo',\n",
       "  'Salvador'],\n",
       " 'Colombia': ['Bogotá', 'Cali'],\n",
       " 'Indonesia': ['Jakarta', 'Surabaya'],\n",
       " 'Somalia': ['Mogadishu'],\n",
       " 'Kenya': ['Nairobi'],\n",
       " 'South Africa': ['Cape Town', 'Durban'],\n",
       " 'Tanzania': ['Dar Es Salaam'],\n",
       " 'Zimbabwe': ['Harare'],\n",
       " 'Peru': ['Lima'],\n",
       " 'Angola': ['Luanda'],\n",
       " 'Australia': ['Melbourne', 'Sydney'],\n",
       " 'Chile': ['Santiago'],\n",
       " 'India': ['Ahmadabad',\n",
       "  'Bangalore',\n",
       "  'Bombay',\n",
       "  'Calcutta',\n",
       "  'Delhi',\n",
       "  'Hyderabad',\n",
       "  'Jaipur',\n",
       "  'Kanpur',\n",
       "  'Lakhnau',\n",
       "  'Madras',\n",
       "  'Nagpur',\n",
       "  'New Delhi',\n",
       "  'Pune',\n",
       "  'Surat'],\n",
       " 'Thailand': ['Bangkok'],\n",
       " 'China': ['Changchun',\n",
       "  'Chengdu',\n",
       "  'Chongqing',\n",
       "  'Dalian',\n",
       "  'Guangzhou',\n",
       "  'Harbin',\n",
       "  'Jinan',\n",
       "  'Nanjing',\n",
       "  'Peking',\n",
       "  'Shanghai',\n",
       "  'Shenyang',\n",
       "  'Taiyuan',\n",
       "  'Tangshan',\n",
       "  'Tianjin',\n",
       "  'Wuhan',\n",
       "  'Xian'],\n",
       " 'Senegal': ['Dakar'],\n",
       " 'Bangladesh': ['Dhaka'],\n",
       " 'Pakistan': ['Faisalabad', 'Karachi', 'Lahore'],\n",
       " 'Nigeria': ['Ibadan', 'Kano', 'Lagos'],\n",
       " 'Philippines': ['Manila'],\n",
       " 'Mexico': ['Mexico'],\n",
       " 'Japan': ['Nagoya', 'Tokyo'],\n",
       " 'Burma': ['Rangoon'],\n",
       " 'South Korea': ['Seoul'],\n",
       " 'Singapore': ['Singapore'],\n",
       " 'Taiwan': ['Taipei']}"
      ]
     },
     "execution_count": 54,
     "metadata": {},
     "output_type": "execute_result"
    }
   ],
   "source": [
    "# Countries & Major Cities\n",
    "majorlocs = {}\n",
    "for country in dmajcity['Country'].unique():\n",
    "    majorlocs[country] = list(dmajcity[dmajcity['Country']==country]['City'].unique())\n",
    "    \n",
    "majorlocs"
   ]
  },
  {
   "cell_type": "markdown",
   "id": "partial-ambassador",
   "metadata": {},
   "source": [
    "### Seasons"
   ]
  },
  {
   "cell_type": "code",
   "execution_count": 55,
   "id": "failing-waters",
   "metadata": {},
   "outputs": [],
   "source": [
    "# def season(month):\n",
    "#     day = 1\n",
    "\n",
    "#     if month in ('Jan', 'Feb', 'Mar'):\n",
    "#         season = 'Winter'\n",
    "#     elif month in ('Apr', 'May', 'Jun'):\n",
    "#         season = 'Spring'\n",
    "#     elif month in ('Jul', 'Aug', 'Sept'):\n",
    "#         season = 'Summer'\n",
    "#     else:\n",
    "#         season = 'Autumn'\n",
    "\n",
    "#     if (month == 'Mar') and (day > 19):\n",
    "#         season = 'Spring'\n",
    "#     elif (month == 'Jun') and (day > 20):\n",
    "#         season = 'Summer'\n",
    "#     elif (month == 'Sept') and (day > 21):\n",
    "#         season = 'Autumn'\n",
    "#     elif (month == 'Dec') and (day > 20):\n",
    "#         season = 'Winter'\n",
    "\n",
    "#     return season"
   ]
  },
  {
   "cell_type": "code",
   "execution_count": 56,
   "id": "according-greek",
   "metadata": {},
   "outputs": [],
   "source": [
    "# india = dcity[dcity['Country']=='India']"
   ]
  },
  {
   "cell_type": "code",
   "execution_count": 57,
   "id": "unlikely-chest",
   "metadata": {},
   "outputs": [],
   "source": [
    "# india['dt'] = pd.to_datetime(india['dt'])"
   ]
  },
  {
   "cell_type": "code",
   "execution_count": 58,
   "id": "friendly-munich",
   "metadata": {},
   "outputs": [],
   "source": [
    "# india['Season'] = india['Month'].apply(season)\n",
    "# india"
   ]
  },
  {
   "cell_type": "code",
   "execution_count": null,
   "id": "angry-cleaning",
   "metadata": {},
   "outputs": [],
   "source": []
  },
  {
   "cell_type": "code",
   "execution_count": null,
   "id": "different-feelings",
   "metadata": {},
   "outputs": [],
   "source": []
  },
  {
   "cell_type": "markdown",
   "id": "hundred-passenger",
   "metadata": {},
   "source": [
    "### Pipelines for Plots & transformations"
   ]
  },
  {
   "cell_type": "code",
   "execution_count": 59,
   "id": "parliamentary-stationery",
   "metadata": {},
   "outputs": [],
   "source": [
    "def median_agg(data, sequence='Month',loc='Country',countryname=None):\n",
    "      \n",
    "    '''\n",
    "    Median Aggregation of AverageTemperatures by Country\n",
    "    '''\n",
    "    \n",
    "    if loc == 'Country':    \n",
    "        df = pd.DataFrame(data.groupby([loc, sequence])[['AverageTemperature','AverageTemperatureUncertainty']].median())\n",
    "        if countryname !=None:\n",
    "            try:\n",
    "                return df.loc[countryname, :]\n",
    "            except:\n",
    "                print('Invalid Country Name')\n",
    "        else:\n",
    "            return pd.DataFrame(data.groupby([loc, sequence])[['AverageTemperature','AverageTemperatureUncertainty']].median())\n",
    "    elif loc == 'City':\n",
    "        if countryname != None:\n",
    "            df = pd.DataFrame(data.groupby(['Country',loc, sequence])[['AverageTemperature','AverageTemperatureUncertainty']].median())\n",
    "            try:\n",
    "                return df.loc[countryname, :]\n",
    "            except:\n",
    "                print('Invalid Country Name')\n",
    "\n",
    "        else:\n",
    "            return pd.DataFrame(data.groupby([loc, sequence])[['AverageTemperature','AverageTemperatureUncertainty']].median())\n",
    "            \n",
    "    else:\n",
    "        return None\n",
    "    \n"
   ]
  },
  {
   "cell_type": "markdown",
   "id": "objective-rhythm",
   "metadata": {},
   "source": [
    "### Monthly Average Temperature"
   ]
  },
  {
   "cell_type": "code",
   "execution_count": 60,
   "id": "foreign-communication",
   "metadata": {},
   "outputs": [],
   "source": [
    "def order_monthidx(df):\n",
    "    cats = ['Jan', 'Feb', 'Mar', 'Apr','May','Jun', 'Jul', 'Aug','Sept', 'Oct', 'Nov', 'Dec']\n",
    "    df.index = pd.CategoricalIndex(df.index, categories=cats, ordered=True)\n",
    "    df = df.sort_index()\n",
    "    return df"
   ]
  },
  {
   "cell_type": "code",
   "execution_count": 61,
   "id": "macro-ethics",
   "metadata": {},
   "outputs": [],
   "source": [
    "# def plotting(data,cityname,attr,mode='Monthwise',type2=None):\n",
    "#     plt.figure(figsize=(15,8))\n",
    "#     x = data.index\n",
    "#     y = data[attr].values\n",
    "#     plots = sns.barplot(x=x,y=y,palette='Blues_r',label=cityname)\n",
    "\n",
    "#     for bar in plots.patches:\n",
    "#         '''Snippet lifted from geeksforgeeks'''\n",
    "#         plots.annotate(format(bar.get_height(), '.2f'),\n",
    "#                        (bar.get_x() + bar.get_width() / 2,\n",
    "#                         bar.get_height()), ha='center', va='center',\n",
    "#                        size=12, xytext=(0, 8),\n",
    "#                        textcoords='offset points')\n",
    "#     '''Snippet lifted from geeksforgeeks'''\n",
    "#     plt.title('Monthly Average Temperatures Recorded in {}'.format(cityname),size=15)\n",
    "#     plt.ylabel('Temperatures °C',size=12)\n",
    "#     plt.xlabel('Months',size=12)\n",
    "#     plt.legend(bbox_to_anchor=(1.13, 1.05))\n",
    "#     plt.show()\n",
    "    "
   ]
  },
  {
   "cell_type": "code",
   "execution_count": 62,
   "id": "intended-haiti",
   "metadata": {},
   "outputs": [
    {
     "name": "stdout",
     "output_type": "stream",
     "text": [
      "crimson\n",
      "darkorange\n",
      "magenta\n"
     ]
    }
   ],
   "source": [
    "\n",
    "test = ['crimson','darkorange','magenta','darkslateblue']\n",
    "for x in range(3):\n",
    "    print(test.pop(0))\n",
    "\n"
   ]
  },
  {
   "cell_type": "code",
   "execution_count": 63,
   "id": "million-cruise",
   "metadata": {},
   "outputs": [],
   "source": [
    "def plottimeseries(data,cityname, attr='AverageTemperature',loc='City',multiple=None):\n",
    "    \n",
    "    ## Prompt \n",
    "    if attr == 'AverageTemperature':\n",
    "        prompt = 'Average Temperature'\n",
    "    else:\n",
    "        prompt = 'Average Temperature Uncertainty (Δ T)'\n",
    "    \n",
    "    if loc=='City':\n",
    "\n",
    "        if 'Month' in data.reset_index().columns:\n",
    "            plt.figure(figsize=(15,8))\n",
    "            \n",
    "            if multiple == None:\n",
    "                data = data.xs(cityname, level=0, drop_level=True)\n",
    "                data = order_monthidx(data)\n",
    "                x = data.index\n",
    "                y = data[attr].values\n",
    "                if attr == 'AverageTemperature':\n",
    "                    plots = sns.barplot(x=x,y=y,palette='Blues_r',label=cityname,edgecolor='black')\n",
    "\n",
    "                    for bar in plots.patches:\n",
    "                        \n",
    "                        plots.annotate(format(bar.get_height(), '.2f'),\n",
    "                                    (bar.get_x() + bar.get_width() / 2,\n",
    "                                        bar.get_height()), ha='center', va='center',\n",
    "                                    size=18, xytext=(0, 8),\n",
    "                                    textcoords='offset points')\n",
    "                    \n",
    "                    plt.title('Monthly {} Recorded in {}'.format(prompt,cityname),size=25)\n",
    "                    plt.ylabel('Temperatures °C',size=23)\n",
    "                    plt.xlabel('Months',size=23)\n",
    "                    plt.xticks(size=15)\n",
    "                    plt.yticks(size=15)\n",
    "                else:\n",
    "                    sns.lineplot(x=x,y=y,color='royalblue',marker='o')\n",
    "                    plt.title('Monthly {} Recorded in {}'.format(prompt,cityname),size=25)\n",
    "                    plt.ylabel('Temperatures °C',size=23)\n",
    "                    plt.xlabel('Months',size=23)\n",
    "                    plt.xticks(size=15)\n",
    "                    plt.yticks(size=15)\n",
    "                # plt.legend(bbox_to_anchor=(1.13, 1.05))\n",
    "                \n",
    "            \n",
    "            else:\n",
    "                coords = []\n",
    "                if len(multiple) <=3 and len(multiple) <=5:\n",
    "                    for cityname in multiple:\n",
    "                        df = data.xs(cityname, level=0, drop_level=True)\n",
    "                        df = order_monthidx(df)\n",
    "                        x = df.index\n",
    "                        y = df[attr].values\n",
    "                        coords.append((x,y))\n",
    "                \n",
    "\n",
    "                # setting plot attributes\n",
    "                plotattrs = {}\n",
    "                colors = ['crimson','magenta','darkorange','darkslateblue']\n",
    "                for cityname in multiple[1:]:\n",
    "                    plotattrs[cityname] = {'marker':'o', 'color':colors.pop(0)}\n",
    "                \n",
    "                count = 0\n",
    "                for coord,cityname in zip(coords,multiple):\n",
    "                    x,y = coord\n",
    "\n",
    "                    if count < 1:\n",
    "                        sns.barplot(x=x,y=y,palette='Blues_r',label=cityname, edgecolor='black')\n",
    "                        count +=1\n",
    "                    else:\n",
    "                        pltattrs = plotattrs[cityname]\n",
    "                        sns.lineplot(x=x,y=y,color=pltattrs['color'],marker=pltattrs['marker'],label=cityname)\n",
    "                    plt.title('Monthly {} Recorded in {}'.format(prompt,cityname),size=25)\n",
    "                    plt.ylabel('Temperatures °C',size=23)\n",
    "                    plt.xlabel('Months',size=23)\n",
    "                    plt.xticks(size=15)\n",
    "                    plt.yticks(size=15)\n",
    "                    plt.legend(bbox_to_anchor=(1.13, 1.05))\n",
    "                    \n",
    "                \n",
    "            \n",
    "        else:\n",
    "            data = data.xs(cityname, level=0, drop_level=True)\n",
    "            plt.figure(figsize=(15,8))\n",
    "            x = data.index\n",
    "            y = data[attr].values\n",
    "            sns.lineplot(x=x,y=y,label=cityname,marker='P',color='royalblue',palette='inferno')\n",
    "            plt.title('Yearly {} Recorded in {}'.format(prompt,cityname),size=25)\n",
    "            plt.ylabel('Temperatures °C',size=23)\n",
    "            plt.xlabel('Years',size=23)\n",
    "            plt.xticks(size=15)\n",
    "            plt.yticks(size=15)\n",
    "            plt.legend(bbox_to_anchor=(1.13, 1.05))\n",
    "            \n",
    "\n",
    "    else:\n",
    "        pass"
   ]
  },
  {
   "cell_type": "code",
   "execution_count": 64,
   "id": "micro-continent",
   "metadata": {},
   "outputs": [
    {
     "data": {
      "text/plain": [
       "Index(['Abbotsford', 'Barrie', 'Calgary', 'Edmonton', 'Guelph', 'Halifax',\n",
       "       'Hamilton', 'Kelowna', 'Kingston', 'Kitchener', 'London', 'Montreal',\n",
       "       'Oshawa', 'Ottawa', 'Quebec', 'Regina', 'Saskatoon', 'Sherbrooke',\n",
       "       'Sudbury', 'Toronto', 'Trois Rivières', 'Vancouver', 'Victoria',\n",
       "       'Waterloo', 'Winnipeg'],\n",
       "      dtype='object')"
      ]
     },
     "execution_count": 64,
     "metadata": {},
     "output_type": "execute_result"
    }
   ],
   "source": [
    "# example\n",
    "monthex = median_agg(dcity,sequence='Month',loc='City',countryname='Canada')\n",
    "pd.Series(dict(monthex.index)).index"
   ]
  },
  {
   "cell_type": "code",
   "execution_count": 65,
   "id": "governing-delaware",
   "metadata": {},
   "outputs": [],
   "source": [
    "cities = ['Ottawa','Sydney','Tokyo']"
   ]
  },
  {
   "cell_type": "code",
   "execution_count": 66,
   "id": "checked-angle",
   "metadata": {},
   "outputs": [
    {
     "data": {
      "image/png": "[encoded data removed]",
      "text/plain": [
       "<Figure size 1080x576 with 1 Axes>"
      ]
     },
     "metadata": {},
     "output_type": "display_data"
    }
   ],
   "source": [
    "# mutiple\n",
    "plottimeseries(monthex,cityname='Ottawa',multiple=None)"
   ]
  },
  {
   "cell_type": "code",
   "execution_count": 67,
   "id": "stylish-center",
   "metadata": {},
   "outputs": [
    {
     "data": {
      "image/png": "[encoded data removed]",
      "text/plain": [
       "<Figure size 1080x576 with 1 Axes>"
      ]
     },
     "metadata": {},
     "output_type": "display_data"
    }
   ],
   "source": [
    "# mutiple\n",
    "plottimeseries(monthex,cityname='Ottawa',attr='AverageTemperatureUncertainty',multiple=None)"
   ]
  },
  {
   "cell_type": "code",
   "execution_count": 68,
   "id": "minus-virus",
   "metadata": {},
   "outputs": [],
   "source": [
    "# example\n",
    "yearex = median_agg(dmajcity,sequence='Year',loc='City',countryname='India')"
   ]
  },
  {
   "cell_type": "code",
   "execution_count": 69,
   "id": "fuzzy-occupation",
   "metadata": {
    "scrolled": true
   },
   "outputs": [
    {
     "data": {
      "text/html": [
       "<div>\n",
       "<style scoped>\n",
       "    .dataframe tbody tr th:only-of-type {\n",
       "        vertical-align: middle;\n",
       "    }\n",
       "\n",
       "    .dataframe tbody tr th {\n",
       "        vertical-align: top;\n",
       "    }\n",
       "\n",
       "    .dataframe thead th {\n",
       "        text-align: right;\n",
       "    }\n",
       "</style>\n",
       "<table border=\"1\" class=\"dataframe\">\n",
       "  <thead>\n",
       "    <tr style=\"text-align: right;\">\n",
       "      <th></th>\n",
       "      <th></th>\n",
       "      <th>AverageTemperature</th>\n",
       "      <th>AverageTemperatureUncertainty</th>\n",
       "    </tr>\n",
       "    <tr>\n",
       "      <th>City</th>\n",
       "      <th>Year</th>\n",
       "      <th></th>\n",
       "      <th></th>\n",
       "    </tr>\n",
       "  </thead>\n",
       "  <tbody>\n",
       "    <tr>\n",
       "      <th rowspan=\"5\" valign=\"top\">Ahmadabad</th>\n",
       "      <th>1796</th>\n",
       "      <td>27.619000</td>\n",
       "      <td>2.3565</td>\n",
       "    </tr>\n",
       "    <tr>\n",
       "      <th>1797</th>\n",
       "      <td>27.387500</td>\n",
       "      <td>2.1105</td>\n",
       "    </tr>\n",
       "    <tr>\n",
       "      <th>1798</th>\n",
       "      <td>26.780426</td>\n",
       "      <td>2.0195</td>\n",
       "    </tr>\n",
       "    <tr>\n",
       "      <th>1799</th>\n",
       "      <td>27.878500</td>\n",
       "      <td>2.0875</td>\n",
       "    </tr>\n",
       "    <tr>\n",
       "      <th>1800</th>\n",
       "      <td>27.126000</td>\n",
       "      <td>2.0365</td>\n",
       "    </tr>\n",
       "    <tr>\n",
       "      <th>...</th>\n",
       "      <th>...</th>\n",
       "      <td>...</td>\n",
       "      <td>...</td>\n",
       "    </tr>\n",
       "    <tr>\n",
       "      <th rowspan=\"5\" valign=\"top\">Surat</th>\n",
       "      <th>2009</th>\n",
       "      <td>28.469500</td>\n",
       "      <td>0.3130</td>\n",
       "    </tr>\n",
       "    <tr>\n",
       "      <th>2010</th>\n",
       "      <td>28.030000</td>\n",
       "      <td>0.3215</td>\n",
       "    </tr>\n",
       "    <tr>\n",
       "      <th>2011</th>\n",
       "      <td>27.565000</td>\n",
       "      <td>0.2560</td>\n",
       "    </tr>\n",
       "    <tr>\n",
       "      <th>2012</th>\n",
       "      <td>27.708000</td>\n",
       "      <td>0.4400</td>\n",
       "    </tr>\n",
       "    <tr>\n",
       "      <th>2013</th>\n",
       "      <td>27.306000</td>\n",
       "      <td>0.5400</td>\n",
       "    </tr>\n",
       "  </tbody>\n",
       "</table>\n",
       "<p>3052 rows × 2 columns</p>\n",
       "</div>"
      ],
      "text/plain": [
       "                AverageTemperature  AverageTemperatureUncertainty\n",
       "City      Year                                                   \n",
       "Ahmadabad 1796           27.619000                         2.3565\n",
       "          1797           27.387500                         2.1105\n",
       "          1798           26.780426                         2.0195\n",
       "          1799           27.878500                         2.0875\n",
       "          1800           27.126000                         2.0365\n",
       "...                            ...                            ...\n",
       "Surat     2009           28.469500                         0.3130\n",
       "          2010           28.030000                         0.3215\n",
       "          2011           27.565000                         0.2560\n",
       "          2012           27.708000                         0.4400\n",
       "          2013           27.306000                         0.5400\n",
       "\n",
       "[3052 rows x 2 columns]"
      ]
     },
     "execution_count": 69,
     "metadata": {},
     "output_type": "execute_result"
    }
   ],
   "source": [
    "yearex"
   ]
  },
  {
   "cell_type": "code",
   "execution_count": 70,
   "id": "radio-bulletin",
   "metadata": {},
   "outputs": [
    {
     "data": {
      "image/png": "[encoded data removed]",
      "text/plain": [
       "<Figure size 1080x576 with 1 Axes>"
      ]
     },
     "metadata": {},
     "output_type": "display_data"
    }
   ],
   "source": [
    "plottimeseries(yearex,cityname='Hyderabad')"
   ]
  },
  {
   "cell_type": "code",
   "execution_count": 71,
   "id": "understood-conclusion",
   "metadata": {},
   "outputs": [],
   "source": [
    "indiamonthly = order_monthidx(median_agg(dcity,countryname='India'))\n",
    "usmonthly = order_monthidx(median_agg(dcity,countryname='United States'))\n",
    "canmonthly = order_monthidx(median_agg(dcity,countryname='Canada'))"
   ]
  },
  {
   "cell_type": "code",
   "execution_count": 72,
   "id": "regional-score",
   "metadata": {},
   "outputs": [
    {
     "data": {
      "text/html": [
       "<div>\n",
       "<style scoped>\n",
       "    .dataframe tbody tr th:only-of-type {\n",
       "        vertical-align: middle;\n",
       "    }\n",
       "\n",
       "    .dataframe tbody tr th {\n",
       "        vertical-align: top;\n",
       "    }\n",
       "\n",
       "    .dataframe thead th {\n",
       "        text-align: right;\n",
       "    }\n",
       "</style>\n",
       "<table border=\"1\" class=\"dataframe\">\n",
       "  <thead>\n",
       "    <tr style=\"text-align: right;\">\n",
       "      <th></th>\n",
       "      <th>AverageTemperature</th>\n",
       "      <th>AverageTemperatureUncertainty</th>\n",
       "    </tr>\n",
       "    <tr>\n",
       "      <th>Month</th>\n",
       "      <th></th>\n",
       "      <th></th>\n",
       "    </tr>\n",
       "  </thead>\n",
       "  <tbody>\n",
       "    <tr>\n",
       "      <th>Jan</th>\n",
       "      <td>18.726</td>\n",
       "      <td>0.707</td>\n",
       "    </tr>\n",
       "    <tr>\n",
       "      <th>Feb</th>\n",
       "      <td>21.448</td>\n",
       "      <td>0.653</td>\n",
       "    </tr>\n",
       "    <tr>\n",
       "      <th>Mar</th>\n",
       "      <td>25.902</td>\n",
       "      <td>0.617</td>\n",
       "    </tr>\n",
       "    <tr>\n",
       "      <th>Apr</th>\n",
       "      <td>29.350</td>\n",
       "      <td>0.607</td>\n",
       "    </tr>\n",
       "    <tr>\n",
       "      <th>May</th>\n",
       "      <td>31.387</td>\n",
       "      <td>0.617</td>\n",
       "    </tr>\n",
       "    <tr>\n",
       "      <th>Jun</th>\n",
       "      <td>30.451</td>\n",
       "      <td>0.638</td>\n",
       "    </tr>\n",
       "    <tr>\n",
       "      <th>Jul</th>\n",
       "      <td>28.504</td>\n",
       "      <td>0.548</td>\n",
       "    </tr>\n",
       "    <tr>\n",
       "      <th>Aug</th>\n",
       "      <td>27.769</td>\n",
       "      <td>0.520</td>\n",
       "    </tr>\n",
       "    <tr>\n",
       "      <th>Sept</th>\n",
       "      <td>27.498</td>\n",
       "      <td>0.521</td>\n",
       "    </tr>\n",
       "    <tr>\n",
       "      <th>Oct</th>\n",
       "      <td>25.706</td>\n",
       "      <td>0.531</td>\n",
       "    </tr>\n",
       "    <tr>\n",
       "      <th>Nov</th>\n",
       "      <td>22.483</td>\n",
       "      <td>0.607</td>\n",
       "    </tr>\n",
       "    <tr>\n",
       "      <th>Dec</th>\n",
       "      <td>19.110</td>\n",
       "      <td>0.688</td>\n",
       "    </tr>\n",
       "  </tbody>\n",
       "</table>\n",
       "</div>"
      ],
      "text/plain": [
       "       AverageTemperature  AverageTemperatureUncertainty\n",
       "Month                                                   \n",
       "Jan                18.726                          0.707\n",
       "Feb                21.448                          0.653\n",
       "Mar                25.902                          0.617\n",
       "Apr                29.350                          0.607\n",
       "May                31.387                          0.617\n",
       "Jun                30.451                          0.638\n",
       "Jul                28.504                          0.548\n",
       "Aug                27.769                          0.520\n",
       "Sept               27.498                          0.521\n",
       "Oct                25.706                          0.531\n",
       "Nov                22.483                          0.607\n",
       "Dec                19.110                          0.688"
      ]
     },
     "execution_count": 72,
     "metadata": {},
     "output_type": "execute_result"
    }
   ],
   "source": [
    "indiamonthly"
   ]
  },
  {
   "cell_type": "code",
   "execution_count": 73,
   "id": "portable-running",
   "metadata": {},
   "outputs": [
    {
     "data": {
      "text/html": [
       "<div>\n",
       "<style scoped>\n",
       "    .dataframe tbody tr th:only-of-type {\n",
       "        vertical-align: middle;\n",
       "    }\n",
       "\n",
       "    .dataframe tbody tr th {\n",
       "        vertical-align: top;\n",
       "    }\n",
       "\n",
       "    .dataframe thead th {\n",
       "        text-align: right;\n",
       "    }\n",
       "</style>\n",
       "<table border=\"1\" class=\"dataframe\">\n",
       "  <thead>\n",
       "    <tr style=\"text-align: right;\">\n",
       "      <th></th>\n",
       "      <th>AverageTemperature</th>\n",
       "      <th>AverageTemperatureUncertainty</th>\n",
       "    </tr>\n",
       "    <tr>\n",
       "      <th>Month</th>\n",
       "      <th></th>\n",
       "      <th></th>\n",
       "    </tr>\n",
       "  </thead>\n",
       "  <tbody>\n",
       "    <tr>\n",
       "      <th>Jan</th>\n",
       "      <td>-8.765</td>\n",
       "      <td>0.866</td>\n",
       "    </tr>\n",
       "    <tr>\n",
       "      <th>Feb</th>\n",
       "      <td>-8.012</td>\n",
       "      <td>0.845</td>\n",
       "    </tr>\n",
       "    <tr>\n",
       "      <th>Mar</th>\n",
       "      <td>-2.931</td>\n",
       "      <td>0.713</td>\n",
       "    </tr>\n",
       "    <tr>\n",
       "      <th>Apr</th>\n",
       "      <td>4.235</td>\n",
       "      <td>0.637</td>\n",
       "    </tr>\n",
       "    <tr>\n",
       "      <th>May</th>\n",
       "      <td>10.713</td>\n",
       "      <td>0.616</td>\n",
       "    </tr>\n",
       "    <tr>\n",
       "      <th>Jun</th>\n",
       "      <td>15.904</td>\n",
       "      <td>0.591</td>\n",
       "    </tr>\n",
       "    <tr>\n",
       "      <th>Jul</th>\n",
       "      <td>18.552</td>\n",
       "      <td>0.583</td>\n",
       "    </tr>\n",
       "    <tr>\n",
       "      <th>Aug</th>\n",
       "      <td>17.513</td>\n",
       "      <td>0.588</td>\n",
       "    </tr>\n",
       "    <tr>\n",
       "      <th>Sept</th>\n",
       "      <td>13.025</td>\n",
       "      <td>0.526</td>\n",
       "    </tr>\n",
       "    <tr>\n",
       "      <th>Oct</th>\n",
       "      <td>6.669</td>\n",
       "      <td>0.562</td>\n",
       "    </tr>\n",
       "    <tr>\n",
       "      <th>Nov</th>\n",
       "      <td>0.694</td>\n",
       "      <td>0.659</td>\n",
       "    </tr>\n",
       "    <tr>\n",
       "      <th>Dec</th>\n",
       "      <td>-5.828</td>\n",
       "      <td>0.844</td>\n",
       "    </tr>\n",
       "  </tbody>\n",
       "</table>\n",
       "</div>"
      ],
      "text/plain": [
       "       AverageTemperature  AverageTemperatureUncertainty\n",
       "Month                                                   \n",
       "Jan                -8.765                          0.866\n",
       "Feb                -8.012                          0.845\n",
       "Mar                -2.931                          0.713\n",
       "Apr                 4.235                          0.637\n",
       "May                10.713                          0.616\n",
       "Jun                15.904                          0.591\n",
       "Jul                18.552                          0.583\n",
       "Aug                17.513                          0.588\n",
       "Sept               13.025                          0.526\n",
       "Oct                 6.669                          0.562\n",
       "Nov                 0.694                          0.659\n",
       "Dec                -5.828                          0.844"
      ]
     },
     "execution_count": 73,
     "metadata": {},
     "output_type": "execute_result"
    }
   ],
   "source": [
    "canmonthly"
   ]
  },
  {
   "cell_type": "code",
   "execution_count": 74,
   "id": "phantom-trader",
   "metadata": {},
   "outputs": [
    {
     "data": {
      "text/plain": [
       "<matplotlib.legend.Legend at 0x7fc902c45e50>"
      ]
     },
     "execution_count": 74,
     "metadata": {},
     "output_type": "execute_result"
    },
    {
     "data": {
      "image/png": "[encoded data removed]",
      "text/plain": [
       "<Figure size 1224x432 with 1 Axes>"
      ]
     },
     "metadata": {},
     "output_type": "display_data"
    }
   ],
   "source": [
    "plt.figure(figsize=(17,6))\n",
    "plots = sns.barplot(x=list(indiamonthly.index),y=indiamonthly['AverageTemperature'],label='India',color='dodgerblue')\n",
    "sns.barplot(x=list(indiamonthly.index),y=usmonthly['AverageTemperature'],label='US',color='crimson')\n",
    "sns.barplot(x=list(indiamonthly.index),y=canmonthly['AverageTemperature'],label='Canada',color='pink')\n",
    "for bar in plots.patches:\n",
    "    '''Snippet lifted from geeksforgeeks'''\n",
    "    plots.annotate(format(bar.get_height(), '.2f'),\n",
    "                   (bar.get_x() + bar.get_width() / 2,\n",
    "                    bar.get_height()), ha='center', va='center',\n",
    "                   size=12, xytext=(0, 8),\n",
    "                   textcoords='offset points')\n",
    "plt.title('Average Temperature Time Series : India & United States',size=18)\n",
    "plt.ylabel('Average Temperatures',size=15)\n",
    "plt.legend(bbox_to_anchor=(1.1, 1.05))"
   ]
  },
  {
   "cell_type": "markdown",
   "id": "signed-actress",
   "metadata": {},
   "source": [
    "### Interactive"
   ]
  },
  {
   "cell_type": "code",
   "execution_count": 75,
   "id": "structural-charity",
   "metadata": {},
   "outputs": [
    {
     "data": {
      "text/plain": [
       "Index(['Abbotsford', 'Barrie', 'Calgary', 'Edmonton', 'Guelph', 'Halifax',\n",
       "       'Hamilton', 'Kelowna', 'Kingston', 'Kitchener', 'London', 'Montreal',\n",
       "       'Oshawa', 'Ottawa', 'Quebec', 'Regina', 'Saskatoon', 'Sherbrooke',\n",
       "       'Sudbury', 'Toronto', 'Trois Rivières', 'Vancouver', 'Victoria',\n",
       "       'Waterloo', 'Winnipeg'],\n",
       "      dtype='object')"
      ]
     },
     "execution_count": 75,
     "metadata": {},
     "output_type": "execute_result"
    }
   ],
   "source": [
    "monthex = median_agg(dcity,sequence='Month',loc='City',countryname='Canada')\n",
    "pd.Series(dict(monthex.index)).index"
   ]
  },
  {
   "cell_type": "code",
   "execution_count": 76,
   "id": "lightweight-michael",
   "metadata": {},
   "outputs": [],
   "source": [
    "torontom = order_monthidx(monthex.loc['Toronto',:])"
   ]
  },
  {
   "cell_type": "code",
   "execution_count": 77,
   "id": "german-malpractice",
   "metadata": {},
   "outputs": [
    {
     "data": {
      "text/html": [
       "<div>\n",
       "<style scoped>\n",
       "    .dataframe tbody tr th:only-of-type {\n",
       "        vertical-align: middle;\n",
       "    }\n",
       "\n",
       "    .dataframe tbody tr th {\n",
       "        vertical-align: top;\n",
       "    }\n",
       "\n",
       "    .dataframe thead th {\n",
       "        text-align: right;\n",
       "    }\n",
       "</style>\n",
       "<table border=\"1\" class=\"dataframe\">\n",
       "  <thead>\n",
       "    <tr style=\"text-align: right;\">\n",
       "      <th></th>\n",
       "      <th>AverageTemperature</th>\n",
       "      <th>AverageTemperatureUncertainty</th>\n",
       "    </tr>\n",
       "    <tr>\n",
       "      <th>Month</th>\n",
       "      <th></th>\n",
       "      <th></th>\n",
       "    </tr>\n",
       "  </thead>\n",
       "  <tbody>\n",
       "    <tr>\n",
       "      <th>Jan</th>\n",
       "      <td>-7.9840</td>\n",
       "      <td>0.8590</td>\n",
       "    </tr>\n",
       "    <tr>\n",
       "      <th>Feb</th>\n",
       "      <td>-7.5875</td>\n",
       "      <td>0.8260</td>\n",
       "    </tr>\n",
       "    <tr>\n",
       "      <th>Mar</th>\n",
       "      <td>-3.0095</td>\n",
       "      <td>0.7065</td>\n",
       "    </tr>\n",
       "    <tr>\n",
       "      <th>Apr</th>\n",
       "      <td>4.5010</td>\n",
       "      <td>0.7310</td>\n",
       "    </tr>\n",
       "    <tr>\n",
       "      <th>May</th>\n",
       "      <td>11.3315</td>\n",
       "      <td>0.6960</td>\n",
       "    </tr>\n",
       "    <tr>\n",
       "      <th>Jun</th>\n",
       "      <td>17.0195</td>\n",
       "      <td>0.6785</td>\n",
       "    </tr>\n",
       "    <tr>\n",
       "      <th>Jul</th>\n",
       "      <td>19.2300</td>\n",
       "      <td>0.6050</td>\n",
       "    </tr>\n",
       "    <tr>\n",
       "      <th>Aug</th>\n",
       "      <td>18.3325</td>\n",
       "      <td>0.6195</td>\n",
       "    </tr>\n",
       "    <tr>\n",
       "      <th>Sept</th>\n",
       "      <td>14.2305</td>\n",
       "      <td>0.5135</td>\n",
       "    </tr>\n",
       "    <tr>\n",
       "      <th>Oct</th>\n",
       "      <td>7.4260</td>\n",
       "      <td>0.5510</td>\n",
       "    </tr>\n",
       "    <tr>\n",
       "      <th>Nov</th>\n",
       "      <td>1.0440</td>\n",
       "      <td>0.6380</td>\n",
       "    </tr>\n",
       "    <tr>\n",
       "      <th>Dec</th>\n",
       "      <td>-5.1770</td>\n",
       "      <td>0.8540</td>\n",
       "    </tr>\n",
       "  </tbody>\n",
       "</table>\n",
       "</div>"
      ],
      "text/plain": [
       "       AverageTemperature  AverageTemperatureUncertainty\n",
       "Month                                                   \n",
       "Jan               -7.9840                         0.8590\n",
       "Feb               -7.5875                         0.8260\n",
       "Mar               -3.0095                         0.7065\n",
       "Apr                4.5010                         0.7310\n",
       "May               11.3315                         0.6960\n",
       "Jun               17.0195                         0.6785\n",
       "Jul               19.2300                         0.6050\n",
       "Aug               18.3325                         0.6195\n",
       "Sept              14.2305                         0.5135\n",
       "Oct                7.4260                         0.5510\n",
       "Nov                1.0440                         0.6380\n",
       "Dec               -5.1770                         0.8540"
      ]
     },
     "execution_count": 77,
     "metadata": {},
     "output_type": "execute_result"
    }
   ],
   "source": [
    "torontom"
   ]
  },
  {
   "cell_type": "code",
   "execution_count": 78,
   "id": "manual-gather",
   "metadata": {},
   "outputs": [],
   "source": [
    "yearex = median_agg(dcity,sequence='Year',loc='City',countryname='Canada')"
   ]
  },
  {
   "cell_type": "code",
   "execution_count": 79,
   "id": "stopped-fluid",
   "metadata": {},
   "outputs": [],
   "source": [
    "toronty = yearex.loc['Toronto',:]"
   ]
  },
  {
   "cell_type": "code",
   "execution_count": 80,
   "id": "driven-palace",
   "metadata": {},
   "outputs": [
    {
     "data": {
      "text/html": [
       "<div>\n",
       "<style scoped>\n",
       "    .dataframe tbody tr th:only-of-type {\n",
       "        vertical-align: middle;\n",
       "    }\n",
       "\n",
       "    .dataframe tbody tr th {\n",
       "        vertical-align: top;\n",
       "    }\n",
       "\n",
       "    .dataframe thead th {\n",
       "        text-align: right;\n",
       "    }\n",
       "</style>\n",
       "<table border=\"1\" class=\"dataframe\">\n",
       "  <thead>\n",
       "    <tr style=\"text-align: right;\">\n",
       "      <th></th>\n",
       "      <th>AverageTemperature</th>\n",
       "      <th>AverageTemperatureUncertainty</th>\n",
       "    </tr>\n",
       "    <tr>\n",
       "      <th>Year</th>\n",
       "      <th></th>\n",
       "      <th></th>\n",
       "    </tr>\n",
       "  </thead>\n",
       "  <tbody>\n",
       "    <tr>\n",
       "      <th>1743</th>\n",
       "      <td>2.833956</td>\n",
       "      <td>1.591154</td>\n",
       "    </tr>\n",
       "    <tr>\n",
       "      <th>1744</th>\n",
       "      <td>5.832956</td>\n",
       "      <td>1.710000</td>\n",
       "    </tr>\n",
       "    <tr>\n",
       "      <th>1745</th>\n",
       "      <td>5.773911</td>\n",
       "      <td>1.277309</td>\n",
       "    </tr>\n",
       "    <tr>\n",
       "      <th>1746</th>\n",
       "      <td>5.773911</td>\n",
       "      <td>1.277309</td>\n",
       "    </tr>\n",
       "    <tr>\n",
       "      <th>1747</th>\n",
       "      <td>5.773911</td>\n",
       "      <td>1.277309</td>\n",
       "    </tr>\n",
       "    <tr>\n",
       "      <th>...</th>\n",
       "      <td>...</td>\n",
       "      <td>...</td>\n",
       "    </tr>\n",
       "    <tr>\n",
       "      <th>2009</th>\n",
       "      <td>6.559000</td>\n",
       "      <td>0.249000</td>\n",
       "    </tr>\n",
       "    <tr>\n",
       "      <th>2010</th>\n",
       "      <td>8.948000</td>\n",
       "      <td>0.226500</td>\n",
       "    </tr>\n",
       "    <tr>\n",
       "      <th>2011</th>\n",
       "      <td>7.316500</td>\n",
       "      <td>0.257000</td>\n",
       "    </tr>\n",
       "    <tr>\n",
       "      <th>2012</th>\n",
       "      <td>7.090500</td>\n",
       "      <td>0.269500</td>\n",
       "    </tr>\n",
       "    <tr>\n",
       "      <th>2013</th>\n",
       "      <td>13.818000</td>\n",
       "      <td>0.318000</td>\n",
       "    </tr>\n",
       "  </tbody>\n",
       "</table>\n",
       "<p>271 rows × 2 columns</p>\n",
       "</div>"
      ],
      "text/plain": [
       "      AverageTemperature  AverageTemperatureUncertainty\n",
       "Year                                                   \n",
       "1743            2.833956                       1.591154\n",
       "1744            5.832956                       1.710000\n",
       "1745            5.773911                       1.277309\n",
       "1746            5.773911                       1.277309\n",
       "1747            5.773911                       1.277309\n",
       "...                  ...                            ...\n",
       "2009            6.559000                       0.249000\n",
       "2010            8.948000                       0.226500\n",
       "2011            7.316500                       0.257000\n",
       "2012            7.090500                       0.269500\n",
       "2013           13.818000                       0.318000\n",
       "\n",
       "[271 rows x 2 columns]"
      ]
     },
     "execution_count": 80,
     "metadata": {},
     "output_type": "execute_result"
    }
   ],
   "source": [
    "toronty"
   ]
  },
  {
   "cell_type": "code",
   "execution_count": 81,
   "id": "local-music",
   "metadata": {},
   "outputs": [],
   "source": [
    "def plotlychart(df,attr='AverageTemperature',cityname=None,sequence='Monthly'):\n",
    "    \n",
    "\n",
    "    # pio.templates.default = 'plotly_white'\n",
    "        ## Prompt \n",
    "    if attr == 'AverageTemperature':\n",
    "        prompt = 'Average Temperature'\n",
    "    else:\n",
    "        prompt = 'Average Temperature Uncertainty (Δ T)'\n",
    "    \n",
    "    # Template\n",
    "    pio.templates.default = 'plotly_white'\n",
    "    \n",
    "\n",
    "    if sequence == 'Monthly':\n",
    "\n",
    "        x = list(df.index)\n",
    "        y0 = np.round(df[attr].values,3)\n",
    "\n",
    "        fig = go.Figure()\n",
    "        fig.add_trace(go.Bar(x=x, y=y0, text=y0, textposition='outside',\n",
    "                             marker={'color': y0, 'colorscale': 'Blues'},name='Average'))\n",
    "        # fig.add_trace(go.Bar(x=x, y=y1,\n",
    "        #                 marker_color='crimson',name='deltaT'))\n",
    "\n",
    "\n",
    "        fig.update_layout(font=dict(size=11,family='sora'),template='plotly_white' ,title='Monthly {} Recorded in {}'.format(prompt,cityname), \n",
    "                          xaxis_title='Months',\n",
    "                          yaxis_title='Temperature C',\n",
    "                          title_x=0.5\n",
    "                         )\n",
    "\n",
    "        \n",
    "\n",
    "    elif sequence == 'Yearly':\n",
    "        x = list(df.index)\n",
    "        y0 = df[attr]\n",
    "\n",
    "        fig = go.Figure()\n",
    "        fig.add_trace(go.Scatter(x=x, y=y0,name='Average',mode='lines',\n",
    "                                line=dict(color='dodgerblue',width=2)))\n",
    "        # fig.add_trace(go.Bar(x=x, y=y1,\n",
    "        #                 marker_color='crimson',name='deltaT'))\n",
    "\n",
    "\n",
    "        fig.update_layout(font=dict(size=11,family='sora'), template='plotly_white', title='Monthly {} Recorded in {}'.format(prompt,cityname), \n",
    "                          xaxis_title='Months',\n",
    "                          yaxis_title='Temperature C',\n",
    "                          title_x=0.5\n",
    "                         )\n",
    "\n",
    "\n",
    "    return fig"
   ]
  },
  {
   "cell_type": "markdown",
   "id": "aerial-economy",
   "metadata": {},
   "source": [
    "### Montly Sequence"
   ]
  },
  {
   "cell_type": "code",
   "execution_count": 82,
   "id": "mathematical-elevation",
   "metadata": {},
   "outputs": [
    {
     "data": {
      "application/vnd.plotly.v1+json": {
       "config": {
        "plotlyServerURL": "https://plot.ly"
       },
       "data": [
        {
         "marker": {
          "color": [
           -7.984,
           -7.588,
           -3.01,
           4.501,
           11.332,
           17.02,
           19.23,
           18.333,
           14.23,
           7.426,
           1.044,
           -5.177
          ],
          "colorscale": [
           [
            0,
            "rgb(247,251,255)"
           ],
           [
            0.125,
            "rgb(222,235,247)"
           ],
           [
            0.25,
            "rgb(198,219,239)"
           ],
           [
            0.375,
            "rgb(158,202,225)"
           ],
           [
            0.5,
            "rgb(107,174,214)"
           ],
           [
            0.625,
            "rgb(66,146,198)"
           ],
           [
            0.75,
            "rgb(33,113,181)"
           ],
           [
            0.875,
            "rgb(8,81,156)"
           ],
           [
            1,
            "rgb(8,48,107)"
           ]
          ]
         },
         "name": "Average",
         "text": [
          -7.984,
          -7.588,
          -3.01,
          4.501,
          11.332,
          17.02,
          19.23,
          18.333,
          14.23,
          7.426,
          1.044,
          -5.177
         ],
         "textposition": "outside",
         "type": "bar",
         "x": [
          "Jan",
          "Feb",
          "Mar",
          "Apr",
          "May",
          "Jun",
          "Jul",
          "Aug",
          "Sept",
          "Oct",
          "Nov",
          "Dec"
         ],
         "y": [
          -7.984,
          -7.588,
          -3.01,
          4.501,
          11.332,
          17.02,
          19.23,
          18.333,
          14.23,
          7.426,
          1.044,
          -5.177
         ]
        }
       ],
       "layout": {
        "font": {
         "family": "sora",
         "size": 11
        },
        "template": {
         "data": {
          "bar": [
           {
            "error_x": {
             "color": "#2a3f5f"
            },
            "error_y": {
             "color": "#2a3f5f"
            },
            "marker": {
             "line": {
              "color": "white",
              "width": 0.5
             }
            },
            "type": "bar"
           }
          ],
          "barpolar": [
           {
            "marker": {
             "line": {
              "color": "white",
              "width": 0.5
             }
            },
            "type": "barpolar"
           }
          ],
          "carpet": [
           {
            "aaxis": {
             "endlinecolor": "#2a3f5f",
             "gridcolor": "#C8D4E3",
             "linecolor": "#C8D4E3",
             "minorgridcolor": "#C8D4E3",
             "startlinecolor": "#2a3f5f"
            },
            "baxis": {
             "endlinecolor": "#2a3f5f",
             "gridcolor": "#C8D4E3",
             "linecolor": "#C8D4E3",
             "minorgridcolor": "#C8D4E3",
             "startlinecolor": "#2a3f5f"
            },
            "type": "carpet"
           }
          ],
          "choropleth": [
           {
            "colorbar": {
             "outlinewidth": 0,
             "ticks": ""
            },
            "type": "choropleth"
           }
          ],
          "contour": [
           {
            "colorbar": {
             "outlinewidth": 0,
             "ticks": ""
            },
            "colorscale": [
             [
              0,
              "#0d0887"
             ],
             [
              0.1111111111111111,
              "#46039f"
             ],
             [
              0.2222222222222222,
              "#7201a8"
             ],
             [
              0.3333333333333333,
              "#9c179e"
             ],
             [
              0.4444444444444444,
              "#bd3786"
             ],
             [
              0.5555555555555556,
              "#d8576b"
             ],
             [
              0.6666666666666666,
              "#ed7953"
             ],
             [
              0.7777777777777778,
              "#fb9f3a"
             ],
             [
              0.8888888888888888,
              "#fdca26"
             ],
             [
              1,
              "#f0f921"
             ]
            ],
            "type": "contour"
           }
          ],
          "contourcarpet": [
           {
            "colorbar": {
             "outlinewidth": 0,
             "ticks": ""
            },
            "type": "contourcarpet"
           }
          ],
          "heatmap": [
           {
            "colorbar": {
             "outlinewidth": 0,
             "ticks": ""
            },
            "colorscale": [
             [
              0,
              "#0d0887"
             ],
             [
              0.1111111111111111,
              "#46039f"
             ],
             [
              0.2222222222222222,
              "#7201a8"
             ],
             [
              0.3333333333333333,
              "#9c179e"
             ],
             [
              0.4444444444444444,
              "#bd3786"
             ],
             [
              0.5555555555555556,
              "#d8576b"
             ],
             [
              0.6666666666666666,
              "#ed7953"
             ],
             [
              0.7777777777777778,
              "#fb9f3a"
             ],
             [
              0.8888888888888888,
              "#fdca26"
             ],
             [
              1,
              "#f0f921"
             ]
            ],
            "type": "heatmap"
           }
          ],
          "heatmapgl": [
           {
            "colorbar": {
             "outlinewidth": 0,
             "ticks": ""
            },
            "colorscale": [
             [
              0,
              "#0d0887"
             ],
             [
              0.1111111111111111,
              "#46039f"
             ],
             [
              0.2222222222222222,
              "#7201a8"
             ],
             [
              0.3333333333333333,
              "#9c179e"
             ],
             [
              0.4444444444444444,
              "#bd3786"
             ],
             [
              0.5555555555555556,
              "#d8576b"
             ],
             [
              0.6666666666666666,
              "#ed7953"
             ],
             [
              0.7777777777777778,
              "#fb9f3a"
             ],
             [
              0.8888888888888888,
              "#fdca26"
             ],
             [
              1,
              "#f0f921"
             ]
            ],
            "type": "heatmapgl"
           }
          ],
          "histogram": [
           {
            "marker": {
             "colorbar": {
              "outlinewidth": 0,
              "ticks": ""
             }
            },
            "type": "histogram"
           }
          ],
          "histogram2d": [
           {
            "colorbar": {
             "outlinewidth": 0,
             "ticks": ""
            },
            "colorscale": [
             [
              0,
              "#0d0887"
             ],
             [
              0.1111111111111111,
              "#46039f"
             ],
             [
              0.2222222222222222,
              "#7201a8"
             ],
             [
              0.3333333333333333,
              "#9c179e"
             ],
             [
              0.4444444444444444,
              "#bd3786"
             ],
             [
              0.5555555555555556,
              "#d8576b"
             ],
             [
              0.6666666666666666,
              "#ed7953"
             ],
             [
              0.7777777777777778,
              "#fb9f3a"
             ],
             [
              0.8888888888888888,
              "#fdca26"
             ],
             [
              1,
              "#f0f921"
             ]
            ],
            "type": "histogram2d"
           }
          ],
          "histogram2dcontour": [
           {
            "colorbar": {
             "outlinewidth": 0,
             "ticks": ""
            },
            "colorscale": [
             [
              0,
              "#0d0887"
             ],
             [
              0.1111111111111111,
              "#46039f"
             ],
             [
              0.2222222222222222,
              "#7201a8"
             ],
             [
              0.3333333333333333,
              "#9c179e"
             ],
             [
              0.4444444444444444,
              "#bd3786"
             ],
             [
              0.5555555555555556,
              "#d8576b"
             ],
             [
              0.6666666666666666,
              "#ed7953"
             ],
             [
              0.7777777777777778,
              "#fb9f3a"
             ],
             [
              0.8888888888888888,
              "#fdca26"
             ],
             [
              1,
              "#f0f921"
             ]
            ],
            "type": "histogram2dcontour"
           }
          ],
          "mesh3d": [
           {
            "colorbar": {
             "outlinewidth": 0,
             "ticks": ""
            },
            "type": "mesh3d"
           }
          ],
          "parcoords": [
           {
            "line": {
             "colorbar": {
              "outlinewidth": 0,
              "ticks": ""
             }
            },
            "type": "parcoords"
           }
          ],
          "pie": [
           {
            "automargin": true,
            "type": "pie"
           }
          ],
          "scatter": [
           {
            "marker": {
             "colorbar": {
              "outlinewidth": 0,
              "ticks": ""
             }
            },
            "type": "scatter"
           }
          ],
          "scatter3d": [
           {
            "line": {
             "colorbar": {
              "outlinewidth": 0,
              "ticks": ""
             }
            },
            "marker": {
             "colorbar": {
              "outlinewidth": 0,
              "ticks": ""
             }
            },
            "type": "scatter3d"
           }
          ],
          "scattercarpet": [
           {
            "marker": {
             "colorbar": {
              "outlinewidth": 0,
              "ticks": ""
             }
            },
            "type": "scattercarpet"
           }
          ],
          "scattergeo": [
           {
            "marker": {
             "colorbar": {
              "outlinewidth": 0,
              "ticks": ""
             }
            },
            "type": "scattergeo"
           }
          ],
          "scattergl": [
           {
            "marker": {
             "colorbar": {
              "outlinewidth": 0,
              "ticks": ""
             }
            },
            "type": "scattergl"
           }
          ],
          "scattermapbox": [
           {
            "marker": {
             "colorbar": {
              "outlinewidth": 0,
              "ticks": ""
             }
            },
            "type": "scattermapbox"
           }
          ],
          "scatterpolar": [
           {
            "marker": {
             "colorbar": {
              "outlinewidth": 0,
              "ticks": ""
             }
            },
            "type": "scatterpolar"
           }
          ],
          "scatterpolargl": [
           {
            "marker": {
             "colorbar": {
              "outlinewidth": 0,
              "ticks": ""
             }
            },
            "type": "scatterpolargl"
           }
          ],
          "scatterternary": [
           {
            "marker": {
             "colorbar": {
              "outlinewidth": 0,
              "ticks": ""
             }
            },
            "type": "scatterternary"
           }
          ],
          "surface": [
           {
            "colorbar": {
             "outlinewidth": 0,
             "ticks": ""
            },
            "colorscale": [
             [
              0,
              "#0d0887"
             ],
             [
              0.1111111111111111,
              "#46039f"
             ],
             [
              0.2222222222222222,
              "#7201a8"
             ],
             [
              0.3333333333333333,
              "#9c179e"
             ],
             [
              0.4444444444444444,
              "#bd3786"
             ],
             [
              0.5555555555555556,
              "#d8576b"
             ],
             [
              0.6666666666666666,
              "#ed7953"
             ],
             [
              0.7777777777777778,
              "#fb9f3a"
             ],
             [
              0.8888888888888888,
              "#fdca26"
             ],
             [
              1,
              "#f0f921"
             ]
            ],
            "type": "surface"
           }
          ],
          "table": [
           {
            "cells": {
             "fill": {
              "color": "#EBF0F8"
             },
             "line": {
              "color": "white"
             }
            },
            "header": {
             "fill": {
              "color": "#C8D4E3"
             },
             "line": {
              "color": "white"
             }
            },
            "type": "table"
           }
          ]
         },
         "layout": {
          "annotationdefaults": {
           "arrowcolor": "#2a3f5f",
           "arrowhead": 0,
           "arrowwidth": 1
          },
          "autotypenumbers": "strict",
          "coloraxis": {
           "colorbar": {
            "outlinewidth": 0,
            "ticks": ""
           }
          },
          "colorscale": {
           "diverging": [
            [
             0,
             "#8e0152"
            ],
            [
             0.1,
             "#c51b7d"
            ],
            [
             0.2,
             "#de77ae"
            ],
            [
             0.3,
             "#f1b6da"
            ],
            [
             0.4,
             "#fde0ef"
            ],
            [
             0.5,
             "#f7f7f7"
            ],
            [
             0.6,
             "#e6f5d0"
            ],
            [
             0.7,
             "#b8e186"
            ],
            [
             0.8,
             "#7fbc41"
            ],
            [
             0.9,
             "#4d9221"
            ],
            [
             1,
             "#276419"
            ]
           ],
           "sequential": [
            [
             0,
             "#0d0887"
            ],
            [
             0.1111111111111111,
             "#46039f"
            ],
            [
             0.2222222222222222,
             "#7201a8"
            ],
            [
             0.3333333333333333,
             "#9c179e"
            ],
            [
             0.4444444444444444,
             "#bd3786"
            ],
            [
             0.5555555555555556,
             "#d8576b"
            ],
            [
             0.6666666666666666,
             "#ed7953"
            ],
            [
             0.7777777777777778,
             "#fb9f3a"
            ],
            [
             0.8888888888888888,
             "#fdca26"
            ],
            [
             1,
             "#f0f921"
            ]
           ],
           "sequentialminus": [
            [
             0,
             "#0d0887"
            ],
            [
             0.1111111111111111,
             "#46039f"
            ],
            [
             0.2222222222222222,
             "#7201a8"
            ],
            [
             0.3333333333333333,
             "#9c179e"
            ],
            [
             0.4444444444444444,
             "#bd3786"
            ],
            [
             0.5555555555555556,
             "#d8576b"
            ],
            [
             0.6666666666666666,
             "#ed7953"
            ],
            [
             0.7777777777777778,
             "#fb9f3a"
            ],
            [
             0.8888888888888888,
             "#fdca26"
            ],
            [
             1,
             "#f0f921"
            ]
           ]
          },
          "colorway": [
           "#636efa",
           "#EF553B",
           "#00cc96",
           "#ab63fa",
           "#FFA15A",
           "#19d3f3",
           "#FF6692",
           "#B6E880",
           "#FF97FF",
           "#FECB52"
          ],
          "font": {
           "color": "#2a3f5f"
          },
          "geo": {
           "bgcolor": "white",
           "lakecolor": "white",
           "landcolor": "white",
           "showlakes": true,
           "showland": true,
           "subunitcolor": "#C8D4E3"
          },
          "hoverlabel": {
           "align": "left"
          },
          "hovermode": "closest",
          "mapbox": {
           "style": "light"
          },
          "paper_bgcolor": "white",
          "plot_bgcolor": "white",
          "polar": {
           "angularaxis": {
            "gridcolor": "#EBF0F8",
            "linecolor": "#EBF0F8",
            "ticks": ""
           },
           "bgcolor": "white",
           "radialaxis": {
            "gridcolor": "#EBF0F8",
            "linecolor": "#EBF0F8",
            "ticks": ""
           }
          },
          "scene": {
           "xaxis": {
            "backgroundcolor": "white",
            "gridcolor": "#DFE8F3",
            "gridwidth": 2,
            "linecolor": "#EBF0F8",
            "showbackground": true,
            "ticks": "",
            "zerolinecolor": "#EBF0F8"
           },
           "yaxis": {
            "backgroundcolor": "white",
            "gridcolor": "#DFE8F3",
            "gridwidth": 2,
            "linecolor": "#EBF0F8",
            "showbackground": true,
            "ticks": "",
            "zerolinecolor": "#EBF0F8"
           },
           "zaxis": {
            "backgroundcolor": "white",
            "gridcolor": "#DFE8F3",
            "gridwidth": 2,
            "linecolor": "#EBF0F8",
            "showbackground": true,
            "ticks": "",
            "zerolinecolor": "#EBF0F8"
           }
          },
          "shapedefaults": {
           "line": {
            "color": "#2a3f5f"
           }
          },
          "ternary": {
           "aaxis": {
            "gridcolor": "#DFE8F3",
            "linecolor": "#A2B1C6",
            "ticks": ""
           },
           "baxis": {
            "gridcolor": "#DFE8F3",
            "linecolor": "#A2B1C6",
            "ticks": ""
           },
           "bgcolor": "white",
           "caxis": {
            "gridcolor": "#DFE8F3",
            "linecolor": "#A2B1C6",
            "ticks": ""
           }
          },
          "title": {
           "x": 0.05
          },
          "xaxis": {
           "automargin": true,
           "gridcolor": "#EBF0F8",
           "linecolor": "#EBF0F8",
           "ticks": "",
           "title": {
            "standoff": 15
           },
           "zerolinecolor": "#EBF0F8",
           "zerolinewidth": 2
          },
          "yaxis": {
           "automargin": true,
           "gridcolor": "#EBF0F8",
           "linecolor": "#EBF0F8",
           "ticks": "",
           "title": {
            "standoff": 15
           },
           "zerolinecolor": "#EBF0F8",
           "zerolinewidth": 2
          }
         }
        },
        "title": {
         "text": "Monthly Average Temperature Recorded in Toronto",
         "x": 0.5
        },
        "xaxis": {
         "title": {
          "text": "Months"
         }
        },
        "yaxis": {
         "title": {
          "text": "Temperature C"
         }
        }
       }
      },
      "text/html": [
       "<div>                            <div id=\"3d8dba75-f2db-45d4-a01b-c575d1ba1146\" class=\"plotly-graph-div\" style=\"height:525px; width:100%;\"></div>            <script type=\"text/javascript\">                require([\"plotly\"], function(Plotly) {                    window.PLOTLYENV=window.PLOTLYENV || {};                                    if (document.getElementById(\"3d8dba75-f2db-45d4-a01b-c575d1ba1146\")) {                    Plotly.newPlot(                        \"3d8dba75-f2db-45d4-a01b-c575d1ba1146\",                        [{\"marker\": {\"color\": [-7.984, -7.588, -3.01, 4.501, 11.332, 17.02, 19.23, 18.333, 14.23, 7.426, 1.044, -5.177], \"colorscale\": [[0.0, \"rgb(247,251,255)\"], [0.125, \"rgb(222,235,247)\"], [0.25, \"rgb(198,219,239)\"], [0.375, \"rgb(158,202,225)\"], [0.5, \"rgb(107,174,214)\"], [0.625, \"rgb(66,146,198)\"], [0.75, \"rgb(33,113,181)\"], [0.875, \"rgb(8,81,156)\"], [1.0, \"rgb(8,48,107)\"]]}, \"name\": \"Average\", \"text\": [-7.984, -7.588, -3.01, 4.501, 11.332, 17.02, 19.23, 18.333, 14.23, 7.426, 1.044, -5.177], \"textposition\": \"outside\", \"type\": \"bar\", \"x\": [\"Jan\", \"Feb\", \"Mar\", \"Apr\", \"May\", \"Jun\", \"Jul\", \"Aug\", \"Sept\", \"Oct\", \"Nov\", \"Dec\"], \"y\": [-7.984, -7.588, -3.01, 4.501, 11.332, 17.02, 19.23, 18.333, 14.23, 7.426, 1.044, -5.177]}],                        {\"font\": {\"family\": \"sora\", \"size\": 11}, \"template\": {\"data\": {\"bar\": [{\"error_x\": {\"color\": \"#2a3f5f\"}, \"error_y\": {\"color\": \"#2a3f5f\"}, \"marker\": {\"line\": {\"color\": \"white\", \"width\": 0.5}}, \"type\": \"bar\"}], \"barpolar\": [{\"marker\": {\"line\": {\"color\": \"white\", \"width\": 0.5}}, \"type\": \"barpolar\"}], \"carpet\": [{\"aaxis\": {\"endlinecolor\": \"#2a3f5f\", \"gridcolor\": \"#C8D4E3\", \"linecolor\": \"#C8D4E3\", \"minorgridcolor\": \"#C8D4E3\", \"startlinecolor\": \"#2a3f5f\"}, \"baxis\": {\"endlinecolor\": \"#2a3f5f\", \"gridcolor\": \"#C8D4E3\", \"linecolor\": \"#C8D4E3\", \"minorgridcolor\": \"#C8D4E3\", \"startlinecolor\": \"#2a3f5f\"}, \"type\": \"carpet\"}], \"choropleth\": [{\"colorbar\": {\"outlinewidth\": 0, \"ticks\": \"\"}, \"type\": \"choropleth\"}], \"contour\": [{\"colorbar\": {\"outlinewidth\": 0, \"ticks\": \"\"}, \"colorscale\": [[0.0, \"#0d0887\"], [0.1111111111111111, \"#46039f\"], [0.2222222222222222, \"#7201a8\"], [0.3333333333333333, \"#9c179e\"], [0.4444444444444444, \"#bd3786\"], [0.5555555555555556, \"#d8576b\"], [0.6666666666666666, \"#ed7953\"], [0.7777777777777778, \"#fb9f3a\"], [0.8888888888888888, \"#fdca26\"], [1.0, \"#f0f921\"]], \"type\": \"contour\"}], \"contourcarpet\": [{\"colorbar\": {\"outlinewidth\": 0, \"ticks\": \"\"}, \"type\": \"contourcarpet\"}], \"heatmap\": [{\"colorbar\": {\"outlinewidth\": 0, \"ticks\": \"\"}, \"colorscale\": [[0.0, \"#0d0887\"], [0.1111111111111111, \"#46039f\"], [0.2222222222222222, \"#7201a8\"], [0.3333333333333333, \"#9c179e\"], [0.4444444444444444, \"#bd3786\"], [0.5555555555555556, \"#d8576b\"], [0.6666666666666666, \"#ed7953\"], [0.7777777777777778, \"#fb9f3a\"], [0.8888888888888888, \"#fdca26\"], [1.0, \"#f0f921\"]], \"type\": \"heatmap\"}], \"heatmapgl\": [{\"colorbar\": {\"outlinewidth\": 0, \"ticks\": \"\"}, \"colorscale\": [[0.0, \"#0d0887\"], [0.1111111111111111, \"#46039f\"], [0.2222222222222222, \"#7201a8\"], [0.3333333333333333, \"#9c179e\"], [0.4444444444444444, \"#bd3786\"], [0.5555555555555556, \"#d8576b\"], [0.6666666666666666, \"#ed7953\"], [0.7777777777777778, \"#fb9f3a\"], [0.8888888888888888, \"#fdca26\"], [1.0, \"#f0f921\"]], \"type\": \"heatmapgl\"}], \"histogram\": [{\"marker\": {\"colorbar\": {\"outlinewidth\": 0, \"ticks\": \"\"}}, \"type\": \"histogram\"}], \"histogram2d\": [{\"colorbar\": {\"outlinewidth\": 0, \"ticks\": \"\"}, \"colorscale\": [[0.0, \"#0d0887\"], [0.1111111111111111, \"#46039f\"], [0.2222222222222222, \"#7201a8\"], [0.3333333333333333, \"#9c179e\"], [0.4444444444444444, \"#bd3786\"], [0.5555555555555556, \"#d8576b\"], [0.6666666666666666, \"#ed7953\"], [0.7777777777777778, \"#fb9f3a\"], [0.8888888888888888, \"#fdca26\"], [1.0, \"#f0f921\"]], \"type\": \"histogram2d\"}], \"histogram2dcontour\": [{\"colorbar\": {\"outlinewidth\": 0, \"ticks\": \"\"}, \"colorscale\": [[0.0, \"#0d0887\"], [0.1111111111111111, \"#46039f\"], [0.2222222222222222, \"#7201a8\"], [0.3333333333333333, \"#9c179e\"], [0.4444444444444444, \"#bd3786\"], [0.5555555555555556, \"#d8576b\"], [0.6666666666666666, \"#ed7953\"], [0.7777777777777778, \"#fb9f3a\"], [0.8888888888888888, \"#fdca26\"], [1.0, \"#f0f921\"]], \"type\": \"histogram2dcontour\"}], \"mesh3d\": [{\"colorbar\": {\"outlinewidth\": 0, \"ticks\": \"\"}, \"type\": \"mesh3d\"}], \"parcoords\": [{\"line\": {\"colorbar\": {\"outlinewidth\": 0, \"ticks\": \"\"}}, \"type\": \"parcoords\"}], \"pie\": [{\"automargin\": true, \"type\": \"pie\"}], \"scatter\": [{\"marker\": {\"colorbar\": {\"outlinewidth\": 0, \"ticks\": \"\"}}, \"type\": \"scatter\"}], \"scatter3d\": [{\"line\": {\"colorbar\": {\"outlinewidth\": 0, \"ticks\": \"\"}}, \"marker\": {\"colorbar\": {\"outlinewidth\": 0, \"ticks\": \"\"}}, \"type\": \"scatter3d\"}], \"scattercarpet\": [{\"marker\": {\"colorbar\": {\"outlinewidth\": 0, \"ticks\": \"\"}}, \"type\": \"scattercarpet\"}], \"scattergeo\": [{\"marker\": {\"colorbar\": {\"outlinewidth\": 0, \"ticks\": \"\"}}, \"type\": \"scattergeo\"}], \"scattergl\": [{\"marker\": {\"colorbar\": {\"outlinewidth\": 0, \"ticks\": \"\"}}, \"type\": \"scattergl\"}], \"scattermapbox\": [{\"marker\": {\"colorbar\": {\"outlinewidth\": 0, \"ticks\": \"\"}}, \"type\": \"scattermapbox\"}], \"scatterpolar\": [{\"marker\": {\"colorbar\": {\"outlinewidth\": 0, \"ticks\": \"\"}}, \"type\": \"scatterpolar\"}], \"scatterpolargl\": [{\"marker\": {\"colorbar\": {\"outlinewidth\": 0, \"ticks\": \"\"}}, \"type\": \"scatterpolargl\"}], \"scatterternary\": [{\"marker\": {\"colorbar\": {\"outlinewidth\": 0, \"ticks\": \"\"}}, \"type\": \"scatterternary\"}], \"surface\": [{\"colorbar\": {\"outlinewidth\": 0, \"ticks\": \"\"}, \"colorscale\": [[0.0, \"#0d0887\"], [0.1111111111111111, \"#46039f\"], [0.2222222222222222, \"#7201a8\"], [0.3333333333333333, \"#9c179e\"], [0.4444444444444444, \"#bd3786\"], [0.5555555555555556, \"#d8576b\"], [0.6666666666666666, \"#ed7953\"], [0.7777777777777778, \"#fb9f3a\"], [0.8888888888888888, \"#fdca26\"], [1.0, \"#f0f921\"]], \"type\": \"surface\"}], \"table\": [{\"cells\": {\"fill\": {\"color\": \"#EBF0F8\"}, \"line\": {\"color\": \"white\"}}, \"header\": {\"fill\": {\"color\": \"#C8D4E3\"}, \"line\": {\"color\": \"white\"}}, \"type\": \"table\"}]}, \"layout\": {\"annotationdefaults\": {\"arrowcolor\": \"#2a3f5f\", \"arrowhead\": 0, \"arrowwidth\": 1}, \"autotypenumbers\": \"strict\", \"coloraxis\": {\"colorbar\": {\"outlinewidth\": 0, \"ticks\": \"\"}}, \"colorscale\": {\"diverging\": [[0, \"#8e0152\"], [0.1, \"#c51b7d\"], [0.2, \"#de77ae\"], [0.3, \"#f1b6da\"], [0.4, \"#fde0ef\"], [0.5, \"#f7f7f7\"], [0.6, \"#e6f5d0\"], [0.7, \"#b8e186\"], [0.8, \"#7fbc41\"], [0.9, \"#4d9221\"], [1, \"#276419\"]], \"sequential\": [[0.0, \"#0d0887\"], [0.1111111111111111, \"#46039f\"], [0.2222222222222222, \"#7201a8\"], [0.3333333333333333, \"#9c179e\"], [0.4444444444444444, \"#bd3786\"], [0.5555555555555556, \"#d8576b\"], [0.6666666666666666, \"#ed7953\"], [0.7777777777777778, \"#fb9f3a\"], [0.8888888888888888, \"#fdca26\"], [1.0, \"#f0f921\"]], \"sequentialminus\": [[0.0, \"#0d0887\"], [0.1111111111111111, \"#46039f\"], [0.2222222222222222, \"#7201a8\"], [0.3333333333333333, \"#9c179e\"], [0.4444444444444444, \"#bd3786\"], [0.5555555555555556, \"#d8576b\"], [0.6666666666666666, \"#ed7953\"], [0.7777777777777778, \"#fb9f3a\"], [0.8888888888888888, \"#fdca26\"], [1.0, \"#f0f921\"]]}, \"colorway\": [\"#636efa\", \"#EF553B\", \"#00cc96\", \"#ab63fa\", \"#FFA15A\", \"#19d3f3\", \"#FF6692\", \"#B6E880\", \"#FF97FF\", \"#FECB52\"], \"font\": {\"color\": \"#2a3f5f\"}, \"geo\": {\"bgcolor\": \"white\", \"lakecolor\": \"white\", \"landcolor\": \"white\", \"showlakes\": true, \"showland\": true, \"subunitcolor\": \"#C8D4E3\"}, \"hoverlabel\": {\"align\": \"left\"}, \"hovermode\": \"closest\", \"mapbox\": {\"style\": \"light\"}, \"paper_bgcolor\": \"white\", \"plot_bgcolor\": \"white\", \"polar\": {\"angularaxis\": {\"gridcolor\": \"#EBF0F8\", \"linecolor\": \"#EBF0F8\", \"ticks\": \"\"}, \"bgcolor\": \"white\", \"radialaxis\": {\"gridcolor\": \"#EBF0F8\", \"linecolor\": \"#EBF0F8\", \"ticks\": \"\"}}, \"scene\": {\"xaxis\": {\"backgroundcolor\": \"white\", \"gridcolor\": \"#DFE8F3\", \"gridwidth\": 2, \"linecolor\": \"#EBF0F8\", \"showbackground\": true, \"ticks\": \"\", \"zerolinecolor\": \"#EBF0F8\"}, \"yaxis\": {\"backgroundcolor\": \"white\", \"gridcolor\": \"#DFE8F3\", \"gridwidth\": 2, \"linecolor\": \"#EBF0F8\", \"showbackground\": true, \"ticks\": \"\", \"zerolinecolor\": \"#EBF0F8\"}, \"zaxis\": {\"backgroundcolor\": \"white\", \"gridcolor\": \"#DFE8F3\", \"gridwidth\": 2, \"linecolor\": \"#EBF0F8\", \"showbackground\": true, \"ticks\": \"\", \"zerolinecolor\": \"#EBF0F8\"}}, \"shapedefaults\": {\"line\": {\"color\": \"#2a3f5f\"}}, \"ternary\": {\"aaxis\": {\"gridcolor\": \"#DFE8F3\", \"linecolor\": \"#A2B1C6\", \"ticks\": \"\"}, \"baxis\": {\"gridcolor\": \"#DFE8F3\", \"linecolor\": \"#A2B1C6\", \"ticks\": \"\"}, \"bgcolor\": \"white\", \"caxis\": {\"gridcolor\": \"#DFE8F3\", \"linecolor\": \"#A2B1C6\", \"ticks\": \"\"}}, \"title\": {\"x\": 0.05}, \"xaxis\": {\"automargin\": true, \"gridcolor\": \"#EBF0F8\", \"linecolor\": \"#EBF0F8\", \"ticks\": \"\", \"title\": {\"standoff\": 15}, \"zerolinecolor\": \"#EBF0F8\", \"zerolinewidth\": 2}, \"yaxis\": {\"automargin\": true, \"gridcolor\": \"#EBF0F8\", \"linecolor\": \"#EBF0F8\", \"ticks\": \"\", \"title\": {\"standoff\": 15}, \"zerolinecolor\": \"#EBF0F8\", \"zerolinewidth\": 2}}}, \"title\": {\"text\": \"Monthly Average Temperature Recorded in Toronto\", \"x\": 0.5}, \"xaxis\": {\"title\": {\"text\": \"Months\"}}, \"yaxis\": {\"title\": {\"text\": \"Temperature C\"}}},                        {\"responsive\": true}                    ).then(function(){\n",
       "                            \n",
       "var gd = document.getElementById('3d8dba75-f2db-45d4-a01b-c575d1ba1146');\n",
       "var x = new MutationObserver(function (mutations, observer) {{\n",
       "        var display = window.getComputedStyle(gd).display;\n",
       "        if (!display || display === 'none') {{\n",
       "            console.log([gd, 'removed!']);\n",
       "            Plotly.purge(gd);\n",
       "            observer.disconnect();\n",
       "        }}\n",
       "}});\n",
       "\n",
       "// Listen for the removal of the full notebook cells\n",
       "var notebookContainer = gd.closest('#notebook-container');\n",
       "if (notebookContainer) {{\n",
       "    x.observe(notebookContainer, {childList: true});\n",
       "}}\n",
       "\n",
       "// Listen for the clearing of the current output cell\n",
       "var outputEl = gd.closest('.output');\n",
       "if (outputEl) {{\n",
       "    x.observe(outputEl, {childList: true});\n",
       "}}\n",
       "\n",
       "                        })                };                });            </script>        </div>"
      ]
     },
     "metadata": {},
     "output_type": "display_data"
    }
   ],
   "source": [
    "plotlychart(torontom,cityname='Toronto',sequence='Monthly')"
   ]
  },
  {
   "cell_type": "code",
   "execution_count": 83,
   "id": "democratic-installation",
   "metadata": {},
   "outputs": [
    {
     "data": {
      "application/vnd.plotly.v1+json": {
       "config": {
        "plotlyServerURL": "https://plot.ly"
       },
       "data": [
        {
         "marker": {
          "color": [
           0.859,
           0.826,
           0.707,
           0.731,
           0.696,
           0.678,
           0.605,
           0.619,
           0.514,
           0.551,
           0.638,
           0.854
          ],
          "colorscale": [
           [
            0,
            "rgb(247,251,255)"
           ],
           [
            0.125,
            "rgb(222,235,247)"
           ],
           [
            0.25,
            "rgb(198,219,239)"
           ],
           [
            0.375,
            "rgb(158,202,225)"
           ],
           [
            0.5,
            "rgb(107,174,214)"
           ],
           [
            0.625,
            "rgb(66,146,198)"
           ],
           [
            0.75,
            "rgb(33,113,181)"
           ],
           [
            0.875,
            "rgb(8,81,156)"
           ],
           [
            1,
            "rgb(8,48,107)"
           ]
          ]
         },
         "name": "Average",
         "text": [
          0.859,
          0.826,
          0.707,
          0.731,
          0.696,
          0.678,
          0.605,
          0.619,
          0.514,
          0.551,
          0.638,
          0.854
         ],
         "textposition": "outside",
         "type": "bar",
         "x": [
          "Jan",
          "Feb",
          "Mar",
          "Apr",
          "May",
          "Jun",
          "Jul",
          "Aug",
          "Sept",
          "Oct",
          "Nov",
          "Dec"
         ],
         "y": [
          0.859,
          0.826,
          0.707,
          0.731,
          0.696,
          0.678,
          0.605,
          0.619,
          0.514,
          0.551,
          0.638,
          0.854
         ]
        }
       ],
       "layout": {
        "font": {
         "family": "sora",
         "size": 11
        },
        "template": {
         "data": {
          "bar": [
           {
            "error_x": {
             "color": "#2a3f5f"
            },
            "error_y": {
             "color": "#2a3f5f"
            },
            "marker": {
             "line": {
              "color": "white",
              "width": 0.5
             }
            },
            "type": "bar"
           }
          ],
          "barpolar": [
           {
            "marker": {
             "line": {
              "color": "white",
              "width": 0.5
             }
            },
            "type": "barpolar"
           }
          ],
          "carpet": [
           {
            "aaxis": {
             "endlinecolor": "#2a3f5f",
             "gridcolor": "#C8D4E3",
             "linecolor": "#C8D4E3",
             "minorgridcolor": "#C8D4E3",
             "startlinecolor": "#2a3f5f"
            },
            "baxis": {
             "endlinecolor": "#2a3f5f",
             "gridcolor": "#C8D4E3",
             "linecolor": "#C8D4E3",
             "minorgridcolor": "#C8D4E3",
             "startlinecolor": "#2a3f5f"
            },
            "type": "carpet"
           }
          ],
          "choropleth": [
           {
            "colorbar": {
             "outlinewidth": 0,
             "ticks": ""
            },
            "type": "choropleth"
           }
          ],
          "contour": [
           {
            "colorbar": {
             "outlinewidth": 0,
             "ticks": ""
            },
            "colorscale": [
             [
              0,
              "#0d0887"
             ],
             [
              0.1111111111111111,
              "#46039f"
             ],
             [
              0.2222222222222222,
              "#7201a8"
             ],
             [
              0.3333333333333333,
              "#9c179e"
             ],
             [
              0.4444444444444444,
              "#bd3786"
             ],
             [
              0.5555555555555556,
              "#d8576b"
             ],
             [
              0.6666666666666666,
              "#ed7953"
             ],
             [
              0.7777777777777778,
              "#fb9f3a"
             ],
             [
              0.8888888888888888,
              "#fdca26"
             ],
             [
              1,
              "#f0f921"
             ]
            ],
            "type": "contour"
           }
          ],
          "contourcarpet": [
           {
            "colorbar": {
             "outlinewidth": 0,
             "ticks": ""
            },
            "type": "contourcarpet"
           }
          ],
          "heatmap": [
           {
            "colorbar": {
             "outlinewidth": 0,
             "ticks": ""
            },
            "colorscale": [
             [
              0,
              "#0d0887"
             ],
             [
              0.1111111111111111,
              "#46039f"
             ],
             [
              0.2222222222222222,
              "#7201a8"
             ],
             [
              0.3333333333333333,
              "#9c179e"
             ],
             [
              0.4444444444444444,
              "#bd3786"
             ],
             [
              0.5555555555555556,
              "#d8576b"
             ],
             [
              0.6666666666666666,
              "#ed7953"
             ],
             [
              0.7777777777777778,
              "#fb9f3a"
             ],
             [
              0.8888888888888888,
              "#fdca26"
             ],
             [
              1,
              "#f0f921"
             ]
            ],
            "type": "heatmap"
           }
          ],
          "heatmapgl": [
           {
            "colorbar": {
             "outlinewidth": 0,
             "ticks": ""
            },
            "colorscale": [
             [
              0,
              "#0d0887"
             ],
             [
              0.1111111111111111,
              "#46039f"
             ],
             [
              0.2222222222222222,
              "#7201a8"
             ],
             [
              0.3333333333333333,
              "#9c179e"
             ],
             [
              0.4444444444444444,
              "#bd3786"
             ],
             [
              0.5555555555555556,
              "#d8576b"
             ],
             [
              0.6666666666666666,
              "#ed7953"
             ],
             [
              0.7777777777777778,
              "#fb9f3a"
             ],
             [
              0.8888888888888888,
              "#fdca26"
             ],
             [
              1,
              "#f0f921"
             ]
            ],
            "type": "heatmapgl"
           }
          ],
          "histogram": [
           {
            "marker": {
             "colorbar": {
              "outlinewidth": 0,
              "ticks": ""
             }
            },
            "type": "histogram"
           }
          ],
          "histogram2d": [
           {
            "colorbar": {
             "outlinewidth": 0,
             "ticks": ""
            },
            "colorscale": [
             [
              0,
              "#0d0887"
             ],
             [
              0.1111111111111111,
              "#46039f"
             ],
             [
              0.2222222222222222,
              "#7201a8"
             ],
             [
              0.3333333333333333,
              "#9c179e"
             ],
             [
              0.4444444444444444,
              "#bd3786"
             ],
             [
              0.5555555555555556,
              "#d8576b"
             ],
             [
              0.6666666666666666,
              "#ed7953"
             ],
             [
              0.7777777777777778,
              "#fb9f3a"
             ],
             [
              0.8888888888888888,
              "#fdca26"
             ],
             [
              1,
              "#f0f921"
             ]
            ],
            "type": "histogram2d"
           }
          ],
          "histogram2dcontour": [
           {
            "colorbar": {
             "outlinewidth": 0,
             "ticks": ""
            },
            "colorscale": [
             [
              0,
              "#0d0887"
             ],
             [
              0.1111111111111111,
              "#46039f"
             ],
             [
              0.2222222222222222,
              "#7201a8"
             ],
             [
              0.3333333333333333,
              "#9c179e"
             ],
             [
              0.4444444444444444,
              "#bd3786"
             ],
             [
              0.5555555555555556,
              "#d8576b"
             ],
             [
              0.6666666666666666,
              "#ed7953"
             ],
             [
              0.7777777777777778,
              "#fb9f3a"
             ],
             [
              0.8888888888888888,
              "#fdca26"
             ],
             [
              1,
              "#f0f921"
             ]
            ],
            "type": "histogram2dcontour"
           }
          ],
          "mesh3d": [
           {
            "colorbar": {
             "outlinewidth": 0,
             "ticks": ""
            },
            "type": "mesh3d"
           }
          ],
          "parcoords": [
           {
            "line": {
             "colorbar": {
              "outlinewidth": 0,
              "ticks": ""
             }
            },
            "type": "parcoords"
           }
          ],
          "pie": [
           {
            "automargin": true,
            "type": "pie"
           }
          ],
          "scatter": [
           {
            "marker": {
             "colorbar": {
              "outlinewidth": 0,
              "ticks": ""
             }
            },
            "type": "scatter"
           }
          ],
          "scatter3d": [
           {
            "line": {
             "colorbar": {
              "outlinewidth": 0,
              "ticks": ""
             }
            },
            "marker": {
             "colorbar": {
              "outlinewidth": 0,
              "ticks": ""
             }
            },
            "type": "scatter3d"
           }
          ],
          "scattercarpet": [
           {
            "marker": {
             "colorbar": {
              "outlinewidth": 0,
              "ticks": ""
             }
            },
            "type": "scattercarpet"
           }
          ],
          "scattergeo": [
           {
            "marker": {
             "colorbar": {
              "outlinewidth": 0,
              "ticks": ""
             }
            },
            "type": "scattergeo"
           }
          ],
          "scattergl": [
           {
            "marker": {
             "colorbar": {
              "outlinewidth": 0,
              "ticks": ""
             }
            },
            "type": "scattergl"
           }
          ],
          "scattermapbox": [
           {
            "marker": {
             "colorbar": {
              "outlinewidth": 0,
              "ticks": ""
             }
            },
            "type": "scattermapbox"
           }
          ],
          "scatterpolar": [
           {
            "marker": {
             "colorbar": {
              "outlinewidth": 0,
              "ticks": ""
             }
            },
            "type": "scatterpolar"
           }
          ],
          "scatterpolargl": [
           {
            "marker": {
             "colorbar": {
              "outlinewidth": 0,
              "ticks": ""
             }
            },
            "type": "scatterpolargl"
           }
          ],
          "scatterternary": [
           {
            "marker": {
             "colorbar": {
              "outlinewidth": 0,
              "ticks": ""
             }
            },
            "type": "scatterternary"
           }
          ],
          "surface": [
           {
            "colorbar": {
             "outlinewidth": 0,
             "ticks": ""
            },
            "colorscale": [
             [
              0,
              "#0d0887"
             ],
             [
              0.1111111111111111,
              "#46039f"
             ],
             [
              0.2222222222222222,
              "#7201a8"
             ],
             [
              0.3333333333333333,
              "#9c179e"
             ],
             [
              0.4444444444444444,
              "#bd3786"
             ],
             [
              0.5555555555555556,
              "#d8576b"
             ],
             [
              0.6666666666666666,
              "#ed7953"
             ],
             [
              0.7777777777777778,
              "#fb9f3a"
             ],
             [
              0.8888888888888888,
              "#fdca26"
             ],
             [
              1,
              "#f0f921"
             ]
            ],
            "type": "surface"
           }
          ],
          "table": [
           {
            "cells": {
             "fill": {
              "color": "#EBF0F8"
             },
             "line": {
              "color": "white"
             }
            },
            "header": {
             "fill": {
              "color": "#C8D4E3"
             },
             "line": {
              "color": "white"
             }
            },
            "type": "table"
           }
          ]
         },
         "layout": {
          "annotationdefaults": {
           "arrowcolor": "#2a3f5f",
           "arrowhead": 0,
           "arrowwidth": 1
          },
          "autotypenumbers": "strict",
          "coloraxis": {
           "colorbar": {
            "outlinewidth": 0,
            "ticks": ""
           }
          },
          "colorscale": {
           "diverging": [
            [
             0,
             "#8e0152"
            ],
            [
             0.1,
             "#c51b7d"
            ],
            [
             0.2,
             "#de77ae"
            ],
            [
             0.3,
             "#f1b6da"
            ],
            [
             0.4,
             "#fde0ef"
            ],
            [
             0.5,
             "#f7f7f7"
            ],
            [
             0.6,
             "#e6f5d0"
            ],
            [
             0.7,
             "#b8e186"
            ],
            [
             0.8,
             "#7fbc41"
            ],
            [
             0.9,
             "#4d9221"
            ],
            [
             1,
             "#276419"
            ]
           ],
           "sequential": [
            [
             0,
             "#0d0887"
            ],
            [
             0.1111111111111111,
             "#46039f"
            ],
            [
             0.2222222222222222,
             "#7201a8"
            ],
            [
             0.3333333333333333,
             "#9c179e"
            ],
            [
             0.4444444444444444,
             "#bd3786"
            ],
            [
             0.5555555555555556,
             "#d8576b"
            ],
            [
             0.6666666666666666,
             "#ed7953"
            ],
            [
             0.7777777777777778,
             "#fb9f3a"
            ],
            [
             0.8888888888888888,
             "#fdca26"
            ],
            [
             1,
             "#f0f921"
            ]
           ],
           "sequentialminus": [
            [
             0,
             "#0d0887"
            ],
            [
             0.1111111111111111,
             "#46039f"
            ],
            [
             0.2222222222222222,
             "#7201a8"
            ],
            [
             0.3333333333333333,
             "#9c179e"
            ],
            [
             0.4444444444444444,
             "#bd3786"
            ],
            [
             0.5555555555555556,
             "#d8576b"
            ],
            [
             0.6666666666666666,
             "#ed7953"
            ],
            [
             0.7777777777777778,
             "#fb9f3a"
            ],
            [
             0.8888888888888888,
             "#fdca26"
            ],
            [
             1,
             "#f0f921"
            ]
           ]
          },
          "colorway": [
           "#636efa",
           "#EF553B",
           "#00cc96",
           "#ab63fa",
           "#FFA15A",
           "#19d3f3",
           "#FF6692",
           "#B6E880",
           "#FF97FF",
           "#FECB52"
          ],
          "font": {
           "color": "#2a3f5f"
          },
          "geo": {
           "bgcolor": "white",
           "lakecolor": "white",
           "landcolor": "white",
           "showlakes": true,
           "showland": true,
           "subunitcolor": "#C8D4E3"
          },
          "hoverlabel": {
           "align": "left"
          },
          "hovermode": "closest",
          "mapbox": {
           "style": "light"
          },
          "paper_bgcolor": "white",
          "plot_bgcolor": "white",
          "polar": {
           "angularaxis": {
            "gridcolor": "#EBF0F8",
            "linecolor": "#EBF0F8",
            "ticks": ""
           },
           "bgcolor": "white",
           "radialaxis": {
            "gridcolor": "#EBF0F8",
            "linecolor": "#EBF0F8",
            "ticks": ""
           }
          },
          "scene": {
           "xaxis": {
            "backgroundcolor": "white",
            "gridcolor": "#DFE8F3",
            "gridwidth": 2,
            "linecolor": "#EBF0F8",
            "showbackground": true,
            "ticks": "",
            "zerolinecolor": "#EBF0F8"
           },
           "yaxis": {
            "backgroundcolor": "white",
            "gridcolor": "#DFE8F3",
            "gridwidth": 2,
            "linecolor": "#EBF0F8",
            "showbackground": true,
            "ticks": "",
            "zerolinecolor": "#EBF0F8"
           },
           "zaxis": {
            "backgroundcolor": "white",
            "gridcolor": "#DFE8F3",
            "gridwidth": 2,
            "linecolor": "#EBF0F8",
            "showbackground": true,
            "ticks": "",
            "zerolinecolor": "#EBF0F8"
           }
          },
          "shapedefaults": {
           "line": {
            "color": "#2a3f5f"
           }
          },
          "ternary": {
           "aaxis": {
            "gridcolor": "#DFE8F3",
            "linecolor": "#A2B1C6",
            "ticks": ""
           },
           "baxis": {
            "gridcolor": "#DFE8F3",
            "linecolor": "#A2B1C6",
            "ticks": ""
           },
           "bgcolor": "white",
           "caxis": {
            "gridcolor": "#DFE8F3",
            "linecolor": "#A2B1C6",
            "ticks": ""
           }
          },
          "title": {
           "x": 0.05
          },
          "xaxis": {
           "automargin": true,
           "gridcolor": "#EBF0F8",
           "linecolor": "#EBF0F8",
           "ticks": "",
           "title": {
            "standoff": 15
           },
           "zerolinecolor": "#EBF0F8",
           "zerolinewidth": 2
          },
          "yaxis": {
           "automargin": true,
           "gridcolor": "#EBF0F8",
           "linecolor": "#EBF0F8",
           "ticks": "",
           "title": {
            "standoff": 15
           },
           "zerolinecolor": "#EBF0F8",
           "zerolinewidth": 2
          }
         }
        },
        "title": {
         "text": "Monthly Average Temperature Uncertainty (Δ T) Recorded in Toronto",
         "x": 0.5
        },
        "xaxis": {
         "title": {
          "text": "Months"
         }
        },
        "yaxis": {
         "title": {
          "text": "Temperature C"
         }
        }
       }
      },
      "text/html": [
       "<div>                            <div id=\"fd6b33a0-2dd9-4449-9832-4bdc231e9da1\" class=\"plotly-graph-div\" style=\"height:525px; width:100%;\"></div>            <script type=\"text/javascript\">                require([\"plotly\"], function(Plotly) {                    window.PLOTLYENV=window.PLOTLYENV || {};                                    if (document.getElementById(\"fd6b33a0-2dd9-4449-9832-4bdc231e9da1\")) {                    Plotly.newPlot(                        \"fd6b33a0-2dd9-4449-9832-4bdc231e9da1\",                        [{\"marker\": {\"color\": [0.859, 0.826, 0.707, 0.731, 0.696, 0.678, 0.605, 0.619, 0.514, 0.551, 0.638, 0.854], \"colorscale\": [[0.0, \"rgb(247,251,255)\"], [0.125, \"rgb(222,235,247)\"], [0.25, \"rgb(198,219,239)\"], [0.375, \"rgb(158,202,225)\"], [0.5, \"rgb(107,174,214)\"], [0.625, \"rgb(66,146,198)\"], [0.75, \"rgb(33,113,181)\"], [0.875, \"rgb(8,81,156)\"], [1.0, \"rgb(8,48,107)\"]]}, \"name\": \"Average\", \"text\": [0.859, 0.826, 0.707, 0.731, 0.696, 0.678, 0.605, 0.619, 0.514, 0.551, 0.638, 0.854], \"textposition\": \"outside\", \"type\": \"bar\", \"x\": [\"Jan\", \"Feb\", \"Mar\", \"Apr\", \"May\", \"Jun\", \"Jul\", \"Aug\", \"Sept\", \"Oct\", \"Nov\", \"Dec\"], \"y\": [0.859, 0.826, 0.707, 0.731, 0.696, 0.678, 0.605, 0.619, 0.514, 0.551, 0.638, 0.854]}],                        {\"font\": {\"family\": \"sora\", \"size\": 11}, \"template\": {\"data\": {\"bar\": [{\"error_x\": {\"color\": \"#2a3f5f\"}, \"error_y\": {\"color\": \"#2a3f5f\"}, \"marker\": {\"line\": {\"color\": \"white\", \"width\": 0.5}}, \"type\": \"bar\"}], \"barpolar\": [{\"marker\": {\"line\": {\"color\": \"white\", \"width\": 0.5}}, \"type\": \"barpolar\"}], \"carpet\": [{\"aaxis\": {\"endlinecolor\": \"#2a3f5f\", \"gridcolor\": \"#C8D4E3\", \"linecolor\": \"#C8D4E3\", \"minorgridcolor\": \"#C8D4E3\", \"startlinecolor\": \"#2a3f5f\"}, \"baxis\": {\"endlinecolor\": \"#2a3f5f\", \"gridcolor\": \"#C8D4E3\", \"linecolor\": \"#C8D4E3\", \"minorgridcolor\": \"#C8D4E3\", \"startlinecolor\": \"#2a3f5f\"}, \"type\": \"carpet\"}], \"choropleth\": [{\"colorbar\": {\"outlinewidth\": 0, \"ticks\": \"\"}, \"type\": \"choropleth\"}], \"contour\": [{\"colorbar\": {\"outlinewidth\": 0, \"ticks\": \"\"}, \"colorscale\": [[0.0, \"#0d0887\"], [0.1111111111111111, \"#46039f\"], [0.2222222222222222, \"#7201a8\"], [0.3333333333333333, \"#9c179e\"], [0.4444444444444444, \"#bd3786\"], [0.5555555555555556, \"#d8576b\"], [0.6666666666666666, \"#ed7953\"], [0.7777777777777778, \"#fb9f3a\"], [0.8888888888888888, \"#fdca26\"], [1.0, \"#f0f921\"]], \"type\": \"contour\"}], \"contourcarpet\": [{\"colorbar\": {\"outlinewidth\": 0, \"ticks\": \"\"}, \"type\": \"contourcarpet\"}], \"heatmap\": [{\"colorbar\": {\"outlinewidth\": 0, \"ticks\": \"\"}, \"colorscale\": [[0.0, \"#0d0887\"], [0.1111111111111111, \"#46039f\"], [0.2222222222222222, \"#7201a8\"], [0.3333333333333333, \"#9c179e\"], [0.4444444444444444, \"#bd3786\"], [0.5555555555555556, \"#d8576b\"], [0.6666666666666666, \"#ed7953\"], [0.7777777777777778, \"#fb9f3a\"], [0.8888888888888888, \"#fdca26\"], [1.0, \"#f0f921\"]], \"type\": \"heatmap\"}], \"heatmapgl\": [{\"colorbar\": {\"outlinewidth\": 0, \"ticks\": \"\"}, \"colorscale\": [[0.0, \"#0d0887\"], [0.1111111111111111, \"#46039f\"], [0.2222222222222222, \"#7201a8\"], [0.3333333333333333, \"#9c179e\"], [0.4444444444444444, \"#bd3786\"], [0.5555555555555556, \"#d8576b\"], [0.6666666666666666, \"#ed7953\"], [0.7777777777777778, \"#fb9f3a\"], [0.8888888888888888, \"#fdca26\"], [1.0, \"#f0f921\"]], \"type\": \"heatmapgl\"}], \"histogram\": [{\"marker\": {\"colorbar\": {\"outlinewidth\": 0, \"ticks\": \"\"}}, \"type\": \"histogram\"}], \"histogram2d\": [{\"colorbar\": {\"outlinewidth\": 0, \"ticks\": \"\"}, \"colorscale\": [[0.0, \"#0d0887\"], [0.1111111111111111, \"#46039f\"], [0.2222222222222222, \"#7201a8\"], [0.3333333333333333, \"#9c179e\"], [0.4444444444444444, \"#bd3786\"], [0.5555555555555556, \"#d8576b\"], [0.6666666666666666, \"#ed7953\"], [0.7777777777777778, \"#fb9f3a\"], [0.8888888888888888, \"#fdca26\"], [1.0, \"#f0f921\"]], \"type\": \"histogram2d\"}], \"histogram2dcontour\": [{\"colorbar\": {\"outlinewidth\": 0, \"ticks\": \"\"}, \"colorscale\": [[0.0, \"#0d0887\"], [0.1111111111111111, \"#46039f\"], [0.2222222222222222, \"#7201a8\"], [0.3333333333333333, \"#9c179e\"], [0.4444444444444444, \"#bd3786\"], [0.5555555555555556, \"#d8576b\"], [0.6666666666666666, \"#ed7953\"], [0.7777777777777778, \"#fb9f3a\"], [0.8888888888888888, \"#fdca26\"], [1.0, \"#f0f921\"]], \"type\": \"histogram2dcontour\"}], \"mesh3d\": [{\"colorbar\": {\"outlinewidth\": 0, \"ticks\": \"\"}, \"type\": \"mesh3d\"}], \"parcoords\": [{\"line\": {\"colorbar\": {\"outlinewidth\": 0, \"ticks\": \"\"}}, \"type\": \"parcoords\"}], \"pie\": [{\"automargin\": true, \"type\": \"pie\"}], \"scatter\": [{\"marker\": {\"colorbar\": {\"outlinewidth\": 0, \"ticks\": \"\"}}, \"type\": \"scatter\"}], \"scatter3d\": [{\"line\": {\"colorbar\": {\"outlinewidth\": 0, \"ticks\": \"\"}}, \"marker\": {\"colorbar\": {\"outlinewidth\": 0, \"ticks\": \"\"}}, \"type\": \"scatter3d\"}], \"scattercarpet\": [{\"marker\": {\"colorbar\": {\"outlinewidth\": 0, \"ticks\": \"\"}}, \"type\": \"scattercarpet\"}], \"scattergeo\": [{\"marker\": {\"colorbar\": {\"outlinewidth\": 0, \"ticks\": \"\"}}, \"type\": \"scattergeo\"}], \"scattergl\": [{\"marker\": {\"colorbar\": {\"outlinewidth\": 0, \"ticks\": \"\"}}, \"type\": \"scattergl\"}], \"scattermapbox\": [{\"marker\": {\"colorbar\": {\"outlinewidth\": 0, \"ticks\": \"\"}}, \"type\": \"scattermapbox\"}], \"scatterpolar\": [{\"marker\": {\"colorbar\": {\"outlinewidth\": 0, \"ticks\": \"\"}}, \"type\": \"scatterpolar\"}], \"scatterpolargl\": [{\"marker\": {\"colorbar\": {\"outlinewidth\": 0, \"ticks\": \"\"}}, \"type\": \"scatterpolargl\"}], \"scatterternary\": [{\"marker\": {\"colorbar\": {\"outlinewidth\": 0, \"ticks\": \"\"}}, \"type\": \"scatterternary\"}], \"surface\": [{\"colorbar\": {\"outlinewidth\": 0, \"ticks\": \"\"}, \"colorscale\": [[0.0, \"#0d0887\"], [0.1111111111111111, \"#46039f\"], [0.2222222222222222, \"#7201a8\"], [0.3333333333333333, \"#9c179e\"], [0.4444444444444444, \"#bd3786\"], [0.5555555555555556, \"#d8576b\"], [0.6666666666666666, \"#ed7953\"], [0.7777777777777778, \"#fb9f3a\"], [0.8888888888888888, \"#fdca26\"], [1.0, \"#f0f921\"]], \"type\": \"surface\"}], \"table\": [{\"cells\": {\"fill\": {\"color\": \"#EBF0F8\"}, \"line\": {\"color\": \"white\"}}, \"header\": {\"fill\": {\"color\": \"#C8D4E3\"}, \"line\": {\"color\": \"white\"}}, \"type\": \"table\"}]}, \"layout\": {\"annotationdefaults\": {\"arrowcolor\": \"#2a3f5f\", \"arrowhead\": 0, \"arrowwidth\": 1}, \"autotypenumbers\": \"strict\", \"coloraxis\": {\"colorbar\": {\"outlinewidth\": 0, \"ticks\": \"\"}}, \"colorscale\": {\"diverging\": [[0, \"#8e0152\"], [0.1, \"#c51b7d\"], [0.2, \"#de77ae\"], [0.3, \"#f1b6da\"], [0.4, \"#fde0ef\"], [0.5, \"#f7f7f7\"], [0.6, \"#e6f5d0\"], [0.7, \"#b8e186\"], [0.8, \"#7fbc41\"], [0.9, \"#4d9221\"], [1, \"#276419\"]], \"sequential\": [[0.0, \"#0d0887\"], [0.1111111111111111, \"#46039f\"], [0.2222222222222222, \"#7201a8\"], [0.3333333333333333, \"#9c179e\"], [0.4444444444444444, \"#bd3786\"], [0.5555555555555556, \"#d8576b\"], [0.6666666666666666, \"#ed7953\"], [0.7777777777777778, \"#fb9f3a\"], [0.8888888888888888, \"#fdca26\"], [1.0, \"#f0f921\"]], \"sequentialminus\": [[0.0, \"#0d0887\"], [0.1111111111111111, \"#46039f\"], [0.2222222222222222, \"#7201a8\"], [0.3333333333333333, \"#9c179e\"], [0.4444444444444444, \"#bd3786\"], [0.5555555555555556, \"#d8576b\"], [0.6666666666666666, \"#ed7953\"], [0.7777777777777778, \"#fb9f3a\"], [0.8888888888888888, \"#fdca26\"], [1.0, \"#f0f921\"]]}, \"colorway\": [\"#636efa\", \"#EF553B\", \"#00cc96\", \"#ab63fa\", \"#FFA15A\", \"#19d3f3\", \"#FF6692\", \"#B6E880\", \"#FF97FF\", \"#FECB52\"], \"font\": {\"color\": \"#2a3f5f\"}, \"geo\": {\"bgcolor\": \"white\", \"lakecolor\": \"white\", \"landcolor\": \"white\", \"showlakes\": true, \"showland\": true, \"subunitcolor\": \"#C8D4E3\"}, \"hoverlabel\": {\"align\": \"left\"}, \"hovermode\": \"closest\", \"mapbox\": {\"style\": \"light\"}, \"paper_bgcolor\": \"white\", \"plot_bgcolor\": \"white\", \"polar\": {\"angularaxis\": {\"gridcolor\": \"#EBF0F8\", \"linecolor\": \"#EBF0F8\", \"ticks\": \"\"}, \"bgcolor\": \"white\", \"radialaxis\": {\"gridcolor\": \"#EBF0F8\", \"linecolor\": \"#EBF0F8\", \"ticks\": \"\"}}, \"scene\": {\"xaxis\": {\"backgroundcolor\": \"white\", \"gridcolor\": \"#DFE8F3\", \"gridwidth\": 2, \"linecolor\": \"#EBF0F8\", \"showbackground\": true, \"ticks\": \"\", \"zerolinecolor\": \"#EBF0F8\"}, \"yaxis\": {\"backgroundcolor\": \"white\", \"gridcolor\": \"#DFE8F3\", \"gridwidth\": 2, \"linecolor\": \"#EBF0F8\", \"showbackground\": true, \"ticks\": \"\", \"zerolinecolor\": \"#EBF0F8\"}, \"zaxis\": {\"backgroundcolor\": \"white\", \"gridcolor\": \"#DFE8F3\", \"gridwidth\": 2, \"linecolor\": \"#EBF0F8\", \"showbackground\": true, \"ticks\": \"\", \"zerolinecolor\": \"#EBF0F8\"}}, \"shapedefaults\": {\"line\": {\"color\": \"#2a3f5f\"}}, \"ternary\": {\"aaxis\": {\"gridcolor\": \"#DFE8F3\", \"linecolor\": \"#A2B1C6\", \"ticks\": \"\"}, \"baxis\": {\"gridcolor\": \"#DFE8F3\", \"linecolor\": \"#A2B1C6\", \"ticks\": \"\"}, \"bgcolor\": \"white\", \"caxis\": {\"gridcolor\": \"#DFE8F3\", \"linecolor\": \"#A2B1C6\", \"ticks\": \"\"}}, \"title\": {\"x\": 0.05}, \"xaxis\": {\"automargin\": true, \"gridcolor\": \"#EBF0F8\", \"linecolor\": \"#EBF0F8\", \"ticks\": \"\", \"title\": {\"standoff\": 15}, \"zerolinecolor\": \"#EBF0F8\", \"zerolinewidth\": 2}, \"yaxis\": {\"automargin\": true, \"gridcolor\": \"#EBF0F8\", \"linecolor\": \"#EBF0F8\", \"ticks\": \"\", \"title\": {\"standoff\": 15}, \"zerolinecolor\": \"#EBF0F8\", \"zerolinewidth\": 2}}}, \"title\": {\"text\": \"Monthly Average Temperature Uncertainty (\\u0394 T) Recorded in Toronto\", \"x\": 0.5}, \"xaxis\": {\"title\": {\"text\": \"Months\"}}, \"yaxis\": {\"title\": {\"text\": \"Temperature C\"}}},                        {\"responsive\": true}                    ).then(function(){\n",
       "                            \n",
       "var gd = document.getElementById('fd6b33a0-2dd9-4449-9832-4bdc231e9da1');\n",
       "var x = new MutationObserver(function (mutations, observer) {{\n",
       "        var display = window.getComputedStyle(gd).display;\n",
       "        if (!display || display === 'none') {{\n",
       "            console.log([gd, 'removed!']);\n",
       "            Plotly.purge(gd);\n",
       "            observer.disconnect();\n",
       "        }}\n",
       "}});\n",
       "\n",
       "// Listen for the removal of the full notebook cells\n",
       "var notebookContainer = gd.closest('#notebook-container');\n",
       "if (notebookContainer) {{\n",
       "    x.observe(notebookContainer, {childList: true});\n",
       "}}\n",
       "\n",
       "// Listen for the clearing of the current output cell\n",
       "var outputEl = gd.closest('.output');\n",
       "if (outputEl) {{\n",
       "    x.observe(outputEl, {childList: true});\n",
       "}}\n",
       "\n",
       "                        })                };                });            </script>        </div>"
      ]
     },
     "metadata": {},
     "output_type": "display_data"
    }
   ],
   "source": [
    "plotlychart(torontom,cityname='Toronto',attr='AverageTemperatureUncertainty',sequence='Monthly')"
   ]
  },
  {
   "cell_type": "code",
   "execution_count": 84,
   "id": "cognitive-closing",
   "metadata": {},
   "outputs": [
    {
     "data": {
      "application/vnd.plotly.v1+json": {
       "config": {
        "plotlyServerURL": "https://plot.ly"
       },
       "data": [
        {
         "line": {
          "color": "dodgerblue",
          "width": 2
         },
         "mode": "lines",
         "name": "Average",
         "type": "scatter",
         "x": [
          1743,
          1744,
          1745,
          1746,
          1747,
          1748,
          1749,
          1750,
          1751,
          1752,
          1753,
          1754,
          1755,
          1756,
          1757,
          1758,
          1759,
          1760,
          1761,
          1762,
          1763,
          1764,
          1765,
          1766,
          1767,
          1768,
          1769,
          1770,
          1771,
          1772,
          1773,
          1774,
          1775,
          1776,
          1777,
          1778,
          1779,
          1780,
          1781,
          1782,
          1783,
          1784,
          1785,
          1786,
          1787,
          1788,
          1789,
          1790,
          1791,
          1792,
          1793,
          1794,
          1795,
          1796,
          1797,
          1798,
          1799,
          1800,
          1801,
          1802,
          1803,
          1804,
          1805,
          1806,
          1807,
          1808,
          1809,
          1810,
          1811,
          1812,
          1813,
          1814,
          1815,
          1816,
          1817,
          1818,
          1819,
          1820,
          1821,
          1822,
          1823,
          1824,
          1825,
          1826,
          1827,
          1828,
          1829,
          1830,
          1831,
          1832,
          1833,
          1834,
          1835,
          1836,
          1837,
          1838,
          1839,
          1840,
          1841,
          1842,
          1843,
          1844,
          1845,
          1846,
          1847,
          1848,
          1849,
          1850,
          1851,
          1852,
          1853,
          1854,
          1855,
          1856,
          1857,
          1858,
          1859,
          1860,
          1861,
          1862,
          1863,
          1864,
          1865,
          1866,
          1867,
          1868,
          1869,
          1870,
          1871,
          1872,
          1873,
          1874,
          1875,
          1876,
          1877,
          1878,
          1879,
          1880,
          1881,
          1882,
          1883,
          1884,
          1885,
          1886,
          1887,
          1888,
          1889,
          1890,
          1891,
          1892,
          1893,
          1894,
          1895,
          1896,
          1897,
          1898,
          1899,
          1900,
          1901,
          1902,
          1903,
          1904,
          1905,
          1906,
          1907,
          1908,
          1909,
          1910,
          1911,
          1912,
          1913,
          1914,
          1915,
          1916,
          1917,
          1918,
          1919,
          1920,
          1921,
          1922,
          1923,
          1924,
          1925,
          1926,
          1927,
          1928,
          1929,
          1930,
          1931,
          1932,
          1933,
          1934,
          1935,
          1936,
          1937,
          1938,
          1939,
          1940,
          1941,
          1942,
          1943,
          1944,
          1945,
          1946,
          1947,
          1948,
          1949,
          1950,
          1951,
          1952,
          1953,
          1954,
          1955,
          1956,
          1957,
          1958,
          1959,
          1960,
          1961,
          1962,
          1963,
          1964,
          1965,
          1966,
          1967,
          1968,
          1969,
          1970,
          1971,
          1972,
          1973,
          1974,
          1975,
          1976,
          1977,
          1978,
          1979,
          1980,
          1981,
          1982,
          1983,
          1984,
          1985,
          1986,
          1987,
          1988,
          1989,
          1990,
          1991,
          1992,
          1993,
          1994,
          1995,
          1996,
          1997,
          1998,
          1999,
          2000,
          2001,
          2002,
          2003,
          2004,
          2005,
          2006,
          2007,
          2008,
          2009,
          2010,
          2011,
          2012,
          2013
         ],
         "y": [
          2.8339555873925457,
          5.832955587392545,
          5.773911174785091,
          5.773911174785091,
          5.773911174785091,
          5.773911174785091,
          5.773911174785091,
          5.765955587392546,
          5.773911174785091,
          5.773911174785091,
          5.763,
          5.773911174785091,
          5.294455587392546,
          5.773911174785091,
          4.784955587392545,
          3.6285,
          5.459,
          4.990455587392546,
          4.782455587392546,
          5.653955587392547,
          4.810955587392545,
          5.773911174785091,
          5.713955587392546,
          5.8420000000000005,
          4.869955587392546,
          4.517000000000001,
          4.9175,
          5.644500000000001,
          6.692000000000001,
          6.7635000000000005,
          6.9655000000000005,
          6.901955587392546,
          6.115500000000001,
          5.604,
          4.3825,
          5.773911174785091,
          6.883500000000001,
          5.773911174785091,
          5.5375,
          6.0415,
          4.969000000000001,
          4.1855,
          4.689,
          5.797500000000001,
          4.821,
          7.2785,
          4.5520000000000005,
          5.0055000000000005,
          5.404000000000001,
          5.839499999999999,
          6.053,
          5.8995000000000015,
          5.7890000000000015,
          6.0975,
          4.6715,
          6.341000000000001,
          5.888,
          6.8325,
          5.7945,
          6.9305,
          6.86,
          6.022,
          5.803500000000001,
          5.094000000000001,
          5.622,
          5.568500000000002,
          6.891,
          5.473000000000001,
          5.277000000000001,
          4.333500000000001,
          5.712,
          5.152000000000001,
          4.2765,
          3.9755000000000007,
          4.1605,
          4.861500000000001,
          4.782,
          5.756,
          4.1625000000000005,
          5.236000000000001,
          5.149000000000001,
          5.0235,
          6.6610000000000005,
          5.258500000000001,
          6.8795,
          4.798,
          5.884,
          7.9405,
          5.915500000000001,
          6.0485,
          6.420000000000002,
          6.076500000000001,
          5.8895,
          3.2285000000000004,
          4.223500000000001,
          2.8360000000000007,
          7.798,
          6.335000000000001,
          3.5630000000000006,
          6.308000000000001,
          4.2970000000000015,
          6.82,
          6.049000000000001,
          5.886500000000001,
          4.191000000000001,
          5.391000000000001,
          5.378500000000001,
          4.153500000000001,
          5.507000000000001,
          5.162000000000001,
          4.74,
          6.1665,
          5.361000000000001,
          5.775500000000001,
          3.2695000000000007,
          6.409000000000001,
          4.032500000000001,
          5.276,
          6.258000000000001,
          5.367000000000001,
          4.855,
          4.574999999999999,
          5.260000000000002,
          7.131500000000001,
          5.333,
          3.1415000000000006,
          3.6129999999999995,
          7.3765,
          7.0235,
          5.2705,
          4.5625,
          4.152,
          3.4030000000000005,
          3.8835000000000006,
          6.668000000000001,
          8.777999999999999,
          7.5920000000000005,
          5.4115,
          5.474000000000001,
          5.9125,
          4.168000000000001,
          5.977,
          4.471500000000001,
          7.585,
          4.442,
          3.522500000000001,
          4.6195,
          6.075500000000001,
          6.1965,
          5.556000000000001,
          5.8100000000000005,
          7.291,
          4.714500000000001,
          6.476000000000001,
          6.996,
          6.259500000000001,
          7.5794999999999995,
          8.6765,
          6.979500000000001,
          6.3465,
          6.7395,
          4.201500000000001,
          6.0120000000000005,
          6.597000000000001,
          3.4875000000000003,
          6.5045,
          4.526000000000001,
          7.7675,
          5.7555000000000005,
          6.281000000000001,
          7.440000000000001,
          6.74,
          8.4725,
          6.5305,
          3.8390000000000004,
          6.806500000000001,
          6.649,
          6.5120000000000005,
          8.286999999999999,
          6.542000000000002,
          5.3865,
          6.3965,
          4.899000000000001,
          3.6205000000000003,
          7.348500000000001,
          6.102000000000002,
          6.306500000000001,
          5.921000000000001,
          7.818,
          5.878500000000002,
          6.477,
          5.503,
          6.141,
          4.7780000000000005,
          5.286500000000002,
          7.843,
          5.609500000000001,
          4.6245,
          8.3895,
          8.116500000000002,
          4.28,
          5.444500000000001,
          7.216000000000001,
          7.705500000000001,
          6.2905,
          7.2605,
          7.989999999999999,
          5.8475,
          7.361000000000001,
          6.297000000000001,
          7.064000000000001,
          7.593,
          9,
          6.2805,
          7.051,
          7.596500000000001,
          6.625000000000001,
          7.102500000000001,
          6.747999999999999,
          7.481,
          7.854500000000001,
          6.163500000000001,
          4.523000000000001,
          5.6555,
          6.727,
          8.6385,
          7.0265,
          7.695,
          7.156,
          3.8200000000000003,
          8.1395,
          6.496,
          7.691,
          6.0825,
          7.132500000000001,
          5.2940000000000005,
          5.937500000000001,
          5.643000000000001,
          6.078000000000001,
          6.24,
          6.407000000000001,
          8.091999999999999,
          7.871,
          7.6705000000000005,
          7.214500000000001,
          5.413500000000001,
          6.2575,
          7.663500000000001,
          8.484,
          5.3405000000000005,
          6.080500000000001,
          7.6385000000000005,
          6.234,
          5.6000000000000005,
          6.15,
          8.089500000000001,
          7.271000000000001,
          7.3455,
          7.644000000000002,
          6.459500000000001,
          5.614000000000001,
          7.370000000000001,
          8.051,
          7.162000000000001,
          8.4895,
          7.8615,
          6.559000000000001,
          8.948,
          7.3165000000000004,
          7.090500000000002,
          13.818
         ]
        }
       ],
       "layout": {
        "font": {
         "family": "sora",
         "size": 11
        },
        "template": {
         "data": {
          "bar": [
           {
            "error_x": {
             "color": "#2a3f5f"
            },
            "error_y": {
             "color": "#2a3f5f"
            },
            "marker": {
             "line": {
              "color": "white",
              "width": 0.5
             }
            },
            "type": "bar"
           }
          ],
          "barpolar": [
           {
            "marker": {
             "line": {
              "color": "white",
              "width": 0.5
             }
            },
            "type": "barpolar"
           }
          ],
          "carpet": [
           {
            "aaxis": {
             "endlinecolor": "#2a3f5f",
             "gridcolor": "#C8D4E3",
             "linecolor": "#C8D4E3",
             "minorgridcolor": "#C8D4E3",
             "startlinecolor": "#2a3f5f"
            },
            "baxis": {
             "endlinecolor": "#2a3f5f",
             "gridcolor": "#C8D4E3",
             "linecolor": "#C8D4E3",
             "minorgridcolor": "#C8D4E3",
             "startlinecolor": "#2a3f5f"
            },
            "type": "carpet"
           }
          ],
          "choropleth": [
           {
            "colorbar": {
             "outlinewidth": 0,
             "ticks": ""
            },
            "type": "choropleth"
           }
          ],
          "contour": [
           {
            "colorbar": {
             "outlinewidth": 0,
             "ticks": ""
            },
            "colorscale": [
             [
              0,
              "#0d0887"
             ],
             [
              0.1111111111111111,
              "#46039f"
             ],
             [
              0.2222222222222222,
              "#7201a8"
             ],
             [
              0.3333333333333333,
              "#9c179e"
             ],
             [
              0.4444444444444444,
              "#bd3786"
             ],
             [
              0.5555555555555556,
              "#d8576b"
             ],
             [
              0.6666666666666666,
              "#ed7953"
             ],
             [
              0.7777777777777778,
              "#fb9f3a"
             ],
             [
              0.8888888888888888,
              "#fdca26"
             ],
             [
              1,
              "#f0f921"
             ]
            ],
            "type": "contour"
           }
          ],
          "contourcarpet": [
           {
            "colorbar": {
             "outlinewidth": 0,
             "ticks": ""
            },
            "type": "contourcarpet"
           }
          ],
          "heatmap": [
           {
            "colorbar": {
             "outlinewidth": 0,
             "ticks": ""
            },
            "colorscale": [
             [
              0,
              "#0d0887"
             ],
             [
              0.1111111111111111,
              "#46039f"
             ],
             [
              0.2222222222222222,
              "#7201a8"
             ],
             [
              0.3333333333333333,
              "#9c179e"
             ],
             [
              0.4444444444444444,
              "#bd3786"
             ],
             [
              0.5555555555555556,
              "#d8576b"
             ],
             [
              0.6666666666666666,
              "#ed7953"
             ],
             [
              0.7777777777777778,
              "#fb9f3a"
             ],
             [
              0.8888888888888888,
              "#fdca26"
             ],
             [
              1,
              "#f0f921"
             ]
            ],
            "type": "heatmap"
           }
          ],
          "heatmapgl": [
           {
            "colorbar": {
             "outlinewidth": 0,
             "ticks": ""
            },
            "colorscale": [
             [
              0,
              "#0d0887"
             ],
             [
              0.1111111111111111,
              "#46039f"
             ],
             [
              0.2222222222222222,
              "#7201a8"
             ],
             [
              0.3333333333333333,
              "#9c179e"
             ],
             [
              0.4444444444444444,
              "#bd3786"
             ],
             [
              0.5555555555555556,
              "#d8576b"
             ],
             [
              0.6666666666666666,
              "#ed7953"
             ],
             [
              0.7777777777777778,
              "#fb9f3a"
             ],
             [
              0.8888888888888888,
              "#fdca26"
             ],
             [
              1,
              "#f0f921"
             ]
            ],
            "type": "heatmapgl"
           }
          ],
          "histogram": [
           {
            "marker": {
             "colorbar": {
              "outlinewidth": 0,
              "ticks": ""
             }
            },
            "type": "histogram"
           }
          ],
          "histogram2d": [
           {
            "colorbar": {
             "outlinewidth": 0,
             "ticks": ""
            },
            "colorscale": [
             [
              0,
              "#0d0887"
             ],
             [
              0.1111111111111111,
              "#46039f"
             ],
             [
              0.2222222222222222,
              "#7201a8"
             ],
             [
              0.3333333333333333,
              "#9c179e"
             ],
             [
              0.4444444444444444,
              "#bd3786"
             ],
             [
              0.5555555555555556,
              "#d8576b"
             ],
             [
              0.6666666666666666,
              "#ed7953"
             ],
             [
              0.7777777777777778,
              "#fb9f3a"
             ],
             [
              0.8888888888888888,
              "#fdca26"
             ],
             [
              1,
              "#f0f921"
             ]
            ],
            "type": "histogram2d"
           }
          ],
          "histogram2dcontour": [
           {
            "colorbar": {
             "outlinewidth": 0,
             "ticks": ""
            },
            "colorscale": [
             [
              0,
              "#0d0887"
             ],
             [
              0.1111111111111111,
              "#46039f"
             ],
             [
              0.2222222222222222,
              "#7201a8"
             ],
             [
              0.3333333333333333,
              "#9c179e"
             ],
             [
              0.4444444444444444,
              "#bd3786"
             ],
             [
              0.5555555555555556,
              "#d8576b"
             ],
             [
              0.6666666666666666,
              "#ed7953"
             ],
             [
              0.7777777777777778,
              "#fb9f3a"
             ],
             [
              0.8888888888888888,
              "#fdca26"
             ],
             [
              1,
              "#f0f921"
             ]
            ],
            "type": "histogram2dcontour"
           }
          ],
          "mesh3d": [
           {
            "colorbar": {
             "outlinewidth": 0,
             "ticks": ""
            },
            "type": "mesh3d"
           }
          ],
          "parcoords": [
           {
            "line": {
             "colorbar": {
              "outlinewidth": 0,
              "ticks": ""
             }
            },
            "type": "parcoords"
           }
          ],
          "pie": [
           {
            "automargin": true,
            "type": "pie"
           }
          ],
          "scatter": [
           {
            "marker": {
             "colorbar": {
              "outlinewidth": 0,
              "ticks": ""
             }
            },
            "type": "scatter"
           }
          ],
          "scatter3d": [
           {
            "line": {
             "colorbar": {
              "outlinewidth": 0,
              "ticks": ""
             }
            },
            "marker": {
             "colorbar": {
              "outlinewidth": 0,
              "ticks": ""
             }
            },
            "type": "scatter3d"
           }
          ],
          "scattercarpet": [
           {
            "marker": {
             "colorbar": {
              "outlinewidth": 0,
              "ticks": ""
             }
            },
            "type": "scattercarpet"
           }
          ],
          "scattergeo": [
           {
            "marker": {
             "colorbar": {
              "outlinewidth": 0,
              "ticks": ""
             }
            },
            "type": "scattergeo"
           }
          ],
          "scattergl": [
           {
            "marker": {
             "colorbar": {
              "outlinewidth": 0,
              "ticks": ""
             }
            },
            "type": "scattergl"
           }
          ],
          "scattermapbox": [
           {
            "marker": {
             "colorbar": {
              "outlinewidth": 0,
              "ticks": ""
             }
            },
            "type": "scattermapbox"
           }
          ],
          "scatterpolar": [
           {
            "marker": {
             "colorbar": {
              "outlinewidth": 0,
              "ticks": ""
             }
            },
            "type": "scatterpolar"
           }
          ],
          "scatterpolargl": [
           {
            "marker": {
             "colorbar": {
              "outlinewidth": 0,
              "ticks": ""
             }
            },
            "type": "scatterpolargl"
           }
          ],
          "scatterternary": [
           {
            "marker": {
             "colorbar": {
              "outlinewidth": 0,
              "ticks": ""
             }
            },
            "type": "scatterternary"
           }
          ],
          "surface": [
           {
            "colorbar": {
             "outlinewidth": 0,
             "ticks": ""
            },
            "colorscale": [
             [
              0,
              "#0d0887"
             ],
             [
              0.1111111111111111,
              "#46039f"
             ],
             [
              0.2222222222222222,
              "#7201a8"
             ],
             [
              0.3333333333333333,
              "#9c179e"
             ],
             [
              0.4444444444444444,
              "#bd3786"
             ],
             [
              0.5555555555555556,
              "#d8576b"
             ],
             [
              0.6666666666666666,
              "#ed7953"
             ],
             [
              0.7777777777777778,
              "#fb9f3a"
             ],
             [
              0.8888888888888888,
              "#fdca26"
             ],
             [
              1,
              "#f0f921"
             ]
            ],
            "type": "surface"
           }
          ],
          "table": [
           {
            "cells": {
             "fill": {
              "color": "#EBF0F8"
             },
             "line": {
              "color": "white"
             }
            },
            "header": {
             "fill": {
              "color": "#C8D4E3"
             },
             "line": {
              "color": "white"
             }
            },
            "type": "table"
           }
          ]
         },
         "layout": {
          "annotationdefaults": {
           "arrowcolor": "#2a3f5f",
           "arrowhead": 0,
           "arrowwidth": 1
          },
          "autotypenumbers": "strict",
          "coloraxis": {
           "colorbar": {
            "outlinewidth": 0,
            "ticks": ""
           }
          },
          "colorscale": {
           "diverging": [
            [
             0,
             "#8e0152"
            ],
            [
             0.1,
             "#c51b7d"
            ],
            [
             0.2,
             "#de77ae"
            ],
            [
             0.3,
             "#f1b6da"
            ],
            [
             0.4,
             "#fde0ef"
            ],
            [
             0.5,
             "#f7f7f7"
            ],
            [
             0.6,
             "#e6f5d0"
            ],
            [
             0.7,
             "#b8e186"
            ],
            [
             0.8,
             "#7fbc41"
            ],
            [
             0.9,
             "#4d9221"
            ],
            [
             1,
             "#276419"
            ]
           ],
           "sequential": [
            [
             0,
             "#0d0887"
            ],
            [
             0.1111111111111111,
             "#46039f"
            ],
            [
             0.2222222222222222,
             "#7201a8"
            ],
            [
             0.3333333333333333,
             "#9c179e"
            ],
            [
             0.4444444444444444,
             "#bd3786"
            ],
            [
             0.5555555555555556,
             "#d8576b"
            ],
            [
             0.6666666666666666,
             "#ed7953"
            ],
            [
             0.7777777777777778,
             "#fb9f3a"
            ],
            [
             0.8888888888888888,
             "#fdca26"
            ],
            [
             1,
             "#f0f921"
            ]
           ],
           "sequentialminus": [
            [
             0,
             "#0d0887"
            ],
            [
             0.1111111111111111,
             "#46039f"
            ],
            [
             0.2222222222222222,
             "#7201a8"
            ],
            [
             0.3333333333333333,
             "#9c179e"
            ],
            [
             0.4444444444444444,
             "#bd3786"
            ],
            [
             0.5555555555555556,
             "#d8576b"
            ],
            [
             0.6666666666666666,
             "#ed7953"
            ],
            [
             0.7777777777777778,
             "#fb9f3a"
            ],
            [
             0.8888888888888888,
             "#fdca26"
            ],
            [
             1,
             "#f0f921"
            ]
           ]
          },
          "colorway": [
           "#636efa",
           "#EF553B",
           "#00cc96",
           "#ab63fa",
           "#FFA15A",
           "#19d3f3",
           "#FF6692",
           "#B6E880",
           "#FF97FF",
           "#FECB52"
          ],
          "font": {
           "color": "#2a3f5f"
          },
          "geo": {
           "bgcolor": "white",
           "lakecolor": "white",
           "landcolor": "white",
           "showlakes": true,
           "showland": true,
           "subunitcolor": "#C8D4E3"
          },
          "hoverlabel": {
           "align": "left"
          },
          "hovermode": "closest",
          "mapbox": {
           "style": "light"
          },
          "paper_bgcolor": "white",
          "plot_bgcolor": "white",
          "polar": {
           "angularaxis": {
            "gridcolor": "#EBF0F8",
            "linecolor": "#EBF0F8",
            "ticks": ""
           },
           "bgcolor": "white",
           "radialaxis": {
            "gridcolor": "#EBF0F8",
            "linecolor": "#EBF0F8",
            "ticks": ""
           }
          },
          "scene": {
           "xaxis": {
            "backgroundcolor": "white",
            "gridcolor": "#DFE8F3",
            "gridwidth": 2,
            "linecolor": "#EBF0F8",
            "showbackground": true,
            "ticks": "",
            "zerolinecolor": "#EBF0F8"
           },
           "yaxis": {
            "backgroundcolor": "white",
            "gridcolor": "#DFE8F3",
            "gridwidth": 2,
            "linecolor": "#EBF0F8",
            "showbackground": true,
            "ticks": "",
            "zerolinecolor": "#EBF0F8"
           },
           "zaxis": {
            "backgroundcolor": "white",
            "gridcolor": "#DFE8F3",
            "gridwidth": 2,
            "linecolor": "#EBF0F8",
            "showbackground": true,
            "ticks": "",
            "zerolinecolor": "#EBF0F8"
           }
          },
          "shapedefaults": {
           "line": {
            "color": "#2a3f5f"
           }
          },
          "ternary": {
           "aaxis": {
            "gridcolor": "#DFE8F3",
            "linecolor": "#A2B1C6",
            "ticks": ""
           },
           "baxis": {
            "gridcolor": "#DFE8F3",
            "linecolor": "#A2B1C6",
            "ticks": ""
           },
           "bgcolor": "white",
           "caxis": {
            "gridcolor": "#DFE8F3",
            "linecolor": "#A2B1C6",
            "ticks": ""
           }
          },
          "title": {
           "x": 0.05
          },
          "xaxis": {
           "automargin": true,
           "gridcolor": "#EBF0F8",
           "linecolor": "#EBF0F8",
           "ticks": "",
           "title": {
            "standoff": 15
           },
           "zerolinecolor": "#EBF0F8",
           "zerolinewidth": 2
          },
          "yaxis": {
           "automargin": true,
           "gridcolor": "#EBF0F8",
           "linecolor": "#EBF0F8",
           "ticks": "",
           "title": {
            "standoff": 15
           },
           "zerolinecolor": "#EBF0F8",
           "zerolinewidth": 2
          }
         }
        },
        "title": {
         "text": "Monthly Average Temperature Recorded in Toronto",
         "x": 0.5
        },
        "xaxis": {
         "title": {
          "text": "Months"
         }
        },
        "yaxis": {
         "title": {
          "text": "Temperature C"
         }
        }
       }
      },
      "text/html": [
       "<div>                            <div id=\"b458ec3d-0caa-449f-a0e1-548d7e0ce484\" class=\"plotly-graph-div\" style=\"height:525px; width:100%;\"></div>            <script type=\"text/javascript\">                require([\"plotly\"], function(Plotly) {                    window.PLOTLYENV=window.PLOTLYENV || {};                                    if (document.getElementById(\"b458ec3d-0caa-449f-a0e1-548d7e0ce484\")) {                    Plotly.newPlot(                        \"b458ec3d-0caa-449f-a0e1-548d7e0ce484\",                        [{\"line\": {\"color\": \"dodgerblue\", \"width\": 2}, \"mode\": \"lines\", \"name\": \"Average\", \"type\": \"scatter\", \"x\": [1743, 1744, 1745, 1746, 1747, 1748, 1749, 1750, 1751, 1752, 1753, 1754, 1755, 1756, 1757, 1758, 1759, 1760, 1761, 1762, 1763, 1764, 1765, 1766, 1767, 1768, 1769, 1770, 1771, 1772, 1773, 1774, 1775, 1776, 1777, 1778, 1779, 1780, 1781, 1782, 1783, 1784, 1785, 1786, 1787, 1788, 1789, 1790, 1791, 1792, 1793, 1794, 1795, 1796, 1797, 1798, 1799, 1800, 1801, 1802, 1803, 1804, 1805, 1806, 1807, 1808, 1809, 1810, 1811, 1812, 1813, 1814, 1815, 1816, 1817, 1818, 1819, 1820, 1821, 1822, 1823, 1824, 1825, 1826, 1827, 1828, 1829, 1830, 1831, 1832, 1833, 1834, 1835, 1836, 1837, 1838, 1839, 1840, 1841, 1842, 1843, 1844, 1845, 1846, 1847, 1848, 1849, 1850, 1851, 1852, 1853, 1854, 1855, 1856, 1857, 1858, 1859, 1860, 1861, 1862, 1863, 1864, 1865, 1866, 1867, 1868, 1869, 1870, 1871, 1872, 1873, 1874, 1875, 1876, 1877, 1878, 1879, 1880, 1881, 1882, 1883, 1884, 1885, 1886, 1887, 1888, 1889, 1890, 1891, 1892, 1893, 1894, 1895, 1896, 1897, 1898, 1899, 1900, 1901, 1902, 1903, 1904, 1905, 1906, 1907, 1908, 1909, 1910, 1911, 1912, 1913, 1914, 1915, 1916, 1917, 1918, 1919, 1920, 1921, 1922, 1923, 1924, 1925, 1926, 1927, 1928, 1929, 1930, 1931, 1932, 1933, 1934, 1935, 1936, 1937, 1938, 1939, 1940, 1941, 1942, 1943, 1944, 1945, 1946, 1947, 1948, 1949, 1950, 1951, 1952, 1953, 1954, 1955, 1956, 1957, 1958, 1959, 1960, 1961, 1962, 1963, 1964, 1965, 1966, 1967, 1968, 1969, 1970, 1971, 1972, 1973, 1974, 1975, 1976, 1977, 1978, 1979, 1980, 1981, 1982, 1983, 1984, 1985, 1986, 1987, 1988, 1989, 1990, 1991, 1992, 1993, 1994, 1995, 1996, 1997, 1998, 1999, 2000, 2001, 2002, 2003, 2004, 2005, 2006, 2007, 2008, 2009, 2010, 2011, 2012, 2013], \"y\": [2.8339555873925457, 5.832955587392545, 5.773911174785091, 5.773911174785091, 5.773911174785091, 5.773911174785091, 5.773911174785091, 5.765955587392546, 5.773911174785091, 5.773911174785091, 5.763, 5.773911174785091, 5.294455587392546, 5.773911174785091, 4.784955587392545, 3.6285, 5.459, 4.990455587392546, 4.782455587392546, 5.653955587392547, 4.810955587392545, 5.773911174785091, 5.713955587392546, 5.8420000000000005, 4.869955587392546, 4.517000000000001, 4.9175, 5.644500000000001, 6.692000000000001, 6.7635000000000005, 6.9655000000000005, 6.901955587392546, 6.115500000000001, 5.604, 4.3825, 5.773911174785091, 6.883500000000001, 5.773911174785091, 5.5375, 6.0415, 4.969000000000001, 4.1855, 4.689, 5.797500000000001, 4.821, 7.2785, 4.5520000000000005, 5.0055000000000005, 5.404000000000001, 5.839499999999999, 6.053, 5.8995000000000015, 5.7890000000000015, 6.0975, 4.6715, 6.341000000000001, 5.888, 6.8325, 5.7945, 6.9305, 6.86, 6.022, 5.803500000000001, 5.094000000000001, 5.622, 5.568500000000002, 6.891, 5.473000000000001, 5.277000000000001, 4.333500000000001, 5.712, 5.152000000000001, 4.2765, 3.9755000000000007, 4.1605, 4.861500000000001, 4.782, 5.756, 4.1625000000000005, 5.236000000000001, 5.149000000000001, 5.0235, 6.6610000000000005, 5.258500000000001, 6.8795, 4.798, 5.884, 7.9405, 5.915500000000001, 6.0485, 6.420000000000002, 6.076500000000001, 5.8895, 3.2285000000000004, 4.223500000000001, 2.8360000000000007, 7.798, 6.335000000000001, 3.5630000000000006, 6.308000000000001, 4.2970000000000015, 6.82, 6.049000000000001, 5.886500000000001, 4.191000000000001, 5.391000000000001, 5.378500000000001, 4.153500000000001, 5.507000000000001, 5.162000000000001, 4.74, 6.1665, 5.361000000000001, 5.775500000000001, 3.2695000000000007, 6.409000000000001, 4.032500000000001, 5.276, 6.258000000000001, 5.367000000000001, 4.855, 4.574999999999999, 5.260000000000002, 7.131500000000001, 5.333, 3.1415000000000006, 3.6129999999999995, 7.3765, 7.0235, 5.2705, 4.5625, 4.152, 3.4030000000000005, 3.8835000000000006, 6.668000000000001, 8.777999999999999, 7.5920000000000005, 5.4115, 5.474000000000001, 5.9125, 4.168000000000001, 5.977, 4.471500000000001, 7.585, 4.442, 3.522500000000001, 4.6195, 6.075500000000001, 6.1965, 5.556000000000001, 5.8100000000000005, 7.291, 4.714500000000001, 6.476000000000001, 6.996, 6.259500000000001, 7.5794999999999995, 8.6765, 6.979500000000001, 6.3465, 6.7395, 4.201500000000001, 6.0120000000000005, 6.597000000000001, 3.4875000000000003, 6.5045, 4.526000000000001, 7.7675, 5.7555000000000005, 6.281000000000001, 7.440000000000001, 6.74, 8.4725, 6.5305, 3.8390000000000004, 6.806500000000001, 6.649, 6.5120000000000005, 8.286999999999999, 6.542000000000002, 5.3865, 6.3965, 4.899000000000001, 3.6205000000000003, 7.348500000000001, 6.102000000000002, 6.306500000000001, 5.921000000000001, 7.818, 5.878500000000002, 6.477, 5.503, 6.141, 4.7780000000000005, 5.286500000000002, 7.843, 5.609500000000001, 4.6245, 8.3895, 8.116500000000002, 4.28, 5.444500000000001, 7.216000000000001, 7.705500000000001, 6.2905, 7.2605, 7.989999999999999, 5.8475, 7.361000000000001, 6.297000000000001, 7.064000000000001, 7.593, 9.0, 6.2805, 7.051, 7.596500000000001, 6.625000000000001, 7.102500000000001, 6.747999999999999, 7.481, 7.854500000000001, 6.163500000000001, 4.523000000000001, 5.6555, 6.727, 8.6385, 7.0265, 7.695, 7.156, 3.8200000000000003, 8.1395, 6.496, 7.691, 6.0825, 7.132500000000001, 5.2940000000000005, 5.937500000000001, 5.643000000000001, 6.078000000000001, 6.24, 6.407000000000001, 8.091999999999999, 7.871, 7.6705000000000005, 7.214500000000001, 5.413500000000001, 6.2575, 7.663500000000001, 8.484, 5.3405000000000005, 6.080500000000001, 7.6385000000000005, 6.234, 5.6000000000000005, 6.15, 8.089500000000001, 7.271000000000001, 7.3455, 7.644000000000002, 6.459500000000001, 5.614000000000001, 7.370000000000001, 8.051, 7.162000000000001, 8.4895, 7.8615, 6.559000000000001, 8.948, 7.3165000000000004, 7.090500000000002, 13.818]}],                        {\"font\": {\"family\": \"sora\", \"size\": 11}, \"template\": {\"data\": {\"bar\": [{\"error_x\": {\"color\": \"#2a3f5f\"}, \"error_y\": {\"color\": \"#2a3f5f\"}, \"marker\": {\"line\": {\"color\": \"white\", \"width\": 0.5}}, \"type\": \"bar\"}], \"barpolar\": [{\"marker\": {\"line\": {\"color\": \"white\", \"width\": 0.5}}, \"type\": \"barpolar\"}], \"carpet\": [{\"aaxis\": {\"endlinecolor\": \"#2a3f5f\", \"gridcolor\": \"#C8D4E3\", \"linecolor\": \"#C8D4E3\", \"minorgridcolor\": \"#C8D4E3\", \"startlinecolor\": \"#2a3f5f\"}, \"baxis\": {\"endlinecolor\": \"#2a3f5f\", \"gridcolor\": \"#C8D4E3\", \"linecolor\": \"#C8D4E3\", \"minorgridcolor\": \"#C8D4E3\", \"startlinecolor\": \"#2a3f5f\"}, \"type\": \"carpet\"}], \"choropleth\": [{\"colorbar\": {\"outlinewidth\": 0, \"ticks\": \"\"}, \"type\": \"choropleth\"}], \"contour\": [{\"colorbar\": {\"outlinewidth\": 0, \"ticks\": \"\"}, \"colorscale\": [[0.0, \"#0d0887\"], [0.1111111111111111, \"#46039f\"], [0.2222222222222222, \"#7201a8\"], [0.3333333333333333, \"#9c179e\"], [0.4444444444444444, \"#bd3786\"], [0.5555555555555556, \"#d8576b\"], [0.6666666666666666, \"#ed7953\"], [0.7777777777777778, \"#fb9f3a\"], [0.8888888888888888, \"#fdca26\"], [1.0, \"#f0f921\"]], \"type\": \"contour\"}], \"contourcarpet\": [{\"colorbar\": {\"outlinewidth\": 0, \"ticks\": \"\"}, \"type\": \"contourcarpet\"}], \"heatmap\": [{\"colorbar\": {\"outlinewidth\": 0, \"ticks\": \"\"}, \"colorscale\": [[0.0, \"#0d0887\"], [0.1111111111111111, \"#46039f\"], [0.2222222222222222, \"#7201a8\"], [0.3333333333333333, \"#9c179e\"], [0.4444444444444444, \"#bd3786\"], [0.5555555555555556, \"#d8576b\"], [0.6666666666666666, \"#ed7953\"], [0.7777777777777778, \"#fb9f3a\"], [0.8888888888888888, \"#fdca26\"], [1.0, \"#f0f921\"]], \"type\": \"heatmap\"}], \"heatmapgl\": [{\"colorbar\": {\"outlinewidth\": 0, \"ticks\": \"\"}, \"colorscale\": [[0.0, \"#0d0887\"], [0.1111111111111111, \"#46039f\"], [0.2222222222222222, \"#7201a8\"], [0.3333333333333333, \"#9c179e\"], [0.4444444444444444, \"#bd3786\"], [0.5555555555555556, \"#d8576b\"], [0.6666666666666666, \"#ed7953\"], [0.7777777777777778, \"#fb9f3a\"], [0.8888888888888888, \"#fdca26\"], [1.0, \"#f0f921\"]], \"type\": \"heatmapgl\"}], \"histogram\": [{\"marker\": {\"colorbar\": {\"outlinewidth\": 0, \"ticks\": \"\"}}, \"type\": \"histogram\"}], \"histogram2d\": [{\"colorbar\": {\"outlinewidth\": 0, \"ticks\": \"\"}, \"colorscale\": [[0.0, \"#0d0887\"], [0.1111111111111111, \"#46039f\"], [0.2222222222222222, \"#7201a8\"], [0.3333333333333333, \"#9c179e\"], [0.4444444444444444, \"#bd3786\"], [0.5555555555555556, \"#d8576b\"], [0.6666666666666666, \"#ed7953\"], [0.7777777777777778, \"#fb9f3a\"], [0.8888888888888888, \"#fdca26\"], [1.0, \"#f0f921\"]], \"type\": \"histogram2d\"}], \"histogram2dcontour\": [{\"colorbar\": {\"outlinewidth\": 0, \"ticks\": \"\"}, \"colorscale\": [[0.0, \"#0d0887\"], [0.1111111111111111, \"#46039f\"], [0.2222222222222222, \"#7201a8\"], [0.3333333333333333, \"#9c179e\"], [0.4444444444444444, \"#bd3786\"], [0.5555555555555556, \"#d8576b\"], [0.6666666666666666, \"#ed7953\"], [0.7777777777777778, \"#fb9f3a\"], [0.8888888888888888, \"#fdca26\"], [1.0, \"#f0f921\"]], \"type\": \"histogram2dcontour\"}], \"mesh3d\": [{\"colorbar\": {\"outlinewidth\": 0, \"ticks\": \"\"}, \"type\": \"mesh3d\"}], \"parcoords\": [{\"line\": {\"colorbar\": {\"outlinewidth\": 0, \"ticks\": \"\"}}, \"type\": \"parcoords\"}], \"pie\": [{\"automargin\": true, \"type\": \"pie\"}], \"scatter\": [{\"marker\": {\"colorbar\": {\"outlinewidth\": 0, \"ticks\": \"\"}}, \"type\": \"scatter\"}], \"scatter3d\": [{\"line\": {\"colorbar\": {\"outlinewidth\": 0, \"ticks\": \"\"}}, \"marker\": {\"colorbar\": {\"outlinewidth\": 0, \"ticks\": \"\"}}, \"type\": \"scatter3d\"}], \"scattercarpet\": [{\"marker\": {\"colorbar\": {\"outlinewidth\": 0, \"ticks\": \"\"}}, \"type\": \"scattercarpet\"}], \"scattergeo\": [{\"marker\": {\"colorbar\": {\"outlinewidth\": 0, \"ticks\": \"\"}}, \"type\": \"scattergeo\"}], \"scattergl\": [{\"marker\": {\"colorbar\": {\"outlinewidth\": 0, \"ticks\": \"\"}}, \"type\": \"scattergl\"}], \"scattermapbox\": [{\"marker\": {\"colorbar\": {\"outlinewidth\": 0, \"ticks\": \"\"}}, \"type\": \"scattermapbox\"}], \"scatterpolar\": [{\"marker\": {\"colorbar\": {\"outlinewidth\": 0, \"ticks\": \"\"}}, \"type\": \"scatterpolar\"}], \"scatterpolargl\": [{\"marker\": {\"colorbar\": {\"outlinewidth\": 0, \"ticks\": \"\"}}, \"type\": \"scatterpolargl\"}], \"scatterternary\": [{\"marker\": {\"colorbar\": {\"outlinewidth\": 0, \"ticks\": \"\"}}, \"type\": \"scatterternary\"}], \"surface\": [{\"colorbar\": {\"outlinewidth\": 0, \"ticks\": \"\"}, \"colorscale\": [[0.0, \"#0d0887\"], [0.1111111111111111, \"#46039f\"], [0.2222222222222222, \"#7201a8\"], [0.3333333333333333, \"#9c179e\"], [0.4444444444444444, \"#bd3786\"], [0.5555555555555556, \"#d8576b\"], [0.6666666666666666, \"#ed7953\"], [0.7777777777777778, \"#fb9f3a\"], [0.8888888888888888, \"#fdca26\"], [1.0, \"#f0f921\"]], \"type\": \"surface\"}], \"table\": [{\"cells\": {\"fill\": {\"color\": \"#EBF0F8\"}, \"line\": {\"color\": \"white\"}}, \"header\": {\"fill\": {\"color\": \"#C8D4E3\"}, \"line\": {\"color\": \"white\"}}, \"type\": \"table\"}]}, \"layout\": {\"annotationdefaults\": {\"arrowcolor\": \"#2a3f5f\", \"arrowhead\": 0, \"arrowwidth\": 1}, \"autotypenumbers\": \"strict\", \"coloraxis\": {\"colorbar\": {\"outlinewidth\": 0, \"ticks\": \"\"}}, \"colorscale\": {\"diverging\": [[0, \"#8e0152\"], [0.1, \"#c51b7d\"], [0.2, \"#de77ae\"], [0.3, \"#f1b6da\"], [0.4, \"#fde0ef\"], [0.5, \"#f7f7f7\"], [0.6, \"#e6f5d0\"], [0.7, \"#b8e186\"], [0.8, \"#7fbc41\"], [0.9, \"#4d9221\"], [1, \"#276419\"]], \"sequential\": [[0.0, \"#0d0887\"], [0.1111111111111111, \"#46039f\"], [0.2222222222222222, \"#7201a8\"], [0.3333333333333333, \"#9c179e\"], [0.4444444444444444, \"#bd3786\"], [0.5555555555555556, \"#d8576b\"], [0.6666666666666666, \"#ed7953\"], [0.7777777777777778, \"#fb9f3a\"], [0.8888888888888888, \"#fdca26\"], [1.0, \"#f0f921\"]], \"sequentialminus\": [[0.0, \"#0d0887\"], [0.1111111111111111, \"#46039f\"], [0.2222222222222222, \"#7201a8\"], [0.3333333333333333, \"#9c179e\"], [0.4444444444444444, \"#bd3786\"], [0.5555555555555556, \"#d8576b\"], [0.6666666666666666, \"#ed7953\"], [0.7777777777777778, \"#fb9f3a\"], [0.8888888888888888, \"#fdca26\"], [1.0, \"#f0f921\"]]}, \"colorway\": [\"#636efa\", \"#EF553B\", \"#00cc96\", \"#ab63fa\", \"#FFA15A\", \"#19d3f3\", \"#FF6692\", \"#B6E880\", \"#FF97FF\", \"#FECB52\"], \"font\": {\"color\": \"#2a3f5f\"}, \"geo\": {\"bgcolor\": \"white\", \"lakecolor\": \"white\", \"landcolor\": \"white\", \"showlakes\": true, \"showland\": true, \"subunitcolor\": \"#C8D4E3\"}, \"hoverlabel\": {\"align\": \"left\"}, \"hovermode\": \"closest\", \"mapbox\": {\"style\": \"light\"}, \"paper_bgcolor\": \"white\", \"plot_bgcolor\": \"white\", \"polar\": {\"angularaxis\": {\"gridcolor\": \"#EBF0F8\", \"linecolor\": \"#EBF0F8\", \"ticks\": \"\"}, \"bgcolor\": \"white\", \"radialaxis\": {\"gridcolor\": \"#EBF0F8\", \"linecolor\": \"#EBF0F8\", \"ticks\": \"\"}}, \"scene\": {\"xaxis\": {\"backgroundcolor\": \"white\", \"gridcolor\": \"#DFE8F3\", \"gridwidth\": 2, \"linecolor\": \"#EBF0F8\", \"showbackground\": true, \"ticks\": \"\", \"zerolinecolor\": \"#EBF0F8\"}, \"yaxis\": {\"backgroundcolor\": \"white\", \"gridcolor\": \"#DFE8F3\", \"gridwidth\": 2, \"linecolor\": \"#EBF0F8\", \"showbackground\": true, \"ticks\": \"\", \"zerolinecolor\": \"#EBF0F8\"}, \"zaxis\": {\"backgroundcolor\": \"white\", \"gridcolor\": \"#DFE8F3\", \"gridwidth\": 2, \"linecolor\": \"#EBF0F8\", \"showbackground\": true, \"ticks\": \"\", \"zerolinecolor\": \"#EBF0F8\"}}, \"shapedefaults\": {\"line\": {\"color\": \"#2a3f5f\"}}, \"ternary\": {\"aaxis\": {\"gridcolor\": \"#DFE8F3\", \"linecolor\": \"#A2B1C6\", \"ticks\": \"\"}, \"baxis\": {\"gridcolor\": \"#DFE8F3\", \"linecolor\": \"#A2B1C6\", \"ticks\": \"\"}, \"bgcolor\": \"white\", \"caxis\": {\"gridcolor\": \"#DFE8F3\", \"linecolor\": \"#A2B1C6\", \"ticks\": \"\"}}, \"title\": {\"x\": 0.05}, \"xaxis\": {\"automargin\": true, \"gridcolor\": \"#EBF0F8\", \"linecolor\": \"#EBF0F8\", \"ticks\": \"\", \"title\": {\"standoff\": 15}, \"zerolinecolor\": \"#EBF0F8\", \"zerolinewidth\": 2}, \"yaxis\": {\"automargin\": true, \"gridcolor\": \"#EBF0F8\", \"linecolor\": \"#EBF0F8\", \"ticks\": \"\", \"title\": {\"standoff\": 15}, \"zerolinecolor\": \"#EBF0F8\", \"zerolinewidth\": 2}}}, \"title\": {\"text\": \"Monthly Average Temperature Recorded in Toronto\", \"x\": 0.5}, \"xaxis\": {\"title\": {\"text\": \"Months\"}}, \"yaxis\": {\"title\": {\"text\": \"Temperature C\"}}},                        {\"responsive\": true}                    ).then(function(){\n",
       "                            \n",
       "var gd = document.getElementById('b458ec3d-0caa-449f-a0e1-548d7e0ce484');\n",
       "var x = new MutationObserver(function (mutations, observer) {{\n",
       "        var display = window.getComputedStyle(gd).display;\n",
       "        if (!display || display === 'none') {{\n",
       "            console.log([gd, 'removed!']);\n",
       "            Plotly.purge(gd);\n",
       "            observer.disconnect();\n",
       "        }}\n",
       "}});\n",
       "\n",
       "// Listen for the removal of the full notebook cells\n",
       "var notebookContainer = gd.closest('#notebook-container');\n",
       "if (notebookContainer) {{\n",
       "    x.observe(notebookContainer, {childList: true});\n",
       "}}\n",
       "\n",
       "// Listen for the clearing of the current output cell\n",
       "var outputEl = gd.closest('.output');\n",
       "if (outputEl) {{\n",
       "    x.observe(outputEl, {childList: true});\n",
       "}}\n",
       "\n",
       "                        })                };                });            </script>        </div>"
      ]
     },
     "metadata": {},
     "output_type": "display_data"
    }
   ],
   "source": [
    "plotlychart(toronty,cityname='Toronto',sequence='Yearly')"
   ]
  },
  {
   "cell_type": "code",
   "execution_count": 85,
   "id": "streaming-webmaster",
   "metadata": {
    "scrolled": false
   },
   "outputs": [
    {
     "data": {
      "application/vnd.plotly.v1+json": {
       "config": {
        "plotlyServerURL": "https://plot.ly"
       },
       "data": [
        {
         "line": {
          "color": "dodgerblue",
          "width": 2
         },
         "mode": "lines",
         "name": "Average",
         "type": "scatter",
         "x": [
          1743,
          1744,
          1745,
          1746,
          1747,
          1748,
          1749,
          1750,
          1751,
          1752,
          1753,
          1754,
          1755,
          1756,
          1757,
          1758,
          1759,
          1760,
          1761,
          1762,
          1763,
          1764,
          1765,
          1766,
          1767,
          1768,
          1769,
          1770,
          1771,
          1772,
          1773,
          1774,
          1775,
          1776,
          1777,
          1778,
          1779,
          1780,
          1781,
          1782,
          1783,
          1784,
          1785,
          1786,
          1787,
          1788,
          1789,
          1790,
          1791,
          1792,
          1793,
          1794,
          1795,
          1796,
          1797,
          1798,
          1799,
          1800,
          1801,
          1802,
          1803,
          1804,
          1805,
          1806,
          1807,
          1808,
          1809,
          1810,
          1811,
          1812,
          1813,
          1814,
          1815,
          1816,
          1817,
          1818,
          1819,
          1820,
          1821,
          1822,
          1823,
          1824,
          1825,
          1826,
          1827,
          1828,
          1829,
          1830,
          1831,
          1832,
          1833,
          1834,
          1835,
          1836,
          1837,
          1838,
          1839,
          1840,
          1841,
          1842,
          1843,
          1844,
          1845,
          1846,
          1847,
          1848,
          1849,
          1850,
          1851,
          1852,
          1853,
          1854,
          1855,
          1856,
          1857,
          1858,
          1859,
          1860,
          1861,
          1862,
          1863,
          1864,
          1865,
          1866,
          1867,
          1868,
          1869,
          1870,
          1871,
          1872,
          1873,
          1874,
          1875,
          1876,
          1877,
          1878,
          1879,
          1880,
          1881,
          1882,
          1883,
          1884,
          1885,
          1886,
          1887,
          1888,
          1889,
          1890,
          1891,
          1892,
          1893,
          1894,
          1895,
          1896,
          1897,
          1898,
          1899,
          1900,
          1901,
          1902,
          1903,
          1904,
          1905,
          1906,
          1907,
          1908,
          1909,
          1910,
          1911,
          1912,
          1913,
          1914,
          1915,
          1916,
          1917,
          1918,
          1919,
          1920,
          1921,
          1922,
          1923,
          1924,
          1925,
          1926,
          1927,
          1928,
          1929,
          1930,
          1931,
          1932,
          1933,
          1934,
          1935,
          1936,
          1937,
          1938,
          1939,
          1940,
          1941,
          1942,
          1943,
          1944,
          1945,
          1946,
          1947,
          1948,
          1949,
          1950,
          1951,
          1952,
          1953,
          1954,
          1955,
          1956,
          1957,
          1958,
          1959,
          1960,
          1961,
          1962,
          1963,
          1964,
          1965,
          1966,
          1967,
          1968,
          1969,
          1970,
          1971,
          1972,
          1973,
          1974,
          1975,
          1976,
          1977,
          1978,
          1979,
          1980,
          1981,
          1982,
          1983,
          1984,
          1985,
          1986,
          1987,
          1988,
          1989,
          1990,
          1991,
          1992,
          1993,
          1994,
          1995,
          1996,
          1997,
          1998,
          1999,
          2000,
          2001,
          2002,
          2003,
          2004,
          2005,
          2006,
          2007,
          2008,
          2009,
          2010,
          2011,
          2012,
          2013
         ],
         "y": [
          1.5911544094237513,
          1.71,
          1.2773088188475026,
          1.2773088188475026,
          1.2773088188475026,
          1.2773088188475026,
          1.2773088188475026,
          1.681,
          1.3965,
          1.4466544094237515,
          3.132,
          2.3245,
          3.3099999999999996,
          2.2645,
          2.942,
          3.843,
          3.739,
          3.0365,
          2.1685,
          2.648,
          2.2125,
          2.3615,
          2.3445,
          2.7615,
          2.7525000000000004,
          3.3985000000000003,
          3.4645,
          3.482,
          2.447,
          2.7645,
          2.2489999999999997,
          2.8529999999999998,
          2.0445,
          2.4829999999999997,
          2.076,
          2.482,
          2.5920000000000005,
          2.4275,
          2.6325000000000003,
          3.0564999999999998,
          2.6535,
          2.7795000000000005,
          2.9135,
          2.739,
          3.164,
          2.5115,
          2.534,
          2.535,
          2.397,
          2.4785,
          3.4305000000000003,
          2.81,
          2.489,
          2.8505000000000003,
          2.5460000000000003,
          2.615,
          2.608,
          2.7840000000000003,
          2.1265,
          2.4245,
          2.474,
          2.4585,
          2.3685,
          2.395,
          2.3265,
          2.3355,
          3.2065,
          3.3275,
          3.3585000000000003,
          2.4385,
          2.2750000000000004,
          2.3715,
          2.646,
          2.5235000000000003,
          2.6315,
          2.7030000000000003,
          2.1635,
          1.654,
          2.1365,
          1.656,
          1.6360000000000001,
          2.037,
          1.6524999999999999,
          1.7970000000000002,
          1.941,
          2.1165000000000003,
          2.2155,
          2.8795,
          2.152,
          2.4195,
          1.6909999999999998,
          1.8915,
          1.8325,
          1.8905,
          1.7145000000000001,
          2.1229999999999998,
          1.6055000000000001,
          1.4865,
          1.3984999999999999,
          1.6425,
          1.6059999999999999,
          1.2245,
          1.2955,
          1.5115,
          1.397,
          1.3485,
          1.316,
          1.5270000000000001,
          1.392,
          1.3924999999999998,
          1.2429999999999999,
          1.352,
          1.3775,
          1.4609999999999999,
          1.0665,
          1.178,
          1.2035,
          1.0375,
          1.005,
          1.255,
          1.244,
          1.052,
          1.0339999999999998,
          0.849,
          0.94,
          0.8815,
          1.1315,
          0.94,
          0.8089999999999999,
          0.9259999999999999,
          0.7875000000000001,
          0.688,
          0.6015,
          0.788,
          0.956,
          0.713,
          0.6655,
          0.6375,
          0.5555000000000001,
          0.46799999999999997,
          0.3725,
          0.5145,
          0.516,
          0.5614999999999999,
          0.6285,
          0.554,
          0.377,
          0.474,
          0.3989999999999999,
          0.453,
          0.4155,
          0.4754999999999999,
          0.3305,
          0.3835,
          0.4575,
          0.46499999999999997,
          0.498,
          0.5149999999999999,
          0.4385,
          0.38749999999999996,
          0.46249999999999997,
          0.31899999999999995,
          0.3695,
          0.36949999999999994,
          0.3534999999999999,
          0.3414999999999999,
          0.4085,
          0.32299999999999995,
          0.35250000000000004,
          0.29500000000000004,
          0.34199999999999997,
          0.32999999999999996,
          0.325,
          0.3504999999999999,
          0.37649999999999995,
          0.38649999999999995,
          0.35949999999999993,
          0.4105,
          0.4115,
          0.3705,
          0.3309999999999999,
          0.31899999999999995,
          0.29200000000000004,
          0.2995,
          0.2799999999999999,
          0.2865,
          0.2405,
          0.225,
          0.33299999999999996,
          0.28600000000000003,
          0.2495,
          0.2945,
          0.29600000000000004,
          0.26,
          0.316,
          0.244,
          0.22449999999999995,
          0.222,
          0.313,
          0.1979999999999999,
          0.2825,
          0.2855,
          0.2675,
          0.2845,
          0.262,
          0.23499999999999993,
          0.209,
          0.2304999999999999,
          0.3405,
          0.22749999999999998,
          0.2085,
          0.2855,
          0.27949999999999997,
          0.2815,
          0.3625,
          0.31999999999999995,
          0.27999999999999997,
          0.26,
          0.2585,
          0.309,
          0.28700000000000003,
          0.28200000000000003,
          0.2855,
          0.26699999999999996,
          0.2535,
          0.23199999999999993,
          0.2465,
          0.2525,
          0.249,
          0.274,
          0.249,
          0.24749999999999994,
          0.25349999999999995,
          0.2585,
          0.2525,
          0.2965,
          0.2475,
          0.2075,
          0.252,
          0.26549999999999996,
          0.19399999999999995,
          0.21599999999999994,
          0.22399999999999995,
          0.2329999999999999,
          0.202,
          0.2395,
          0.21399999999999997,
          0.25,
          0.219,
          0.259,
          0.187,
          0.23099999999999998,
          0.239,
          0.19249999999999995,
          0.2525,
          0.215,
          0.2215,
          0.211,
          0.19699999999999995,
          0.2105,
          0.2945,
          0.20950000000000002,
          0.20699999999999996,
          0.22199999999999995,
          0.20149999999999996,
          0.18749999999999994,
          0.249,
          0.2265,
          0.257,
          0.26949999999999996,
          0.318
         ]
        }
       ],
       "layout": {
        "font": {
         "family": "sora",
         "size": 11
        },
        "template": {
         "data": {
          "bar": [
           {
            "error_x": {
             "color": "#2a3f5f"
            },
            "error_y": {
             "color": "#2a3f5f"
            },
            "marker": {
             "line": {
              "color": "white",
              "width": 0.5
             }
            },
            "type": "bar"
           }
          ],
          "barpolar": [
           {
            "marker": {
             "line": {
              "color": "white",
              "width": 0.5
             }
            },
            "type": "barpolar"
           }
          ],
          "carpet": [
           {
            "aaxis": {
             "endlinecolor": "#2a3f5f",
             "gridcolor": "#C8D4E3",
             "linecolor": "#C8D4E3",
             "minorgridcolor": "#C8D4E3",
             "startlinecolor": "#2a3f5f"
            },
            "baxis": {
             "endlinecolor": "#2a3f5f",
             "gridcolor": "#C8D4E3",
             "linecolor": "#C8D4E3",
             "minorgridcolor": "#C8D4E3",
             "startlinecolor": "#2a3f5f"
            },
            "type": "carpet"
           }
          ],
          "choropleth": [
           {
            "colorbar": {
             "outlinewidth": 0,
             "ticks": ""
            },
            "type": "choropleth"
           }
          ],
          "contour": [
           {
            "colorbar": {
             "outlinewidth": 0,
             "ticks": ""
            },
            "colorscale": [
             [
              0,
              "#0d0887"
             ],
             [
              0.1111111111111111,
              "#46039f"
             ],
             [
              0.2222222222222222,
              "#7201a8"
             ],
             [
              0.3333333333333333,
              "#9c179e"
             ],
             [
              0.4444444444444444,
              "#bd3786"
             ],
             [
              0.5555555555555556,
              "#d8576b"
             ],
             [
              0.6666666666666666,
              "#ed7953"
             ],
             [
              0.7777777777777778,
              "#fb9f3a"
             ],
             [
              0.8888888888888888,
              "#fdca26"
             ],
             [
              1,
              "#f0f921"
             ]
            ],
            "type": "contour"
           }
          ],
          "contourcarpet": [
           {
            "colorbar": {
             "outlinewidth": 0,
             "ticks": ""
            },
            "type": "contourcarpet"
           }
          ],
          "heatmap": [
           {
            "colorbar": {
             "outlinewidth": 0,
             "ticks": ""
            },
            "colorscale": [
             [
              0,
              "#0d0887"
             ],
             [
              0.1111111111111111,
              "#46039f"
             ],
             [
              0.2222222222222222,
              "#7201a8"
             ],
             [
              0.3333333333333333,
              "#9c179e"
             ],
             [
              0.4444444444444444,
              "#bd3786"
             ],
             [
              0.5555555555555556,
              "#d8576b"
             ],
             [
              0.6666666666666666,
              "#ed7953"
             ],
             [
              0.7777777777777778,
              "#fb9f3a"
             ],
             [
              0.8888888888888888,
              "#fdca26"
             ],
             [
              1,
              "#f0f921"
             ]
            ],
            "type": "heatmap"
           }
          ],
          "heatmapgl": [
           {
            "colorbar": {
             "outlinewidth": 0,
             "ticks": ""
            },
            "colorscale": [
             [
              0,
              "#0d0887"
             ],
             [
              0.1111111111111111,
              "#46039f"
             ],
             [
              0.2222222222222222,
              "#7201a8"
             ],
             [
              0.3333333333333333,
              "#9c179e"
             ],
             [
              0.4444444444444444,
              "#bd3786"
             ],
             [
              0.5555555555555556,
              "#d8576b"
             ],
             [
              0.6666666666666666,
              "#ed7953"
             ],
             [
              0.7777777777777778,
              "#fb9f3a"
             ],
             [
              0.8888888888888888,
              "#fdca26"
             ],
             [
              1,
              "#f0f921"
             ]
            ],
            "type": "heatmapgl"
           }
          ],
          "histogram": [
           {
            "marker": {
             "colorbar": {
              "outlinewidth": 0,
              "ticks": ""
             }
            },
            "type": "histogram"
           }
          ],
          "histogram2d": [
           {
            "colorbar": {
             "outlinewidth": 0,
             "ticks": ""
            },
            "colorscale": [
             [
              0,
              "#0d0887"
             ],
             [
              0.1111111111111111,
              "#46039f"
             ],
             [
              0.2222222222222222,
              "#7201a8"
             ],
             [
              0.3333333333333333,
              "#9c179e"
             ],
             [
              0.4444444444444444,
              "#bd3786"
             ],
             [
              0.5555555555555556,
              "#d8576b"
             ],
             [
              0.6666666666666666,
              "#ed7953"
             ],
             [
              0.7777777777777778,
              "#fb9f3a"
             ],
             [
              0.8888888888888888,
              "#fdca26"
             ],
             [
              1,
              "#f0f921"
             ]
            ],
            "type": "histogram2d"
           }
          ],
          "histogram2dcontour": [
           {
            "colorbar": {
             "outlinewidth": 0,
             "ticks": ""
            },
            "colorscale": [
             [
              0,
              "#0d0887"
             ],
             [
              0.1111111111111111,
              "#46039f"
             ],
             [
              0.2222222222222222,
              "#7201a8"
             ],
             [
              0.3333333333333333,
              "#9c179e"
             ],
             [
              0.4444444444444444,
              "#bd3786"
             ],
             [
              0.5555555555555556,
              "#d8576b"
             ],
             [
              0.6666666666666666,
              "#ed7953"
             ],
             [
              0.7777777777777778,
              "#fb9f3a"
             ],
             [
              0.8888888888888888,
              "#fdca26"
             ],
             [
              1,
              "#f0f921"
             ]
            ],
            "type": "histogram2dcontour"
           }
          ],
          "mesh3d": [
           {
            "colorbar": {
             "outlinewidth": 0,
             "ticks": ""
            },
            "type": "mesh3d"
           }
          ],
          "parcoords": [
           {
            "line": {
             "colorbar": {
              "outlinewidth": 0,
              "ticks": ""
             }
            },
            "type": "parcoords"
           }
          ],
          "pie": [
           {
            "automargin": true,
            "type": "pie"
           }
          ],
          "scatter": [
           {
            "marker": {
             "colorbar": {
              "outlinewidth": 0,
              "ticks": ""
             }
            },
            "type": "scatter"
           }
          ],
          "scatter3d": [
           {
            "line": {
             "colorbar": {
              "outlinewidth": 0,
              "ticks": ""
             }
            },
            "marker": {
             "colorbar": {
              "outlinewidth": 0,
              "ticks": ""
             }
            },
            "type": "scatter3d"
           }
          ],
          "scattercarpet": [
           {
            "marker": {
             "colorbar": {
              "outlinewidth": 0,
              "ticks": ""
             }
            },
            "type": "scattercarpet"
           }
          ],
          "scattergeo": [
           {
            "marker": {
             "colorbar": {
              "outlinewidth": 0,
              "ticks": ""
             }
            },
            "type": "scattergeo"
           }
          ],
          "scattergl": [
           {
            "marker": {
             "colorbar": {
              "outlinewidth": 0,
              "ticks": ""
             }
            },
            "type": "scattergl"
           }
          ],
          "scattermapbox": [
           {
            "marker": {
             "colorbar": {
              "outlinewidth": 0,
              "ticks": ""
             }
            },
            "type": "scattermapbox"
           }
          ],
          "scatterpolar": [
           {
            "marker": {
             "colorbar": {
              "outlinewidth": 0,
              "ticks": ""
             }
            },
            "type": "scatterpolar"
           }
          ],
          "scatterpolargl": [
           {
            "marker": {
             "colorbar": {
              "outlinewidth": 0,
              "ticks": ""
             }
            },
            "type": "scatterpolargl"
           }
          ],
          "scatterternary": [
           {
            "marker": {
             "colorbar": {
              "outlinewidth": 0,
              "ticks": ""
             }
            },
            "type": "scatterternary"
           }
          ],
          "surface": [
           {
            "colorbar": {
             "outlinewidth": 0,
             "ticks": ""
            },
            "colorscale": [
             [
              0,
              "#0d0887"
             ],
             [
              0.1111111111111111,
              "#46039f"
             ],
             [
              0.2222222222222222,
              "#7201a8"
             ],
             [
              0.3333333333333333,
              "#9c179e"
             ],
             [
              0.4444444444444444,
              "#bd3786"
             ],
             [
              0.5555555555555556,
              "#d8576b"
             ],
             [
              0.6666666666666666,
              "#ed7953"
             ],
             [
              0.7777777777777778,
              "#fb9f3a"
             ],
             [
              0.8888888888888888,
              "#fdca26"
             ],
             [
              1,
              "#f0f921"
             ]
            ],
            "type": "surface"
           }
          ],
          "table": [
           {
            "cells": {
             "fill": {
              "color": "#EBF0F8"
             },
             "line": {
              "color": "white"
             }
            },
            "header": {
             "fill": {
              "color": "#C8D4E3"
             },
             "line": {
              "color": "white"
             }
            },
            "type": "table"
           }
          ]
         },
         "layout": {
          "annotationdefaults": {
           "arrowcolor": "#2a3f5f",
           "arrowhead": 0,
           "arrowwidth": 1
          },
          "autotypenumbers": "strict",
          "coloraxis": {
           "colorbar": {
            "outlinewidth": 0,
            "ticks": ""
           }
          },
          "colorscale": {
           "diverging": [
            [
             0,
             "#8e0152"
            ],
            [
             0.1,
             "#c51b7d"
            ],
            [
             0.2,
             "#de77ae"
            ],
            [
             0.3,
             "#f1b6da"
            ],
            [
             0.4,
             "#fde0ef"
            ],
            [
             0.5,
             "#f7f7f7"
            ],
            [
             0.6,
             "#e6f5d0"
            ],
            [
             0.7,
             "#b8e186"
            ],
            [
             0.8,
             "#7fbc41"
            ],
            [
             0.9,
             "#4d9221"
            ],
            [
             1,
             "#276419"
            ]
           ],
           "sequential": [
            [
             0,
             "#0d0887"
            ],
            [
             0.1111111111111111,
             "#46039f"
            ],
            [
             0.2222222222222222,
             "#7201a8"
            ],
            [
             0.3333333333333333,
             "#9c179e"
            ],
            [
             0.4444444444444444,
             "#bd3786"
            ],
            [
             0.5555555555555556,
             "#d8576b"
            ],
            [
             0.6666666666666666,
             "#ed7953"
            ],
            [
             0.7777777777777778,
             "#fb9f3a"
            ],
            [
             0.8888888888888888,
             "#fdca26"
            ],
            [
             1,
             "#f0f921"
            ]
           ],
           "sequentialminus": [
            [
             0,
             "#0d0887"
            ],
            [
             0.1111111111111111,
             "#46039f"
            ],
            [
             0.2222222222222222,
             "#7201a8"
            ],
            [
             0.3333333333333333,
             "#9c179e"
            ],
            [
             0.4444444444444444,
             "#bd3786"
            ],
            [
             0.5555555555555556,
             "#d8576b"
            ],
            [
             0.6666666666666666,
             "#ed7953"
            ],
            [
             0.7777777777777778,
             "#fb9f3a"
            ],
            [
             0.8888888888888888,
             "#fdca26"
            ],
            [
             1,
             "#f0f921"
            ]
           ]
          },
          "colorway": [
           "#636efa",
           "#EF553B",
           "#00cc96",
           "#ab63fa",
           "#FFA15A",
           "#19d3f3",
           "#FF6692",
           "#B6E880",
           "#FF97FF",
           "#FECB52"
          ],
          "font": {
           "color": "#2a3f5f"
          },
          "geo": {
           "bgcolor": "white",
           "lakecolor": "white",
           "landcolor": "white",
           "showlakes": true,
           "showland": true,
           "subunitcolor": "#C8D4E3"
          },
          "hoverlabel": {
           "align": "left"
          },
          "hovermode": "closest",
          "mapbox": {
           "style": "light"
          },
          "paper_bgcolor": "white",
          "plot_bgcolor": "white",
          "polar": {
           "angularaxis": {
            "gridcolor": "#EBF0F8",
            "linecolor": "#EBF0F8",
            "ticks": ""
           },
           "bgcolor": "white",
           "radialaxis": {
            "gridcolor": "#EBF0F8",
            "linecolor": "#EBF0F8",
            "ticks": ""
           }
          },
          "scene": {
           "xaxis": {
            "backgroundcolor": "white",
            "gridcolor": "#DFE8F3",
            "gridwidth": 2,
            "linecolor": "#EBF0F8",
            "showbackground": true,
            "ticks": "",
            "zerolinecolor": "#EBF0F8"
           },
           "yaxis": {
            "backgroundcolor": "white",
            "gridcolor": "#DFE8F3",
            "gridwidth": 2,
            "linecolor": "#EBF0F8",
            "showbackground": true,
            "ticks": "",
            "zerolinecolor": "#EBF0F8"
           },
           "zaxis": {
            "backgroundcolor": "white",
            "gridcolor": "#DFE8F3",
            "gridwidth": 2,
            "linecolor": "#EBF0F8",
            "showbackground": true,
            "ticks": "",
            "zerolinecolor": "#EBF0F8"
           }
          },
          "shapedefaults": {
           "line": {
            "color": "#2a3f5f"
           }
          },
          "ternary": {
           "aaxis": {
            "gridcolor": "#DFE8F3",
            "linecolor": "#A2B1C6",
            "ticks": ""
           },
           "baxis": {
            "gridcolor": "#DFE8F3",
            "linecolor": "#A2B1C6",
            "ticks": ""
           },
           "bgcolor": "white",
           "caxis": {
            "gridcolor": "#DFE8F3",
            "linecolor": "#A2B1C6",
            "ticks": ""
           }
          },
          "title": {
           "x": 0.05
          },
          "xaxis": {
           "automargin": true,
           "gridcolor": "#EBF0F8",
           "linecolor": "#EBF0F8",
           "ticks": "",
           "title": {
            "standoff": 15
           },
           "zerolinecolor": "#EBF0F8",
           "zerolinewidth": 2
          },
          "yaxis": {
           "automargin": true,
           "gridcolor": "#EBF0F8",
           "linecolor": "#EBF0F8",
           "ticks": "",
           "title": {
            "standoff": 15
           },
           "zerolinecolor": "#EBF0F8",
           "zerolinewidth": 2
          }
         }
        },
        "title": {
         "text": "Monthly Average Temperature Uncertainty (Δ T) Recorded in Toronto",
         "x": 0.5
        },
        "xaxis": {
         "title": {
          "text": "Months"
         }
        },
        "yaxis": {
         "title": {
          "text": "Temperature C"
         }
        }
       }
      },
      "text/html": [
       "<div>                            <div id=\"dd8c8af7-4107-4405-81cc-3d3eab3c7482\" class=\"plotly-graph-div\" style=\"height:525px; width:100%;\"></div>            <script type=\"text/javascript\">                require([\"plotly\"], function(Plotly) {                    window.PLOTLYENV=window.PLOTLYENV || {};                                    if (document.getElementById(\"dd8c8af7-4107-4405-81cc-3d3eab3c7482\")) {                    Plotly.newPlot(                        \"dd8c8af7-4107-4405-81cc-3d3eab3c7482\",                        [{\"line\": {\"color\": \"dodgerblue\", \"width\": 2}, \"mode\": \"lines\", \"name\": \"Average\", \"type\": \"scatter\", \"x\": [1743, 1744, 1745, 1746, 1747, 1748, 1749, 1750, 1751, 1752, 1753, 1754, 1755, 1756, 1757, 1758, 1759, 1760, 1761, 1762, 1763, 1764, 1765, 1766, 1767, 1768, 1769, 1770, 1771, 1772, 1773, 1774, 1775, 1776, 1777, 1778, 1779, 1780, 1781, 1782, 1783, 1784, 1785, 1786, 1787, 1788, 1789, 1790, 1791, 1792, 1793, 1794, 1795, 1796, 1797, 1798, 1799, 1800, 1801, 1802, 1803, 1804, 1805, 1806, 1807, 1808, 1809, 1810, 1811, 1812, 1813, 1814, 1815, 1816, 1817, 1818, 1819, 1820, 1821, 1822, 1823, 1824, 1825, 1826, 1827, 1828, 1829, 1830, 1831, 1832, 1833, 1834, 1835, 1836, 1837, 1838, 1839, 1840, 1841, 1842, 1843, 1844, 1845, 1846, 1847, 1848, 1849, 1850, 1851, 1852, 1853, 1854, 1855, 1856, 1857, 1858, 1859, 1860, 1861, 1862, 1863, 1864, 1865, 1866, 1867, 1868, 1869, 1870, 1871, 1872, 1873, 1874, 1875, 1876, 1877, 1878, 1879, 1880, 1881, 1882, 1883, 1884, 1885, 1886, 1887, 1888, 1889, 1890, 1891, 1892, 1893, 1894, 1895, 1896, 1897, 1898, 1899, 1900, 1901, 1902, 1903, 1904, 1905, 1906, 1907, 1908, 1909, 1910, 1911, 1912, 1913, 1914, 1915, 1916, 1917, 1918, 1919, 1920, 1921, 1922, 1923, 1924, 1925, 1926, 1927, 1928, 1929, 1930, 1931, 1932, 1933, 1934, 1935, 1936, 1937, 1938, 1939, 1940, 1941, 1942, 1943, 1944, 1945, 1946, 1947, 1948, 1949, 1950, 1951, 1952, 1953, 1954, 1955, 1956, 1957, 1958, 1959, 1960, 1961, 1962, 1963, 1964, 1965, 1966, 1967, 1968, 1969, 1970, 1971, 1972, 1973, 1974, 1975, 1976, 1977, 1978, 1979, 1980, 1981, 1982, 1983, 1984, 1985, 1986, 1987, 1988, 1989, 1990, 1991, 1992, 1993, 1994, 1995, 1996, 1997, 1998, 1999, 2000, 2001, 2002, 2003, 2004, 2005, 2006, 2007, 2008, 2009, 2010, 2011, 2012, 2013], \"y\": [1.5911544094237513, 1.71, 1.2773088188475026, 1.2773088188475026, 1.2773088188475026, 1.2773088188475026, 1.2773088188475026, 1.681, 1.3965, 1.4466544094237515, 3.132, 2.3245, 3.3099999999999996, 2.2645, 2.942, 3.843, 3.739, 3.0365, 2.1685, 2.648, 2.2125, 2.3615, 2.3445, 2.7615, 2.7525000000000004, 3.3985000000000003, 3.4645, 3.482, 2.447, 2.7645, 2.2489999999999997, 2.8529999999999998, 2.0445, 2.4829999999999997, 2.076, 2.482, 2.5920000000000005, 2.4275, 2.6325000000000003, 3.0564999999999998, 2.6535, 2.7795000000000005, 2.9135, 2.739, 3.164, 2.5115, 2.534, 2.535, 2.397, 2.4785, 3.4305000000000003, 2.81, 2.489, 2.8505000000000003, 2.5460000000000003, 2.615, 2.608, 2.7840000000000003, 2.1265, 2.4245, 2.474, 2.4585, 2.3685, 2.395, 2.3265, 2.3355, 3.2065, 3.3275, 3.3585000000000003, 2.4385, 2.2750000000000004, 2.3715, 2.646, 2.5235000000000003, 2.6315, 2.7030000000000003, 2.1635, 1.654, 2.1365, 1.656, 1.6360000000000001, 2.037, 1.6524999999999999, 1.7970000000000002, 1.941, 2.1165000000000003, 2.2155, 2.8795, 2.152, 2.4195, 1.6909999999999998, 1.8915, 1.8325, 1.8905, 1.7145000000000001, 2.1229999999999998, 1.6055000000000001, 1.4865, 1.3984999999999999, 1.6425, 1.6059999999999999, 1.2245, 1.2955, 1.5115, 1.397, 1.3485, 1.316, 1.5270000000000001, 1.392, 1.3924999999999998, 1.2429999999999999, 1.352, 1.3775, 1.4609999999999999, 1.0665, 1.178, 1.2035, 1.0375, 1.005, 1.255, 1.244, 1.052, 1.0339999999999998, 0.849, 0.94, 0.8815, 1.1315, 0.94, 0.8089999999999999, 0.9259999999999999, 0.7875000000000001, 0.688, 0.6015, 0.788, 0.956, 0.713, 0.6655, 0.6375, 0.5555000000000001, 0.46799999999999997, 0.3725, 0.5145, 0.516, 0.5614999999999999, 0.6285, 0.554, 0.377, 0.474, 0.3989999999999999, 0.453, 0.4155, 0.4754999999999999, 0.3305, 0.3835, 0.4575, 0.46499999999999997, 0.498, 0.5149999999999999, 0.4385, 0.38749999999999996, 0.46249999999999997, 0.31899999999999995, 0.3695, 0.36949999999999994, 0.3534999999999999, 0.3414999999999999, 0.4085, 0.32299999999999995, 0.35250000000000004, 0.29500000000000004, 0.34199999999999997, 0.32999999999999996, 0.325, 0.3504999999999999, 0.37649999999999995, 0.38649999999999995, 0.35949999999999993, 0.4105, 0.4115, 0.3705, 0.3309999999999999, 0.31899999999999995, 0.29200000000000004, 0.2995, 0.2799999999999999, 0.2865, 0.2405, 0.225, 0.33299999999999996, 0.28600000000000003, 0.2495, 0.2945, 0.29600000000000004, 0.26, 0.316, 0.244, 0.22449999999999995, 0.222, 0.313, 0.1979999999999999, 0.2825, 0.2855, 0.2675, 0.2845, 0.262, 0.23499999999999993, 0.209, 0.2304999999999999, 0.3405, 0.22749999999999998, 0.2085, 0.2855, 0.27949999999999997, 0.2815, 0.3625, 0.31999999999999995, 0.27999999999999997, 0.26, 0.2585, 0.309, 0.28700000000000003, 0.28200000000000003, 0.2855, 0.26699999999999996, 0.2535, 0.23199999999999993, 0.2465, 0.2525, 0.249, 0.274, 0.249, 0.24749999999999994, 0.25349999999999995, 0.2585, 0.2525, 0.2965, 0.2475, 0.2075, 0.252, 0.26549999999999996, 0.19399999999999995, 0.21599999999999994, 0.22399999999999995, 0.2329999999999999, 0.202, 0.2395, 0.21399999999999997, 0.25, 0.219, 0.259, 0.187, 0.23099999999999998, 0.239, 0.19249999999999995, 0.2525, 0.215, 0.2215, 0.211, 0.19699999999999995, 0.2105, 0.2945, 0.20950000000000002, 0.20699999999999996, 0.22199999999999995, 0.20149999999999996, 0.18749999999999994, 0.249, 0.2265, 0.257, 0.26949999999999996, 0.318]}],                        {\"font\": {\"family\": \"sora\", \"size\": 11}, \"template\": {\"data\": {\"bar\": [{\"error_x\": {\"color\": \"#2a3f5f\"}, \"error_y\": {\"color\": \"#2a3f5f\"}, \"marker\": {\"line\": {\"color\": \"white\", \"width\": 0.5}}, \"type\": \"bar\"}], \"barpolar\": [{\"marker\": {\"line\": {\"color\": \"white\", \"width\": 0.5}}, \"type\": \"barpolar\"}], \"carpet\": [{\"aaxis\": {\"endlinecolor\": \"#2a3f5f\", \"gridcolor\": \"#C8D4E3\", \"linecolor\": \"#C8D4E3\", \"minorgridcolor\": \"#C8D4E3\", \"startlinecolor\": \"#2a3f5f\"}, \"baxis\": {\"endlinecolor\": \"#2a3f5f\", \"gridcolor\": \"#C8D4E3\", \"linecolor\": \"#C8D4E3\", \"minorgridcolor\": \"#C8D4E3\", \"startlinecolor\": \"#2a3f5f\"}, \"type\": \"carpet\"}], \"choropleth\": [{\"colorbar\": {\"outlinewidth\": 0, \"ticks\": \"\"}, \"type\": \"choropleth\"}], \"contour\": [{\"colorbar\": {\"outlinewidth\": 0, \"ticks\": \"\"}, \"colorscale\": [[0.0, \"#0d0887\"], [0.1111111111111111, \"#46039f\"], [0.2222222222222222, \"#7201a8\"], [0.3333333333333333, \"#9c179e\"], [0.4444444444444444, \"#bd3786\"], [0.5555555555555556, \"#d8576b\"], [0.6666666666666666, \"#ed7953\"], [0.7777777777777778, \"#fb9f3a\"], [0.8888888888888888, \"#fdca26\"], [1.0, \"#f0f921\"]], \"type\": \"contour\"}], \"contourcarpet\": [{\"colorbar\": {\"outlinewidth\": 0, \"ticks\": \"\"}, \"type\": \"contourcarpet\"}], \"heatmap\": [{\"colorbar\": {\"outlinewidth\": 0, \"ticks\": \"\"}, \"colorscale\": [[0.0, \"#0d0887\"], [0.1111111111111111, \"#46039f\"], [0.2222222222222222, \"#7201a8\"], [0.3333333333333333, \"#9c179e\"], [0.4444444444444444, \"#bd3786\"], [0.5555555555555556, \"#d8576b\"], [0.6666666666666666, \"#ed7953\"], [0.7777777777777778, \"#fb9f3a\"], [0.8888888888888888, \"#fdca26\"], [1.0, \"#f0f921\"]], \"type\": \"heatmap\"}], \"heatmapgl\": [{\"colorbar\": {\"outlinewidth\": 0, \"ticks\": \"\"}, \"colorscale\": [[0.0, \"#0d0887\"], [0.1111111111111111, \"#46039f\"], [0.2222222222222222, \"#7201a8\"], [0.3333333333333333, \"#9c179e\"], [0.4444444444444444, \"#bd3786\"], [0.5555555555555556, \"#d8576b\"], [0.6666666666666666, \"#ed7953\"], [0.7777777777777778, \"#fb9f3a\"], [0.8888888888888888, \"#fdca26\"], [1.0, \"#f0f921\"]], \"type\": \"heatmapgl\"}], \"histogram\": [{\"marker\": {\"colorbar\": {\"outlinewidth\": 0, \"ticks\": \"\"}}, \"type\": \"histogram\"}], \"histogram2d\": [{\"colorbar\": {\"outlinewidth\": 0, \"ticks\": \"\"}, \"colorscale\": [[0.0, \"#0d0887\"], [0.1111111111111111, \"#46039f\"], [0.2222222222222222, \"#7201a8\"], [0.3333333333333333, \"#9c179e\"], [0.4444444444444444, \"#bd3786\"], [0.5555555555555556, \"#d8576b\"], [0.6666666666666666, \"#ed7953\"], [0.7777777777777778, \"#fb9f3a\"], [0.8888888888888888, \"#fdca26\"], [1.0, \"#f0f921\"]], \"type\": \"histogram2d\"}], \"histogram2dcontour\": [{\"colorbar\": {\"outlinewidth\": 0, \"ticks\": \"\"}, \"colorscale\": [[0.0, \"#0d0887\"], [0.1111111111111111, \"#46039f\"], [0.2222222222222222, \"#7201a8\"], [0.3333333333333333, \"#9c179e\"], [0.4444444444444444, \"#bd3786\"], [0.5555555555555556, \"#d8576b\"], [0.6666666666666666, \"#ed7953\"], [0.7777777777777778, \"#fb9f3a\"], [0.8888888888888888, \"#fdca26\"], [1.0, \"#f0f921\"]], \"type\": \"histogram2dcontour\"}], \"mesh3d\": [{\"colorbar\": {\"outlinewidth\": 0, \"ticks\": \"\"}, \"type\": \"mesh3d\"}], \"parcoords\": [{\"line\": {\"colorbar\": {\"outlinewidth\": 0, \"ticks\": \"\"}}, \"type\": \"parcoords\"}], \"pie\": [{\"automargin\": true, \"type\": \"pie\"}], \"scatter\": [{\"marker\": {\"colorbar\": {\"outlinewidth\": 0, \"ticks\": \"\"}}, \"type\": \"scatter\"}], \"scatter3d\": [{\"line\": {\"colorbar\": {\"outlinewidth\": 0, \"ticks\": \"\"}}, \"marker\": {\"colorbar\": {\"outlinewidth\": 0, \"ticks\": \"\"}}, \"type\": \"scatter3d\"}], \"scattercarpet\": [{\"marker\": {\"colorbar\": {\"outlinewidth\": 0, \"ticks\": \"\"}}, \"type\": \"scattercarpet\"}], \"scattergeo\": [{\"marker\": {\"colorbar\": {\"outlinewidth\": 0, \"ticks\": \"\"}}, \"type\": \"scattergeo\"}], \"scattergl\": [{\"marker\": {\"colorbar\": {\"outlinewidth\": 0, \"ticks\": \"\"}}, \"type\": \"scattergl\"}], \"scattermapbox\": [{\"marker\": {\"colorbar\": {\"outlinewidth\": 0, \"ticks\": \"\"}}, \"type\": \"scattermapbox\"}], \"scatterpolar\": [{\"marker\": {\"colorbar\": {\"outlinewidth\": 0, \"ticks\": \"\"}}, \"type\": \"scatterpolar\"}], \"scatterpolargl\": [{\"marker\": {\"colorbar\": {\"outlinewidth\": 0, \"ticks\": \"\"}}, \"type\": \"scatterpolargl\"}], \"scatterternary\": [{\"marker\": {\"colorbar\": {\"outlinewidth\": 0, \"ticks\": \"\"}}, \"type\": \"scatterternary\"}], \"surface\": [{\"colorbar\": {\"outlinewidth\": 0, \"ticks\": \"\"}, \"colorscale\": [[0.0, \"#0d0887\"], [0.1111111111111111, \"#46039f\"], [0.2222222222222222, \"#7201a8\"], [0.3333333333333333, \"#9c179e\"], [0.4444444444444444, \"#bd3786\"], [0.5555555555555556, \"#d8576b\"], [0.6666666666666666, \"#ed7953\"], [0.7777777777777778, \"#fb9f3a\"], [0.8888888888888888, \"#fdca26\"], [1.0, \"#f0f921\"]], \"type\": \"surface\"}], \"table\": [{\"cells\": {\"fill\": {\"color\": \"#EBF0F8\"}, \"line\": {\"color\": \"white\"}}, \"header\": {\"fill\": {\"color\": \"#C8D4E3\"}, \"line\": {\"color\": \"white\"}}, \"type\": \"table\"}]}, \"layout\": {\"annotationdefaults\": {\"arrowcolor\": \"#2a3f5f\", \"arrowhead\": 0, \"arrowwidth\": 1}, \"autotypenumbers\": \"strict\", \"coloraxis\": {\"colorbar\": {\"outlinewidth\": 0, \"ticks\": \"\"}}, \"colorscale\": {\"diverging\": [[0, \"#8e0152\"], [0.1, \"#c51b7d\"], [0.2, \"#de77ae\"], [0.3, \"#f1b6da\"], [0.4, \"#fde0ef\"], [0.5, \"#f7f7f7\"], [0.6, \"#e6f5d0\"], [0.7, \"#b8e186\"], [0.8, \"#7fbc41\"], [0.9, \"#4d9221\"], [1, \"#276419\"]], \"sequential\": [[0.0, \"#0d0887\"], [0.1111111111111111, \"#46039f\"], [0.2222222222222222, \"#7201a8\"], [0.3333333333333333, \"#9c179e\"], [0.4444444444444444, \"#bd3786\"], [0.5555555555555556, \"#d8576b\"], [0.6666666666666666, \"#ed7953\"], [0.7777777777777778, \"#fb9f3a\"], [0.8888888888888888, \"#fdca26\"], [1.0, \"#f0f921\"]], \"sequentialminus\": [[0.0, \"#0d0887\"], [0.1111111111111111, \"#46039f\"], [0.2222222222222222, \"#7201a8\"], [0.3333333333333333, \"#9c179e\"], [0.4444444444444444, \"#bd3786\"], [0.5555555555555556, \"#d8576b\"], [0.6666666666666666, \"#ed7953\"], [0.7777777777777778, \"#fb9f3a\"], [0.8888888888888888, \"#fdca26\"], [1.0, \"#f0f921\"]]}, \"colorway\": [\"#636efa\", \"#EF553B\", \"#00cc96\", \"#ab63fa\", \"#FFA15A\", \"#19d3f3\", \"#FF6692\", \"#B6E880\", \"#FF97FF\", \"#FECB52\"], \"font\": {\"color\": \"#2a3f5f\"}, \"geo\": {\"bgcolor\": \"white\", \"lakecolor\": \"white\", \"landcolor\": \"white\", \"showlakes\": true, \"showland\": true, \"subunitcolor\": \"#C8D4E3\"}, \"hoverlabel\": {\"align\": \"left\"}, \"hovermode\": \"closest\", \"mapbox\": {\"style\": \"light\"}, \"paper_bgcolor\": \"white\", \"plot_bgcolor\": \"white\", \"polar\": {\"angularaxis\": {\"gridcolor\": \"#EBF0F8\", \"linecolor\": \"#EBF0F8\", \"ticks\": \"\"}, \"bgcolor\": \"white\", \"radialaxis\": {\"gridcolor\": \"#EBF0F8\", \"linecolor\": \"#EBF0F8\", \"ticks\": \"\"}}, \"scene\": {\"xaxis\": {\"backgroundcolor\": \"white\", \"gridcolor\": \"#DFE8F3\", \"gridwidth\": 2, \"linecolor\": \"#EBF0F8\", \"showbackground\": true, \"ticks\": \"\", \"zerolinecolor\": \"#EBF0F8\"}, \"yaxis\": {\"backgroundcolor\": \"white\", \"gridcolor\": \"#DFE8F3\", \"gridwidth\": 2, \"linecolor\": \"#EBF0F8\", \"showbackground\": true, \"ticks\": \"\", \"zerolinecolor\": \"#EBF0F8\"}, \"zaxis\": {\"backgroundcolor\": \"white\", \"gridcolor\": \"#DFE8F3\", \"gridwidth\": 2, \"linecolor\": \"#EBF0F8\", \"showbackground\": true, \"ticks\": \"\", \"zerolinecolor\": \"#EBF0F8\"}}, \"shapedefaults\": {\"line\": {\"color\": \"#2a3f5f\"}}, \"ternary\": {\"aaxis\": {\"gridcolor\": \"#DFE8F3\", \"linecolor\": \"#A2B1C6\", \"ticks\": \"\"}, \"baxis\": {\"gridcolor\": \"#DFE8F3\", \"linecolor\": \"#A2B1C6\", \"ticks\": \"\"}, \"bgcolor\": \"white\", \"caxis\": {\"gridcolor\": \"#DFE8F3\", \"linecolor\": \"#A2B1C6\", \"ticks\": \"\"}}, \"title\": {\"x\": 0.05}, \"xaxis\": {\"automargin\": true, \"gridcolor\": \"#EBF0F8\", \"linecolor\": \"#EBF0F8\", \"ticks\": \"\", \"title\": {\"standoff\": 15}, \"zerolinecolor\": \"#EBF0F8\", \"zerolinewidth\": 2}, \"yaxis\": {\"automargin\": true, \"gridcolor\": \"#EBF0F8\", \"linecolor\": \"#EBF0F8\", \"ticks\": \"\", \"title\": {\"standoff\": 15}, \"zerolinecolor\": \"#EBF0F8\", \"zerolinewidth\": 2}}}, \"title\": {\"text\": \"Monthly Average Temperature Uncertainty (\\u0394 T) Recorded in Toronto\", \"x\": 0.5}, \"xaxis\": {\"title\": {\"text\": \"Months\"}}, \"yaxis\": {\"title\": {\"text\": \"Temperature C\"}}},                        {\"responsive\": true}                    ).then(function(){\n",
       "                            \n",
       "var gd = document.getElementById('dd8c8af7-4107-4405-81cc-3d3eab3c7482');\n",
       "var x = new MutationObserver(function (mutations, observer) {{\n",
       "        var display = window.getComputedStyle(gd).display;\n",
       "        if (!display || display === 'none') {{\n",
       "            console.log([gd, 'removed!']);\n",
       "            Plotly.purge(gd);\n",
       "            observer.disconnect();\n",
       "        }}\n",
       "}});\n",
       "\n",
       "// Listen for the removal of the full notebook cells\n",
       "var notebookContainer = gd.closest('#notebook-container');\n",
       "if (notebookContainer) {{\n",
       "    x.observe(notebookContainer, {childList: true});\n",
       "}}\n",
       "\n",
       "// Listen for the clearing of the current output cell\n",
       "var outputEl = gd.closest('.output');\n",
       "if (outputEl) {{\n",
       "    x.observe(outputEl, {childList: true});\n",
       "}}\n",
       "\n",
       "                        })                };                });            </script>        </div>"
      ]
     },
     "metadata": {},
     "output_type": "display_data"
    }
   ],
   "source": [
    "plotlychart(toronty,cityname='Toronto',sequence='Yearly',attr='AverageTemperatureUncertainty')"
   ]
  },
  {
   "cell_type": "markdown",
   "id": "inner-warrior",
   "metadata": {},
   "source": [
    "### For a selected year print Average Monthly Temperature TimeSeries"
   ]
  },
  {
   "cell_type": "code",
   "execution_count": 86,
   "id": "satisfactory-cambodia",
   "metadata": {},
   "outputs": [],
   "source": [
    "def selective_scrutiny(df, year, country, city=None,quantify=False):\n",
    "    years = df['Year'].unique()\n",
    "    if year in years:\n",
    "        ydf = df[dcity['Year']==year]\n",
    "        cdf = ydf[ydf['Country']==country]\n",
    "        cdf = cdf.groupby(['City','Month'])[['AverageTemperature','AverageTemperatureUncertainty']].median()\n",
    "        \n",
    "        if not city == None:\n",
    "            try:\n",
    "                return cdf.loc[city,:]\n",
    "            except:\n",
    "                print('Invalid City Name')\n",
    "        else:\n",
    "            return cdf\n",
    "        \n",
    "        if quantify:\n",
    "            pass\n",
    "            \n",
    "        \n",
    "        \n",
    "    else:\n",
    "        print(\"Data doesn't have records of temperatures from the years after 2013 and before 1743\")\n",
    "\n",
    "    "
   ]
  },
  {
   "cell_type": "code",
   "execution_count": 139,
   "id": "olympic-sleeve",
   "metadata": {},
   "outputs": [
    {
     "data": {
      "text/html": [
       "<div>\n",
       "<style scoped>\n",
       "    .dataframe tbody tr th:only-of-type {\n",
       "        vertical-align: middle;\n",
       "    }\n",
       "\n",
       "    .dataframe tbody tr th {\n",
       "        vertical-align: top;\n",
       "    }\n",
       "\n",
       "    .dataframe thead th {\n",
       "        text-align: right;\n",
       "    }\n",
       "</style>\n",
       "<table border=\"1\" class=\"dataframe\">\n",
       "  <thead>\n",
       "    <tr style=\"text-align: right;\">\n",
       "      <th></th>\n",
       "      <th>AverageTemperature</th>\n",
       "      <th>AverageTemperatureUncertainty</th>\n",
       "    </tr>\n",
       "    <tr>\n",
       "      <th>Month</th>\n",
       "      <th></th>\n",
       "      <th></th>\n",
       "    </tr>\n",
       "  </thead>\n",
       "  <tbody>\n",
       "    <tr>\n",
       "      <th>Apr</th>\n",
       "      <td>32.245000</td>\n",
       "      <td>0.615000</td>\n",
       "    </tr>\n",
       "    <tr>\n",
       "      <th>Aug</th>\n",
       "      <td>26.923000</td>\n",
       "      <td>0.413000</td>\n",
       "    </tr>\n",
       "    <tr>\n",
       "      <th>Feb</th>\n",
       "      <td>26.226000</td>\n",
       "      <td>0.599000</td>\n",
       "    </tr>\n",
       "    <tr>\n",
       "      <th>Jan</th>\n",
       "      <td>24.670000</td>\n",
       "      <td>0.769000</td>\n",
       "    </tr>\n",
       "    <tr>\n",
       "      <th>Jul</th>\n",
       "      <td>27.011000</td>\n",
       "      <td>0.478000</td>\n",
       "    </tr>\n",
       "    <tr>\n",
       "      <th>Jun</th>\n",
       "      <td>29.487000</td>\n",
       "      <td>0.754000</td>\n",
       "    </tr>\n",
       "    <tr>\n",
       "      <th>Mar</th>\n",
       "      <td>29.598000</td>\n",
       "      <td>0.613000</td>\n",
       "    </tr>\n",
       "    <tr>\n",
       "      <th>May</th>\n",
       "      <td>34.650000</td>\n",
       "      <td>0.823000</td>\n",
       "    </tr>\n",
       "    <tr>\n",
       "      <th>Sept</th>\n",
       "      <td>26.869335</td>\n",
       "      <td>0.956286</td>\n",
       "    </tr>\n",
       "  </tbody>\n",
       "</table>\n",
       "</div>"
      ],
      "text/plain": [
       "       AverageTemperature  AverageTemperatureUncertainty\n",
       "Month                                                   \n",
       "Apr             32.245000                       0.615000\n",
       "Aug             26.923000                       0.413000\n",
       "Feb             26.226000                       0.599000\n",
       "Jan             24.670000                       0.769000\n",
       "Jul             27.011000                       0.478000\n",
       "Jun             29.487000                       0.754000\n",
       "Mar             29.598000                       0.613000\n",
       "May             34.650000                       0.823000\n",
       "Sept            26.869335                       0.956286"
      ]
     },
     "execution_count": 139,
     "metadata": {},
     "output_type": "execute_result"
    }
   ],
   "source": [
    "selective_scrutiny(dcity, 2013, 'India', 'Hyderabad')"
   ]
  },
  {
   "cell_type": "markdown",
   "id": "political-flash",
   "metadata": {},
   "source": [
    "### Choropleth"
   ]
  },
  {
   "cell_type": "code",
   "execution_count": 88,
   "id": "dependent-airline",
   "metadata": {},
   "outputs": [],
   "source": [
    "# df.to_csv('choropleth-dat.csv')\n",
    "chorodf = pd.read_csv('./choropleth-dat.csv').drop('Unnamed: 0',axis=1)"
   ]
  },
  {
   "cell_type": "code",
   "execution_count": 89,
   "id": "scenic-therapist",
   "metadata": {},
   "outputs": [
    {
     "data": {
      "application/vnd.plotly.v1+json": {
       "config": {
        "plotlyServerURL": "https://plot.ly"
       },
       "data": [
        {
         "autocolorscale": false,
         "colorbar": {
          "ticksuffix": "°C",
          "title": {
           "text": "Temperature °C"
          }
         },
         "colorscale": [
          [
           0,
           "rgb(247,251,255)"
          ],
          [
           0.125,
           "rgb(222,235,247)"
          ],
          [
           0.25,
           "rgb(198,219,239)"
          ],
          [
           0.375,
           "rgb(158,202,225)"
          ],
          [
           0.5,
           "rgb(107,174,214)"
          ],
          [
           0.625,
           "rgb(66,146,198)"
          ],
          [
           0.75,
           "rgb(33,113,181)"
          ],
          [
           0.875,
           "rgb(8,81,156)"
          ],
          [
           1,
           "rgb(8,48,107)"
          ]
         ],
         "locations": [
          "AFG",
          "ALB",
          "DZA",
          "AGO",
          "ARG",
          "ARM",
          "AUS",
          "AUT",
          "AZE",
          "BHR",
          "BGD",
          "BLR",
          "BEL",
          "BEN",
          "BOL",
          "BWA",
          "BRA",
          "BGR",
          "BFA",
          "MMR",
          "BDI",
          "KHM",
          "CMR",
          "CAN",
          "CAF",
          "TCD",
          "CHL",
          "CHN",
          "COL",
          "CRI",
          "HRV",
          "CUB",
          "CYP",
          "CZE",
          "DNK",
          "DJI",
          "DOM",
          "ECU",
          "EGY",
          "SLV",
          "GNQ",
          "ERI",
          "EST",
          "ETH",
          "FIN",
          "FRA",
          "GAB",
          "GEO",
          "DEU",
          "GHA",
          "GRC",
          "GTM",
          "GIN",
          "GUY",
          "HTI",
          "HND",
          "HKG",
          "HUN",
          "ISL",
          "IND",
          "IDN",
          "IRN",
          "IRQ",
          "IRL",
          "ISR",
          "ITA",
          "JAM",
          "JPN",
          "JOR",
          "KAZ",
          "KEN",
          "LAO",
          "LVA",
          "LBN",
          "LSO",
          "LBR",
          "LBY",
          "LTU",
          "MKD",
          "MDG",
          "MWI",
          "MYS",
          "MLI",
          "MRT",
          "MUS",
          "MEX",
          "MDA",
          "MNG",
          "MNE",
          "MAR",
          "MOZ",
          "NAM",
          "NPL",
          "NLD",
          "NZL",
          "NIC",
          "NGA",
          "NER",
          "NOR",
          "OMN",
          "PAK",
          "PAN",
          "PNG",
          "PRY",
          "PER",
          "PHL",
          "POL",
          "PRT",
          "PRI",
          "QAT",
          "ROU",
          "RUS",
          "RWA",
          "SAU",
          "SEN",
          "SRB",
          "SLE",
          "SGP",
          "SVK",
          "SVN",
          "SOM",
          "ZAF",
          "ESP",
          "LKA",
          "SDN",
          "SUR",
          "SWZ",
          "SWE",
          "CHE",
          "SYR",
          "TWN",
          "TJK",
          "TZA",
          "THA",
          "TGO",
          "TUN",
          "TUR",
          "TKM",
          "UGA",
          "UKR",
          "ARE",
          "GBR",
          "USA",
          "URY",
          "UZB",
          "VEN",
          "VNM",
          "YEM",
          "ZMB",
          "ZWE"
         ],
         "marker": {
          "line": {
           "color": "black",
           "width": 0.9
          }
         },
         "text": [
          "Afghanistan",
          "Albania",
          "Algeria",
          "Angola",
          "Argentina",
          "Armenia",
          "Australia",
          "Austria",
          "Azerbaijan",
          "Bahrain",
          "Bangladesh",
          "Belarus",
          "Belgium",
          "Benin",
          "Bolivia",
          "Botswana",
          "Brazil",
          "Bulgaria",
          "Burkina Faso",
          "Burma",
          "Burundi",
          "Cambodia",
          "Cameroon",
          "Canada",
          "Central African Republic",
          "Chad",
          "Chile",
          "China",
          "Colombia",
          "Costa Rica",
          "Croatia",
          "Cuba",
          "Cyprus",
          "Czech Republic",
          "Denmark",
          "Djibouti",
          "Dominican Republic",
          "Ecuador",
          "Egypt",
          "El Salvador",
          "Equatorial Guinea",
          "Eritrea",
          "Estonia",
          "Ethiopia",
          "Finland",
          "France",
          "Gabon",
          "Georgia",
          "Germany",
          "Ghana",
          "Greece",
          "Guatemala",
          "Guinea",
          "Guyana",
          "Haiti",
          "Honduras",
          "Hong Kong",
          "Hungary",
          "Iceland",
          "India",
          "Indonesia",
          "Iran",
          "Iraq",
          "Ireland",
          "Israel",
          "Italy",
          "Jamaica",
          "Japan",
          "Jordan",
          "Kazakhstan",
          "Kenya",
          "Laos",
          "Latvia",
          "Lebanon",
          "Lesotho",
          "Liberia",
          "Libya",
          "Lithuania",
          "Macedonia",
          "Madagascar",
          "Malawi",
          "Malaysia",
          "Mali",
          "Mauritania",
          "Mauritius",
          "Mexico",
          "Moldova",
          "Mongolia",
          "Montenegro",
          "Morocco",
          "Mozambique",
          "Namibia",
          "Nepal",
          "Netherlands",
          "New Zealand",
          "Nicaragua",
          "Nigeria",
          "Niger",
          "Norway",
          "Oman",
          "Pakistan",
          "Panama",
          "Papua New Guinea",
          "Paraguay",
          "Peru",
          "Philippines",
          "Poland",
          "Portugal",
          "Puerto Rico",
          "Qatar",
          "Romania",
          "Russia",
          "Rwanda",
          "Saudi Arabia",
          "Senegal",
          "Serbia",
          "Sierra Leone",
          "Singapore",
          "Slovakia",
          "Slovenia",
          "Somalia",
          "South Africa",
          "Spain",
          "Sri Lanka",
          "Sudan",
          "Suriname",
          "Swaziland",
          "Sweden",
          "Switzerland",
          "Syria",
          "Taiwan",
          "Tajikistan",
          "Tanzania",
          "Thailand",
          "Togo",
          "Tunisia",
          "Turkey",
          "Turkmenistan",
          "Uganda",
          "Ukraine",
          "United Arab Emirates",
          "United Kingdom",
          "United States",
          "Uruguay",
          "Uzbekistan",
          "Venezuela",
          "Vietnam",
          "Yemen",
          "Zambia",
          "Zimbabwe"
         ],
         "type": "choropleth",
         "z": [
          13.832980568201304,
          15.52582849020842,
          17.763205946291528,
          21.760887393026504,
          17.029385105579138,
          8.375597043951794,
          16.720858511124412,
          6.285928363866017,
          11.113663814180947,
          25.855601290963257,
          25.05098435208038,
          6.142253198041698,
          9.726196958758296,
          26.975880208333948,
          11.352980175438574,
          18.996498131340093,
          21.952564213375144,
          10.580413274975166,
          27.81607992639933,
          26.013455460004355,
          20.806355820895444,
          26.91813629772836,
          24.63808647157474,
          4.824669058365353,
          24.950858213256478,
          27.189829394812783,
          11.769742291660984,
          12.544097545495388,
          22.66677764690001,
          24.852329749103927,
          10.57346694040855,
          25.59688167009913,
          19.03456376594148,
          8.075891092861667,
          7.802639924194574,
          29.152790108564496,
          25.884561181683736,
          20.565671570429785,
          21.543930775640565,
          25.262215390320524,
          25.178324207492626,
          24.001515877771112,
          4.69570483259634,
          20.635594400496057,
          3.711644535691727,
          10.337918263494116,
          25.89577118155604,
          8.375597043951785,
          8.482790790264207,
          26.319964426877355,
          16.329522576008582,
          19.175962655601715,
          25.50850030295307,
          26.549849374398576,
          26.37956427254765,
          23.975110225154538,
          21.423696153846198,
          9.82879139467951,
          1.5000886490022909,
          25.40603026088977,
          25.98363712999124,
          14.850282091481846,
          19.879561755302014,
          9.153906032849052,
          19.010395243460263,
          12.62241598231219,
          26.40930559766395,
          13.408343391801626,
          18.36098088653924,
          4.40258446432841,
          20.256207646129283,
          24.107664292074816,
          5.386615603284883,
          18.764708680599146,
          14.040680192205032,
          25.673186108165385,
          19.85399937722124,
          6.105941503474449,
          9.577843019583044,
          22.102281566927083,
          21.36054565273397,
          26.42791452637802,
          27.589257295186098,
          27.02190493506493,
          23.522653983353045,
          20.075191235617176,
          8.672153295430642,
          -3.3654853195164023,
          10.221040113708128,
          17.297364600086315,
          23.604054853720854,
          19.63505709711849,
          18.078065177064538,
          9.096836083912372,
          12.841570768497675,
          26.839473940590267,
          26.584341515728763,
          28.15139177182276,
          3.612552747946921,
          25.565806295399504,
          24.01801803410536,
          26.74566799601198,
          24.85573227848102,
          22.784014312976957,
          16.51417303599921,
          26.517916967842,
          7.671972296106695,
          14.739743600811568,
          25.297679923334822,
          26.83170519348272,
          8.89590614024003,
          3.365235539947179,
          19.077631823461143,
          24.871217460642807,
          25.98417816312964,
          9.90977774268274,
          25.637489811623677,
          26.523102826510677,
          8.67710186355022,
          9.486257106759316,
          26.43223856360849,
          16.36072624898797,
          14.452752617322345,
          26.727753499911323,
          28.04831686007834,
          26.429474975938334,
          21.203533368926852,
          5.6655180037902655,
          7.541977258370227,
          18.083692876787183,
          21.682865480755616,
          8.807381204909856,
          22.66763877864237,
          26.693530780389043,
          26.644357345433995,
          18.772689245488216,
          12.95490267116766,
          14.294461200783443,
          24.019173153704173,
          7.82222685411361,
          26.57268054823426,
          9.098373016610507,
          13.927815604815196,
          17.42187094465655,
          11.950469947432374,
          25.48164370420325,
          24.916928429954535,
          25.77596371447781,
          20.902416626819463,
          19.827015652782592
         ]
        }
       ],
       "layout": {
        "dragmode": false,
        "font": {
         "family": "sora",
         "size": 15
        },
        "geo": {
         "lataxis": {
          "showgrid": true
         },
         "lonaxis": {
          "showgrid": true
         },
         "projection": {
          "type": "natural earth"
         },
         "showcoastlines": true,
         "showframe": true
        },
        "height": 600,
        "template": {
         "data": {
          "bar": [
           {
            "error_x": {
             "color": "#2a3f5f"
            },
            "error_y": {
             "color": "#2a3f5f"
            },
            "marker": {
             "line": {
              "color": "white",
              "width": 0.5
             }
            },
            "type": "bar"
           }
          ],
          "barpolar": [
           {
            "marker": {
             "line": {
              "color": "white",
              "width": 0.5
             }
            },
            "type": "barpolar"
           }
          ],
          "carpet": [
           {
            "aaxis": {
             "endlinecolor": "#2a3f5f",
             "gridcolor": "#C8D4E3",
             "linecolor": "#C8D4E3",
             "minorgridcolor": "#C8D4E3",
             "startlinecolor": "#2a3f5f"
            },
            "baxis": {
             "endlinecolor": "#2a3f5f",
             "gridcolor": "#C8D4E3",
             "linecolor": "#C8D4E3",
             "minorgridcolor": "#C8D4E3",
             "startlinecolor": "#2a3f5f"
            },
            "type": "carpet"
           }
          ],
          "choropleth": [
           {
            "colorbar": {
             "outlinewidth": 0,
             "ticks": ""
            },
            "type": "choropleth"
           }
          ],
          "contour": [
           {
            "colorbar": {
             "outlinewidth": 0,
             "ticks": ""
            },
            "colorscale": [
             [
              0,
              "#0d0887"
             ],
             [
              0.1111111111111111,
              "#46039f"
             ],
             [
              0.2222222222222222,
              "#7201a8"
             ],
             [
              0.3333333333333333,
              "#9c179e"
             ],
             [
              0.4444444444444444,
              "#bd3786"
             ],
             [
              0.5555555555555556,
              "#d8576b"
             ],
             [
              0.6666666666666666,
              "#ed7953"
             ],
             [
              0.7777777777777778,
              "#fb9f3a"
             ],
             [
              0.8888888888888888,
              "#fdca26"
             ],
             [
              1,
              "#f0f921"
             ]
            ],
            "type": "contour"
           }
          ],
          "contourcarpet": [
           {
            "colorbar": {
             "outlinewidth": 0,
             "ticks": ""
            },
            "type": "contourcarpet"
           }
          ],
          "heatmap": [
           {
            "colorbar": {
             "outlinewidth": 0,
             "ticks": ""
            },
            "colorscale": [
             [
              0,
              "#0d0887"
             ],
             [
              0.1111111111111111,
              "#46039f"
             ],
             [
              0.2222222222222222,
              "#7201a8"
             ],
             [
              0.3333333333333333,
              "#9c179e"
             ],
             [
              0.4444444444444444,
              "#bd3786"
             ],
             [
              0.5555555555555556,
              "#d8576b"
             ],
             [
              0.6666666666666666,
              "#ed7953"
             ],
             [
              0.7777777777777778,
              "#fb9f3a"
             ],
             [
              0.8888888888888888,
              "#fdca26"
             ],
             [
              1,
              "#f0f921"
             ]
            ],
            "type": "heatmap"
           }
          ],
          "heatmapgl": [
           {
            "colorbar": {
             "outlinewidth": 0,
             "ticks": ""
            },
            "colorscale": [
             [
              0,
              "#0d0887"
             ],
             [
              0.1111111111111111,
              "#46039f"
             ],
             [
              0.2222222222222222,
              "#7201a8"
             ],
             [
              0.3333333333333333,
              "#9c179e"
             ],
             [
              0.4444444444444444,
              "#bd3786"
             ],
             [
              0.5555555555555556,
              "#d8576b"
             ],
             [
              0.6666666666666666,
              "#ed7953"
             ],
             [
              0.7777777777777778,
              "#fb9f3a"
             ],
             [
              0.8888888888888888,
              "#fdca26"
             ],
             [
              1,
              "#f0f921"
             ]
            ],
            "type": "heatmapgl"
           }
          ],
          "histogram": [
           {
            "marker": {
             "colorbar": {
              "outlinewidth": 0,
              "ticks": ""
             }
            },
            "type": "histogram"
           }
          ],
          "histogram2d": [
           {
            "colorbar": {
             "outlinewidth": 0,
             "ticks": ""
            },
            "colorscale": [
             [
              0,
              "#0d0887"
             ],
             [
              0.1111111111111111,
              "#46039f"
             ],
             [
              0.2222222222222222,
              "#7201a8"
             ],
             [
              0.3333333333333333,
              "#9c179e"
             ],
             [
              0.4444444444444444,
              "#bd3786"
             ],
             [
              0.5555555555555556,
              "#d8576b"
             ],
             [
              0.6666666666666666,
              "#ed7953"
             ],
             [
              0.7777777777777778,
              "#fb9f3a"
             ],
             [
              0.8888888888888888,
              "#fdca26"
             ],
             [
              1,
              "#f0f921"
             ]
            ],
            "type": "histogram2d"
           }
          ],
          "histogram2dcontour": [
           {
            "colorbar": {
             "outlinewidth": 0,
             "ticks": ""
            },
            "colorscale": [
             [
              0,
              "#0d0887"
             ],
             [
              0.1111111111111111,
              "#46039f"
             ],
             [
              0.2222222222222222,
              "#7201a8"
             ],
             [
              0.3333333333333333,
              "#9c179e"
             ],
             [
              0.4444444444444444,
              "#bd3786"
             ],
             [
              0.5555555555555556,
              "#d8576b"
             ],
             [
              0.6666666666666666,
              "#ed7953"
             ],
             [
              0.7777777777777778,
              "#fb9f3a"
             ],
             [
              0.8888888888888888,
              "#fdca26"
             ],
             [
              1,
              "#f0f921"
             ]
            ],
            "type": "histogram2dcontour"
           }
          ],
          "mesh3d": [
           {
            "colorbar": {
             "outlinewidth": 0,
             "ticks": ""
            },
            "type": "mesh3d"
           }
          ],
          "parcoords": [
           {
            "line": {
             "colorbar": {
              "outlinewidth": 0,
              "ticks": ""
             }
            },
            "type": "parcoords"
           }
          ],
          "pie": [
           {
            "automargin": true,
            "type": "pie"
           }
          ],
          "scatter": [
           {
            "marker": {
             "colorbar": {
              "outlinewidth": 0,
              "ticks": ""
             }
            },
            "type": "scatter"
           }
          ],
          "scatter3d": [
           {
            "line": {
             "colorbar": {
              "outlinewidth": 0,
              "ticks": ""
             }
            },
            "marker": {
             "colorbar": {
              "outlinewidth": 0,
              "ticks": ""
             }
            },
            "type": "scatter3d"
           }
          ],
          "scattercarpet": [
           {
            "marker": {
             "colorbar": {
              "outlinewidth": 0,
              "ticks": ""
             }
            },
            "type": "scattercarpet"
           }
          ],
          "scattergeo": [
           {
            "marker": {
             "colorbar": {
              "outlinewidth": 0,
              "ticks": ""
             }
            },
            "type": "scattergeo"
           }
          ],
          "scattergl": [
           {
            "marker": {
             "colorbar": {
              "outlinewidth": 0,
              "ticks": ""
             }
            },
            "type": "scattergl"
           }
          ],
          "scattermapbox": [
           {
            "marker": {
             "colorbar": {
              "outlinewidth": 0,
              "ticks": ""
             }
            },
            "type": "scattermapbox"
           }
          ],
          "scatterpolar": [
           {
            "marker": {
             "colorbar": {
              "outlinewidth": 0,
              "ticks": ""
             }
            },
            "type": "scatterpolar"
           }
          ],
          "scatterpolargl": [
           {
            "marker": {
             "colorbar": {
              "outlinewidth": 0,
              "ticks": ""
             }
            },
            "type": "scatterpolargl"
           }
          ],
          "scatterternary": [
           {
            "marker": {
             "colorbar": {
              "outlinewidth": 0,
              "ticks": ""
             }
            },
            "type": "scatterternary"
           }
          ],
          "surface": [
           {
            "colorbar": {
             "outlinewidth": 0,
             "ticks": ""
            },
            "colorscale": [
             [
              0,
              "#0d0887"
             ],
             [
              0.1111111111111111,
              "#46039f"
             ],
             [
              0.2222222222222222,
              "#7201a8"
             ],
             [
              0.3333333333333333,
              "#9c179e"
             ],
             [
              0.4444444444444444,
              "#bd3786"
             ],
             [
              0.5555555555555556,
              "#d8576b"
             ],
             [
              0.6666666666666666,
              "#ed7953"
             ],
             [
              0.7777777777777778,
              "#fb9f3a"
             ],
             [
              0.8888888888888888,
              "#fdca26"
             ],
             [
              1,
              "#f0f921"
             ]
            ],
            "type": "surface"
           }
          ],
          "table": [
           {
            "cells": {
             "fill": {
              "color": "#EBF0F8"
             },
             "line": {
              "color": "white"
             }
            },
            "header": {
             "fill": {
              "color": "#C8D4E3"
             },
             "line": {
              "color": "white"
             }
            },
            "type": "table"
           }
          ]
         },
         "layout": {
          "annotationdefaults": {
           "arrowcolor": "#2a3f5f",
           "arrowhead": 0,
           "arrowwidth": 1
          },
          "autotypenumbers": "strict",
          "coloraxis": {
           "colorbar": {
            "outlinewidth": 0,
            "ticks": ""
           }
          },
          "colorscale": {
           "diverging": [
            [
             0,
             "#8e0152"
            ],
            [
             0.1,
             "#c51b7d"
            ],
            [
             0.2,
             "#de77ae"
            ],
            [
             0.3,
             "#f1b6da"
            ],
            [
             0.4,
             "#fde0ef"
            ],
            [
             0.5,
             "#f7f7f7"
            ],
            [
             0.6,
             "#e6f5d0"
            ],
            [
             0.7,
             "#b8e186"
            ],
            [
             0.8,
             "#7fbc41"
            ],
            [
             0.9,
             "#4d9221"
            ],
            [
             1,
             "#276419"
            ]
           ],
           "sequential": [
            [
             0,
             "#0d0887"
            ],
            [
             0.1111111111111111,
             "#46039f"
            ],
            [
             0.2222222222222222,
             "#7201a8"
            ],
            [
             0.3333333333333333,
             "#9c179e"
            ],
            [
             0.4444444444444444,
             "#bd3786"
            ],
            [
             0.5555555555555556,
             "#d8576b"
            ],
            [
             0.6666666666666666,
             "#ed7953"
            ],
            [
             0.7777777777777778,
             "#fb9f3a"
            ],
            [
             0.8888888888888888,
             "#fdca26"
            ],
            [
             1,
             "#f0f921"
            ]
           ],
           "sequentialminus": [
            [
             0,
             "#0d0887"
            ],
            [
             0.1111111111111111,
             "#46039f"
            ],
            [
             0.2222222222222222,
             "#7201a8"
            ],
            [
             0.3333333333333333,
             "#9c179e"
            ],
            [
             0.4444444444444444,
             "#bd3786"
            ],
            [
             0.5555555555555556,
             "#d8576b"
            ],
            [
             0.6666666666666666,
             "#ed7953"
            ],
            [
             0.7777777777777778,
             "#fb9f3a"
            ],
            [
             0.8888888888888888,
             "#fdca26"
            ],
            [
             1,
             "#f0f921"
            ]
           ]
          },
          "colorway": [
           "#636efa",
           "#EF553B",
           "#00cc96",
           "#ab63fa",
           "#FFA15A",
           "#19d3f3",
           "#FF6692",
           "#B6E880",
           "#FF97FF",
           "#FECB52"
          ],
          "font": {
           "color": "#2a3f5f"
          },
          "geo": {
           "bgcolor": "white",
           "lakecolor": "white",
           "landcolor": "white",
           "showlakes": true,
           "showland": true,
           "subunitcolor": "#C8D4E3"
          },
          "hoverlabel": {
           "align": "left"
          },
          "hovermode": "closest",
          "mapbox": {
           "style": "light"
          },
          "paper_bgcolor": "white",
          "plot_bgcolor": "white",
          "polar": {
           "angularaxis": {
            "gridcolor": "#EBF0F8",
            "linecolor": "#EBF0F8",
            "ticks": ""
           },
           "bgcolor": "white",
           "radialaxis": {
            "gridcolor": "#EBF0F8",
            "linecolor": "#EBF0F8",
            "ticks": ""
           }
          },
          "scene": {
           "xaxis": {
            "backgroundcolor": "white",
            "gridcolor": "#DFE8F3",
            "gridwidth": 2,
            "linecolor": "#EBF0F8",
            "showbackground": true,
            "ticks": "",
            "zerolinecolor": "#EBF0F8"
           },
           "yaxis": {
            "backgroundcolor": "white",
            "gridcolor": "#DFE8F3",
            "gridwidth": 2,
            "linecolor": "#EBF0F8",
            "showbackground": true,
            "ticks": "",
            "zerolinecolor": "#EBF0F8"
           },
           "zaxis": {
            "backgroundcolor": "white",
            "gridcolor": "#DFE8F3",
            "gridwidth": 2,
            "linecolor": "#EBF0F8",
            "showbackground": true,
            "ticks": "",
            "zerolinecolor": "#EBF0F8"
           }
          },
          "shapedefaults": {
           "line": {
            "color": "#2a3f5f"
           }
          },
          "ternary": {
           "aaxis": {
            "gridcolor": "#DFE8F3",
            "linecolor": "#A2B1C6",
            "ticks": ""
           },
           "baxis": {
            "gridcolor": "#DFE8F3",
            "linecolor": "#A2B1C6",
            "ticks": ""
           },
           "bgcolor": "white",
           "caxis": {
            "gridcolor": "#DFE8F3",
            "linecolor": "#A2B1C6",
            "ticks": ""
           }
          },
          "title": {
           "x": 0.05
          },
          "xaxis": {
           "automargin": true,
           "gridcolor": "#EBF0F8",
           "linecolor": "#EBF0F8",
           "ticks": "",
           "title": {
            "standoff": 15
           },
           "zerolinecolor": "#EBF0F8",
           "zerolinewidth": 2
          },
          "yaxis": {
           "automargin": true,
           "gridcolor": "#EBF0F8",
           "linecolor": "#EBF0F8",
           "ticks": "",
           "title": {
            "standoff": 15
           },
           "zerolinecolor": "#EBF0F8",
           "zerolinewidth": 2
          }
         }
        },
        "width": 900
       }
      },
      "text/html": [
       "<div>                            <div id=\"2d66295c-e356-4986-b5f4-c7fda1dbaa22\" class=\"plotly-graph-div\" style=\"height:600px; width:900px;\"></div>            <script type=\"text/javascript\">                require([\"plotly\"], function(Plotly) {                    window.PLOTLYENV=window.PLOTLYENV || {};                                    if (document.getElementById(\"2d66295c-e356-4986-b5f4-c7fda1dbaa22\")) {                    Plotly.newPlot(                        \"2d66295c-e356-4986-b5f4-c7fda1dbaa22\",                        [{\"autocolorscale\": false, \"colorbar\": {\"ticksuffix\": \"\\u00b0C\", \"title\": {\"text\": \"Temperature \\u00b0C\"}}, \"colorscale\": [[0.0, \"rgb(247,251,255)\"], [0.125, \"rgb(222,235,247)\"], [0.25, \"rgb(198,219,239)\"], [0.375, \"rgb(158,202,225)\"], [0.5, \"rgb(107,174,214)\"], [0.625, \"rgb(66,146,198)\"], [0.75, \"rgb(33,113,181)\"], [0.875, \"rgb(8,81,156)\"], [1.0, \"rgb(8,48,107)\"]], \"locations\": [\"AFG\", \"ALB\", \"DZA\", \"AGO\", \"ARG\", \"ARM\", \"AUS\", \"AUT\", \"AZE\", \"BHR\", \"BGD\", \"BLR\", \"BEL\", \"BEN\", \"BOL\", \"BWA\", \"BRA\", \"BGR\", \"BFA\", \"MMR\", \"BDI\", \"KHM\", \"CMR\", \"CAN\", \"CAF\", \"TCD\", \"CHL\", \"CHN\", \"COL\", \"CRI\", \"HRV\", \"CUB\", \"CYP\", \"CZE\", \"DNK\", \"DJI\", \"DOM\", \"ECU\", \"EGY\", \"SLV\", \"GNQ\", \"ERI\", \"EST\", \"ETH\", \"FIN\", \"FRA\", \"GAB\", \"GEO\", \"DEU\", \"GHA\", \"GRC\", \"GTM\", \"GIN\", \"GUY\", \"HTI\", \"HND\", \"HKG\", \"HUN\", \"ISL\", \"IND\", \"IDN\", \"IRN\", \"IRQ\", \"IRL\", \"ISR\", \"ITA\", \"JAM\", \"JPN\", \"JOR\", \"KAZ\", \"KEN\", \"LAO\", \"LVA\", \"LBN\", \"LSO\", \"LBR\", \"LBY\", \"LTU\", \"MKD\", \"MDG\", \"MWI\", \"MYS\", \"MLI\", \"MRT\", \"MUS\", \"MEX\", \"MDA\", \"MNG\", \"MNE\", \"MAR\", \"MOZ\", \"NAM\", \"NPL\", \"NLD\", \"NZL\", \"NIC\", \"NGA\", \"NER\", \"NOR\", \"OMN\", \"PAK\", \"PAN\", \"PNG\", \"PRY\", \"PER\", \"PHL\", \"POL\", \"PRT\", \"PRI\", \"QAT\", \"ROU\", \"RUS\", \"RWA\", \"SAU\", \"SEN\", \"SRB\", \"SLE\", \"SGP\", \"SVK\", \"SVN\", \"SOM\", \"ZAF\", \"ESP\", \"LKA\", \"SDN\", \"SUR\", \"SWZ\", \"SWE\", \"CHE\", \"SYR\", \"TWN\", \"TJK\", \"TZA\", \"THA\", \"TGO\", \"TUN\", \"TUR\", \"TKM\", \"UGA\", \"UKR\", \"ARE\", \"GBR\", \"USA\", \"URY\", \"UZB\", \"VEN\", \"VNM\", \"YEM\", \"ZMB\", \"ZWE\"], \"marker\": {\"line\": {\"color\": \"black\", \"width\": 0.9}}, \"text\": [\"Afghanistan\", \"Albania\", \"Algeria\", \"Angola\", \"Argentina\", \"Armenia\", \"Australia\", \"Austria\", \"Azerbaijan\", \"Bahrain\", \"Bangladesh\", \"Belarus\", \"Belgium\", \"Benin\", \"Bolivia\", \"Botswana\", \"Brazil\", \"Bulgaria\", \"Burkina Faso\", \"Burma\", \"Burundi\", \"Cambodia\", \"Cameroon\", \"Canada\", \"Central African Republic\", \"Chad\", \"Chile\", \"China\", \"Colombia\", \"Costa Rica\", \"Croatia\", \"Cuba\", \"Cyprus\", \"Czech Republic\", \"Denmark\", \"Djibouti\", \"Dominican Republic\", \"Ecuador\", \"Egypt\", \"El Salvador\", \"Equatorial Guinea\", \"Eritrea\", \"Estonia\", \"Ethiopia\", \"Finland\", \"France\", \"Gabon\", \"Georgia\", \"Germany\", \"Ghana\", \"Greece\", \"Guatemala\", \"Guinea\", \"Guyana\", \"Haiti\", \"Honduras\", \"Hong Kong\", \"Hungary\", \"Iceland\", \"India\", \"Indonesia\", \"Iran\", \"Iraq\", \"Ireland\", \"Israel\", \"Italy\", \"Jamaica\", \"Japan\", \"Jordan\", \"Kazakhstan\", \"Kenya\", \"Laos\", \"Latvia\", \"Lebanon\", \"Lesotho\", \"Liberia\", \"Libya\", \"Lithuania\", \"Macedonia\", \"Madagascar\", \"Malawi\", \"Malaysia\", \"Mali\", \"Mauritania\", \"Mauritius\", \"Mexico\", \"Moldova\", \"Mongolia\", \"Montenegro\", \"Morocco\", \"Mozambique\", \"Namibia\", \"Nepal\", \"Netherlands\", \"New Zealand\", \"Nicaragua\", \"Nigeria\", \"Niger\", \"Norway\", \"Oman\", \"Pakistan\", \"Panama\", \"Papua New Guinea\", \"Paraguay\", \"Peru\", \"Philippines\", \"Poland\", \"Portugal\", \"Puerto Rico\", \"Qatar\", \"Romania\", \"Russia\", \"Rwanda\", \"Saudi Arabia\", \"Senegal\", \"Serbia\", \"Sierra Leone\", \"Singapore\", \"Slovakia\", \"Slovenia\", \"Somalia\", \"South Africa\", \"Spain\", \"Sri Lanka\", \"Sudan\", \"Suriname\", \"Swaziland\", \"Sweden\", \"Switzerland\", \"Syria\", \"Taiwan\", \"Tajikistan\", \"Tanzania\", \"Thailand\", \"Togo\", \"Tunisia\", \"Turkey\", \"Turkmenistan\", \"Uganda\", \"Ukraine\", \"United Arab Emirates\", \"United Kingdom\", \"United States\", \"Uruguay\", \"Uzbekistan\", \"Venezuela\", \"Vietnam\", \"Yemen\", \"Zambia\", \"Zimbabwe\"], \"type\": \"choropleth\", \"z\": [13.832980568201304, 15.52582849020842, 17.763205946291528, 21.760887393026504, 17.029385105579138, 8.375597043951794, 16.720858511124412, 6.285928363866017, 11.113663814180947, 25.855601290963257, 25.05098435208038, 6.142253198041698, 9.726196958758296, 26.975880208333948, 11.352980175438574, 18.996498131340093, 21.952564213375144, 10.580413274975166, 27.81607992639933, 26.013455460004355, 20.806355820895444, 26.91813629772836, 24.63808647157474, 4.824669058365353, 24.950858213256478, 27.189829394812783, 11.769742291660984, 12.544097545495388, 22.66677764690001, 24.852329749103927, 10.57346694040855, 25.59688167009913, 19.03456376594148, 8.075891092861667, 7.802639924194574, 29.152790108564496, 25.884561181683736, 20.565671570429785, 21.543930775640565, 25.262215390320524, 25.178324207492626, 24.001515877771112, 4.69570483259634, 20.635594400496057, 3.711644535691727, 10.337918263494116, 25.89577118155604, 8.375597043951785, 8.482790790264207, 26.319964426877355, 16.329522576008582, 19.175962655601715, 25.50850030295307, 26.549849374398576, 26.37956427254765, 23.975110225154538, 21.423696153846198, 9.82879139467951, 1.5000886490022909, 25.40603026088977, 25.98363712999124, 14.850282091481846, 19.879561755302014, 9.153906032849052, 19.010395243460263, 12.62241598231219, 26.40930559766395, 13.408343391801626, 18.36098088653924, 4.40258446432841, 20.256207646129283, 24.107664292074816, 5.386615603284883, 18.764708680599146, 14.040680192205032, 25.673186108165385, 19.85399937722124, 6.105941503474449, 9.577843019583044, 22.102281566927083, 21.36054565273397, 26.42791452637802, 27.589257295186098, 27.02190493506493, 23.522653983353045, 20.075191235617176, 8.672153295430642, -3.3654853195164023, 10.221040113708128, 17.297364600086315, 23.604054853720854, 19.63505709711849, 18.078065177064538, 9.096836083912372, 12.841570768497675, 26.839473940590267, 26.584341515728763, 28.15139177182276, 3.612552747946921, 25.565806295399504, 24.01801803410536, 26.74566799601198, 24.85573227848102, 22.784014312976957, 16.51417303599921, 26.517916967842, 7.671972296106695, 14.739743600811568, 25.297679923334822, 26.83170519348272, 8.89590614024003, 3.365235539947179, 19.077631823461143, 24.871217460642807, 25.98417816312964, 9.90977774268274, 25.637489811623677, 26.523102826510677, 8.67710186355022, 9.486257106759316, 26.43223856360849, 16.36072624898797, 14.452752617322345, 26.727753499911323, 28.04831686007834, 26.429474975938334, 21.203533368926852, 5.6655180037902655, 7.541977258370227, 18.083692876787183, 21.682865480755616, 8.807381204909856, 22.66763877864237, 26.693530780389043, 26.644357345433995, 18.772689245488216, 12.95490267116766, 14.294461200783443, 24.019173153704173, 7.82222685411361, 26.57268054823426, 9.098373016610507, 13.927815604815196, 17.42187094465655, 11.950469947432374, 25.48164370420325, 24.916928429954535, 25.77596371447781, 20.902416626819463, 19.827015652782592]}],                        {\"dragmode\": false, \"font\": {\"family\": \"sora\", \"size\": 15}, \"geo\": {\"lataxis\": {\"showgrid\": true}, \"lonaxis\": {\"showgrid\": true}, \"projection\": {\"type\": \"natural earth\"}, \"showcoastlines\": true, \"showframe\": true}, \"height\": 600, \"template\": {\"data\": {\"bar\": [{\"error_x\": {\"color\": \"#2a3f5f\"}, \"error_y\": {\"color\": \"#2a3f5f\"}, \"marker\": {\"line\": {\"color\": \"white\", \"width\": 0.5}}, \"type\": \"bar\"}], \"barpolar\": [{\"marker\": {\"line\": {\"color\": \"white\", \"width\": 0.5}}, \"type\": \"barpolar\"}], \"carpet\": [{\"aaxis\": {\"endlinecolor\": \"#2a3f5f\", \"gridcolor\": \"#C8D4E3\", \"linecolor\": \"#C8D4E3\", \"minorgridcolor\": \"#C8D4E3\", \"startlinecolor\": \"#2a3f5f\"}, \"baxis\": {\"endlinecolor\": \"#2a3f5f\", \"gridcolor\": \"#C8D4E3\", \"linecolor\": \"#C8D4E3\", \"minorgridcolor\": \"#C8D4E3\", \"startlinecolor\": \"#2a3f5f\"}, \"type\": \"carpet\"}], \"choropleth\": [{\"colorbar\": {\"outlinewidth\": 0, \"ticks\": \"\"}, \"type\": \"choropleth\"}], \"contour\": [{\"colorbar\": {\"outlinewidth\": 0, \"ticks\": \"\"}, \"colorscale\": [[0.0, \"#0d0887\"], [0.1111111111111111, \"#46039f\"], [0.2222222222222222, \"#7201a8\"], [0.3333333333333333, \"#9c179e\"], [0.4444444444444444, \"#bd3786\"], [0.5555555555555556, \"#d8576b\"], [0.6666666666666666, \"#ed7953\"], [0.7777777777777778, \"#fb9f3a\"], [0.8888888888888888, \"#fdca26\"], [1.0, \"#f0f921\"]], \"type\": \"contour\"}], \"contourcarpet\": [{\"colorbar\": {\"outlinewidth\": 0, \"ticks\": \"\"}, \"type\": \"contourcarpet\"}], \"heatmap\": [{\"colorbar\": {\"outlinewidth\": 0, \"ticks\": \"\"}, \"colorscale\": [[0.0, \"#0d0887\"], [0.1111111111111111, \"#46039f\"], [0.2222222222222222, \"#7201a8\"], [0.3333333333333333, \"#9c179e\"], [0.4444444444444444, \"#bd3786\"], [0.5555555555555556, \"#d8576b\"], [0.6666666666666666, \"#ed7953\"], [0.7777777777777778, \"#fb9f3a\"], [0.8888888888888888, \"#fdca26\"], [1.0, \"#f0f921\"]], \"type\": \"heatmap\"}], \"heatmapgl\": [{\"colorbar\": {\"outlinewidth\": 0, \"ticks\": \"\"}, \"colorscale\": [[0.0, \"#0d0887\"], [0.1111111111111111, \"#46039f\"], [0.2222222222222222, \"#7201a8\"], [0.3333333333333333, \"#9c179e\"], [0.4444444444444444, \"#bd3786\"], [0.5555555555555556, \"#d8576b\"], [0.6666666666666666, \"#ed7953\"], [0.7777777777777778, \"#fb9f3a\"], [0.8888888888888888, \"#fdca26\"], [1.0, \"#f0f921\"]], \"type\": \"heatmapgl\"}], \"histogram\": [{\"marker\": {\"colorbar\": {\"outlinewidth\": 0, \"ticks\": \"\"}}, \"type\": \"histogram\"}], \"histogram2d\": [{\"colorbar\": {\"outlinewidth\": 0, \"ticks\": \"\"}, \"colorscale\": [[0.0, \"#0d0887\"], [0.1111111111111111, \"#46039f\"], [0.2222222222222222, \"#7201a8\"], [0.3333333333333333, \"#9c179e\"], [0.4444444444444444, \"#bd3786\"], [0.5555555555555556, \"#d8576b\"], [0.6666666666666666, \"#ed7953\"], [0.7777777777777778, \"#fb9f3a\"], [0.8888888888888888, \"#fdca26\"], [1.0, \"#f0f921\"]], \"type\": \"histogram2d\"}], \"histogram2dcontour\": [{\"colorbar\": {\"outlinewidth\": 0, \"ticks\": \"\"}, \"colorscale\": [[0.0, \"#0d0887\"], [0.1111111111111111, \"#46039f\"], [0.2222222222222222, \"#7201a8\"], [0.3333333333333333, \"#9c179e\"], [0.4444444444444444, \"#bd3786\"], [0.5555555555555556, \"#d8576b\"], [0.6666666666666666, \"#ed7953\"], [0.7777777777777778, \"#fb9f3a\"], [0.8888888888888888, \"#fdca26\"], [1.0, \"#f0f921\"]], \"type\": \"histogram2dcontour\"}], \"mesh3d\": [{\"colorbar\": {\"outlinewidth\": 0, \"ticks\": \"\"}, \"type\": \"mesh3d\"}], \"parcoords\": [{\"line\": {\"colorbar\": {\"outlinewidth\": 0, \"ticks\": \"\"}}, \"type\": \"parcoords\"}], \"pie\": [{\"automargin\": true, \"type\": \"pie\"}], \"scatter\": [{\"marker\": {\"colorbar\": {\"outlinewidth\": 0, \"ticks\": \"\"}}, \"type\": \"scatter\"}], \"scatter3d\": [{\"line\": {\"colorbar\": {\"outlinewidth\": 0, \"ticks\": \"\"}}, \"marker\": {\"colorbar\": {\"outlinewidth\": 0, \"ticks\": \"\"}}, \"type\": \"scatter3d\"}], \"scattercarpet\": [{\"marker\": {\"colorbar\": {\"outlinewidth\": 0, \"ticks\": \"\"}}, \"type\": \"scattercarpet\"}], \"scattergeo\": [{\"marker\": {\"colorbar\": {\"outlinewidth\": 0, \"ticks\": \"\"}}, \"type\": \"scattergeo\"}], \"scattergl\": [{\"marker\": {\"colorbar\": {\"outlinewidth\": 0, \"ticks\": \"\"}}, \"type\": \"scattergl\"}], \"scattermapbox\": [{\"marker\": {\"colorbar\": {\"outlinewidth\": 0, \"ticks\": \"\"}}, \"type\": \"scattermapbox\"}], \"scatterpolar\": [{\"marker\": {\"colorbar\": {\"outlinewidth\": 0, \"ticks\": \"\"}}, \"type\": \"scatterpolar\"}], \"scatterpolargl\": [{\"marker\": {\"colorbar\": {\"outlinewidth\": 0, \"ticks\": \"\"}}, \"type\": \"scatterpolargl\"}], \"scatterternary\": [{\"marker\": {\"colorbar\": {\"outlinewidth\": 0, \"ticks\": \"\"}}, \"type\": \"scatterternary\"}], \"surface\": [{\"colorbar\": {\"outlinewidth\": 0, \"ticks\": \"\"}, \"colorscale\": [[0.0, \"#0d0887\"], [0.1111111111111111, \"#46039f\"], [0.2222222222222222, \"#7201a8\"], [0.3333333333333333, \"#9c179e\"], [0.4444444444444444, \"#bd3786\"], [0.5555555555555556, \"#d8576b\"], [0.6666666666666666, \"#ed7953\"], [0.7777777777777778, \"#fb9f3a\"], [0.8888888888888888, \"#fdca26\"], [1.0, \"#f0f921\"]], \"type\": \"surface\"}], \"table\": [{\"cells\": {\"fill\": {\"color\": \"#EBF0F8\"}, \"line\": {\"color\": \"white\"}}, \"header\": {\"fill\": {\"color\": \"#C8D4E3\"}, \"line\": {\"color\": \"white\"}}, \"type\": \"table\"}]}, \"layout\": {\"annotationdefaults\": {\"arrowcolor\": \"#2a3f5f\", \"arrowhead\": 0, \"arrowwidth\": 1}, \"autotypenumbers\": \"strict\", \"coloraxis\": {\"colorbar\": {\"outlinewidth\": 0, \"ticks\": \"\"}}, \"colorscale\": {\"diverging\": [[0, \"#8e0152\"], [0.1, \"#c51b7d\"], [0.2, \"#de77ae\"], [0.3, \"#f1b6da\"], [0.4, \"#fde0ef\"], [0.5, \"#f7f7f7\"], [0.6, \"#e6f5d0\"], [0.7, \"#b8e186\"], [0.8, \"#7fbc41\"], [0.9, \"#4d9221\"], [1, \"#276419\"]], \"sequential\": [[0.0, \"#0d0887\"], [0.1111111111111111, \"#46039f\"], [0.2222222222222222, \"#7201a8\"], [0.3333333333333333, \"#9c179e\"], [0.4444444444444444, \"#bd3786\"], [0.5555555555555556, \"#d8576b\"], [0.6666666666666666, \"#ed7953\"], [0.7777777777777778, \"#fb9f3a\"], [0.8888888888888888, \"#fdca26\"], [1.0, \"#f0f921\"]], \"sequentialminus\": [[0.0, \"#0d0887\"], [0.1111111111111111, \"#46039f\"], [0.2222222222222222, \"#7201a8\"], [0.3333333333333333, \"#9c179e\"], [0.4444444444444444, \"#bd3786\"], [0.5555555555555556, \"#d8576b\"], [0.6666666666666666, \"#ed7953\"], [0.7777777777777778, \"#fb9f3a\"], [0.8888888888888888, \"#fdca26\"], [1.0, \"#f0f921\"]]}, \"colorway\": [\"#636efa\", \"#EF553B\", \"#00cc96\", \"#ab63fa\", \"#FFA15A\", \"#19d3f3\", \"#FF6692\", \"#B6E880\", \"#FF97FF\", \"#FECB52\"], \"font\": {\"color\": \"#2a3f5f\"}, \"geo\": {\"bgcolor\": \"white\", \"lakecolor\": \"white\", \"landcolor\": \"white\", \"showlakes\": true, \"showland\": true, \"subunitcolor\": \"#C8D4E3\"}, \"hoverlabel\": {\"align\": \"left\"}, \"hovermode\": \"closest\", \"mapbox\": {\"style\": \"light\"}, \"paper_bgcolor\": \"white\", \"plot_bgcolor\": \"white\", \"polar\": {\"angularaxis\": {\"gridcolor\": \"#EBF0F8\", \"linecolor\": \"#EBF0F8\", \"ticks\": \"\"}, \"bgcolor\": \"white\", \"radialaxis\": {\"gridcolor\": \"#EBF0F8\", \"linecolor\": \"#EBF0F8\", \"ticks\": \"\"}}, \"scene\": {\"xaxis\": {\"backgroundcolor\": \"white\", \"gridcolor\": \"#DFE8F3\", \"gridwidth\": 2, \"linecolor\": \"#EBF0F8\", \"showbackground\": true, \"ticks\": \"\", \"zerolinecolor\": \"#EBF0F8\"}, \"yaxis\": {\"backgroundcolor\": \"white\", \"gridcolor\": \"#DFE8F3\", \"gridwidth\": 2, \"linecolor\": \"#EBF0F8\", \"showbackground\": true, \"ticks\": \"\", \"zerolinecolor\": \"#EBF0F8\"}, \"zaxis\": {\"backgroundcolor\": \"white\", \"gridcolor\": \"#DFE8F3\", \"gridwidth\": 2, \"linecolor\": \"#EBF0F8\", \"showbackground\": true, \"ticks\": \"\", \"zerolinecolor\": \"#EBF0F8\"}}, \"shapedefaults\": {\"line\": {\"color\": \"#2a3f5f\"}}, \"ternary\": {\"aaxis\": {\"gridcolor\": \"#DFE8F3\", \"linecolor\": \"#A2B1C6\", \"ticks\": \"\"}, \"baxis\": {\"gridcolor\": \"#DFE8F3\", \"linecolor\": \"#A2B1C6\", \"ticks\": \"\"}, \"bgcolor\": \"white\", \"caxis\": {\"gridcolor\": \"#DFE8F3\", \"linecolor\": \"#A2B1C6\", \"ticks\": \"\"}}, \"title\": {\"x\": 0.05}, \"xaxis\": {\"automargin\": true, \"gridcolor\": \"#EBF0F8\", \"linecolor\": \"#EBF0F8\", \"ticks\": \"\", \"title\": {\"standoff\": 15}, \"zerolinecolor\": \"#EBF0F8\", \"zerolinewidth\": 2}, \"yaxis\": {\"automargin\": true, \"gridcolor\": \"#EBF0F8\", \"linecolor\": \"#EBF0F8\", \"ticks\": \"\", \"title\": {\"standoff\": 15}, \"zerolinecolor\": \"#EBF0F8\", \"zerolinewidth\": 2}}}, \"width\": 900},                        {\"responsive\": true}                    ).then(function(){\n",
       "                            \n",
       "var gd = document.getElementById('2d66295c-e356-4986-b5f4-c7fda1dbaa22');\n",
       "var x = new MutationObserver(function (mutations, observer) {{\n",
       "        var display = window.getComputedStyle(gd).display;\n",
       "        if (!display || display === 'none') {{\n",
       "            console.log([gd, 'removed!']);\n",
       "            Plotly.purge(gd);\n",
       "            observer.disconnect();\n",
       "        }}\n",
       "}});\n",
       "\n",
       "// Listen for the removal of the full notebook cells\n",
       "var notebookContainer = gd.closest('#notebook-container');\n",
       "if (notebookContainer) {{\n",
       "    x.observe(notebookContainer, {childList: true});\n",
       "}}\n",
       "\n",
       "// Listen for the clearing of the current output cell\n",
       "var outputEl = gd.closest('.output');\n",
       "if (outputEl) {{\n",
       "    x.observe(outputEl, {childList: true});\n",
       "}}\n",
       "\n",
       "                        })                };                });            </script>        </div>"
      ]
     },
     "metadata": {},
     "output_type": "display_data"
    }
   ],
   "source": [
    "fig = go.Figure(data=go.Choropleth(\n",
    "locations = chorodf['CODE'],\n",
    "z = chorodf['AvgTemp'],\n",
    "text = chorodf['COUNTRY'],\n",
    "colorscale = 'Blues',\n",
    "autocolorscale=False,\n",
    "marker_line_color='black',\n",
    "marker_line_width=0.9,\n",
    "colorbar_ticksuffix = '°C',\n",
    "colorbar_title = 'Temperature °C',\n",
    "))\n",
    "\n",
    "fig.update_layout( geo=dict( showframe=True, showcoastlines=True, projection_type='natural earth'),font=dict(size=15,family='sora'),template='plotly_white' ,height=600,width=900,dragmode=False)\n",
    "fig.update_geos(lataxis_showgrid=True, lonaxis_showgrid=True)"
   ]
  },
  {
   "cell_type": "markdown",
   "id": "thermal-native",
   "metadata": {},
   "source": [
    "### Feature Engineering\n",
    "---\n",
    "* Hemispheres\n",
    "* Seasons"
   ]
  },
  {
   "cell_type": "markdown",
   "id": "burning-stable",
   "metadata": {},
   "source": [
    "#### Hemispheres"
   ]
  },
  {
   "cell_type": "code",
   "execution_count": 90,
   "id": "coral-solution",
   "metadata": {},
   "outputs": [],
   "source": [
    "dcity['Country'].unique().__len__()\n",
    "countries = dcity['Country'].unique()"
   ]
  },
  {
   "cell_type": "code",
   "execution_count": 91,
   "id": "latter-cameroon",
   "metadata": {},
   "outputs": [
    {
     "data": {
      "text/plain": [
       "array(['Tanzania', 'South Africa', 'Argentina', 'Angola', 'Peru',\n",
       "       'Mozambique', 'Madagascar', 'Australia', 'Malawi', 'Chile',\n",
       "       'Zambia', 'Zimbabwe', 'Rwanda', 'Burundi', 'Bolivia',\n",
       "       'Papua New Guinea', 'Paraguay', 'New Zealand', 'Uruguay',\n",
       "       'Namibia', 'Botswana', 'Lesotho', 'Timor-Leste', 'Mauritius',\n",
       "       'Eswatini', 'Fiji', 'Comoros', 'Solomon Islands', 'Vanuatu',\n",
       "       'Samoa', 'Seychelles', 'Tuvalu', 'Nauru'], dtype=object)"
      ]
     },
     "execution_count": 91,
     "metadata": {},
     "output_type": "execute_result"
    }
   ],
   "source": [
    "# southern hemisphere countries\n",
    "sh = pd.read_csv('../Data/traveller-dat/SHcountries.csv')\n",
    "sh = sh['country'].values\n",
    "sh"
   ]
  },
  {
   "cell_type": "code",
   "execution_count": 92,
   "id": "powerful-ceremony",
   "metadata": {},
   "outputs": [],
   "source": [
    "# Checking if all countries exist\n",
    "# for c in sh:\n",
    "#     if c in countries:\n",
    "#         pass\n",
    "#     else:\n",
    "#         print(c)"
   ]
  },
  {
   "cell_type": "code",
   "execution_count": 93,
   "id": "optional-marriage",
   "metadata": {},
   "outputs": [],
   "source": [
    "# equator\n",
    "with open('../Data/traveller-dat/equator.txt','r') as f:\n",
    "    eq = f.readlines()"
   ]
  },
  {
   "cell_type": "code",
   "execution_count": 94,
   "id": "distributed-webcam",
   "metadata": {},
   "outputs": [],
   "source": [
    "eq = list(map(lambda x : x.strip(), eq))"
   ]
  },
  {
   "cell_type": "code",
   "execution_count": 95,
   "id": "developing-skirt",
   "metadata": {},
   "outputs": [],
   "source": [
    "# Checking if all countries exist\n",
    "# for c in eq:\n",
    "#     if c in countries:\n",
    "#         pass\n",
    "#     else:\n",
    "#         print(c)"
   ]
  },
  {
   "cell_type": "code",
   "execution_count": 96,
   "id": "fewer-adapter",
   "metadata": {},
   "outputs": [],
   "source": [
    "# print((list(sh) + list(eq)).__len__())\n",
    "# print(set(list(sh) + list(eq)).__len__()) # check"
   ]
  },
  {
   "cell_type": "code",
   "execution_count": 97,
   "id": "banner-panic",
   "metadata": {},
   "outputs": [
    {
     "data": {
      "text/plain": [
       "{'São Tomé and Principe': 'Equator',\n",
       " 'Gabon': 'Equator',\n",
       " 'Congo': 'Equator',\n",
       " 'Uganda': 'Equator',\n",
       " 'Kenya': 'Equator',\n",
       " 'Somalia': 'Equator',\n",
       " 'Maldives': 'Equator',\n",
       " 'Indonesia': 'Equator',\n",
       " 'Kiribati': 'Equator',\n",
       " 'Ecuador': 'Equator',\n",
       " 'Colombia': 'Equator',\n",
       " 'Brazil': 'Equator'}"
      ]
     },
     "execution_count": 97,
     "metadata": {},
     "output_type": "execute_result"
    }
   ],
   "source": [
    "# Dicts\n",
    "equator = {}\n",
    "southernhem = {}\n",
    "for ec,sc in zip(eq,sh):\n",
    "    equator[ec] = 'Equator'\n",
    "    southernhem[sc] = 'Southern Hemisphere'\n",
    "\n",
    "equator\n"
   ]
  },
  {
   "cell_type": "code",
   "execution_count": 98,
   "id": "through-asset",
   "metadata": {},
   "outputs": [
    {
     "data": {
      "text/plain": [
       "{'São Tomé and Principe': 'Equator',\n",
       " 'Gabon': 'Equator',\n",
       " 'Congo': 'Equator',\n",
       " 'Uganda': 'Equator',\n",
       " 'Kenya': 'Equator',\n",
       " 'Somalia': 'Equator',\n",
       " 'Maldives': 'Equator',\n",
       " 'Indonesia': 'Equator',\n",
       " 'Kiribati': 'Equator',\n",
       " 'Ecuador': 'Equator',\n",
       " 'Colombia': 'Equator',\n",
       " 'Brazil': 'Equator',\n",
       " 'Tanzania': 'Southern Hemisphere',\n",
       " 'South Africa': 'Southern Hemisphere',\n",
       " 'Argentina': 'Southern Hemisphere',\n",
       " 'Angola': 'Southern Hemisphere',\n",
       " 'Peru': 'Southern Hemisphere',\n",
       " 'Mozambique': 'Southern Hemisphere',\n",
       " 'Madagascar': 'Southern Hemisphere',\n",
       " 'Australia': 'Southern Hemisphere',\n",
       " 'Malawi': 'Southern Hemisphere',\n",
       " 'Chile': 'Southern Hemisphere',\n",
       " 'Zambia': 'Southern Hemisphere',\n",
       " 'Zimbabwe': 'Southern Hemisphere'}"
      ]
     },
     "execution_count": 98,
     "metadata": {},
     "output_type": "execute_result"
    }
   ],
   "source": [
    "# combine\n",
    "equator.update(southernhem)\n",
    "mapping = equator\n",
    "mapping"
   ]
  },
  {
   "cell_type": "code",
   "execution_count": 99,
   "id": "permanent-rwanda",
   "metadata": {},
   "outputs": [
    {
     "data": {
      "text/plain": [
       "'Northern Hemisphere'"
      ]
     },
     "execution_count": 99,
     "metadata": {},
     "output_type": "execute_result"
    }
   ],
   "source": [
    "mapping.get('India','Northern Hemisphere')"
   ]
  },
  {
   "cell_type": "code",
   "execution_count": 100,
   "id": "constant-witch",
   "metadata": {},
   "outputs": [],
   "source": [
    "dcity = pd.read_csv('unis-country.csv').drop('Unnamed: 0',axis=1)"
   ]
  },
  {
   "cell_type": "code",
   "execution_count": 102,
   "id": "chief-member",
   "metadata": {},
   "outputs": [],
   "source": [
    "# unis_country"
   ]
  },
  {
   "cell_type": "code",
   "execution_count": 103,
   "id": "cosmetic-presentation",
   "metadata": {},
   "outputs": [],
   "source": [
    "dcity['Hemisphere'] = dcity['Country'].apply(lambda x : mapping.get(x,'Northern Hemisphere'))"
   ]
  },
  {
   "cell_type": "code",
   "execution_count": 104,
   "id": "vulnerable-archive",
   "metadata": {},
   "outputs": [
    {
     "data": {
      "text/plain": [
       "array(['Australia', 'South Africa', 'Chile', 'Peru', 'Argentina',\n",
       "       'Tanzania'], dtype=object)"
      ]
     },
     "execution_count": 104,
     "metadata": {},
     "output_type": "execute_result"
    }
   ],
   "source": [
    "dcity[dcity['Hemisphere']=='Southern Hemisphere']['Country'].unique()"
   ]
  },
  {
   "cell_type": "code",
   "execution_count": 105,
   "id": "upset-chapter",
   "metadata": {},
   "outputs": [],
   "source": [
    "# dcity[dcity['Hemisphere']=='Northern Hemisphere']['Country'].unique()"
   ]
  },
  {
   "cell_type": "code",
   "execution_count": 106,
   "id": "focused-literature",
   "metadata": {},
   "outputs": [],
   "source": [
    "# removed bhutan & north korea\n",
    "with open('../Data/traveller-dat/monsoon.txt','r') as f:\n",
    "    monsoon = f.readlines()"
   ]
  },
  {
   "cell_type": "code",
   "execution_count": 107,
   "id": "impressed-tunnel",
   "metadata": {},
   "outputs": [],
   "source": [
    "monsoon = list(map(lambda x:x.split('\\t')[0],monsoon))"
   ]
  },
  {
   "cell_type": "code",
   "execution_count": null,
   "id": "wicked-wednesday",
   "metadata": {},
   "outputs": [],
   "source": []
  },
  {
   "cell_type": "markdown",
   "id": "august-madagascar",
   "metadata": {},
   "source": [
    "#### Seasons"
   ]
  },
  {
   "cell_type": "code",
   "execution_count": null,
   "id": "attempted-yeast",
   "metadata": {},
   "outputs": [],
   "source": [
    "# for Nothern Hemisphere & Equator\n",
    "def mapnh(month):\n",
    "    if month in ('Dec','Jan', 'Feb', ):\n",
    "        season = 'Winter'\n",
    "    elif month in ('Mar', 'Apr', 'May', ):\n",
    "        season = 'Spring'\n",
    "    elif month in ('Jun', 'Jul', 'Aug',):\n",
    "        season = 'Summer'\n",
    "    else:\n",
    "        season = 'Autumn'\n",
    "    \n",
    "    return season"
   ]
  },
  {
   "cell_type": "code",
   "execution_count": null,
   "id": "atmospheric-corporation",
   "metadata": {},
   "outputs": [],
   "source": [
    "# for monsoon\n",
    "def mapmon(month):\n",
    "    if month in ('Nov','Dec','Jan', 'Feb', ):\n",
    "        season = 'Winter'\n",
    "    elif month in ('Mar', 'Apr', ):\n",
    "        season = 'Spring'\n",
    "    elif month in ('May','Jun',):\n",
    "        season = 'Summer'\n",
    "    elif month in ('Jul','Aug'):\n",
    "        season = 'Monsoon'\n",
    "    else:\n",
    "        season = 'Autumn'\n",
    "    return season"
   ]
  },
  {
   "cell_type": "code",
   "execution_count": null,
   "id": "acknowledged-ethiopia",
   "metadata": {},
   "outputs": [],
   "source": [
    "# southern hemisphere\n",
    "def mapsh(month):\n",
    "    if month in ('Dec','Jan', 'Feb', ):\n",
    "        season = 'Summer'\n",
    "    elif month in ('Mar', 'Apr', 'May', ):\n",
    "        season = 'Autumn'\n",
    "    elif month in ('Jun', 'Jul', 'Aug',):\n",
    "        season = 'Winter'\n",
    "    else:\n",
    "        season = 'Spring'\n",
    "    return season"
   ]
  },
  {
   "cell_type": "code",
   "execution_count": null,
   "id": "corresponding-copying",
   "metadata": {},
   "outputs": [],
   "source": [
    "# # Check\n",
    "# for mcountry in monsoon:\n",
    "#     if mcountry in countries:\n",
    "#         pass\n",
    "#     else:\n",
    "#         print(mcountry)\n",
    "# # after removing bhutan and north korea"
   ]
  },
  {
   "cell_type": "markdown",
   "id": "established-ebony",
   "metadata": {},
   "source": [
    "#### Three splits, Northern, Southern, equator \n",
    "* Countries at equator and northern hemisphere share the same seasonal mapping \n",
    "* monsoon countries will be mapped next\n",
    "* then southern hemisphere"
   ]
  },
  {
   "cell_type": "code",
   "execution_count": null,
   "id": "normal-depth",
   "metadata": {},
   "outputs": [],
   "source": [
    "# check if monsoon countries overlap with equator's\n",
    "\n",
    "print('before-duplicates',(eq + monsoon).__len__())\n",
    "print('after-duplicates',set(eq + monsoon).__len__())\n"
   ]
  },
  {
   "cell_type": "code",
   "execution_count": null,
   "id": "sealed-therapist",
   "metadata": {},
   "outputs": [],
   "source": [
    "set.intersection(set(eq),set(monsoon))"
   ]
  },
  {
   "cell_type": "code",
   "execution_count": null,
   "id": "outside-cache",
   "metadata": {},
   "outputs": [],
   "source": [
    "monsoon.remove('Indonesia')"
   ]
  },
  {
   "cell_type": "code",
   "execution_count": null,
   "id": "aboriginal-damages",
   "metadata": {},
   "outputs": [],
   "source": [
    "# categories = ['Northern Hemisphere','Equator','Southern Hemisphere']\n",
    "# dfs = []\n",
    "# for category in categories:\n",
    "#     dfs.append(dcity[dcity['Hemisphere'] == category])\n",
    "    "
   ]
  },
  {
   "cell_type": "code",
   "execution_count": null,
   "id": "incorporated-jefferson",
   "metadata": {},
   "outputs": [],
   "source": [
    "# dfs[0]['Seasons'] = dfs[0]['Month'].apply(mapnh)"
   ]
  },
  {
   "cell_type": "code",
   "execution_count": null,
   "id": "proof-theater",
   "metadata": {},
   "outputs": [],
   "source": [
    "# dfs[1]['Seasons'] = dfs[1]['Month'].apply(mapnh)"
   ]
  },
  {
   "cell_type": "code",
   "execution_count": null,
   "id": "signal-fusion",
   "metadata": {},
   "outputs": [],
   "source": [
    "# dfs[2]['Seasons'] = dfs[2]['Month'].apply(mapsh)"
   ]
  },
  {
   "cell_type": "code",
   "execution_count": null,
   "id": "hundred-architecture",
   "metadata": {},
   "outputs": [],
   "source": [
    "# dcity = pd.concat(dfs)"
   ]
  },
  {
   "cell_type": "code",
   "execution_count": null,
   "id": "hidden-expense",
   "metadata": {},
   "outputs": [],
   "source": [
    "# # Monsoon\n",
    "# monsoon_df = dcity.loc[dcity['Country'].isin(monsoon)]\n",
    "# dcity = dcity.loc[~dcity['Country'].isin(monsoon)]"
   ]
  },
  {
   "cell_type": "code",
   "execution_count": null,
   "id": "champion-struggle",
   "metadata": {
    "scrolled": true
   },
   "outputs": [],
   "source": [
    "# # map monsoon\n",
    "# monsoon_df['Seasons'] = monsoon_df['Month'].apply(mapmon)"
   ]
  },
  {
   "cell_type": "code",
   "execution_count": null,
   "id": "optical-poker",
   "metadata": {},
   "outputs": [],
   "source": [
    "# Concat all the monsoon_df and dcity"
   ]
  },
  {
   "cell_type": "code",
   "execution_count": null,
   "id": "occasional-adobe",
   "metadata": {},
   "outputs": [],
   "source": [
    "# dcity = pd.concat([dcity,monsoon_df])\n",
    "# dcity"
   ]
  },
  {
   "cell_type": "code",
   "execution_count": null,
   "id": "accomplished-transcription",
   "metadata": {},
   "outputs": [],
   "source": []
  },
  {
   "cell_type": "code",
   "execution_count": null,
   "id": "painful-kernel",
   "metadata": {},
   "outputs": [],
   "source": [
    "# pipeline -- for seasonal feature engineering\n",
    "def mapseasons(dcity):\n",
    "    countries = dcity['Country'].unique()\n",
    "    dcity['Hemisphere'] = dcity['Country'].apply(lambda x : mapping.get(x,'Northern Hemisphere'))\n",
    "    categories = ['Northern Hemisphere','Equator','Southern Hemisphere']\n",
    "    dfs = []\n",
    "    for category in categories:\n",
    "        dfs.append(dcity[dcity['Hemisphere'] == category])\n",
    "    \n",
    "    dfs[0]['Seasons'] = dfs[0]['Month'].apply(mapnh) # NH\n",
    "    dfs[1]['Seasons'] = dfs[1]['Month'].apply(mapnh) # EQ\n",
    "    dfs[2]['Seasons'] = dfs[2]['Month'].apply(mapsh) # SH\n",
    "    \n",
    "    dcity = pd.concat(dfs)\n",
    "    \n",
    "    # Monsoon\n",
    "    monsoon_df = dcity.loc[dcity['Country'].isin(monsoon)]\n",
    "    dcity = dcity.loc[~dcity['Country'].isin(monsoon)]\n",
    "    \n",
    "    monsoon_df['Seasons'] = monsoon_df['Month'].apply(mapmon)\n",
    "    \n",
    "    dcity = pd.concat([dcity,monsoon_df])\n",
    "    \n",
    "    return dcity\n",
    "    \n"
   ]
  },
  {
   "cell_type": "code",
   "execution_count": null,
   "id": "tired-creator",
   "metadata": {},
   "outputs": [],
   "source": [
    "# Applying the same feature engg to Dmajcity\n",
    "dmajcity = mapseasons(dmajcity)"
   ]
  },
  {
   "cell_type": "code",
   "execution_count": null,
   "id": "unlikely-footwear",
   "metadata": {},
   "outputs": [],
   "source": [
    "dcity = mapseasons(dcity)"
   ]
  },
  {
   "cell_type": "code",
   "execution_count": null,
   "id": "iraqi-ridge",
   "metadata": {},
   "outputs": [],
   "source": [
    "# Countries Exactly Aligned with the countries in the unversity list\n",
    "# dcity.to_csv('unis-country.csv')"
   ]
  },
  {
   "cell_type": "code",
   "execution_count": null,
   "id": "smart-agent",
   "metadata": {},
   "outputs": [],
   "source": [
    "# save dfs \n",
    "# dcity.to_csv('AvgTempcities.csv')\n",
    "# dmajcity.to_csv('AvgTempMajorCity.csv')"
   ]
  },
  {
   "cell_type": "markdown",
   "id": "combined-reader",
   "metadata": {},
   "source": [
    "#### **Summary Content -- Analytical**\n",
    "---\n",
    "* hemisphere differences \n",
    "* seasons \n",
    "* A statement with number of records for that particular city \n",
    "* Avgerage temperature for each season & each month \n",
    "* Winters can get as cold as .., summers can get as hot as \n",
    "* A small box plot with annotations \n",
    "* selective scrutiny -- to check for a particular year\n",
    "\n"
   ]
  },
  {
   "cell_type": "code",
   "execution_count": 109,
   "id": "organized-korean",
   "metadata": {},
   "outputs": [],
   "source": [
    "# SAMPLE CITY: Toronto\n",
    "sample_city = 'Toronto'"
   ]
  },
  {
   "cell_type": "code",
   "execution_count": 110,
   "id": "inside-suite",
   "metadata": {},
   "outputs": [],
   "source": [
    "# CITY : COMPARATIVE SUMMARY\n",
    "def city_synopsis(data, city):\n",
    "    \n",
    "    # Dictionary of everything\n",
    "    package = {}\n",
    "\n",
    "    df = data[data['City']==city]\n",
    "    \n",
    "    # Lowest Ever\n",
    "    least_series = df.iloc[df['AverageTemperature'].argmin(),:]\n",
    "    \n",
    "    min_avgT = least_series['AverageTemperature']\n",
    "    min_season = least_series['Seasons']\n",
    "    min_month = least_series['Month']\n",
    "    min_year = least_series['Year']\n",
    "    min_deltaT = least_series['AverageTemperatureUncertainty']\n",
    "    \n",
    "    # Highest Ever\n",
    "    high_series = df.iloc[df['AverageTemperature'].argmax(),:]\n",
    "    max_avgT = high_series['AverageTemperature']\n",
    "    max_season = high_series['Seasons']\n",
    "    max_month = high_series['Month']\n",
    "    max_year = high_series['Year']\n",
    "    max_deltaT = high_series['AverageTemperatureUncertainty']\n",
    "    \n",
    "    maxdata = {'avgT':max_avgT, 'season':max_season, 'deltaT':max_deltaT,\n",
    "                  'year':max_year, 'month':max_month}\n",
    "    mindata = {'avgT':min_avgT, 'season':min_season, 'deltaT':min_deltaT,\n",
    "                  'year':min_year, 'month':min_month}\n",
    "    \n",
    "    package['Least'] = mindata\n",
    "    package['Highest'] = maxdata\n",
    "\n",
    "    \n",
    "    summarydf = df.groupby(['Month','Seasons'])[['AverageTemperature','AverageTemperatureUncertainty']].mean()\n",
    "\n",
    "    \n",
    "    # hemisphere\n",
    "    hemisphere = df['Hemisphere'].values[0]\n",
    "    package['hemisphere'] = hemisphere\n",
    "    \n",
    "    #seasons\n",
    "    seasons, summary_df = fetch_seasonal_pattern(summarydf)\n",
    "    \n",
    "\n",
    "    seasonal_avg = {}\n",
    "    for season in seasons:\n",
    "        temp = summary_df[summary_df['Seasons']==season][['AverageTemperature','AverageTemperatureUncertainty']].mean()\n",
    "        seasonal_avg[season] = list(temp.values)\n",
    "        \n",
    "    package['seasons'] = seasonal_avg\n",
    "    \n",
    "\n",
    "    \n",
    "    return package\n",
    "\n",
    "    \n",
    "    \n",
    "    \n",
    "    \n",
    "    "
   ]
  },
  {
   "cell_type": "code",
   "execution_count": 111,
   "id": "incomplete-contribution",
   "metadata": {},
   "outputs": [
    {
     "data": {
      "text/html": [
       "<div>\n",
       "<style scoped>\n",
       "    .dataframe tbody tr th:only-of-type {\n",
       "        vertical-align: middle;\n",
       "    }\n",
       "\n",
       "    .dataframe tbody tr th {\n",
       "        vertical-align: top;\n",
       "    }\n",
       "\n",
       "    .dataframe thead th {\n",
       "        text-align: right;\n",
       "    }\n",
       "</style>\n",
       "<table border=\"1\" class=\"dataframe\">\n",
       "  <thead>\n",
       "    <tr style=\"text-align: right;\">\n",
       "      <th></th>\n",
       "      <th>dt</th>\n",
       "      <th>AverageTemperature</th>\n",
       "      <th>AverageTemperatureUncertainty</th>\n",
       "      <th>City</th>\n",
       "      <th>Country</th>\n",
       "      <th>Latitude</th>\n",
       "      <th>Longitude</th>\n",
       "      <th>Month</th>\n",
       "      <th>Year</th>\n",
       "      <th>Hemisphere</th>\n",
       "      <th>Seasons</th>\n",
       "    </tr>\n",
       "  </thead>\n",
       "  <tbody>\n",
       "    <tr>\n",
       "      <th>66275</th>\n",
       "      <td>1743-11-01</td>\n",
       "      <td>-0.106000</td>\n",
       "      <td>1.905000</td>\n",
       "      <td>Toronto</td>\n",
       "      <td>Canada</td>\n",
       "      <td>44.20N</td>\n",
       "      <td>80.50W</td>\n",
       "      <td>Nov</td>\n",
       "      <td>1743</td>\n",
       "      <td>Northern Hemisphere</td>\n",
       "      <td>Autumn</td>\n",
       "    </tr>\n",
       "    <tr>\n",
       "      <th>66276</th>\n",
       "      <td>1743-12-01</td>\n",
       "      <td>5.773911</td>\n",
       "      <td>1.277309</td>\n",
       "      <td>Toronto</td>\n",
       "      <td>Canada</td>\n",
       "      <td>44.20N</td>\n",
       "      <td>80.50W</td>\n",
       "      <td>Dec</td>\n",
       "      <td>1743</td>\n",
       "      <td>Northern Hemisphere</td>\n",
       "      <td>Winter</td>\n",
       "    </tr>\n",
       "    <tr>\n",
       "      <th>66277</th>\n",
       "      <td>1744-01-01</td>\n",
       "      <td>5.773911</td>\n",
       "      <td>1.277309</td>\n",
       "      <td>Toronto</td>\n",
       "      <td>Canada</td>\n",
       "      <td>44.20N</td>\n",
       "      <td>80.50W</td>\n",
       "      <td>Jan</td>\n",
       "      <td>1744</td>\n",
       "      <td>Northern Hemisphere</td>\n",
       "      <td>Winter</td>\n",
       "    </tr>\n",
       "    <tr>\n",
       "      <th>66278</th>\n",
       "      <td>1744-02-01</td>\n",
       "      <td>5.773911</td>\n",
       "      <td>1.277309</td>\n",
       "      <td>Toronto</td>\n",
       "      <td>Canada</td>\n",
       "      <td>44.20N</td>\n",
       "      <td>80.50W</td>\n",
       "      <td>Feb</td>\n",
       "      <td>1744</td>\n",
       "      <td>Northern Hemisphere</td>\n",
       "      <td>Winter</td>\n",
       "    </tr>\n",
       "    <tr>\n",
       "      <th>66279</th>\n",
       "      <td>1744-03-01</td>\n",
       "      <td>5.773911</td>\n",
       "      <td>1.277309</td>\n",
       "      <td>Toronto</td>\n",
       "      <td>Canada</td>\n",
       "      <td>44.20N</td>\n",
       "      <td>80.50W</td>\n",
       "      <td>Mar</td>\n",
       "      <td>1744</td>\n",
       "      <td>Northern Hemisphere</td>\n",
       "      <td>Spring</td>\n",
       "    </tr>\n",
       "    <tr>\n",
       "      <th>...</th>\n",
       "      <td>...</td>\n",
       "      <td>...</td>\n",
       "      <td>...</td>\n",
       "      <td>...</td>\n",
       "      <td>...</td>\n",
       "      <td>...</td>\n",
       "      <td>...</td>\n",
       "      <td>...</td>\n",
       "      <td>...</td>\n",
       "      <td>...</td>\n",
       "      <td>...</td>\n",
       "    </tr>\n",
       "    <tr>\n",
       "      <th>69509</th>\n",
       "      <td>2013-05-01</td>\n",
       "      <td>13.818000</td>\n",
       "      <td>0.278000</td>\n",
       "      <td>Toronto</td>\n",
       "      <td>Canada</td>\n",
       "      <td>44.20N</td>\n",
       "      <td>80.50W</td>\n",
       "      <td>May</td>\n",
       "      <td>2013</td>\n",
       "      <td>Northern Hemisphere</td>\n",
       "      <td>Spring</td>\n",
       "    </tr>\n",
       "    <tr>\n",
       "      <th>69510</th>\n",
       "      <td>2013-06-01</td>\n",
       "      <td>17.367000</td>\n",
       "      <td>0.226000</td>\n",
       "      <td>Toronto</td>\n",
       "      <td>Canada</td>\n",
       "      <td>44.20N</td>\n",
       "      <td>80.50W</td>\n",
       "      <td>Jun</td>\n",
       "      <td>2013</td>\n",
       "      <td>Northern Hemisphere</td>\n",
       "      <td>Summer</td>\n",
       "    </tr>\n",
       "    <tr>\n",
       "      <th>69511</th>\n",
       "      <td>2013-07-01</td>\n",
       "      <td>20.460000</td>\n",
       "      <td>0.290000</td>\n",
       "      <td>Toronto</td>\n",
       "      <td>Canada</td>\n",
       "      <td>44.20N</td>\n",
       "      <td>80.50W</td>\n",
       "      <td>Jul</td>\n",
       "      <td>2013</td>\n",
       "      <td>Northern Hemisphere</td>\n",
       "      <td>Summer</td>\n",
       "    </tr>\n",
       "    <tr>\n",
       "      <th>69512</th>\n",
       "      <td>2013-08-01</td>\n",
       "      <td>18.520000</td>\n",
       "      <td>0.342000</td>\n",
       "      <td>Toronto</td>\n",
       "      <td>Canada</td>\n",
       "      <td>44.20N</td>\n",
       "      <td>80.50W</td>\n",
       "      <td>Aug</td>\n",
       "      <td>2013</td>\n",
       "      <td>Northern Hemisphere</td>\n",
       "      <td>Summer</td>\n",
       "    </tr>\n",
       "    <tr>\n",
       "      <th>69513</th>\n",
       "      <td>2013-09-01</td>\n",
       "      <td>14.599000</td>\n",
       "      <td>1.274000</td>\n",
       "      <td>Toronto</td>\n",
       "      <td>Canada</td>\n",
       "      <td>44.20N</td>\n",
       "      <td>80.50W</td>\n",
       "      <td>Sept</td>\n",
       "      <td>2013</td>\n",
       "      <td>Northern Hemisphere</td>\n",
       "      <td>Autumn</td>\n",
       "    </tr>\n",
       "  </tbody>\n",
       "</table>\n",
       "<p>3239 rows × 11 columns</p>\n",
       "</div>"
      ],
      "text/plain": [
       "               dt  AverageTemperature  AverageTemperatureUncertainty     City  \\\n",
       "66275  1743-11-01           -0.106000                       1.905000  Toronto   \n",
       "66276  1743-12-01            5.773911                       1.277309  Toronto   \n",
       "66277  1744-01-01            5.773911                       1.277309  Toronto   \n",
       "66278  1744-02-01            5.773911                       1.277309  Toronto   \n",
       "66279  1744-03-01            5.773911                       1.277309  Toronto   \n",
       "...           ...                 ...                            ...      ...   \n",
       "69509  2013-05-01           13.818000                       0.278000  Toronto   \n",
       "69510  2013-06-01           17.367000                       0.226000  Toronto   \n",
       "69511  2013-07-01           20.460000                       0.290000  Toronto   \n",
       "69512  2013-08-01           18.520000                       0.342000  Toronto   \n",
       "69513  2013-09-01           14.599000                       1.274000  Toronto   \n",
       "\n",
       "      Country Latitude Longitude Month  Year           Hemisphere Seasons  \n",
       "66275  Canada   44.20N    80.50W   Nov  1743  Northern Hemisphere  Autumn  \n",
       "66276  Canada   44.20N    80.50W   Dec  1743  Northern Hemisphere  Winter  \n",
       "66277  Canada   44.20N    80.50W   Jan  1744  Northern Hemisphere  Winter  \n",
       "66278  Canada   44.20N    80.50W   Feb  1744  Northern Hemisphere  Winter  \n",
       "66279  Canada   44.20N    80.50W   Mar  1744  Northern Hemisphere  Spring  \n",
       "...       ...      ...       ...   ...   ...                  ...     ...  \n",
       "69509  Canada   44.20N    80.50W   May  2013  Northern Hemisphere  Spring  \n",
       "69510  Canada   44.20N    80.50W   Jun  2013  Northern Hemisphere  Summer  \n",
       "69511  Canada   44.20N    80.50W   Jul  2013  Northern Hemisphere  Summer  \n",
       "69512  Canada   44.20N    80.50W   Aug  2013  Northern Hemisphere  Summer  \n",
       "69513  Canada   44.20N    80.50W  Sept  2013  Northern Hemisphere  Autumn  \n",
       "\n",
       "[3239 rows x 11 columns]"
      ]
     },
     "execution_count": 111,
     "metadata": {},
     "output_type": "execute_result"
    }
   ],
   "source": [
    "tordf = dmajcity[dmajcity['City']==sample_city]\n",
    "tordf"
   ]
  },
  {
   "cell_type": "code",
   "execution_count": 112,
   "id": "considerable-gasoline",
   "metadata": {},
   "outputs": [
    {
     "name": "stdout",
     "output_type": "stream",
     "text": [
      "Toronto is a part of Northern Hemisphere\n"
     ]
    }
   ],
   "source": [
    "# Hemisphere\n",
    "print(f\"{sample_city} is a part of {tordf['Hemisphere'].values[0]}\")"
   ]
  },
  {
   "cell_type": "code",
   "execution_count": 113,
   "id": "cloudy-silence",
   "metadata": {},
   "outputs": [],
   "source": [
    "# Seasonal Pattern\n",
    "def fetch_seasonal_pattern(ex):\n",
    "    \n",
    "    cats = ['Jan', 'Feb', 'Mar', 'Apr','May','Jun', 'Jul', 'Aug','Sept', 'Oct', 'Nov', 'Dec']\n",
    "    ex = ex.reset_index()\n",
    "    ex['Month'] =  pd.CategoricalIndex(ex['Month'], categories=cats, ordered=True)\n",
    "    seasons = list(ex.sort_values(by='Month')['Seasons'].unique())\n",
    "    ex = ex.sort_values(by='Month')\n",
    "    return seasons, ex\n",
    "  \n"
   ]
  },
  {
   "cell_type": "code",
   "execution_count": 114,
   "id": "genetic-admission",
   "metadata": {},
   "outputs": [],
   "source": [
    "ex = tordf.groupby(['Month','Seasons'])[['AverageTemperature','AverageTemperatureUncertainty']].mean()"
   ]
  },
  {
   "cell_type": "code",
   "execution_count": 115,
   "id": "alike-render",
   "metadata": {},
   "outputs": [
    {
     "name": "stdout",
     "output_type": "stream",
     "text": [
      "Toronto has the following seasonal pattern: ['Winter', 'Spring', 'Summer', 'Autumn']\n"
     ]
    }
   ],
   "source": [
    "seasons,_ = fetch_seasonal_pattern(ex)\n",
    "print(f\"{sample_city} has the following seasonal pattern: {str(seasons)}\")"
   ]
  },
  {
   "cell_type": "code",
   "execution_count": 116,
   "id": "skilled-classics",
   "metadata": {},
   "outputs": [],
   "source": [
    "# Seasonal Average, Min & Max\n",
    "seasons, summary_df = fetch_seasonal_pattern(ex)"
   ]
  },
  {
   "cell_type": "code",
   "execution_count": 117,
   "id": "naval-failing",
   "metadata": {},
   "outputs": [
    {
     "data": {
      "text/html": [
       "<div>\n",
       "<style scoped>\n",
       "    .dataframe tbody tr th:only-of-type {\n",
       "        vertical-align: middle;\n",
       "    }\n",
       "\n",
       "    .dataframe tbody tr th {\n",
       "        vertical-align: top;\n",
       "    }\n",
       "\n",
       "    .dataframe thead th {\n",
       "        text-align: right;\n",
       "    }\n",
       "</style>\n",
       "<table border=\"1\" class=\"dataframe\">\n",
       "  <thead>\n",
       "    <tr style=\"text-align: right;\">\n",
       "      <th></th>\n",
       "      <th>Month</th>\n",
       "      <th>Seasons</th>\n",
       "      <th>AverageTemperature</th>\n",
       "      <th>AverageTemperatureUncertainty</th>\n",
       "    </tr>\n",
       "  </thead>\n",
       "  <tbody>\n",
       "    <tr>\n",
       "      <th>4</th>\n",
       "      <td>Jan</td>\n",
       "      <td>Winter</td>\n",
       "      <td>-7.686039</td>\n",
       "      <td>1.642607</td>\n",
       "    </tr>\n",
       "    <tr>\n",
       "      <th>3</th>\n",
       "      <td>Feb</td>\n",
       "      <td>Winter</td>\n",
       "      <td>-7.421376</td>\n",
       "      <td>1.508088</td>\n",
       "    </tr>\n",
       "    <tr>\n",
       "      <th>7</th>\n",
       "      <td>Mar</td>\n",
       "      <td>Spring</td>\n",
       "      <td>-2.840717</td>\n",
       "      <td>1.342318</td>\n",
       "    </tr>\n",
       "    <tr>\n",
       "      <th>0</th>\n",
       "      <td>Apr</td>\n",
       "      <td>Spring</td>\n",
       "      <td>4.601750</td>\n",
       "      <td>1.208708</td>\n",
       "    </tr>\n",
       "    <tr>\n",
       "      <th>8</th>\n",
       "      <td>May</td>\n",
       "      <td>Spring</td>\n",
       "      <td>11.343178</td>\n",
       "      <td>1.162294</td>\n",
       "    </tr>\n",
       "    <tr>\n",
       "      <th>6</th>\n",
       "      <td>Jun</td>\n",
       "      <td>Summer</td>\n",
       "      <td>16.619971</td>\n",
       "      <td>1.210787</td>\n",
       "    </tr>\n",
       "    <tr>\n",
       "      <th>5</th>\n",
       "      <td>Jul</td>\n",
       "      <td>Summer</td>\n",
       "      <td>18.873815</td>\n",
       "      <td>1.167041</td>\n",
       "    </tr>\n",
       "    <tr>\n",
       "      <th>1</th>\n",
       "      <td>Aug</td>\n",
       "      <td>Summer</td>\n",
       "      <td>17.956782</td>\n",
       "      <td>1.140841</td>\n",
       "    </tr>\n",
       "    <tr>\n",
       "      <th>11</th>\n",
       "      <td>Sept</td>\n",
       "      <td>Autumn</td>\n",
       "      <td>13.977908</td>\n",
       "      <td>1.087028</td>\n",
       "    </tr>\n",
       "    <tr>\n",
       "      <th>10</th>\n",
       "      <td>Oct</td>\n",
       "      <td>Autumn</td>\n",
       "      <td>7.460395</td>\n",
       "      <td>1.148442</td>\n",
       "    </tr>\n",
       "    <tr>\n",
       "      <th>9</th>\n",
       "      <td>Nov</td>\n",
       "      <td>Autumn</td>\n",
       "      <td>1.262927</td>\n",
       "      <td>1.274825</td>\n",
       "    </tr>\n",
       "    <tr>\n",
       "      <th>2</th>\n",
       "      <td>Dec</td>\n",
       "      <td>Winter</td>\n",
       "      <td>-4.855414</td>\n",
       "      <td>1.434250</td>\n",
       "    </tr>\n",
       "  </tbody>\n",
       "</table>\n",
       "</div>"
      ],
      "text/plain": [
       "   Month Seasons  AverageTemperature  AverageTemperatureUncertainty\n",
       "4    Jan  Winter           -7.686039                       1.642607\n",
       "3    Feb  Winter           -7.421376                       1.508088\n",
       "7    Mar  Spring           -2.840717                       1.342318\n",
       "0    Apr  Spring            4.601750                       1.208708\n",
       "8    May  Spring           11.343178                       1.162294\n",
       "6    Jun  Summer           16.619971                       1.210787\n",
       "5    Jul  Summer           18.873815                       1.167041\n",
       "1    Aug  Summer           17.956782                       1.140841\n",
       "11  Sept  Autumn           13.977908                       1.087028\n",
       "10   Oct  Autumn            7.460395                       1.148442\n",
       "9    Nov  Autumn            1.262927                       1.274825\n",
       "2    Dec  Winter           -4.855414                       1.434250"
      ]
     },
     "execution_count": 117,
     "metadata": {},
     "output_type": "execute_result"
    }
   ],
   "source": [
    "summary_df"
   ]
  },
  {
   "cell_type": "code",
   "execution_count": 118,
   "id": "difficult-grain",
   "metadata": {},
   "outputs": [],
   "source": [
    "test = dcity[dcity['City']==sample_city]"
   ]
  },
  {
   "cell_type": "code",
   "execution_count": 119,
   "id": "boolean-appreciation",
   "metadata": {},
   "outputs": [
    {
     "name": "stdout",
     "output_type": "stream",
     "text": [
      "dt                                        1934-02-01\n",
      "AverageTemperature                           -15.502\n",
      "AverageTemperatureUncertainty                  0.528\n",
      "City                                         Toronto\n",
      "Country                                       Canada\n",
      "Latitude                                      44.20N\n",
      "Longitude                                     80.50W\n",
      "Month                                            Feb\n",
      "Year                                            1934\n",
      "Hemisphere                       Northern Hemisphere\n",
      "Seasons                                       Winter\n",
      "Name: 984348, dtype: object\n",
      "--------------------\n",
      "-15.502\n",
      "Winter\n",
      "0.528\n",
      "1934\n",
      "Feb\n"
     ]
    }
   ],
   "source": [
    "# Lowest Ever\n",
    "print(test.iloc[test['AverageTemperature'].argmin(),:])\n",
    "print('--'*10)\n",
    "print(test.iloc[test['AverageTemperature'].argmin(),:]['AverageTemperature'])\n",
    "print(test.iloc[test['AverageTemperature'].argmin(),:]['Seasons'])\n",
    "print(test.iloc[test['AverageTemperature'].argmin(),:]['AverageTemperatureUncertainty'])\n",
    "print(test.iloc[test['AverageTemperature'].argmin(),:]['Year'])\n",
    "print(test.iloc[test['AverageTemperature'].argmin(),:]['Month'])"
   ]
  },
  {
   "cell_type": "code",
   "execution_count": 120,
   "id": "endless-division",
   "metadata": {},
   "outputs": [
    {
     "name": "stdout",
     "output_type": "stream",
     "text": [
      "dt                                        1761-07-01\n",
      "AverageTemperature                            25.649\n",
      "AverageTemperatureUncertainty                  1.854\n",
      "City                                         Toronto\n",
      "Country                                       Canada\n",
      "Latitude                                      44.20N\n",
      "Longitude                                     80.50W\n",
      "Month                                            Jul\n",
      "Year                                            1761\n",
      "Hemisphere                       Northern Hemisphere\n",
      "Seasons                                       Summer\n",
      "Name: 982277, dtype: object\n",
      "--------------------\n",
      "25.649\n",
      "Summer\n",
      "1.854\n",
      "1761\n",
      "Jul\n"
     ]
    }
   ],
   "source": [
    "# Highest Ever\n",
    "print(test.iloc[test['AverageTemperature'].argmax(),:])\n",
    "print('--'*10)\n",
    "print(test.iloc[test['AverageTemperature'].argmax(),:]['AverageTemperature'])\n",
    "print(test.iloc[test['AverageTemperature'].argmax(),:]['Seasons'])\n",
    "print(test.iloc[test['AverageTemperature'].argmax(),:]['AverageTemperatureUncertainty'])\n",
    "print(test.iloc[test['AverageTemperature'].argmax(),:]['Year'])\n",
    "print(test.iloc[test['AverageTemperature'].argmax(),:]['Month'])"
   ]
  },
  {
   "cell_type": "code",
   "execution_count": 121,
   "id": "damaged-bouquet",
   "metadata": {
    "scrolled": true
   },
   "outputs": [
    {
     "data": {
      "text/plain": [
       "{'Least': {'avgT': -15.502,\n",
       "  'season': 'Winter',\n",
       "  'deltaT': 0.528,\n",
       "  'year': 1934,\n",
       "  'month': 'Feb'},\n",
       " 'Highest': {'avgT': 25.649,\n",
       "  'season': 'Summer',\n",
       "  'deltaT': 1.854,\n",
       "  'year': 1761,\n",
       "  'month': 'Jul'},\n",
       " 'hemisphere': 'Northern Hemisphere',\n",
       " 'seasons': {'Winter': [-6.654276267289258, 1.5283150325641357],\n",
       "  'Spring': [4.368070207647953, 1.2377733477189383],\n",
       "  'Summer': [17.816856188758006, 1.172889687565099],\n",
       "  'Autumn': [7.567076648570473, 1.1700981121592964]}}"
      ]
     },
     "execution_count": 121,
     "metadata": {},
     "output_type": "execute_result"
    }
   ],
   "source": [
    "toronto_pack = city_synopsis(dcity, 'Toronto')\n",
    "toronto_pack"
   ]
  },
  {
   "cell_type": "code",
   "execution_count": 122,
   "id": "engaged-print",
   "metadata": {},
   "outputs": [
    {
     "data": {
      "text/plain": [
       "{'Least': {'avgT': 13.924,\n",
       "  'season': 'Winter',\n",
       "  'deltaT': 2.736,\n",
       "  'year': 1813,\n",
       "  'month': 'Jan'},\n",
       " 'Highest': {'avgT': 35.115,\n",
       "  'season': 'Summer',\n",
       "  'deltaT': 0.31,\n",
       "  'year': 2010,\n",
       "  'month': 'May'},\n",
       " 'hemisphere': 'Northern Hemisphere',\n",
       " 'seasons': {'Winter': [21.898976555881706, 1.0415751253102425],\n",
       "  'Spring': [28.80028427970919, 0.9693947965604248],\n",
       "  'Summer': [31.772804146633234, 0.8901558412962389],\n",
       "  'Monsoon': [28.573661630704176, 0.8450397707801878],\n",
       "  'Autumn': [27.433477128578765, 0.8575299188013155]}}"
      ]
     },
     "execution_count": 122,
     "metadata": {},
     "output_type": "execute_result"
    }
   ],
   "source": [
    "hyd_pack = city_synopsis(dcity, 'Hyderabad')\n",
    "hyd_pack"
   ]
  },
  {
   "cell_type": "code",
   "execution_count": 123,
   "id": "driven-lighting",
   "metadata": {},
   "outputs": [],
   "source": [
    "# boxplot\n",
    "monthlytor = median_agg(dcity,loc='City',countryname='Canada').loc[\"Toronto\",:]"
   ]
  },
  {
   "cell_type": "code",
   "execution_count": 124,
   "id": "ceramic-isolation",
   "metadata": {},
   "outputs": [
    {
     "data": {
      "application/vnd.plotly.v1+json": {
       "config": {
        "plotlyServerURL": "https://plot.ly"
       },
       "data": [
        {
         "marker": {
          "color": "dodgerblue"
         },
         "name": "Toronto",
         "type": "box",
         "y": [
          4.501000000000001,
          18.332500000000003,
          -5.1770000000000005,
          -7.5875,
          -7.984,
          19.23,
          17.0195,
          -3.0095,
          11.3315,
          1.044,
          7.426,
          14.2305
         ]
        }
       ],
       "layout": {
        "font": {
         "family": "sora",
         "size": 12
        },
        "template": {
         "data": {
          "bar": [
           {
            "error_x": {
             "color": "#2a3f5f"
            },
            "error_y": {
             "color": "#2a3f5f"
            },
            "marker": {
             "line": {
              "color": "white",
              "width": 0.5
             }
            },
            "type": "bar"
           }
          ],
          "barpolar": [
           {
            "marker": {
             "line": {
              "color": "white",
              "width": 0.5
             }
            },
            "type": "barpolar"
           }
          ],
          "carpet": [
           {
            "aaxis": {
             "endlinecolor": "#2a3f5f",
             "gridcolor": "#C8D4E3",
             "linecolor": "#C8D4E3",
             "minorgridcolor": "#C8D4E3",
             "startlinecolor": "#2a3f5f"
            },
            "baxis": {
             "endlinecolor": "#2a3f5f",
             "gridcolor": "#C8D4E3",
             "linecolor": "#C8D4E3",
             "minorgridcolor": "#C8D4E3",
             "startlinecolor": "#2a3f5f"
            },
            "type": "carpet"
           }
          ],
          "choropleth": [
           {
            "colorbar": {
             "outlinewidth": 0,
             "ticks": ""
            },
            "type": "choropleth"
           }
          ],
          "contour": [
           {
            "colorbar": {
             "outlinewidth": 0,
             "ticks": ""
            },
            "colorscale": [
             [
              0,
              "#0d0887"
             ],
             [
              0.1111111111111111,
              "#46039f"
             ],
             [
              0.2222222222222222,
              "#7201a8"
             ],
             [
              0.3333333333333333,
              "#9c179e"
             ],
             [
              0.4444444444444444,
              "#bd3786"
             ],
             [
              0.5555555555555556,
              "#d8576b"
             ],
             [
              0.6666666666666666,
              "#ed7953"
             ],
             [
              0.7777777777777778,
              "#fb9f3a"
             ],
             [
              0.8888888888888888,
              "#fdca26"
             ],
             [
              1,
              "#f0f921"
             ]
            ],
            "type": "contour"
           }
          ],
          "contourcarpet": [
           {
            "colorbar": {
             "outlinewidth": 0,
             "ticks": ""
            },
            "type": "contourcarpet"
           }
          ],
          "heatmap": [
           {
            "colorbar": {
             "outlinewidth": 0,
             "ticks": ""
            },
            "colorscale": [
             [
              0,
              "#0d0887"
             ],
             [
              0.1111111111111111,
              "#46039f"
             ],
             [
              0.2222222222222222,
              "#7201a8"
             ],
             [
              0.3333333333333333,
              "#9c179e"
             ],
             [
              0.4444444444444444,
              "#bd3786"
             ],
             [
              0.5555555555555556,
              "#d8576b"
             ],
             [
              0.6666666666666666,
              "#ed7953"
             ],
             [
              0.7777777777777778,
              "#fb9f3a"
             ],
             [
              0.8888888888888888,
              "#fdca26"
             ],
             [
              1,
              "#f0f921"
             ]
            ],
            "type": "heatmap"
           }
          ],
          "heatmapgl": [
           {
            "colorbar": {
             "outlinewidth": 0,
             "ticks": ""
            },
            "colorscale": [
             [
              0,
              "#0d0887"
             ],
             [
              0.1111111111111111,
              "#46039f"
             ],
             [
              0.2222222222222222,
              "#7201a8"
             ],
             [
              0.3333333333333333,
              "#9c179e"
             ],
             [
              0.4444444444444444,
              "#bd3786"
             ],
             [
              0.5555555555555556,
              "#d8576b"
             ],
             [
              0.6666666666666666,
              "#ed7953"
             ],
             [
              0.7777777777777778,
              "#fb9f3a"
             ],
             [
              0.8888888888888888,
              "#fdca26"
             ],
             [
              1,
              "#f0f921"
             ]
            ],
            "type": "heatmapgl"
           }
          ],
          "histogram": [
           {
            "marker": {
             "colorbar": {
              "outlinewidth": 0,
              "ticks": ""
             }
            },
            "type": "histogram"
           }
          ],
          "histogram2d": [
           {
            "colorbar": {
             "outlinewidth": 0,
             "ticks": ""
            },
            "colorscale": [
             [
              0,
              "#0d0887"
             ],
             [
              0.1111111111111111,
              "#46039f"
             ],
             [
              0.2222222222222222,
              "#7201a8"
             ],
             [
              0.3333333333333333,
              "#9c179e"
             ],
             [
              0.4444444444444444,
              "#bd3786"
             ],
             [
              0.5555555555555556,
              "#d8576b"
             ],
             [
              0.6666666666666666,
              "#ed7953"
             ],
             [
              0.7777777777777778,
              "#fb9f3a"
             ],
             [
              0.8888888888888888,
              "#fdca26"
             ],
             [
              1,
              "#f0f921"
             ]
            ],
            "type": "histogram2d"
           }
          ],
          "histogram2dcontour": [
           {
            "colorbar": {
             "outlinewidth": 0,
             "ticks": ""
            },
            "colorscale": [
             [
              0,
              "#0d0887"
             ],
             [
              0.1111111111111111,
              "#46039f"
             ],
             [
              0.2222222222222222,
              "#7201a8"
             ],
             [
              0.3333333333333333,
              "#9c179e"
             ],
             [
              0.4444444444444444,
              "#bd3786"
             ],
             [
              0.5555555555555556,
              "#d8576b"
             ],
             [
              0.6666666666666666,
              "#ed7953"
             ],
             [
              0.7777777777777778,
              "#fb9f3a"
             ],
             [
              0.8888888888888888,
              "#fdca26"
             ],
             [
              1,
              "#f0f921"
             ]
            ],
            "type": "histogram2dcontour"
           }
          ],
          "mesh3d": [
           {
            "colorbar": {
             "outlinewidth": 0,
             "ticks": ""
            },
            "type": "mesh3d"
           }
          ],
          "parcoords": [
           {
            "line": {
             "colorbar": {
              "outlinewidth": 0,
              "ticks": ""
             }
            },
            "type": "parcoords"
           }
          ],
          "pie": [
           {
            "automargin": true,
            "type": "pie"
           }
          ],
          "scatter": [
           {
            "marker": {
             "colorbar": {
              "outlinewidth": 0,
              "ticks": ""
             }
            },
            "type": "scatter"
           }
          ],
          "scatter3d": [
           {
            "line": {
             "colorbar": {
              "outlinewidth": 0,
              "ticks": ""
             }
            },
            "marker": {
             "colorbar": {
              "outlinewidth": 0,
              "ticks": ""
             }
            },
            "type": "scatter3d"
           }
          ],
          "scattercarpet": [
           {
            "marker": {
             "colorbar": {
              "outlinewidth": 0,
              "ticks": ""
             }
            },
            "type": "scattercarpet"
           }
          ],
          "scattergeo": [
           {
            "marker": {
             "colorbar": {
              "outlinewidth": 0,
              "ticks": ""
             }
            },
            "type": "scattergeo"
           }
          ],
          "scattergl": [
           {
            "marker": {
             "colorbar": {
              "outlinewidth": 0,
              "ticks": ""
             }
            },
            "type": "scattergl"
           }
          ],
          "scattermapbox": [
           {
            "marker": {
             "colorbar": {
              "outlinewidth": 0,
              "ticks": ""
             }
            },
            "type": "scattermapbox"
           }
          ],
          "scatterpolar": [
           {
            "marker": {
             "colorbar": {
              "outlinewidth": 0,
              "ticks": ""
             }
            },
            "type": "scatterpolar"
           }
          ],
          "scatterpolargl": [
           {
            "marker": {
             "colorbar": {
              "outlinewidth": 0,
              "ticks": ""
             }
            },
            "type": "scatterpolargl"
           }
          ],
          "scatterternary": [
           {
            "marker": {
             "colorbar": {
              "outlinewidth": 0,
              "ticks": ""
             }
            },
            "type": "scatterternary"
           }
          ],
          "surface": [
           {
            "colorbar": {
             "outlinewidth": 0,
             "ticks": ""
            },
            "colorscale": [
             [
              0,
              "#0d0887"
             ],
             [
              0.1111111111111111,
              "#46039f"
             ],
             [
              0.2222222222222222,
              "#7201a8"
             ],
             [
              0.3333333333333333,
              "#9c179e"
             ],
             [
              0.4444444444444444,
              "#bd3786"
             ],
             [
              0.5555555555555556,
              "#d8576b"
             ],
             [
              0.6666666666666666,
              "#ed7953"
             ],
             [
              0.7777777777777778,
              "#fb9f3a"
             ],
             [
              0.8888888888888888,
              "#fdca26"
             ],
             [
              1,
              "#f0f921"
             ]
            ],
            "type": "surface"
           }
          ],
          "table": [
           {
            "cells": {
             "fill": {
              "color": "#EBF0F8"
             },
             "line": {
              "color": "white"
             }
            },
            "header": {
             "fill": {
              "color": "#C8D4E3"
             },
             "line": {
              "color": "white"
             }
            },
            "type": "table"
           }
          ]
         },
         "layout": {
          "annotationdefaults": {
           "arrowcolor": "#2a3f5f",
           "arrowhead": 0,
           "arrowwidth": 1
          },
          "autotypenumbers": "strict",
          "coloraxis": {
           "colorbar": {
            "outlinewidth": 0,
            "ticks": ""
           }
          },
          "colorscale": {
           "diverging": [
            [
             0,
             "#8e0152"
            ],
            [
             0.1,
             "#c51b7d"
            ],
            [
             0.2,
             "#de77ae"
            ],
            [
             0.3,
             "#f1b6da"
            ],
            [
             0.4,
             "#fde0ef"
            ],
            [
             0.5,
             "#f7f7f7"
            ],
            [
             0.6,
             "#e6f5d0"
            ],
            [
             0.7,
             "#b8e186"
            ],
            [
             0.8,
             "#7fbc41"
            ],
            [
             0.9,
             "#4d9221"
            ],
            [
             1,
             "#276419"
            ]
           ],
           "sequential": [
            [
             0,
             "#0d0887"
            ],
            [
             0.1111111111111111,
             "#46039f"
            ],
            [
             0.2222222222222222,
             "#7201a8"
            ],
            [
             0.3333333333333333,
             "#9c179e"
            ],
            [
             0.4444444444444444,
             "#bd3786"
            ],
            [
             0.5555555555555556,
             "#d8576b"
            ],
            [
             0.6666666666666666,
             "#ed7953"
            ],
            [
             0.7777777777777778,
             "#fb9f3a"
            ],
            [
             0.8888888888888888,
             "#fdca26"
            ],
            [
             1,
             "#f0f921"
            ]
           ],
           "sequentialminus": [
            [
             0,
             "#0d0887"
            ],
            [
             0.1111111111111111,
             "#46039f"
            ],
            [
             0.2222222222222222,
             "#7201a8"
            ],
            [
             0.3333333333333333,
             "#9c179e"
            ],
            [
             0.4444444444444444,
             "#bd3786"
            ],
            [
             0.5555555555555556,
             "#d8576b"
            ],
            [
             0.6666666666666666,
             "#ed7953"
            ],
            [
             0.7777777777777778,
             "#fb9f3a"
            ],
            [
             0.8888888888888888,
             "#fdca26"
            ],
            [
             1,
             "#f0f921"
            ]
           ]
          },
          "colorway": [
           "#636efa",
           "#EF553B",
           "#00cc96",
           "#ab63fa",
           "#FFA15A",
           "#19d3f3",
           "#FF6692",
           "#B6E880",
           "#FF97FF",
           "#FECB52"
          ],
          "font": {
           "color": "#2a3f5f"
          },
          "geo": {
           "bgcolor": "white",
           "lakecolor": "white",
           "landcolor": "white",
           "showlakes": true,
           "showland": true,
           "subunitcolor": "#C8D4E3"
          },
          "hoverlabel": {
           "align": "left"
          },
          "hovermode": "closest",
          "mapbox": {
           "style": "light"
          },
          "paper_bgcolor": "white",
          "plot_bgcolor": "white",
          "polar": {
           "angularaxis": {
            "gridcolor": "#EBF0F8",
            "linecolor": "#EBF0F8",
            "ticks": ""
           },
           "bgcolor": "white",
           "radialaxis": {
            "gridcolor": "#EBF0F8",
            "linecolor": "#EBF0F8",
            "ticks": ""
           }
          },
          "scene": {
           "xaxis": {
            "backgroundcolor": "white",
            "gridcolor": "#DFE8F3",
            "gridwidth": 2,
            "linecolor": "#EBF0F8",
            "showbackground": true,
            "ticks": "",
            "zerolinecolor": "#EBF0F8"
           },
           "yaxis": {
            "backgroundcolor": "white",
            "gridcolor": "#DFE8F3",
            "gridwidth": 2,
            "linecolor": "#EBF0F8",
            "showbackground": true,
            "ticks": "",
            "zerolinecolor": "#EBF0F8"
           },
           "zaxis": {
            "backgroundcolor": "white",
            "gridcolor": "#DFE8F3",
            "gridwidth": 2,
            "linecolor": "#EBF0F8",
            "showbackground": true,
            "ticks": "",
            "zerolinecolor": "#EBF0F8"
           }
          },
          "shapedefaults": {
           "line": {
            "color": "#2a3f5f"
           }
          },
          "ternary": {
           "aaxis": {
            "gridcolor": "#DFE8F3",
            "linecolor": "#A2B1C6",
            "ticks": ""
           },
           "baxis": {
            "gridcolor": "#DFE8F3",
            "linecolor": "#A2B1C6",
            "ticks": ""
           },
           "bgcolor": "white",
           "caxis": {
            "gridcolor": "#DFE8F3",
            "linecolor": "#A2B1C6",
            "ticks": ""
           }
          },
          "title": {
           "x": 0.05
          },
          "xaxis": {
           "automargin": true,
           "gridcolor": "#EBF0F8",
           "linecolor": "#EBF0F8",
           "ticks": "",
           "title": {
            "standoff": 15
           },
           "zerolinecolor": "#EBF0F8",
           "zerolinewidth": 2
          },
          "yaxis": {
           "automargin": true,
           "gridcolor": "#EBF0F8",
           "linecolor": "#EBF0F8",
           "ticks": "",
           "title": {
            "standoff": 15
           },
           "zerolinecolor": "#EBF0F8",
           "zerolinewidth": 2
          }
         }
        },
        "yaxis": {
         "title": {
          "text": "Temperature"
         }
        }
       }
      },
      "text/html": [
       "<div>                            <div id=\"7ee86900-4be7-4fe1-b819-49158370a069\" class=\"plotly-graph-div\" style=\"height:525px; width:100%;\"></div>            <script type=\"text/javascript\">                require([\"plotly\"], function(Plotly) {                    window.PLOTLYENV=window.PLOTLYENV || {};                                    if (document.getElementById(\"7ee86900-4be7-4fe1-b819-49158370a069\")) {                    Plotly.newPlot(                        \"7ee86900-4be7-4fe1-b819-49158370a069\",                        [{\"marker\": {\"color\": \"dodgerblue\"}, \"name\": \"Toronto\", \"type\": \"box\", \"y\": [4.501000000000001, 18.332500000000003, -5.1770000000000005, -7.5875, -7.984, 19.23, 17.0195, -3.0095, 11.3315, 1.044, 7.426, 14.2305]}],                        {\"font\": {\"family\": \"sora\", \"size\": 12}, \"template\": {\"data\": {\"bar\": [{\"error_x\": {\"color\": \"#2a3f5f\"}, \"error_y\": {\"color\": \"#2a3f5f\"}, \"marker\": {\"line\": {\"color\": \"white\", \"width\": 0.5}}, \"type\": \"bar\"}], \"barpolar\": [{\"marker\": {\"line\": {\"color\": \"white\", \"width\": 0.5}}, \"type\": \"barpolar\"}], \"carpet\": [{\"aaxis\": {\"endlinecolor\": \"#2a3f5f\", \"gridcolor\": \"#C8D4E3\", \"linecolor\": \"#C8D4E3\", \"minorgridcolor\": \"#C8D4E3\", \"startlinecolor\": \"#2a3f5f\"}, \"baxis\": {\"endlinecolor\": \"#2a3f5f\", \"gridcolor\": \"#C8D4E3\", \"linecolor\": \"#C8D4E3\", \"minorgridcolor\": \"#C8D4E3\", \"startlinecolor\": \"#2a3f5f\"}, \"type\": \"carpet\"}], \"choropleth\": [{\"colorbar\": {\"outlinewidth\": 0, \"ticks\": \"\"}, \"type\": \"choropleth\"}], \"contour\": [{\"colorbar\": {\"outlinewidth\": 0, \"ticks\": \"\"}, \"colorscale\": [[0.0, \"#0d0887\"], [0.1111111111111111, \"#46039f\"], [0.2222222222222222, \"#7201a8\"], [0.3333333333333333, \"#9c179e\"], [0.4444444444444444, \"#bd3786\"], [0.5555555555555556, \"#d8576b\"], [0.6666666666666666, \"#ed7953\"], [0.7777777777777778, \"#fb9f3a\"], [0.8888888888888888, \"#fdca26\"], [1.0, \"#f0f921\"]], \"type\": \"contour\"}], \"contourcarpet\": [{\"colorbar\": {\"outlinewidth\": 0, \"ticks\": \"\"}, \"type\": \"contourcarpet\"}], \"heatmap\": [{\"colorbar\": {\"outlinewidth\": 0, \"ticks\": \"\"}, \"colorscale\": [[0.0, \"#0d0887\"], [0.1111111111111111, \"#46039f\"], [0.2222222222222222, \"#7201a8\"], [0.3333333333333333, \"#9c179e\"], [0.4444444444444444, \"#bd3786\"], [0.5555555555555556, \"#d8576b\"], [0.6666666666666666, \"#ed7953\"], [0.7777777777777778, \"#fb9f3a\"], [0.8888888888888888, \"#fdca26\"], [1.0, \"#f0f921\"]], \"type\": \"heatmap\"}], \"heatmapgl\": [{\"colorbar\": {\"outlinewidth\": 0, \"ticks\": \"\"}, \"colorscale\": [[0.0, \"#0d0887\"], [0.1111111111111111, \"#46039f\"], [0.2222222222222222, \"#7201a8\"], [0.3333333333333333, \"#9c179e\"], [0.4444444444444444, \"#bd3786\"], [0.5555555555555556, \"#d8576b\"], [0.6666666666666666, \"#ed7953\"], [0.7777777777777778, \"#fb9f3a\"], [0.8888888888888888, \"#fdca26\"], [1.0, \"#f0f921\"]], \"type\": \"heatmapgl\"}], \"histogram\": [{\"marker\": {\"colorbar\": {\"outlinewidth\": 0, \"ticks\": \"\"}}, \"type\": \"histogram\"}], \"histogram2d\": [{\"colorbar\": {\"outlinewidth\": 0, \"ticks\": \"\"}, \"colorscale\": [[0.0, \"#0d0887\"], [0.1111111111111111, \"#46039f\"], [0.2222222222222222, \"#7201a8\"], [0.3333333333333333, \"#9c179e\"], [0.4444444444444444, \"#bd3786\"], [0.5555555555555556, \"#d8576b\"], [0.6666666666666666, \"#ed7953\"], [0.7777777777777778, \"#fb9f3a\"], [0.8888888888888888, \"#fdca26\"], [1.0, \"#f0f921\"]], \"type\": \"histogram2d\"}], \"histogram2dcontour\": [{\"colorbar\": {\"outlinewidth\": 0, \"ticks\": \"\"}, \"colorscale\": [[0.0, \"#0d0887\"], [0.1111111111111111, \"#46039f\"], [0.2222222222222222, \"#7201a8\"], [0.3333333333333333, \"#9c179e\"], [0.4444444444444444, \"#bd3786\"], [0.5555555555555556, \"#d8576b\"], [0.6666666666666666, \"#ed7953\"], [0.7777777777777778, \"#fb9f3a\"], [0.8888888888888888, \"#fdca26\"], [1.0, \"#f0f921\"]], \"type\": \"histogram2dcontour\"}], \"mesh3d\": [{\"colorbar\": {\"outlinewidth\": 0, \"ticks\": \"\"}, \"type\": \"mesh3d\"}], \"parcoords\": [{\"line\": {\"colorbar\": {\"outlinewidth\": 0, \"ticks\": \"\"}}, \"type\": \"parcoords\"}], \"pie\": [{\"automargin\": true, \"type\": \"pie\"}], \"scatter\": [{\"marker\": {\"colorbar\": {\"outlinewidth\": 0, \"ticks\": \"\"}}, \"type\": \"scatter\"}], \"scatter3d\": [{\"line\": {\"colorbar\": {\"outlinewidth\": 0, \"ticks\": \"\"}}, \"marker\": {\"colorbar\": {\"outlinewidth\": 0, \"ticks\": \"\"}}, \"type\": \"scatter3d\"}], \"scattercarpet\": [{\"marker\": {\"colorbar\": {\"outlinewidth\": 0, \"ticks\": \"\"}}, \"type\": \"scattercarpet\"}], \"scattergeo\": [{\"marker\": {\"colorbar\": {\"outlinewidth\": 0, \"ticks\": \"\"}}, \"type\": \"scattergeo\"}], \"scattergl\": [{\"marker\": {\"colorbar\": {\"outlinewidth\": 0, \"ticks\": \"\"}}, \"type\": \"scattergl\"}], \"scattermapbox\": [{\"marker\": {\"colorbar\": {\"outlinewidth\": 0, \"ticks\": \"\"}}, \"type\": \"scattermapbox\"}], \"scatterpolar\": [{\"marker\": {\"colorbar\": {\"outlinewidth\": 0, \"ticks\": \"\"}}, \"type\": \"scatterpolar\"}], \"scatterpolargl\": [{\"marker\": {\"colorbar\": {\"outlinewidth\": 0, \"ticks\": \"\"}}, \"type\": \"scatterpolargl\"}], \"scatterternary\": [{\"marker\": {\"colorbar\": {\"outlinewidth\": 0, \"ticks\": \"\"}}, \"type\": \"scatterternary\"}], \"surface\": [{\"colorbar\": {\"outlinewidth\": 0, \"ticks\": \"\"}, \"colorscale\": [[0.0, \"#0d0887\"], [0.1111111111111111, \"#46039f\"], [0.2222222222222222, \"#7201a8\"], [0.3333333333333333, \"#9c179e\"], [0.4444444444444444, \"#bd3786\"], [0.5555555555555556, \"#d8576b\"], [0.6666666666666666, \"#ed7953\"], [0.7777777777777778, \"#fb9f3a\"], [0.8888888888888888, \"#fdca26\"], [1.0, \"#f0f921\"]], \"type\": \"surface\"}], \"table\": [{\"cells\": {\"fill\": {\"color\": \"#EBF0F8\"}, \"line\": {\"color\": \"white\"}}, \"header\": {\"fill\": {\"color\": \"#C8D4E3\"}, \"line\": {\"color\": \"white\"}}, \"type\": \"table\"}]}, \"layout\": {\"annotationdefaults\": {\"arrowcolor\": \"#2a3f5f\", \"arrowhead\": 0, \"arrowwidth\": 1}, \"autotypenumbers\": \"strict\", \"coloraxis\": {\"colorbar\": {\"outlinewidth\": 0, \"ticks\": \"\"}}, \"colorscale\": {\"diverging\": [[0, \"#8e0152\"], [0.1, \"#c51b7d\"], [0.2, \"#de77ae\"], [0.3, \"#f1b6da\"], [0.4, \"#fde0ef\"], [0.5, \"#f7f7f7\"], [0.6, \"#e6f5d0\"], [0.7, \"#b8e186\"], [0.8, \"#7fbc41\"], [0.9, \"#4d9221\"], [1, \"#276419\"]], \"sequential\": [[0.0, \"#0d0887\"], [0.1111111111111111, \"#46039f\"], [0.2222222222222222, \"#7201a8\"], [0.3333333333333333, \"#9c179e\"], [0.4444444444444444, \"#bd3786\"], [0.5555555555555556, \"#d8576b\"], [0.6666666666666666, \"#ed7953\"], [0.7777777777777778, \"#fb9f3a\"], [0.8888888888888888, \"#fdca26\"], [1.0, \"#f0f921\"]], \"sequentialminus\": [[0.0, \"#0d0887\"], [0.1111111111111111, \"#46039f\"], [0.2222222222222222, \"#7201a8\"], [0.3333333333333333, \"#9c179e\"], [0.4444444444444444, \"#bd3786\"], [0.5555555555555556, \"#d8576b\"], [0.6666666666666666, \"#ed7953\"], [0.7777777777777778, \"#fb9f3a\"], [0.8888888888888888, \"#fdca26\"], [1.0, \"#f0f921\"]]}, \"colorway\": [\"#636efa\", \"#EF553B\", \"#00cc96\", \"#ab63fa\", \"#FFA15A\", \"#19d3f3\", \"#FF6692\", \"#B6E880\", \"#FF97FF\", \"#FECB52\"], \"font\": {\"color\": \"#2a3f5f\"}, \"geo\": {\"bgcolor\": \"white\", \"lakecolor\": \"white\", \"landcolor\": \"white\", \"showlakes\": true, \"showland\": true, \"subunitcolor\": \"#C8D4E3\"}, \"hoverlabel\": {\"align\": \"left\"}, \"hovermode\": \"closest\", \"mapbox\": {\"style\": \"light\"}, \"paper_bgcolor\": \"white\", \"plot_bgcolor\": \"white\", \"polar\": {\"angularaxis\": {\"gridcolor\": \"#EBF0F8\", \"linecolor\": \"#EBF0F8\", \"ticks\": \"\"}, \"bgcolor\": \"white\", \"radialaxis\": {\"gridcolor\": \"#EBF0F8\", \"linecolor\": \"#EBF0F8\", \"ticks\": \"\"}}, \"scene\": {\"xaxis\": {\"backgroundcolor\": \"white\", \"gridcolor\": \"#DFE8F3\", \"gridwidth\": 2, \"linecolor\": \"#EBF0F8\", \"showbackground\": true, \"ticks\": \"\", \"zerolinecolor\": \"#EBF0F8\"}, \"yaxis\": {\"backgroundcolor\": \"white\", \"gridcolor\": \"#DFE8F3\", \"gridwidth\": 2, \"linecolor\": \"#EBF0F8\", \"showbackground\": true, \"ticks\": \"\", \"zerolinecolor\": \"#EBF0F8\"}, \"zaxis\": {\"backgroundcolor\": \"white\", \"gridcolor\": \"#DFE8F3\", \"gridwidth\": 2, \"linecolor\": \"#EBF0F8\", \"showbackground\": true, \"ticks\": \"\", \"zerolinecolor\": \"#EBF0F8\"}}, \"shapedefaults\": {\"line\": {\"color\": \"#2a3f5f\"}}, \"ternary\": {\"aaxis\": {\"gridcolor\": \"#DFE8F3\", \"linecolor\": \"#A2B1C6\", \"ticks\": \"\"}, \"baxis\": {\"gridcolor\": \"#DFE8F3\", \"linecolor\": \"#A2B1C6\", \"ticks\": \"\"}, \"bgcolor\": \"white\", \"caxis\": {\"gridcolor\": \"#DFE8F3\", \"linecolor\": \"#A2B1C6\", \"ticks\": \"\"}}, \"title\": {\"x\": 0.05}, \"xaxis\": {\"automargin\": true, \"gridcolor\": \"#EBF0F8\", \"linecolor\": \"#EBF0F8\", \"ticks\": \"\", \"title\": {\"standoff\": 15}, \"zerolinecolor\": \"#EBF0F8\", \"zerolinewidth\": 2}, \"yaxis\": {\"automargin\": true, \"gridcolor\": \"#EBF0F8\", \"linecolor\": \"#EBF0F8\", \"ticks\": \"\", \"title\": {\"standoff\": 15}, \"zerolinecolor\": \"#EBF0F8\", \"zerolinewidth\": 2}}}, \"yaxis\": {\"title\": {\"text\": \"Temperature\"}}},                        {\"responsive\": true}                    ).then(function(){\n",
       "                            \n",
       "var gd = document.getElementById('7ee86900-4be7-4fe1-b819-49158370a069');\n",
       "var x = new MutationObserver(function (mutations, observer) {{\n",
       "        var display = window.getComputedStyle(gd).display;\n",
       "        if (!display || display === 'none') {{\n",
       "            console.log([gd, 'removed!']);\n",
       "            Plotly.purge(gd);\n",
       "            observer.disconnect();\n",
       "        }}\n",
       "}});\n",
       "\n",
       "// Listen for the removal of the full notebook cells\n",
       "var notebookContainer = gd.closest('#notebook-container');\n",
       "if (notebookContainer) {{\n",
       "    x.observe(notebookContainer, {childList: true});\n",
       "}}\n",
       "\n",
       "// Listen for the clearing of the current output cell\n",
       "var outputEl = gd.closest('.output');\n",
       "if (outputEl) {{\n",
       "    x.observe(outputEl, {childList: true});\n",
       "}}\n",
       "\n",
       "                        })                };                });            </script>        </div>"
      ]
     },
     "metadata": {},
     "output_type": "display_data"
    }
   ],
   "source": [
    "x_vals = monthlytor['AverageTemperature']\n",
    "fig = go.Figure()\n",
    "\n",
    "fig.add_trace(go.Box(y=x_vals, name=sample_city, marker_color = 'dodgerblue'))\n",
    "\n",
    "fig.update_layout(\n",
    "    yaxis_title=\"Temperature\",\n",
    "    font=dict(\n",
    "        family=\"sora\",\n",
    "        size=12,\n",
    "    )\n",
    ")\n",
    "fig.show()"
   ]
  },
  {
   "cell_type": "code",
   "execution_count": 126,
   "id": "authentic-movie",
   "metadata": {},
   "outputs": [],
   "source": [
    "temp = dcity[dcity['City']=='Hyderabad']"
   ]
  },
  {
   "cell_type": "code",
   "execution_count": 129,
   "id": "alpha-nickel",
   "metadata": {},
   "outputs": [],
   "source": [
    "months = temp['Month'].unique()"
   ]
  },
  {
   "cell_type": "code",
   "execution_count": 130,
   "id": "running-surgeon",
   "metadata": {},
   "outputs": [
    {
     "data": {
      "text/plain": [
       "array(['Jan', 'Feb', 'Mar', 'Apr', 'May', 'Jun', 'Jul', 'Aug', 'Sept',\n",
       "       'Oct', 'Nov', 'Dec'], dtype=object)"
      ]
     },
     "execution_count": 130,
     "metadata": {},
     "output_type": "execute_result"
    }
   ],
   "source": [
    "months"
   ]
  },
  {
   "cell_type": "code",
   "execution_count": 6,
   "id": "lyric-implementation",
   "metadata": {},
   "outputs": [],
   "source": [
    "temp = dmajcity[dmajcity['City']== 'Hyderabad']"
   ]
  },
  {
   "cell_type": "code",
   "execution_count": 11,
   "id": "grand-sense",
   "metadata": {},
   "outputs": [
    {
     "data": {
      "text/html": [
       "<div>\n",
       "<style scoped>\n",
       "    .dataframe tbody tr th:only-of-type {\n",
       "        vertical-align: middle;\n",
       "    }\n",
       "\n",
       "    .dataframe tbody tr th {\n",
       "        vertical-align: top;\n",
       "    }\n",
       "\n",
       "    .dataframe thead th {\n",
       "        text-align: right;\n",
       "    }\n",
       "</style>\n",
       "<table border=\"1\" class=\"dataframe\">\n",
       "  <thead>\n",
       "    <tr style=\"text-align: right;\">\n",
       "      <th></th>\n",
       "      <th>dt</th>\n",
       "      <th>AverageTemperature</th>\n",
       "      <th>AverageTemperatureUncertainty</th>\n",
       "      <th>City</th>\n",
       "      <th>Country</th>\n",
       "      <th>Latitude</th>\n",
       "      <th>Longitude</th>\n",
       "      <th>Month</th>\n",
       "      <th>Year</th>\n",
       "      <th>Hemisphere</th>\n",
       "      <th>Seasons</th>\n",
       "    </tr>\n",
       "  </thead>\n",
       "  <tbody>\n",
       "    <tr>\n",
       "      <th>142824</th>\n",
       "      <td>1796-01-01</td>\n",
       "      <td>22.759000</td>\n",
       "      <td>2.322000</td>\n",
       "      <td>Hyderabad</td>\n",
       "      <td>India</td>\n",
       "      <td>16.87N</td>\n",
       "      <td>78.70E</td>\n",
       "      <td>Jan</td>\n",
       "      <td>1796</td>\n",
       "      <td>Northern Hemisphere</td>\n",
       "      <td>Winter</td>\n",
       "    </tr>\n",
       "    <tr>\n",
       "      <th>142825</th>\n",
       "      <td>1796-02-01</td>\n",
       "      <td>25.094000</td>\n",
       "      <td>1.453000</td>\n",
       "      <td>Hyderabad</td>\n",
       "      <td>India</td>\n",
       "      <td>16.87N</td>\n",
       "      <td>78.70E</td>\n",
       "      <td>Feb</td>\n",
       "      <td>1796</td>\n",
       "      <td>Northern Hemisphere</td>\n",
       "      <td>Winter</td>\n",
       "    </tr>\n",
       "    <tr>\n",
       "      <th>142826</th>\n",
       "      <td>1796-03-01</td>\n",
       "      <td>27.725000</td>\n",
       "      <td>2.443000</td>\n",
       "      <td>Hyderabad</td>\n",
       "      <td>India</td>\n",
       "      <td>16.87N</td>\n",
       "      <td>78.70E</td>\n",
       "      <td>Mar</td>\n",
       "      <td>1796</td>\n",
       "      <td>Northern Hemisphere</td>\n",
       "      <td>Spring</td>\n",
       "    </tr>\n",
       "    <tr>\n",
       "      <th>142827</th>\n",
       "      <td>1796-04-01</td>\n",
       "      <td>31.280000</td>\n",
       "      <td>1.789000</td>\n",
       "      <td>Hyderabad</td>\n",
       "      <td>India</td>\n",
       "      <td>16.87N</td>\n",
       "      <td>78.70E</td>\n",
       "      <td>Apr</td>\n",
       "      <td>1796</td>\n",
       "      <td>Northern Hemisphere</td>\n",
       "      <td>Spring</td>\n",
       "    </tr>\n",
       "    <tr>\n",
       "      <th>142828</th>\n",
       "      <td>1796-05-01</td>\n",
       "      <td>32.701000</td>\n",
       "      <td>1.406000</td>\n",
       "      <td>Hyderabad</td>\n",
       "      <td>India</td>\n",
       "      <td>16.87N</td>\n",
       "      <td>78.70E</td>\n",
       "      <td>May</td>\n",
       "      <td>1796</td>\n",
       "      <td>Northern Hemisphere</td>\n",
       "      <td>Summer</td>\n",
       "    </tr>\n",
       "    <tr>\n",
       "      <th>...</th>\n",
       "      <td>...</td>\n",
       "      <td>...</td>\n",
       "      <td>...</td>\n",
       "      <td>...</td>\n",
       "      <td>...</td>\n",
       "      <td>...</td>\n",
       "      <td>...</td>\n",
       "      <td>...</td>\n",
       "      <td>...</td>\n",
       "      <td>...</td>\n",
       "      <td>...</td>\n",
       "    </tr>\n",
       "    <tr>\n",
       "      <th>145432</th>\n",
       "      <td>2013-05-01</td>\n",
       "      <td>34.650000</td>\n",
       "      <td>0.823000</td>\n",
       "      <td>Hyderabad</td>\n",
       "      <td>India</td>\n",
       "      <td>16.87N</td>\n",
       "      <td>78.70E</td>\n",
       "      <td>May</td>\n",
       "      <td>2013</td>\n",
       "      <td>Northern Hemisphere</td>\n",
       "      <td>Summer</td>\n",
       "    </tr>\n",
       "    <tr>\n",
       "      <th>145433</th>\n",
       "      <td>2013-06-01</td>\n",
       "      <td>29.487000</td>\n",
       "      <td>0.754000</td>\n",
       "      <td>Hyderabad</td>\n",
       "      <td>India</td>\n",
       "      <td>16.87N</td>\n",
       "      <td>78.70E</td>\n",
       "      <td>Jun</td>\n",
       "      <td>2013</td>\n",
       "      <td>Northern Hemisphere</td>\n",
       "      <td>Summer</td>\n",
       "    </tr>\n",
       "    <tr>\n",
       "      <th>145434</th>\n",
       "      <td>2013-07-01</td>\n",
       "      <td>27.011000</td>\n",
       "      <td>0.478000</td>\n",
       "      <td>Hyderabad</td>\n",
       "      <td>India</td>\n",
       "      <td>16.87N</td>\n",
       "      <td>78.70E</td>\n",
       "      <td>Jul</td>\n",
       "      <td>2013</td>\n",
       "      <td>Northern Hemisphere</td>\n",
       "      <td>Monsoon</td>\n",
       "    </tr>\n",
       "    <tr>\n",
       "      <th>145435</th>\n",
       "      <td>2013-08-01</td>\n",
       "      <td>26.923000</td>\n",
       "      <td>0.413000</td>\n",
       "      <td>Hyderabad</td>\n",
       "      <td>India</td>\n",
       "      <td>16.87N</td>\n",
       "      <td>78.70E</td>\n",
       "      <td>Aug</td>\n",
       "      <td>2013</td>\n",
       "      <td>Northern Hemisphere</td>\n",
       "      <td>Monsoon</td>\n",
       "    </tr>\n",
       "    <tr>\n",
       "      <th>145436</th>\n",
       "      <td>2013-09-01</td>\n",
       "      <td>26.869335</td>\n",
       "      <td>0.956286</td>\n",
       "      <td>Hyderabad</td>\n",
       "      <td>India</td>\n",
       "      <td>16.87N</td>\n",
       "      <td>78.70E</td>\n",
       "      <td>Sept</td>\n",
       "      <td>2013</td>\n",
       "      <td>Northern Hemisphere</td>\n",
       "      <td>Autumn</td>\n",
       "    </tr>\n",
       "  </tbody>\n",
       "</table>\n",
       "<p>2613 rows × 11 columns</p>\n",
       "</div>"
      ],
      "text/plain": [
       "                dt  AverageTemperature  AverageTemperatureUncertainty  \\\n",
       "142824  1796-01-01           22.759000                       2.322000   \n",
       "142825  1796-02-01           25.094000                       1.453000   \n",
       "142826  1796-03-01           27.725000                       2.443000   \n",
       "142827  1796-04-01           31.280000                       1.789000   \n",
       "142828  1796-05-01           32.701000                       1.406000   \n",
       "...            ...                 ...                            ...   \n",
       "145432  2013-05-01           34.650000                       0.823000   \n",
       "145433  2013-06-01           29.487000                       0.754000   \n",
       "145434  2013-07-01           27.011000                       0.478000   \n",
       "145435  2013-08-01           26.923000                       0.413000   \n",
       "145436  2013-09-01           26.869335                       0.956286   \n",
       "\n",
       "             City Country Latitude Longitude Month  Year           Hemisphere  \\\n",
       "142824  Hyderabad   India   16.87N    78.70E   Jan  1796  Northern Hemisphere   \n",
       "142825  Hyderabad   India   16.87N    78.70E   Feb  1796  Northern Hemisphere   \n",
       "142826  Hyderabad   India   16.87N    78.70E   Mar  1796  Northern Hemisphere   \n",
       "142827  Hyderabad   India   16.87N    78.70E   Apr  1796  Northern Hemisphere   \n",
       "142828  Hyderabad   India   16.87N    78.70E   May  1796  Northern Hemisphere   \n",
       "...           ...     ...      ...       ...   ...   ...                  ...   \n",
       "145432  Hyderabad   India   16.87N    78.70E   May  2013  Northern Hemisphere   \n",
       "145433  Hyderabad   India   16.87N    78.70E   Jun  2013  Northern Hemisphere   \n",
       "145434  Hyderabad   India   16.87N    78.70E   Jul  2013  Northern Hemisphere   \n",
       "145435  Hyderabad   India   16.87N    78.70E   Aug  2013  Northern Hemisphere   \n",
       "145436  Hyderabad   India   16.87N    78.70E  Sept  2013  Northern Hemisphere   \n",
       "\n",
       "        Seasons  \n",
       "142824   Winter  \n",
       "142825   Winter  \n",
       "142826   Spring  \n",
       "142827   Spring  \n",
       "142828   Summer  \n",
       "...         ...  \n",
       "145432   Summer  \n",
       "145433   Summer  \n",
       "145434  Monsoon  \n",
       "145435  Monsoon  \n",
       "145436   Autumn  \n",
       "\n",
       "[2613 rows x 11 columns]"
      ]
     },
     "execution_count": 11,
     "metadata": {},
     "output_type": "execute_result"
    }
   ],
   "source": [
    "temp"
   ]
  },
  {
   "cell_type": "code",
   "execution_count": 12,
   "id": "developed-morris",
   "metadata": {},
   "outputs": [
    {
     "data": {
      "text/html": [
       "<div>\n",
       "<style scoped>\n",
       "    .dataframe tbody tr th:only-of-type {\n",
       "        vertical-align: middle;\n",
       "    }\n",
       "\n",
       "    .dataframe tbody tr th {\n",
       "        vertical-align: top;\n",
       "    }\n",
       "\n",
       "    .dataframe thead th {\n",
       "        text-align: right;\n",
       "    }\n",
       "</style>\n",
       "<table border=\"1\" class=\"dataframe\">\n",
       "  <thead>\n",
       "    <tr style=\"text-align: right;\">\n",
       "      <th></th>\n",
       "      <th>dt</th>\n",
       "      <th>AverageTemperature</th>\n",
       "      <th>AverageTemperatureUncertainty</th>\n",
       "      <th>City</th>\n",
       "      <th>Country</th>\n",
       "      <th>Latitude</th>\n",
       "      <th>Longitude</th>\n",
       "      <th>Month</th>\n",
       "      <th>Year</th>\n",
       "      <th>Hemisphere</th>\n",
       "      <th>Seasons</th>\n",
       "    </tr>\n",
       "  </thead>\n",
       "  <tbody>\n",
       "    <tr>\n",
       "      <th>145392</th>\n",
       "      <td>2010-01-01</td>\n",
       "      <td>23.185</td>\n",
       "      <td>0.245</td>\n",
       "      <td>Hyderabad</td>\n",
       "      <td>India</td>\n",
       "      <td>16.87N</td>\n",
       "      <td>78.70E</td>\n",
       "      <td>Jan</td>\n",
       "      <td>2010</td>\n",
       "      <td>Northern Hemisphere</td>\n",
       "      <td>Winter</td>\n",
       "    </tr>\n",
       "    <tr>\n",
       "      <th>145393</th>\n",
       "      <td>2010-02-01</td>\n",
       "      <td>26.463</td>\n",
       "      <td>0.155</td>\n",
       "      <td>Hyderabad</td>\n",
       "      <td>India</td>\n",
       "      <td>16.87N</td>\n",
       "      <td>78.70E</td>\n",
       "      <td>Feb</td>\n",
       "      <td>2010</td>\n",
       "      <td>Northern Hemisphere</td>\n",
       "      <td>Winter</td>\n",
       "    </tr>\n",
       "    <tr>\n",
       "      <th>145394</th>\n",
       "      <td>2010-03-01</td>\n",
       "      <td>30.424</td>\n",
       "      <td>0.308</td>\n",
       "      <td>Hyderabad</td>\n",
       "      <td>India</td>\n",
       "      <td>16.87N</td>\n",
       "      <td>78.70E</td>\n",
       "      <td>Mar</td>\n",
       "      <td>2010</td>\n",
       "      <td>Northern Hemisphere</td>\n",
       "      <td>Spring</td>\n",
       "    </tr>\n",
       "    <tr>\n",
       "      <th>145395</th>\n",
       "      <td>2010-04-01</td>\n",
       "      <td>33.249</td>\n",
       "      <td>0.287</td>\n",
       "      <td>Hyderabad</td>\n",
       "      <td>India</td>\n",
       "      <td>16.87N</td>\n",
       "      <td>78.70E</td>\n",
       "      <td>Apr</td>\n",
       "      <td>2010</td>\n",
       "      <td>Northern Hemisphere</td>\n",
       "      <td>Spring</td>\n",
       "    </tr>\n",
       "    <tr>\n",
       "      <th>145396</th>\n",
       "      <td>2010-05-01</td>\n",
       "      <td>33.482</td>\n",
       "      <td>0.397</td>\n",
       "      <td>Hyderabad</td>\n",
       "      <td>India</td>\n",
       "      <td>16.87N</td>\n",
       "      <td>78.70E</td>\n",
       "      <td>May</td>\n",
       "      <td>2010</td>\n",
       "      <td>Northern Hemisphere</td>\n",
       "      <td>Summer</td>\n",
       "    </tr>\n",
       "    <tr>\n",
       "      <th>145397</th>\n",
       "      <td>2010-06-01</td>\n",
       "      <td>30.639</td>\n",
       "      <td>0.548</td>\n",
       "      <td>Hyderabad</td>\n",
       "      <td>India</td>\n",
       "      <td>16.87N</td>\n",
       "      <td>78.70E</td>\n",
       "      <td>Jun</td>\n",
       "      <td>2010</td>\n",
       "      <td>Northern Hemisphere</td>\n",
       "      <td>Summer</td>\n",
       "    </tr>\n",
       "    <tr>\n",
       "      <th>145398</th>\n",
       "      <td>2010-07-01</td>\n",
       "      <td>26.996</td>\n",
       "      <td>0.628</td>\n",
       "      <td>Hyderabad</td>\n",
       "      <td>India</td>\n",
       "      <td>16.87N</td>\n",
       "      <td>78.70E</td>\n",
       "      <td>Jul</td>\n",
       "      <td>2010</td>\n",
       "      <td>Northern Hemisphere</td>\n",
       "      <td>Monsoon</td>\n",
       "    </tr>\n",
       "    <tr>\n",
       "      <th>145399</th>\n",
       "      <td>2010-08-01</td>\n",
       "      <td>27.159</td>\n",
       "      <td>0.598</td>\n",
       "      <td>Hyderabad</td>\n",
       "      <td>India</td>\n",
       "      <td>16.87N</td>\n",
       "      <td>78.70E</td>\n",
       "      <td>Aug</td>\n",
       "      <td>2010</td>\n",
       "      <td>Northern Hemisphere</td>\n",
       "      <td>Monsoon</td>\n",
       "    </tr>\n",
       "    <tr>\n",
       "      <th>145400</th>\n",
       "      <td>2010-09-01</td>\n",
       "      <td>26.905</td>\n",
       "      <td>0.691</td>\n",
       "      <td>Hyderabad</td>\n",
       "      <td>India</td>\n",
       "      <td>16.87N</td>\n",
       "      <td>78.70E</td>\n",
       "      <td>Sept</td>\n",
       "      <td>2010</td>\n",
       "      <td>Northern Hemisphere</td>\n",
       "      <td>Autumn</td>\n",
       "    </tr>\n",
       "    <tr>\n",
       "      <th>145401</th>\n",
       "      <td>2010-10-01</td>\n",
       "      <td>26.418</td>\n",
       "      <td>0.411</td>\n",
       "      <td>Hyderabad</td>\n",
       "      <td>India</td>\n",
       "      <td>16.87N</td>\n",
       "      <td>78.70E</td>\n",
       "      <td>Oct</td>\n",
       "      <td>2010</td>\n",
       "      <td>Northern Hemisphere</td>\n",
       "      <td>Autumn</td>\n",
       "    </tr>\n",
       "    <tr>\n",
       "      <th>145402</th>\n",
       "      <td>2010-11-01</td>\n",
       "      <td>25.167</td>\n",
       "      <td>0.299</td>\n",
       "      <td>Hyderabad</td>\n",
       "      <td>India</td>\n",
       "      <td>16.87N</td>\n",
       "      <td>78.70E</td>\n",
       "      <td>Nov</td>\n",
       "      <td>2010</td>\n",
       "      <td>Northern Hemisphere</td>\n",
       "      <td>Winter</td>\n",
       "    </tr>\n",
       "    <tr>\n",
       "      <th>145403</th>\n",
       "      <td>2010-12-01</td>\n",
       "      <td>22.234</td>\n",
       "      <td>0.305</td>\n",
       "      <td>Hyderabad</td>\n",
       "      <td>India</td>\n",
       "      <td>16.87N</td>\n",
       "      <td>78.70E</td>\n",
       "      <td>Dec</td>\n",
       "      <td>2010</td>\n",
       "      <td>Northern Hemisphere</td>\n",
       "      <td>Winter</td>\n",
       "    </tr>\n",
       "  </tbody>\n",
       "</table>\n",
       "</div>"
      ],
      "text/plain": [
       "                dt  AverageTemperature  AverageTemperatureUncertainty  \\\n",
       "145392  2010-01-01              23.185                          0.245   \n",
       "145393  2010-02-01              26.463                          0.155   \n",
       "145394  2010-03-01              30.424                          0.308   \n",
       "145395  2010-04-01              33.249                          0.287   \n",
       "145396  2010-05-01              33.482                          0.397   \n",
       "145397  2010-06-01              30.639                          0.548   \n",
       "145398  2010-07-01              26.996                          0.628   \n",
       "145399  2010-08-01              27.159                          0.598   \n",
       "145400  2010-09-01              26.905                          0.691   \n",
       "145401  2010-10-01              26.418                          0.411   \n",
       "145402  2010-11-01              25.167                          0.299   \n",
       "145403  2010-12-01              22.234                          0.305   \n",
       "\n",
       "             City Country Latitude Longitude Month  Year           Hemisphere  \\\n",
       "145392  Hyderabad   India   16.87N    78.70E   Jan  2010  Northern Hemisphere   \n",
       "145393  Hyderabad   India   16.87N    78.70E   Feb  2010  Northern Hemisphere   \n",
       "145394  Hyderabad   India   16.87N    78.70E   Mar  2010  Northern Hemisphere   \n",
       "145395  Hyderabad   India   16.87N    78.70E   Apr  2010  Northern Hemisphere   \n",
       "145396  Hyderabad   India   16.87N    78.70E   May  2010  Northern Hemisphere   \n",
       "145397  Hyderabad   India   16.87N    78.70E   Jun  2010  Northern Hemisphere   \n",
       "145398  Hyderabad   India   16.87N    78.70E   Jul  2010  Northern Hemisphere   \n",
       "145399  Hyderabad   India   16.87N    78.70E   Aug  2010  Northern Hemisphere   \n",
       "145400  Hyderabad   India   16.87N    78.70E  Sept  2010  Northern Hemisphere   \n",
       "145401  Hyderabad   India   16.87N    78.70E   Oct  2010  Northern Hemisphere   \n",
       "145402  Hyderabad   India   16.87N    78.70E   Nov  2010  Northern Hemisphere   \n",
       "145403  Hyderabad   India   16.87N    78.70E   Dec  2010  Northern Hemisphere   \n",
       "\n",
       "        Seasons  \n",
       "145392   Winter  \n",
       "145393   Winter  \n",
       "145394   Spring  \n",
       "145395   Spring  \n",
       "145396   Summer  \n",
       "145397   Summer  \n",
       "145398  Monsoon  \n",
       "145399  Monsoon  \n",
       "145400   Autumn  \n",
       "145401   Autumn  \n",
       "145402   Winter  \n",
       "145403   Winter  "
      ]
     },
     "execution_count": 12,
     "metadata": {},
     "output_type": "execute_result"
    }
   ],
   "source": [
    "temp[temp['Year']==2010]"
   ]
  },
  {
   "cell_type": "code",
   "execution_count": null,
   "id": "electric-pressure",
   "metadata": {},
   "outputs": [],
   "source": []
  }
 ],
 "metadata": {
  "kernelspec": {
   "display_name": "Python 3",
   "language": "python",
   "name": "python3"
  },
  "language_info": {
   "codemirror_mode": {
    "name": "ipython",
    "version": 3
   },
   "file_extension": ".py",
   "mimetype": "text/x-python",
   "name": "python",
   "nbconvert_exporter": "python",
   "pygments_lexer": "ipython3",
   "version": "3.8.5"
  }
 },
 "nbformat": 4,
 "nbformat_minor": 5
}
