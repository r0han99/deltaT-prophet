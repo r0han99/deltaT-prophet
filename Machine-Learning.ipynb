{
 "cells": [
  {
   "cell_type": "markdown",
   "id": "attended-passing",
   "metadata": {},
   "source": [
    "### Facebook's Prophet && ARIMA"
   ]
  },
  {
   "cell_type": "code",
   "execution_count": 1,
   "id": "attended-solomon",
   "metadata": {},
   "outputs": [],
   "source": [
    "import pandas as pd \n",
    "import numpy as np\n",
    "import os \n",
    "import matplotlib.pyplot as plt\n",
    "import seaborn as sns\n",
    "import altair as alt\n",
    "from vega_datasets import data\n",
    "import plotly.graph_objects as go\n",
    "import plotly.io as pio\n",
    "\n",
    "plt.style.use('seaborn-whitegrid')"
   ]
  },
  {
   "cell_type": "code",
   "execution_count": 2,
   "id": "described-victor",
   "metadata": {},
   "outputs": [],
   "source": [
    "dmajcity = pd.read_csv(\"AvgTempMajorCity.csv\").drop('Unnamed: 0',axis=1)"
   ]
  },
  {
   "cell_type": "code",
   "execution_count": 3,
   "id": "animated-distance",
   "metadata": {},
   "outputs": [
    {
     "data": {
      "text/html": [
       "<div>\n",
       "<style scoped>\n",
       "    .dataframe tbody tr th:only-of-type {\n",
       "        vertical-align: middle;\n",
       "    }\n",
       "\n",
       "    .dataframe tbody tr th {\n",
       "        vertical-align: top;\n",
       "    }\n",
       "\n",
       "    .dataframe thead th {\n",
       "        text-align: right;\n",
       "    }\n",
       "</style>\n",
       "<table border=\"1\" class=\"dataframe\">\n",
       "  <thead>\n",
       "    <tr style=\"text-align: right;\">\n",
       "      <th></th>\n",
       "      <th>dt</th>\n",
       "      <th>AverageTemperature</th>\n",
       "      <th>AverageTemperatureUncertainty</th>\n",
       "      <th>City</th>\n",
       "      <th>Country</th>\n",
       "      <th>Latitude</th>\n",
       "      <th>Longitude</th>\n",
       "      <th>Month</th>\n",
       "      <th>Year</th>\n",
       "      <th>Hemisphere</th>\n",
       "      <th>Seasons</th>\n",
       "    </tr>\n",
       "  </thead>\n",
       "  <tbody>\n",
       "    <tr>\n",
       "      <th>0</th>\n",
       "      <td>1849-01-01</td>\n",
       "      <td>26.704000</td>\n",
       "      <td>1.435000</td>\n",
       "      <td>Abidjan</td>\n",
       "      <td>Côte D'Ivoire</td>\n",
       "      <td>5.63N</td>\n",
       "      <td>3.23W</td>\n",
       "      <td>Jan</td>\n",
       "      <td>1849</td>\n",
       "      <td>Northern Hemisphere</td>\n",
       "      <td>Winter</td>\n",
       "    </tr>\n",
       "    <tr>\n",
       "      <th>1</th>\n",
       "      <td>1849-02-01</td>\n",
       "      <td>27.434000</td>\n",
       "      <td>1.362000</td>\n",
       "      <td>Abidjan</td>\n",
       "      <td>Côte D'Ivoire</td>\n",
       "      <td>5.63N</td>\n",
       "      <td>3.23W</td>\n",
       "      <td>Feb</td>\n",
       "      <td>1849</td>\n",
       "      <td>Northern Hemisphere</td>\n",
       "      <td>Winter</td>\n",
       "    </tr>\n",
       "    <tr>\n",
       "      <th>2</th>\n",
       "      <td>1849-03-01</td>\n",
       "      <td>28.101000</td>\n",
       "      <td>1.612000</td>\n",
       "      <td>Abidjan</td>\n",
       "      <td>Côte D'Ivoire</td>\n",
       "      <td>5.63N</td>\n",
       "      <td>3.23W</td>\n",
       "      <td>Mar</td>\n",
       "      <td>1849</td>\n",
       "      <td>Northern Hemisphere</td>\n",
       "      <td>Spring</td>\n",
       "    </tr>\n",
       "    <tr>\n",
       "      <th>3</th>\n",
       "      <td>1849-04-01</td>\n",
       "      <td>26.140000</td>\n",
       "      <td>1.387000</td>\n",
       "      <td>Abidjan</td>\n",
       "      <td>Côte D'Ivoire</td>\n",
       "      <td>5.63N</td>\n",
       "      <td>3.23W</td>\n",
       "      <td>Apr</td>\n",
       "      <td>1849</td>\n",
       "      <td>Northern Hemisphere</td>\n",
       "      <td>Spring</td>\n",
       "    </tr>\n",
       "    <tr>\n",
       "      <th>4</th>\n",
       "      <td>1849-05-01</td>\n",
       "      <td>25.427000</td>\n",
       "      <td>1.200000</td>\n",
       "      <td>Abidjan</td>\n",
       "      <td>Côte D'Ivoire</td>\n",
       "      <td>5.63N</td>\n",
       "      <td>3.23W</td>\n",
       "      <td>May</td>\n",
       "      <td>1849</td>\n",
       "      <td>Northern Hemisphere</td>\n",
       "      <td>Spring</td>\n",
       "    </tr>\n",
       "    <tr>\n",
       "      <th>...</th>\n",
       "      <td>...</td>\n",
       "      <td>...</td>\n",
       "      <td>...</td>\n",
       "      <td>...</td>\n",
       "      <td>...</td>\n",
       "      <td>...</td>\n",
       "      <td>...</td>\n",
       "      <td>...</td>\n",
       "      <td>...</td>\n",
       "      <td>...</td>\n",
       "      <td>...</td>\n",
       "    </tr>\n",
       "    <tr>\n",
       "      <th>239172</th>\n",
       "      <td>2013-05-01</td>\n",
       "      <td>24.518000</td>\n",
       "      <td>0.384000</td>\n",
       "      <td>Taipei</td>\n",
       "      <td>Taiwan</td>\n",
       "      <td>24.92N</td>\n",
       "      <td>122.36E</td>\n",
       "      <td>May</td>\n",
       "      <td>2013</td>\n",
       "      <td>Northern Hemisphere</td>\n",
       "      <td>Summer</td>\n",
       "    </tr>\n",
       "    <tr>\n",
       "      <th>239173</th>\n",
       "      <td>2013-06-01</td>\n",
       "      <td>27.351000</td>\n",
       "      <td>0.533000</td>\n",
       "      <td>Taipei</td>\n",
       "      <td>Taiwan</td>\n",
       "      <td>24.92N</td>\n",
       "      <td>122.36E</td>\n",
       "      <td>Jun</td>\n",
       "      <td>2013</td>\n",
       "      <td>Northern Hemisphere</td>\n",
       "      <td>Summer</td>\n",
       "    </tr>\n",
       "    <tr>\n",
       "      <th>239174</th>\n",
       "      <td>2013-07-01</td>\n",
       "      <td>28.641000</td>\n",
       "      <td>0.629000</td>\n",
       "      <td>Taipei</td>\n",
       "      <td>Taiwan</td>\n",
       "      <td>24.92N</td>\n",
       "      <td>122.36E</td>\n",
       "      <td>Jul</td>\n",
       "      <td>2013</td>\n",
       "      <td>Northern Hemisphere</td>\n",
       "      <td>Monsoon</td>\n",
       "    </tr>\n",
       "    <tr>\n",
       "      <th>239175</th>\n",
       "      <td>2013-08-01</td>\n",
       "      <td>28.805000</td>\n",
       "      <td>0.499000</td>\n",
       "      <td>Taipei</td>\n",
       "      <td>Taiwan</td>\n",
       "      <td>24.92N</td>\n",
       "      <td>122.36E</td>\n",
       "      <td>Aug</td>\n",
       "      <td>2013</td>\n",
       "      <td>Northern Hemisphere</td>\n",
       "      <td>Monsoon</td>\n",
       "    </tr>\n",
       "    <tr>\n",
       "      <th>239176</th>\n",
       "      <td>2013-09-01</td>\n",
       "      <td>22.212441</td>\n",
       "      <td>0.662048</td>\n",
       "      <td>Taipei</td>\n",
       "      <td>Taiwan</td>\n",
       "      <td>24.92N</td>\n",
       "      <td>122.36E</td>\n",
       "      <td>Sept</td>\n",
       "      <td>2013</td>\n",
       "      <td>Northern Hemisphere</td>\n",
       "      <td>Autumn</td>\n",
       "    </tr>\n",
       "  </tbody>\n",
       "</table>\n",
       "<p>239177 rows × 11 columns</p>\n",
       "</div>"
      ],
      "text/plain": [
       "                dt  AverageTemperature  AverageTemperatureUncertainty  \\\n",
       "0       1849-01-01           26.704000                       1.435000   \n",
       "1       1849-02-01           27.434000                       1.362000   \n",
       "2       1849-03-01           28.101000                       1.612000   \n",
       "3       1849-04-01           26.140000                       1.387000   \n",
       "4       1849-05-01           25.427000                       1.200000   \n",
       "...            ...                 ...                            ...   \n",
       "239172  2013-05-01           24.518000                       0.384000   \n",
       "239173  2013-06-01           27.351000                       0.533000   \n",
       "239174  2013-07-01           28.641000                       0.629000   \n",
       "239175  2013-08-01           28.805000                       0.499000   \n",
       "239176  2013-09-01           22.212441                       0.662048   \n",
       "\n",
       "           City        Country Latitude Longitude Month  Year  \\\n",
       "0       Abidjan  Côte D'Ivoire    5.63N     3.23W   Jan  1849   \n",
       "1       Abidjan  Côte D'Ivoire    5.63N     3.23W   Feb  1849   \n",
       "2       Abidjan  Côte D'Ivoire    5.63N     3.23W   Mar  1849   \n",
       "3       Abidjan  Côte D'Ivoire    5.63N     3.23W   Apr  1849   \n",
       "4       Abidjan  Côte D'Ivoire    5.63N     3.23W   May  1849   \n",
       "...         ...            ...      ...       ...   ...   ...   \n",
       "239172   Taipei         Taiwan   24.92N   122.36E   May  2013   \n",
       "239173   Taipei         Taiwan   24.92N   122.36E   Jun  2013   \n",
       "239174   Taipei         Taiwan   24.92N   122.36E   Jul  2013   \n",
       "239175   Taipei         Taiwan   24.92N   122.36E   Aug  2013   \n",
       "239176   Taipei         Taiwan   24.92N   122.36E  Sept  2013   \n",
       "\n",
       "                 Hemisphere  Seasons  \n",
       "0       Northern Hemisphere   Winter  \n",
       "1       Northern Hemisphere   Winter  \n",
       "2       Northern Hemisphere   Spring  \n",
       "3       Northern Hemisphere   Spring  \n",
       "4       Northern Hemisphere   Spring  \n",
       "...                     ...      ...  \n",
       "239172  Northern Hemisphere   Summer  \n",
       "239173  Northern Hemisphere   Summer  \n",
       "239174  Northern Hemisphere  Monsoon  \n",
       "239175  Northern Hemisphere  Monsoon  \n",
       "239176  Northern Hemisphere   Autumn  \n",
       "\n",
       "[239177 rows x 11 columns]"
      ]
     },
     "execution_count": 3,
     "metadata": {},
     "output_type": "execute_result"
    }
   ],
   "source": [
    "dmajcity"
   ]
  },
  {
   "cell_type": "markdown",
   "id": "thousand-dream",
   "metadata": {},
   "source": [
    "### Feature Engineering -- Change in Temperature"
   ]
  },
  {
   "cell_type": "code",
   "execution_count": 4,
   "id": "representative-clothing",
   "metadata": {},
   "outputs": [],
   "source": [
    "def order_monthidx(df):\n",
    "    cats = ['Jan', 'Feb', 'Mar', 'Apr','May','Jun', 'Jul', 'Aug','Sept', 'Oct', 'Nov', 'Dec']\n",
    "    df.index = pd.CategoricalIndex(df.index, categories=cats, ordered=True)\n",
    "    df = df.sort_index()\n",
    "    return df"
   ]
  },
  {
   "cell_type": "code",
   "execution_count": 5,
   "id": "fitted-sodium",
   "metadata": {},
   "outputs": [],
   "source": [
    "months = dmajcity['Month'].unique()"
   ]
  },
  {
   "cell_type": "code",
   "execution_count": 6,
   "id": "figured-netherlands",
   "metadata": {},
   "outputs": [
    {
     "data": {
      "text/plain": [
       "array(['Jan', 'Feb', 'Mar', 'Apr', 'May', 'Jun', 'Jul', 'Aug', 'Sept',\n",
       "       'Oct', 'Nov', 'Dec'], dtype=object)"
      ]
     },
     "execution_count": 6,
     "metadata": {},
     "output_type": "execute_result"
    }
   ],
   "source": [
    "months"
   ]
  },
  {
   "cell_type": "code",
   "execution_count": 7,
   "id": "controlled-investing",
   "metadata": {},
   "outputs": [],
   "source": [
    "def gen_detlaT(df,months):\n",
    "    dfs = {}\n",
    "    for month in months: #jan \n",
    "        temp = df[df['Month']==month]\n",
    "        deltat = pd.DataFrame(temp['AverageTemperature']).diff() * -1 \n",
    "\n",
    "        temp['DeltaT'] = deltat\n",
    "        dfs[month] = temp\n",
    "    \n",
    "    return dfs\n",
    "    "
   ]
  },
  {
   "cell_type": "code",
   "execution_count": 8,
   "id": "agricultural-while",
   "metadata": {},
   "outputs": [
    {
     "name": "stderr",
     "output_type": "stream",
     "text": [
      "<ipython-input-7-924a1efbc05b>:7: SettingWithCopyWarning: \n",
      "A value is trying to be set on a copy of a slice from a DataFrame.\n",
      "Try using .loc[row_indexer,col_indexer] = value instead\n",
      "\n",
      "See the caveats in the documentation: https://pandas.pydata.org/pandas-docs/stable/user_guide/indexing.html#returning-a-view-versus-a-copy\n",
      "  temp['DeltaT'] = deltat\n"
     ]
    }
   ],
   "source": [
    "dfsdict = gen_detlaT(dmajcity, months)"
   ]
  },
  {
   "cell_type": "code",
   "execution_count": 9,
   "id": "exotic-nowhere",
   "metadata": {},
   "outputs": [],
   "source": [
    "dmajcity = pd.concat(dfsdict.values())"
   ]
  },
  {
   "cell_type": "code",
   "execution_count": 10,
   "id": "pacific-trick",
   "metadata": {},
   "outputs": [],
   "source": [
    "dmajcity = dmajcity.reset_index(drop=True)"
   ]
  },
  {
   "cell_type": "code",
   "execution_count": 11,
   "id": "postal-inflation",
   "metadata": {},
   "outputs": [],
   "source": [
    "dmajcity = dmajcity.dropna()"
   ]
  },
  {
   "cell_type": "code",
   "execution_count": 12,
   "id": "antique-development",
   "metadata": {},
   "outputs": [
    {
     "data": {
      "text/plain": [
       "11911     1796\n",
       "11912     1797\n",
       "11913     1798\n",
       "11914     1799\n",
       "11915     1800\n",
       "          ... \n",
       "231385    2008\n",
       "231386    2009\n",
       "231387    2010\n",
       "231388    2011\n",
       "231389    2012\n",
       "Name: Year, Length: 2613, dtype: int64"
      ]
     },
     "execution_count": 12,
     "metadata": {},
     "output_type": "execute_result"
    }
   ],
   "source": [
    "dmajcity[dmajcity['City']=='Hyderabad'].Year"
   ]
  },
  {
   "cell_type": "code",
   "execution_count": 13,
   "id": "reverse-agriculture",
   "metadata": {},
   "outputs": [],
   "source": [
    "temp = dmajcity.groupby(['City','Month'])[['DeltaT']].mean()"
   ]
  },
  {
   "cell_type": "code",
   "execution_count": 14,
   "id": "undefined-reputation",
   "metadata": {},
   "outputs": [
    {
     "data": {
      "text/plain": [
       "<AxesSubplot:xlabel='Month'>"
      ]
     },
     "execution_count": 14,
     "metadata": {},
     "output_type": "execute_result"
    },
    {
     "data": {
      "image/png": "[encoded data removed]",
      "text/plain": [
       "<Figure size 432x288 with 1 Axes>"
      ]
     },
     "metadata": {},
     "output_type": "display_data"
    }
   ],
   "source": [
    "order_monthidx(temp.loc['Hyderabad',:]).plot()"
   ]
  },
  {
   "cell_type": "code",
   "execution_count": 15,
   "id": "transsexual-proxy",
   "metadata": {},
   "outputs": [
    {
     "data": {
      "text/html": [
       "<div>\n",
       "<style scoped>\n",
       "    .dataframe tbody tr th:only-of-type {\n",
       "        vertical-align: middle;\n",
       "    }\n",
       "\n",
       "    .dataframe tbody tr th {\n",
       "        vertical-align: top;\n",
       "    }\n",
       "\n",
       "    .dataframe thead th {\n",
       "        text-align: right;\n",
       "    }\n",
       "</style>\n",
       "<table border=\"1\" class=\"dataframe\">\n",
       "  <thead>\n",
       "    <tr style=\"text-align: right;\">\n",
       "      <th></th>\n",
       "      <th>dt</th>\n",
       "      <th>AverageTemperature</th>\n",
       "      <th>AverageTemperatureUncertainty</th>\n",
       "      <th>City</th>\n",
       "      <th>Country</th>\n",
       "      <th>Latitude</th>\n",
       "      <th>Longitude</th>\n",
       "      <th>Month</th>\n",
       "      <th>Year</th>\n",
       "      <th>Hemisphere</th>\n",
       "      <th>Seasons</th>\n",
       "      <th>DeltaT</th>\n",
       "    </tr>\n",
       "  </thead>\n",
       "  <tbody>\n",
       "    <tr>\n",
       "      <th>1</th>\n",
       "      <td>1850-01-01</td>\n",
       "      <td>25.803000</td>\n",
       "      <td>1.943000</td>\n",
       "      <td>Abidjan</td>\n",
       "      <td>Côte D'Ivoire</td>\n",
       "      <td>5.63N</td>\n",
       "      <td>3.23W</td>\n",
       "      <td>Jan</td>\n",
       "      <td>1850</td>\n",
       "      <td>Northern Hemisphere</td>\n",
       "      <td>Winter</td>\n",
       "      <td>0.901000</td>\n",
       "    </tr>\n",
       "    <tr>\n",
       "      <th>2</th>\n",
       "      <td>1851-01-01</td>\n",
       "      <td>26.789000</td>\n",
       "      <td>1.249000</td>\n",
       "      <td>Abidjan</td>\n",
       "      <td>Côte D'Ivoire</td>\n",
       "      <td>5.63N</td>\n",
       "      <td>3.23W</td>\n",
       "      <td>Jan</td>\n",
       "      <td>1851</td>\n",
       "      <td>Northern Hemisphere</td>\n",
       "      <td>Winter</td>\n",
       "      <td>-0.986000</td>\n",
       "    </tr>\n",
       "    <tr>\n",
       "      <th>3</th>\n",
       "      <td>1852-01-01</td>\n",
       "      <td>26.163737</td>\n",
       "      <td>0.678569</td>\n",
       "      <td>Abidjan</td>\n",
       "      <td>Côte D'Ivoire</td>\n",
       "      <td>5.63N</td>\n",
       "      <td>3.23W</td>\n",
       "      <td>Jan</td>\n",
       "      <td>1852</td>\n",
       "      <td>Northern Hemisphere</td>\n",
       "      <td>Winter</td>\n",
       "      <td>0.625263</td>\n",
       "    </tr>\n",
       "    <tr>\n",
       "      <th>4</th>\n",
       "      <td>1853-01-01</td>\n",
       "      <td>26.163737</td>\n",
       "      <td>0.678569</td>\n",
       "      <td>Abidjan</td>\n",
       "      <td>Côte D'Ivoire</td>\n",
       "      <td>5.63N</td>\n",
       "      <td>3.23W</td>\n",
       "      <td>Jan</td>\n",
       "      <td>1853</td>\n",
       "      <td>Northern Hemisphere</td>\n",
       "      <td>Winter</td>\n",
       "      <td>-0.000000</td>\n",
       "    </tr>\n",
       "    <tr>\n",
       "      <th>5</th>\n",
       "      <td>1854-01-01</td>\n",
       "      <td>26.163737</td>\n",
       "      <td>0.678569</td>\n",
       "      <td>Abidjan</td>\n",
       "      <td>Côte D'Ivoire</td>\n",
       "      <td>5.63N</td>\n",
       "      <td>3.23W</td>\n",
       "      <td>Jan</td>\n",
       "      <td>1854</td>\n",
       "      <td>Northern Hemisphere</td>\n",
       "      <td>Winter</td>\n",
       "      <td>-0.000000</td>\n",
       "    </tr>\n",
       "    <tr>\n",
       "      <th>...</th>\n",
       "      <td>...</td>\n",
       "      <td>...</td>\n",
       "      <td>...</td>\n",
       "      <td>...</td>\n",
       "      <td>...</td>\n",
       "      <td>...</td>\n",
       "      <td>...</td>\n",
       "      <td>...</td>\n",
       "      <td>...</td>\n",
       "      <td>...</td>\n",
       "      <td>...</td>\n",
       "      <td>...</td>\n",
       "    </tr>\n",
       "    <tr>\n",
       "      <th>239172</th>\n",
       "      <td>2008-12-01</td>\n",
       "      <td>19.022000</td>\n",
       "      <td>0.192000</td>\n",
       "      <td>Taipei</td>\n",
       "      <td>Taiwan</td>\n",
       "      <td>24.92N</td>\n",
       "      <td>122.36E</td>\n",
       "      <td>Dec</td>\n",
       "      <td>2008</td>\n",
       "      <td>Northern Hemisphere</td>\n",
       "      <td>Winter</td>\n",
       "      <td>0.948000</td>\n",
       "    </tr>\n",
       "    <tr>\n",
       "      <th>239173</th>\n",
       "      <td>2009-12-01</td>\n",
       "      <td>18.026000</td>\n",
       "      <td>0.189000</td>\n",
       "      <td>Taipei</td>\n",
       "      <td>Taiwan</td>\n",
       "      <td>24.92N</td>\n",
       "      <td>122.36E</td>\n",
       "      <td>Dec</td>\n",
       "      <td>2009</td>\n",
       "      <td>Northern Hemisphere</td>\n",
       "      <td>Winter</td>\n",
       "      <td>0.996000</td>\n",
       "    </tr>\n",
       "    <tr>\n",
       "      <th>239174</th>\n",
       "      <td>2010-12-01</td>\n",
       "      <td>18.203000</td>\n",
       "      <td>0.294000</td>\n",
       "      <td>Taipei</td>\n",
       "      <td>Taiwan</td>\n",
       "      <td>24.92N</td>\n",
       "      <td>122.36E</td>\n",
       "      <td>Dec</td>\n",
       "      <td>2010</td>\n",
       "      <td>Northern Hemisphere</td>\n",
       "      <td>Winter</td>\n",
       "      <td>-0.177000</td>\n",
       "    </tr>\n",
       "    <tr>\n",
       "      <th>239175</th>\n",
       "      <td>2011-12-01</td>\n",
       "      <td>17.944000</td>\n",
       "      <td>0.396000</td>\n",
       "      <td>Taipei</td>\n",
       "      <td>Taiwan</td>\n",
       "      <td>24.92N</td>\n",
       "      <td>122.36E</td>\n",
       "      <td>Dec</td>\n",
       "      <td>2011</td>\n",
       "      <td>Northern Hemisphere</td>\n",
       "      <td>Winter</td>\n",
       "      <td>0.259000</td>\n",
       "    </tr>\n",
       "    <tr>\n",
       "      <th>239176</th>\n",
       "      <td>2012-12-01</td>\n",
       "      <td>18.172000</td>\n",
       "      <td>0.383000</td>\n",
       "      <td>Taipei</td>\n",
       "      <td>Taiwan</td>\n",
       "      <td>24.92N</td>\n",
       "      <td>122.36E</td>\n",
       "      <td>Dec</td>\n",
       "      <td>2012</td>\n",
       "      <td>Northern Hemisphere</td>\n",
       "      <td>Winter</td>\n",
       "      <td>-0.228000</td>\n",
       "    </tr>\n",
       "  </tbody>\n",
       "</table>\n",
       "<p>239165 rows × 12 columns</p>\n",
       "</div>"
      ],
      "text/plain": [
       "                dt  AverageTemperature  AverageTemperatureUncertainty  \\\n",
       "1       1850-01-01           25.803000                       1.943000   \n",
       "2       1851-01-01           26.789000                       1.249000   \n",
       "3       1852-01-01           26.163737                       0.678569   \n",
       "4       1853-01-01           26.163737                       0.678569   \n",
       "5       1854-01-01           26.163737                       0.678569   \n",
       "...            ...                 ...                            ...   \n",
       "239172  2008-12-01           19.022000                       0.192000   \n",
       "239173  2009-12-01           18.026000                       0.189000   \n",
       "239174  2010-12-01           18.203000                       0.294000   \n",
       "239175  2011-12-01           17.944000                       0.396000   \n",
       "239176  2012-12-01           18.172000                       0.383000   \n",
       "\n",
       "           City        Country Latitude Longitude Month  Year  \\\n",
       "1       Abidjan  Côte D'Ivoire    5.63N     3.23W   Jan  1850   \n",
       "2       Abidjan  Côte D'Ivoire    5.63N     3.23W   Jan  1851   \n",
       "3       Abidjan  Côte D'Ivoire    5.63N     3.23W   Jan  1852   \n",
       "4       Abidjan  Côte D'Ivoire    5.63N     3.23W   Jan  1853   \n",
       "5       Abidjan  Côte D'Ivoire    5.63N     3.23W   Jan  1854   \n",
       "...         ...            ...      ...       ...   ...   ...   \n",
       "239172   Taipei         Taiwan   24.92N   122.36E   Dec  2008   \n",
       "239173   Taipei         Taiwan   24.92N   122.36E   Dec  2009   \n",
       "239174   Taipei         Taiwan   24.92N   122.36E   Dec  2010   \n",
       "239175   Taipei         Taiwan   24.92N   122.36E   Dec  2011   \n",
       "239176   Taipei         Taiwan   24.92N   122.36E   Dec  2012   \n",
       "\n",
       "                 Hemisphere Seasons    DeltaT  \n",
       "1       Northern Hemisphere  Winter  0.901000  \n",
       "2       Northern Hemisphere  Winter -0.986000  \n",
       "3       Northern Hemisphere  Winter  0.625263  \n",
       "4       Northern Hemisphere  Winter -0.000000  \n",
       "5       Northern Hemisphere  Winter -0.000000  \n",
       "...                     ...     ...       ...  \n",
       "239172  Northern Hemisphere  Winter  0.948000  \n",
       "239173  Northern Hemisphere  Winter  0.996000  \n",
       "239174  Northern Hemisphere  Winter -0.177000  \n",
       "239175  Northern Hemisphere  Winter  0.259000  \n",
       "239176  Northern Hemisphere  Winter -0.228000  \n",
       "\n",
       "[239165 rows x 12 columns]"
      ]
     },
     "execution_count": 15,
     "metadata": {},
     "output_type": "execute_result"
    }
   ],
   "source": [
    "dmajcity"
   ]
  },
  {
   "cell_type": "markdown",
   "id": "laden-palmer",
   "metadata": {},
   "source": [
    "### Prophet "
   ]
  },
  {
   "cell_type": "code",
   "execution_count": 16,
   "id": "collective-bangladesh",
   "metadata": {},
   "outputs": [],
   "source": [
    "from prophet import Prophet"
   ]
  },
  {
   "cell_type": "code",
   "execution_count": 17,
   "id": "everyday-player",
   "metadata": {},
   "outputs": [
    {
     "name": "stdout",
     "output_type": "stream",
     "text": [
      "<class 'pandas.core.frame.DataFrame'>\n",
      "Int64Index: 239165 entries, 1 to 239176\n",
      "Data columns (total 12 columns):\n",
      " #   Column                         Non-Null Count   Dtype  \n",
      "---  ------                         --------------   -----  \n",
      " 0   dt                             239165 non-null  object \n",
      " 1   AverageTemperature             239165 non-null  float64\n",
      " 2   AverageTemperatureUncertainty  239165 non-null  float64\n",
      " 3   City                           239165 non-null  object \n",
      " 4   Country                        239165 non-null  object \n",
      " 5   Latitude                       239165 non-null  object \n",
      " 6   Longitude                      239165 non-null  object \n",
      " 7   Month                          239165 non-null  object \n",
      " 8   Year                           239165 non-null  int64  \n",
      " 9   Hemisphere                     239165 non-null  object \n",
      " 10  Seasons                        239165 non-null  object \n",
      " 11  DeltaT                         239165 non-null  float64\n",
      "dtypes: float64(3), int64(1), object(8)\n",
      "memory usage: 23.7+ MB\n"
     ]
    }
   ],
   "source": [
    "dmajcity.info()"
   ]
  },
  {
   "cell_type": "code",
   "execution_count": 18,
   "id": "found-rhythm",
   "metadata": {},
   "outputs": [],
   "source": [
    "# Convert dt to datetime\n",
    "dmajcity['dt'] = pd.to_datetime(dmajcity['dt'])"
   ]
  },
  {
   "cell_type": "code",
   "execution_count": 19,
   "id": "convinced-cambridge",
   "metadata": {},
   "outputs": [
    {
     "name": "stdout",
     "output_type": "stream",
     "text": [
      "<class 'pandas.core.frame.DataFrame'>\n",
      "Int64Index: 239165 entries, 1 to 239176\n",
      "Data columns (total 12 columns):\n",
      " #   Column                         Non-Null Count   Dtype         \n",
      "---  ------                         --------------   -----         \n",
      " 0   dt                             239165 non-null  datetime64[ns]\n",
      " 1   AverageTemperature             239165 non-null  float64       \n",
      " 2   AverageTemperatureUncertainty  239165 non-null  float64       \n",
      " 3   City                           239165 non-null  object        \n",
      " 4   Country                        239165 non-null  object        \n",
      " 5   Latitude                       239165 non-null  object        \n",
      " 6   Longitude                      239165 non-null  object        \n",
      " 7   Month                          239165 non-null  object        \n",
      " 8   Year                           239165 non-null  int64         \n",
      " 9   Hemisphere                     239165 non-null  object        \n",
      " 10  Seasons                        239165 non-null  object        \n",
      " 11  DeltaT                         239165 non-null  float64       \n",
      "dtypes: datetime64[ns](1), float64(3), int64(1), object(7)\n",
      "memory usage: 23.7+ MB\n"
     ]
    }
   ],
   "source": [
    "dmajcity.info()"
   ]
  },
  {
   "cell_type": "code",
   "execution_count": 20,
   "id": "hydraulic-founder",
   "metadata": {},
   "outputs": [
    {
     "data": {
      "text/html": [
       "<div>\n",
       "<style scoped>\n",
       "    .dataframe tbody tr th:only-of-type {\n",
       "        vertical-align: middle;\n",
       "    }\n",
       "\n",
       "    .dataframe tbody tr th {\n",
       "        vertical-align: top;\n",
       "    }\n",
       "\n",
       "    .dataframe thead th {\n",
       "        text-align: right;\n",
       "    }\n",
       "</style>\n",
       "<table border=\"1\" class=\"dataframe\">\n",
       "  <thead>\n",
       "    <tr style=\"text-align: right;\">\n",
       "      <th></th>\n",
       "      <th>dt</th>\n",
       "      <th>AverageTemperature</th>\n",
       "      <th>AverageTemperatureUncertainty</th>\n",
       "      <th>City</th>\n",
       "      <th>Country</th>\n",
       "      <th>Latitude</th>\n",
       "      <th>Longitude</th>\n",
       "      <th>Month</th>\n",
       "      <th>Year</th>\n",
       "      <th>Hemisphere</th>\n",
       "      <th>Seasons</th>\n",
       "      <th>DeltaT</th>\n",
       "    </tr>\n",
       "  </thead>\n",
       "  <tbody>\n",
       "    <tr>\n",
       "      <th>11911</th>\n",
       "      <td>1796-01-01</td>\n",
       "      <td>22.759</td>\n",
       "      <td>2.322</td>\n",
       "      <td>Hyderabad</td>\n",
       "      <td>India</td>\n",
       "      <td>16.87N</td>\n",
       "      <td>78.70E</td>\n",
       "      <td>Jan</td>\n",
       "      <td>1796</td>\n",
       "      <td>Northern Hemisphere</td>\n",
       "      <td>Winter</td>\n",
       "      <td>-9.003000</td>\n",
       "    </tr>\n",
       "    <tr>\n",
       "      <th>31854</th>\n",
       "      <td>1796-02-01</td>\n",
       "      <td>25.094</td>\n",
       "      <td>1.453</td>\n",
       "      <td>Hyderabad</td>\n",
       "      <td>India</td>\n",
       "      <td>16.87N</td>\n",
       "      <td>78.70E</td>\n",
       "      <td>Feb</td>\n",
       "      <td>1796</td>\n",
       "      <td>Northern Hemisphere</td>\n",
       "      <td>Winter</td>\n",
       "      <td>-7.270000</td>\n",
       "    </tr>\n",
       "    <tr>\n",
       "      <th>51798</th>\n",
       "      <td>1796-03-01</td>\n",
       "      <td>27.725</td>\n",
       "      <td>2.443</td>\n",
       "      <td>Hyderabad</td>\n",
       "      <td>India</td>\n",
       "      <td>16.87N</td>\n",
       "      <td>78.70E</td>\n",
       "      <td>Mar</td>\n",
       "      <td>1796</td>\n",
       "      <td>Northern Hemisphere</td>\n",
       "      <td>Spring</td>\n",
       "      <td>-3.700000</td>\n",
       "    </tr>\n",
       "    <tr>\n",
       "      <th>71745</th>\n",
       "      <td>1796-04-01</td>\n",
       "      <td>31.280</td>\n",
       "      <td>1.789</td>\n",
       "      <td>Hyderabad</td>\n",
       "      <td>India</td>\n",
       "      <td>16.87N</td>\n",
       "      <td>78.70E</td>\n",
       "      <td>Apr</td>\n",
       "      <td>1796</td>\n",
       "      <td>Northern Hemisphere</td>\n",
       "      <td>Spring</td>\n",
       "      <td>-1.976000</td>\n",
       "    </tr>\n",
       "    <tr>\n",
       "      <th>91696</th>\n",
       "      <td>1796-05-01</td>\n",
       "      <td>32.701</td>\n",
       "      <td>1.406</td>\n",
       "      <td>Hyderabad</td>\n",
       "      <td>India</td>\n",
       "      <td>16.87N</td>\n",
       "      <td>78.70E</td>\n",
       "      <td>May</td>\n",
       "      <td>1796</td>\n",
       "      <td>Northern Hemisphere</td>\n",
       "      <td>Summer</td>\n",
       "      <td>2.045000</td>\n",
       "    </tr>\n",
       "    <tr>\n",
       "      <th>111649</th>\n",
       "      <td>1796-06-01</td>\n",
       "      <td>29.856</td>\n",
       "      <td>3.788</td>\n",
       "      <td>Hyderabad</td>\n",
       "      <td>India</td>\n",
       "      <td>16.87N</td>\n",
       "      <td>78.70E</td>\n",
       "      <td>Jun</td>\n",
       "      <td>1796</td>\n",
       "      <td>Northern Hemisphere</td>\n",
       "      <td>Summer</td>\n",
       "      <td>3.210000</td>\n",
       "    </tr>\n",
       "    <tr>\n",
       "      <th>131602</th>\n",
       "      <td>1796-07-01</td>\n",
       "      <td>26.749</td>\n",
       "      <td>2.606</td>\n",
       "      <td>Hyderabad</td>\n",
       "      <td>India</td>\n",
       "      <td>16.87N</td>\n",
       "      <td>78.70E</td>\n",
       "      <td>Jul</td>\n",
       "      <td>1796</td>\n",
       "      <td>Northern Hemisphere</td>\n",
       "      <td>Monsoon</td>\n",
       "      <td>4.304000</td>\n",
       "    </tr>\n",
       "    <tr>\n",
       "      <th>151555</th>\n",
       "      <td>1796-08-01</td>\n",
       "      <td>26.433</td>\n",
       "      <td>3.415</td>\n",
       "      <td>Hyderabad</td>\n",
       "      <td>India</td>\n",
       "      <td>16.87N</td>\n",
       "      <td>78.70E</td>\n",
       "      <td>Aug</td>\n",
       "      <td>1796</td>\n",
       "      <td>Northern Hemisphere</td>\n",
       "      <td>Monsoon</td>\n",
       "      <td>3.467000</td>\n",
       "    </tr>\n",
       "    <tr>\n",
       "      <th>171516</th>\n",
       "      <td>1796-09-01</td>\n",
       "      <td>26.793</td>\n",
       "      <td>3.762</td>\n",
       "      <td>Hyderabad</td>\n",
       "      <td>India</td>\n",
       "      <td>16.87N</td>\n",
       "      <td>78.70E</td>\n",
       "      <td>Sept</td>\n",
       "      <td>1796</td>\n",
       "      <td>Northern Hemisphere</td>\n",
       "      <td>Autumn</td>\n",
       "      <td>-1.627139</td>\n",
       "    </tr>\n",
       "    <tr>\n",
       "      <th>191421</th>\n",
       "      <td>1796-10-01</td>\n",
       "      <td>25.396</td>\n",
       "      <td>1.655</td>\n",
       "      <td>Hyderabad</td>\n",
       "      <td>India</td>\n",
       "      <td>16.87N</td>\n",
       "      <td>78.70E</td>\n",
       "      <td>Oct</td>\n",
       "      <td>1796</td>\n",
       "      <td>Northern Hemisphere</td>\n",
       "      <td>Autumn</td>\n",
       "      <td>0.958000</td>\n",
       "    </tr>\n",
       "    <tr>\n",
       "      <th>211297</th>\n",
       "      <td>1796-11-01</td>\n",
       "      <td>22.966</td>\n",
       "      <td>3.494</td>\n",
       "      <td>Hyderabad</td>\n",
       "      <td>India</td>\n",
       "      <td>16.87N</td>\n",
       "      <td>78.70E</td>\n",
       "      <td>Nov</td>\n",
       "      <td>1796</td>\n",
       "      <td>Northern Hemisphere</td>\n",
       "      <td>Winter</td>\n",
       "      <td>-1.856000</td>\n",
       "    </tr>\n",
       "    <tr>\n",
       "      <th>231173</th>\n",
       "      <td>1796-12-01</td>\n",
       "      <td>20.635</td>\n",
       "      <td>4.622</td>\n",
       "      <td>Hyderabad</td>\n",
       "      <td>India</td>\n",
       "      <td>16.87N</td>\n",
       "      <td>78.70E</td>\n",
       "      <td>Dec</td>\n",
       "      <td>1796</td>\n",
       "      <td>Northern Hemisphere</td>\n",
       "      <td>Winter</td>\n",
       "      <td>-4.069000</td>\n",
       "    </tr>\n",
       "  </tbody>\n",
       "</table>\n",
       "</div>"
      ],
      "text/plain": [
       "               dt  AverageTemperature  AverageTemperatureUncertainty  \\\n",
       "11911  1796-01-01              22.759                          2.322   \n",
       "31854  1796-02-01              25.094                          1.453   \n",
       "51798  1796-03-01              27.725                          2.443   \n",
       "71745  1796-04-01              31.280                          1.789   \n",
       "91696  1796-05-01              32.701                          1.406   \n",
       "111649 1796-06-01              29.856                          3.788   \n",
       "131602 1796-07-01              26.749                          2.606   \n",
       "151555 1796-08-01              26.433                          3.415   \n",
       "171516 1796-09-01              26.793                          3.762   \n",
       "191421 1796-10-01              25.396                          1.655   \n",
       "211297 1796-11-01              22.966                          3.494   \n",
       "231173 1796-12-01              20.635                          4.622   \n",
       "\n",
       "             City Country Latitude Longitude Month  Year           Hemisphere  \\\n",
       "11911   Hyderabad   India   16.87N    78.70E   Jan  1796  Northern Hemisphere   \n",
       "31854   Hyderabad   India   16.87N    78.70E   Feb  1796  Northern Hemisphere   \n",
       "51798   Hyderabad   India   16.87N    78.70E   Mar  1796  Northern Hemisphere   \n",
       "71745   Hyderabad   India   16.87N    78.70E   Apr  1796  Northern Hemisphere   \n",
       "91696   Hyderabad   India   16.87N    78.70E   May  1796  Northern Hemisphere   \n",
       "111649  Hyderabad   India   16.87N    78.70E   Jun  1796  Northern Hemisphere   \n",
       "131602  Hyderabad   India   16.87N    78.70E   Jul  1796  Northern Hemisphere   \n",
       "151555  Hyderabad   India   16.87N    78.70E   Aug  1796  Northern Hemisphere   \n",
       "171516  Hyderabad   India   16.87N    78.70E  Sept  1796  Northern Hemisphere   \n",
       "191421  Hyderabad   India   16.87N    78.70E   Oct  1796  Northern Hemisphere   \n",
       "211297  Hyderabad   India   16.87N    78.70E   Nov  1796  Northern Hemisphere   \n",
       "231173  Hyderabad   India   16.87N    78.70E   Dec  1796  Northern Hemisphere   \n",
       "\n",
       "        Seasons    DeltaT  \n",
       "11911    Winter -9.003000  \n",
       "31854    Winter -7.270000  \n",
       "51798    Spring -3.700000  \n",
       "71745    Spring -1.976000  \n",
       "91696    Summer  2.045000  \n",
       "111649   Summer  3.210000  \n",
       "131602  Monsoon  4.304000  \n",
       "151555  Monsoon  3.467000  \n",
       "171516   Autumn -1.627139  \n",
       "191421   Autumn  0.958000  \n",
       "211297   Winter -1.856000  \n",
       "231173   Winter -4.069000  "
      ]
     },
     "execution_count": 20,
     "metadata": {},
     "output_type": "execute_result"
    }
   ],
   "source": [
    "# re-transform\n",
    "tempdf = dmajcity[dmajcity['City']=='Hyderabad']\n",
    "tempdf[tempdf['Year']==1796] "
   ]
  },
  {
   "cell_type": "code",
   "execution_count": 21,
   "id": "flying-array",
   "metadata": {},
   "outputs": [],
   "source": [
    "## Re-trasnforms the stack formation to the original format\n",
    "def re_transform(df):\n",
    "    dfs_list = []\n",
    "    years = df['Year'].unique()\n",
    "    for year in years:\n",
    "        dfs_list.append(df[df['Year']==year])\n",
    "    return pd.concat(dfs_list)"
   ]
  },
  {
   "cell_type": "code",
   "execution_count": 22,
   "id": "infinite-girlfriend",
   "metadata": {},
   "outputs": [
    {
     "data": {
      "text/html": [
       "<div>\n",
       "<style scoped>\n",
       "    .dataframe tbody tr th:only-of-type {\n",
       "        vertical-align: middle;\n",
       "    }\n",
       "\n",
       "    .dataframe tbody tr th {\n",
       "        vertical-align: top;\n",
       "    }\n",
       "\n",
       "    .dataframe thead th {\n",
       "        text-align: right;\n",
       "    }\n",
       "</style>\n",
       "<table border=\"1\" class=\"dataframe\">\n",
       "  <thead>\n",
       "    <tr style=\"text-align: right;\">\n",
       "      <th></th>\n",
       "      <th>dt</th>\n",
       "      <th>AverageTemperature</th>\n",
       "      <th>AverageTemperatureUncertainty</th>\n",
       "      <th>City</th>\n",
       "      <th>Country</th>\n",
       "      <th>Latitude</th>\n",
       "      <th>Longitude</th>\n",
       "      <th>Month</th>\n",
       "      <th>Year</th>\n",
       "      <th>Hemisphere</th>\n",
       "      <th>Seasons</th>\n",
       "      <th>DeltaT</th>\n",
       "    </tr>\n",
       "  </thead>\n",
       "  <tbody>\n",
       "    <tr>\n",
       "      <th>11911</th>\n",
       "      <td>1796-01-01</td>\n",
       "      <td>22.759000</td>\n",
       "      <td>2.322000</td>\n",
       "      <td>Hyderabad</td>\n",
       "      <td>India</td>\n",
       "      <td>16.87N</td>\n",
       "      <td>78.70E</td>\n",
       "      <td>Jan</td>\n",
       "      <td>1796</td>\n",
       "      <td>Northern Hemisphere</td>\n",
       "      <td>Winter</td>\n",
       "      <td>-9.003000</td>\n",
       "    </tr>\n",
       "    <tr>\n",
       "      <th>31854</th>\n",
       "      <td>1796-02-01</td>\n",
       "      <td>25.094000</td>\n",
       "      <td>1.453000</td>\n",
       "      <td>Hyderabad</td>\n",
       "      <td>India</td>\n",
       "      <td>16.87N</td>\n",
       "      <td>78.70E</td>\n",
       "      <td>Feb</td>\n",
       "      <td>1796</td>\n",
       "      <td>Northern Hemisphere</td>\n",
       "      <td>Winter</td>\n",
       "      <td>-7.270000</td>\n",
       "    </tr>\n",
       "    <tr>\n",
       "      <th>51798</th>\n",
       "      <td>1796-03-01</td>\n",
       "      <td>27.725000</td>\n",
       "      <td>2.443000</td>\n",
       "      <td>Hyderabad</td>\n",
       "      <td>India</td>\n",
       "      <td>16.87N</td>\n",
       "      <td>78.70E</td>\n",
       "      <td>Mar</td>\n",
       "      <td>1796</td>\n",
       "      <td>Northern Hemisphere</td>\n",
       "      <td>Spring</td>\n",
       "      <td>-3.700000</td>\n",
       "    </tr>\n",
       "    <tr>\n",
       "      <th>71745</th>\n",
       "      <td>1796-04-01</td>\n",
       "      <td>31.280000</td>\n",
       "      <td>1.789000</td>\n",
       "      <td>Hyderabad</td>\n",
       "      <td>India</td>\n",
       "      <td>16.87N</td>\n",
       "      <td>78.70E</td>\n",
       "      <td>Apr</td>\n",
       "      <td>1796</td>\n",
       "      <td>Northern Hemisphere</td>\n",
       "      <td>Spring</td>\n",
       "      <td>-1.976000</td>\n",
       "    </tr>\n",
       "    <tr>\n",
       "      <th>91696</th>\n",
       "      <td>1796-05-01</td>\n",
       "      <td>32.701000</td>\n",
       "      <td>1.406000</td>\n",
       "      <td>Hyderabad</td>\n",
       "      <td>India</td>\n",
       "      <td>16.87N</td>\n",
       "      <td>78.70E</td>\n",
       "      <td>May</td>\n",
       "      <td>1796</td>\n",
       "      <td>Northern Hemisphere</td>\n",
       "      <td>Summer</td>\n",
       "      <td>2.045000</td>\n",
       "    </tr>\n",
       "    <tr>\n",
       "      <th>...</th>\n",
       "      <td>...</td>\n",
       "      <td>...</td>\n",
       "      <td>...</td>\n",
       "      <td>...</td>\n",
       "      <td>...</td>\n",
       "      <td>...</td>\n",
       "      <td>...</td>\n",
       "      <td>...</td>\n",
       "      <td>...</td>\n",
       "      <td>...</td>\n",
       "      <td>...</td>\n",
       "      <td>...</td>\n",
       "    </tr>\n",
       "    <tr>\n",
       "      <th>91913</th>\n",
       "      <td>2013-05-01</td>\n",
       "      <td>34.650000</td>\n",
       "      <td>0.823000</td>\n",
       "      <td>Hyderabad</td>\n",
       "      <td>India</td>\n",
       "      <td>16.87N</td>\n",
       "      <td>78.70E</td>\n",
       "      <td>May</td>\n",
       "      <td>2013</td>\n",
       "      <td>Northern Hemisphere</td>\n",
       "      <td>Summer</td>\n",
       "      <td>-0.319000</td>\n",
       "    </tr>\n",
       "    <tr>\n",
       "      <th>111866</th>\n",
       "      <td>2013-06-01</td>\n",
       "      <td>29.487000</td>\n",
       "      <td>0.754000</td>\n",
       "      <td>Hyderabad</td>\n",
       "      <td>India</td>\n",
       "      <td>16.87N</td>\n",
       "      <td>78.70E</td>\n",
       "      <td>Jun</td>\n",
       "      <td>2013</td>\n",
       "      <td>Northern Hemisphere</td>\n",
       "      <td>Summer</td>\n",
       "      <td>2.288000</td>\n",
       "    </tr>\n",
       "    <tr>\n",
       "      <th>131819</th>\n",
       "      <td>2013-07-01</td>\n",
       "      <td>27.011000</td>\n",
       "      <td>0.478000</td>\n",
       "      <td>Hyderabad</td>\n",
       "      <td>India</td>\n",
       "      <td>16.87N</td>\n",
       "      <td>78.70E</td>\n",
       "      <td>Jul</td>\n",
       "      <td>2013</td>\n",
       "      <td>Northern Hemisphere</td>\n",
       "      <td>Monsoon</td>\n",
       "      <td>0.914000</td>\n",
       "    </tr>\n",
       "    <tr>\n",
       "      <th>151772</th>\n",
       "      <td>2013-08-01</td>\n",
       "      <td>26.923000</td>\n",
       "      <td>0.413000</td>\n",
       "      <td>Hyderabad</td>\n",
       "      <td>India</td>\n",
       "      <td>16.87N</td>\n",
       "      <td>78.70E</td>\n",
       "      <td>Aug</td>\n",
       "      <td>2013</td>\n",
       "      <td>Northern Hemisphere</td>\n",
       "      <td>Monsoon</td>\n",
       "      <td>0.581000</td>\n",
       "    </tr>\n",
       "    <tr>\n",
       "      <th>171733</th>\n",
       "      <td>2013-09-01</td>\n",
       "      <td>26.869335</td>\n",
       "      <td>0.956286</td>\n",
       "      <td>Hyderabad</td>\n",
       "      <td>India</td>\n",
       "      <td>16.87N</td>\n",
       "      <td>78.70E</td>\n",
       "      <td>Sept</td>\n",
       "      <td>2013</td>\n",
       "      <td>Northern Hemisphere</td>\n",
       "      <td>Autumn</td>\n",
       "      <td>0.809665</td>\n",
       "    </tr>\n",
       "  </tbody>\n",
       "</table>\n",
       "<p>2613 rows × 12 columns</p>\n",
       "</div>"
      ],
      "text/plain": [
       "               dt  AverageTemperature  AverageTemperatureUncertainty  \\\n",
       "11911  1796-01-01           22.759000                       2.322000   \n",
       "31854  1796-02-01           25.094000                       1.453000   \n",
       "51798  1796-03-01           27.725000                       2.443000   \n",
       "71745  1796-04-01           31.280000                       1.789000   \n",
       "91696  1796-05-01           32.701000                       1.406000   \n",
       "...           ...                 ...                            ...   \n",
       "91913  2013-05-01           34.650000                       0.823000   \n",
       "111866 2013-06-01           29.487000                       0.754000   \n",
       "131819 2013-07-01           27.011000                       0.478000   \n",
       "151772 2013-08-01           26.923000                       0.413000   \n",
       "171733 2013-09-01           26.869335                       0.956286   \n",
       "\n",
       "             City Country Latitude Longitude Month  Year           Hemisphere  \\\n",
       "11911   Hyderabad   India   16.87N    78.70E   Jan  1796  Northern Hemisphere   \n",
       "31854   Hyderabad   India   16.87N    78.70E   Feb  1796  Northern Hemisphere   \n",
       "51798   Hyderabad   India   16.87N    78.70E   Mar  1796  Northern Hemisphere   \n",
       "71745   Hyderabad   India   16.87N    78.70E   Apr  1796  Northern Hemisphere   \n",
       "91696   Hyderabad   India   16.87N    78.70E   May  1796  Northern Hemisphere   \n",
       "...           ...     ...      ...       ...   ...   ...                  ...   \n",
       "91913   Hyderabad   India   16.87N    78.70E   May  2013  Northern Hemisphere   \n",
       "111866  Hyderabad   India   16.87N    78.70E   Jun  2013  Northern Hemisphere   \n",
       "131819  Hyderabad   India   16.87N    78.70E   Jul  2013  Northern Hemisphere   \n",
       "151772  Hyderabad   India   16.87N    78.70E   Aug  2013  Northern Hemisphere   \n",
       "171733  Hyderabad   India   16.87N    78.70E  Sept  2013  Northern Hemisphere   \n",
       "\n",
       "        Seasons    DeltaT  \n",
       "11911    Winter -9.003000  \n",
       "31854    Winter -7.270000  \n",
       "51798    Spring -3.700000  \n",
       "71745    Spring -1.976000  \n",
       "91696    Summer  2.045000  \n",
       "...         ...       ...  \n",
       "91913    Summer -0.319000  \n",
       "111866   Summer  2.288000  \n",
       "131819  Monsoon  0.914000  \n",
       "151772  Monsoon  0.581000  \n",
       "171733   Autumn  0.809665  \n",
       "\n",
       "[2613 rows x 12 columns]"
      ]
     },
     "execution_count": 22,
     "metadata": {},
     "output_type": "execute_result"
    }
   ],
   "source": [
    "re_transform(tempdf)"
   ]
  },
  {
   "cell_type": "code",
   "execution_count": 23,
   "id": "hindu-publication",
   "metadata": {},
   "outputs": [
    {
     "data": {
      "text/html": [
       "<div>\n",
       "<style scoped>\n",
       "    .dataframe tbody tr th:only-of-type {\n",
       "        vertical-align: middle;\n",
       "    }\n",
       "\n",
       "    .dataframe tbody tr th {\n",
       "        vertical-align: top;\n",
       "    }\n",
       "\n",
       "    .dataframe thead th {\n",
       "        text-align: right;\n",
       "    }\n",
       "</style>\n",
       "<table border=\"1\" class=\"dataframe\">\n",
       "  <thead>\n",
       "    <tr style=\"text-align: right;\">\n",
       "      <th></th>\n",
       "      <th>dt</th>\n",
       "      <th>AverageTemperature</th>\n",
       "      <th>AverageTemperatureUncertainty</th>\n",
       "      <th>City</th>\n",
       "      <th>Country</th>\n",
       "      <th>Latitude</th>\n",
       "      <th>Longitude</th>\n",
       "      <th>Month</th>\n",
       "      <th>Year</th>\n",
       "      <th>Hemisphere</th>\n",
       "      <th>Seasons</th>\n",
       "      <th>DeltaT</th>\n",
       "    </tr>\n",
       "  </thead>\n",
       "  <tbody>\n",
       "    <tr>\n",
       "      <th>11911</th>\n",
       "      <td>1796-01-01</td>\n",
       "      <td>22.759000</td>\n",
       "      <td>2.322000</td>\n",
       "      <td>Hyderabad</td>\n",
       "      <td>India</td>\n",
       "      <td>16.87N</td>\n",
       "      <td>78.70E</td>\n",
       "      <td>Jan</td>\n",
       "      <td>1796</td>\n",
       "      <td>Northern Hemisphere</td>\n",
       "      <td>Winter</td>\n",
       "      <td>-9.003000</td>\n",
       "    </tr>\n",
       "    <tr>\n",
       "      <th>31854</th>\n",
       "      <td>1796-02-01</td>\n",
       "      <td>25.094000</td>\n",
       "      <td>1.453000</td>\n",
       "      <td>Hyderabad</td>\n",
       "      <td>India</td>\n",
       "      <td>16.87N</td>\n",
       "      <td>78.70E</td>\n",
       "      <td>Feb</td>\n",
       "      <td>1796</td>\n",
       "      <td>Northern Hemisphere</td>\n",
       "      <td>Winter</td>\n",
       "      <td>-7.270000</td>\n",
       "    </tr>\n",
       "    <tr>\n",
       "      <th>51798</th>\n",
       "      <td>1796-03-01</td>\n",
       "      <td>27.725000</td>\n",
       "      <td>2.443000</td>\n",
       "      <td>Hyderabad</td>\n",
       "      <td>India</td>\n",
       "      <td>16.87N</td>\n",
       "      <td>78.70E</td>\n",
       "      <td>Mar</td>\n",
       "      <td>1796</td>\n",
       "      <td>Northern Hemisphere</td>\n",
       "      <td>Spring</td>\n",
       "      <td>-3.700000</td>\n",
       "    </tr>\n",
       "    <tr>\n",
       "      <th>71745</th>\n",
       "      <td>1796-04-01</td>\n",
       "      <td>31.280000</td>\n",
       "      <td>1.789000</td>\n",
       "      <td>Hyderabad</td>\n",
       "      <td>India</td>\n",
       "      <td>16.87N</td>\n",
       "      <td>78.70E</td>\n",
       "      <td>Apr</td>\n",
       "      <td>1796</td>\n",
       "      <td>Northern Hemisphere</td>\n",
       "      <td>Spring</td>\n",
       "      <td>-1.976000</td>\n",
       "    </tr>\n",
       "    <tr>\n",
       "      <th>91696</th>\n",
       "      <td>1796-05-01</td>\n",
       "      <td>32.701000</td>\n",
       "      <td>1.406000</td>\n",
       "      <td>Hyderabad</td>\n",
       "      <td>India</td>\n",
       "      <td>16.87N</td>\n",
       "      <td>78.70E</td>\n",
       "      <td>May</td>\n",
       "      <td>1796</td>\n",
       "      <td>Northern Hemisphere</td>\n",
       "      <td>Summer</td>\n",
       "      <td>2.045000</td>\n",
       "    </tr>\n",
       "    <tr>\n",
       "      <th>...</th>\n",
       "      <td>...</td>\n",
       "      <td>...</td>\n",
       "      <td>...</td>\n",
       "      <td>...</td>\n",
       "      <td>...</td>\n",
       "      <td>...</td>\n",
       "      <td>...</td>\n",
       "      <td>...</td>\n",
       "      <td>...</td>\n",
       "      <td>...</td>\n",
       "      <td>...</td>\n",
       "      <td>...</td>\n",
       "    </tr>\n",
       "    <tr>\n",
       "      <th>91913</th>\n",
       "      <td>2013-05-01</td>\n",
       "      <td>34.650000</td>\n",
       "      <td>0.823000</td>\n",
       "      <td>Hyderabad</td>\n",
       "      <td>India</td>\n",
       "      <td>16.87N</td>\n",
       "      <td>78.70E</td>\n",
       "      <td>May</td>\n",
       "      <td>2013</td>\n",
       "      <td>Northern Hemisphere</td>\n",
       "      <td>Summer</td>\n",
       "      <td>-0.319000</td>\n",
       "    </tr>\n",
       "    <tr>\n",
       "      <th>111866</th>\n",
       "      <td>2013-06-01</td>\n",
       "      <td>29.487000</td>\n",
       "      <td>0.754000</td>\n",
       "      <td>Hyderabad</td>\n",
       "      <td>India</td>\n",
       "      <td>16.87N</td>\n",
       "      <td>78.70E</td>\n",
       "      <td>Jun</td>\n",
       "      <td>2013</td>\n",
       "      <td>Northern Hemisphere</td>\n",
       "      <td>Summer</td>\n",
       "      <td>2.288000</td>\n",
       "    </tr>\n",
       "    <tr>\n",
       "      <th>131819</th>\n",
       "      <td>2013-07-01</td>\n",
       "      <td>27.011000</td>\n",
       "      <td>0.478000</td>\n",
       "      <td>Hyderabad</td>\n",
       "      <td>India</td>\n",
       "      <td>16.87N</td>\n",
       "      <td>78.70E</td>\n",
       "      <td>Jul</td>\n",
       "      <td>2013</td>\n",
       "      <td>Northern Hemisphere</td>\n",
       "      <td>Monsoon</td>\n",
       "      <td>0.914000</td>\n",
       "    </tr>\n",
       "    <tr>\n",
       "      <th>151772</th>\n",
       "      <td>2013-08-01</td>\n",
       "      <td>26.923000</td>\n",
       "      <td>0.413000</td>\n",
       "      <td>Hyderabad</td>\n",
       "      <td>India</td>\n",
       "      <td>16.87N</td>\n",
       "      <td>78.70E</td>\n",
       "      <td>Aug</td>\n",
       "      <td>2013</td>\n",
       "      <td>Northern Hemisphere</td>\n",
       "      <td>Monsoon</td>\n",
       "      <td>0.581000</td>\n",
       "    </tr>\n",
       "    <tr>\n",
       "      <th>171733</th>\n",
       "      <td>2013-09-01</td>\n",
       "      <td>26.869335</td>\n",
       "      <td>0.956286</td>\n",
       "      <td>Hyderabad</td>\n",
       "      <td>India</td>\n",
       "      <td>16.87N</td>\n",
       "      <td>78.70E</td>\n",
       "      <td>Sept</td>\n",
       "      <td>2013</td>\n",
       "      <td>Northern Hemisphere</td>\n",
       "      <td>Autumn</td>\n",
       "      <td>0.809665</td>\n",
       "    </tr>\n",
       "  </tbody>\n",
       "</table>\n",
       "<p>2613 rows × 12 columns</p>\n",
       "</div>"
      ],
      "text/plain": [
       "               dt  AverageTemperature  AverageTemperatureUncertainty  \\\n",
       "11911  1796-01-01           22.759000                       2.322000   \n",
       "31854  1796-02-01           25.094000                       1.453000   \n",
       "51798  1796-03-01           27.725000                       2.443000   \n",
       "71745  1796-04-01           31.280000                       1.789000   \n",
       "91696  1796-05-01           32.701000                       1.406000   \n",
       "...           ...                 ...                            ...   \n",
       "91913  2013-05-01           34.650000                       0.823000   \n",
       "111866 2013-06-01           29.487000                       0.754000   \n",
       "131819 2013-07-01           27.011000                       0.478000   \n",
       "151772 2013-08-01           26.923000                       0.413000   \n",
       "171733 2013-09-01           26.869335                       0.956286   \n",
       "\n",
       "             City Country Latitude Longitude Month  Year           Hemisphere  \\\n",
       "11911   Hyderabad   India   16.87N    78.70E   Jan  1796  Northern Hemisphere   \n",
       "31854   Hyderabad   India   16.87N    78.70E   Feb  1796  Northern Hemisphere   \n",
       "51798   Hyderabad   India   16.87N    78.70E   Mar  1796  Northern Hemisphere   \n",
       "71745   Hyderabad   India   16.87N    78.70E   Apr  1796  Northern Hemisphere   \n",
       "91696   Hyderabad   India   16.87N    78.70E   May  1796  Northern Hemisphere   \n",
       "...           ...     ...      ...       ...   ...   ...                  ...   \n",
       "91913   Hyderabad   India   16.87N    78.70E   May  2013  Northern Hemisphere   \n",
       "111866  Hyderabad   India   16.87N    78.70E   Jun  2013  Northern Hemisphere   \n",
       "131819  Hyderabad   India   16.87N    78.70E   Jul  2013  Northern Hemisphere   \n",
       "151772  Hyderabad   India   16.87N    78.70E   Aug  2013  Northern Hemisphere   \n",
       "171733  Hyderabad   India   16.87N    78.70E  Sept  2013  Northern Hemisphere   \n",
       "\n",
       "        Seasons    DeltaT  \n",
       "11911    Winter -9.003000  \n",
       "31854    Winter -7.270000  \n",
       "51798    Spring -3.700000  \n",
       "71745    Spring -1.976000  \n",
       "91696    Summer  2.045000  \n",
       "...         ...       ...  \n",
       "91913    Summer -0.319000  \n",
       "111866   Summer  2.288000  \n",
       "131819  Monsoon  0.914000  \n",
       "151772  Monsoon  0.581000  \n",
       "171733   Autumn  0.809665  \n",
       "\n",
       "[2613 rows x 12 columns]"
      ]
     },
     "execution_count": 23,
     "metadata": {},
     "output_type": "execute_result"
    }
   ],
   "source": [
    "# Selective Filtering\n",
    "province = 'Hyderabad'\n",
    "hyd_df = dmajcity[dmajcity['City']=='Hyderabad']\n",
    "hyd_df = re_transform(hyd_df)\n",
    "hyd_df"
   ]
  },
  {
   "cell_type": "code",
   "execution_count": 24,
   "id": "directed-burns",
   "metadata": {},
   "outputs": [],
   "source": [
    "# DeltaT\n",
    "dt_prophet = hyd_df[['dt','AverageTemperature']]\n",
    "dt_prophet.columns = ['ds','y']"
   ]
  },
  {
   "cell_type": "code",
   "execution_count": 25,
   "id": "interracial-catch",
   "metadata": {},
   "outputs": [
    {
     "data": {
      "text/plain": [
       "11911     22.759000\n",
       "31854     25.094000\n",
       "51798     27.725000\n",
       "71745     31.280000\n",
       "91696     32.701000\n",
       "            ...    \n",
       "91913     34.650000\n",
       "111866    29.487000\n",
       "131819    27.011000\n",
       "151772    26.923000\n",
       "171733    26.869335\n",
       "Name: y, Length: 2613, dtype: float64"
      ]
     },
     "execution_count": 25,
     "metadata": {},
     "output_type": "execute_result"
    }
   ],
   "source": [
    "dt_prophet['y']"
   ]
  },
  {
   "cell_type": "code",
   "execution_count": 26,
   "id": "ready-internet",
   "metadata": {},
   "outputs": [
    {
     "data": {
      "text/plain": [
       "<AxesSubplot:xlabel='ds', ylabel='y'>"
      ]
     },
     "execution_count": 26,
     "metadata": {},
     "output_type": "execute_result"
    },
    {
     "data": {
      "image/png": "[encoded data removed]",
      "text/plain": [
       "<Figure size 720x576 with 1 Axes>"
      ]
     },
     "metadata": {},
     "output_type": "display_data"
    }
   ],
   "source": [
    "plt.figure(figsize=(10,8))\n",
    "sns.lineplot(x=dt_prophet['ds'].dt.year, y=dt_prophet['y'])"
   ]
  },
  {
   "cell_type": "code",
   "execution_count": 27,
   "id": "peaceful-advance",
   "metadata": {},
   "outputs": [
    {
     "data": {
      "text/html": [
       "<div>\n",
       "<style scoped>\n",
       "    .dataframe tbody tr th:only-of-type {\n",
       "        vertical-align: middle;\n",
       "    }\n",
       "\n",
       "    .dataframe tbody tr th {\n",
       "        vertical-align: top;\n",
       "    }\n",
       "\n",
       "    .dataframe thead th {\n",
       "        text-align: right;\n",
       "    }\n",
       "</style>\n",
       "<table border=\"1\" class=\"dataframe\">\n",
       "  <thead>\n",
       "    <tr style=\"text-align: right;\">\n",
       "      <th></th>\n",
       "      <th>ds</th>\n",
       "      <th>y</th>\n",
       "    </tr>\n",
       "  </thead>\n",
       "  <tbody>\n",
       "    <tr>\n",
       "      <th>11911</th>\n",
       "      <td>1796-01-01</td>\n",
       "      <td>22.759000</td>\n",
       "    </tr>\n",
       "    <tr>\n",
       "      <th>31854</th>\n",
       "      <td>1796-02-01</td>\n",
       "      <td>25.094000</td>\n",
       "    </tr>\n",
       "    <tr>\n",
       "      <th>51798</th>\n",
       "      <td>1796-03-01</td>\n",
       "      <td>27.725000</td>\n",
       "    </tr>\n",
       "    <tr>\n",
       "      <th>71745</th>\n",
       "      <td>1796-04-01</td>\n",
       "      <td>31.280000</td>\n",
       "    </tr>\n",
       "    <tr>\n",
       "      <th>91696</th>\n",
       "      <td>1796-05-01</td>\n",
       "      <td>32.701000</td>\n",
       "    </tr>\n",
       "    <tr>\n",
       "      <th>...</th>\n",
       "      <td>...</td>\n",
       "      <td>...</td>\n",
       "    </tr>\n",
       "    <tr>\n",
       "      <th>91913</th>\n",
       "      <td>2013-05-01</td>\n",
       "      <td>34.650000</td>\n",
       "    </tr>\n",
       "    <tr>\n",
       "      <th>111866</th>\n",
       "      <td>2013-06-01</td>\n",
       "      <td>29.487000</td>\n",
       "    </tr>\n",
       "    <tr>\n",
       "      <th>131819</th>\n",
       "      <td>2013-07-01</td>\n",
       "      <td>27.011000</td>\n",
       "    </tr>\n",
       "    <tr>\n",
       "      <th>151772</th>\n",
       "      <td>2013-08-01</td>\n",
       "      <td>26.923000</td>\n",
       "    </tr>\n",
       "    <tr>\n",
       "      <th>171733</th>\n",
       "      <td>2013-09-01</td>\n",
       "      <td>26.869335</td>\n",
       "    </tr>\n",
       "  </tbody>\n",
       "</table>\n",
       "<p>2613 rows × 2 columns</p>\n",
       "</div>"
      ],
      "text/plain": [
       "               ds          y\n",
       "11911  1796-01-01  22.759000\n",
       "31854  1796-02-01  25.094000\n",
       "51798  1796-03-01  27.725000\n",
       "71745  1796-04-01  31.280000\n",
       "91696  1796-05-01  32.701000\n",
       "...           ...        ...\n",
       "91913  2013-05-01  34.650000\n",
       "111866 2013-06-01  29.487000\n",
       "131819 2013-07-01  27.011000\n",
       "151772 2013-08-01  26.923000\n",
       "171733 2013-09-01  26.869335\n",
       "\n",
       "[2613 rows x 2 columns]"
      ]
     },
     "execution_count": 27,
     "metadata": {},
     "output_type": "execute_result"
    }
   ],
   "source": [
    "dt_prophet"
   ]
  },
  {
   "cell_type": "code",
   "execution_count": 28,
   "id": "hollow-appreciation",
   "metadata": {},
   "outputs": [],
   "source": [
    "# Initialise Model \n",
    "model = Prophet()"
   ]
  },
  {
   "cell_type": "code",
   "execution_count": 29,
   "id": "dutch-injury",
   "metadata": {},
   "outputs": [
    {
     "name": "stderr",
     "output_type": "stream",
     "text": [
      "INFO:prophet:Disabling weekly seasonality. Run prophet with weekly_seasonality=True to override this.\n",
      "INFO:prophet:Disabling daily seasonality. Run prophet with daily_seasonality=True to override this.\n"
     ]
    },
    {
     "data": {
      "text/plain": [
       "<prophet.forecaster.Prophet at 0x7f99c91fb880>"
      ]
     },
     "execution_count": 29,
     "metadata": {},
     "output_type": "execute_result"
    }
   ],
   "source": [
    "model.fit(dt_prophet)"
   ]
  },
  {
   "cell_type": "code",
   "execution_count": 30,
   "id": "lined-pollution",
   "metadata": {},
   "outputs": [
    {
     "data": {
      "text/plain": [
       "{'additive': ['yearly',\n",
       "  'additive_terms',\n",
       "  'extra_regressors_additive',\n",
       "  'holidays'],\n",
       " 'multiplicative': ['multiplicative_terms', 'extra_regressors_multiplicative']}"
      ]
     },
     "execution_count": 30,
     "metadata": {},
     "output_type": "execute_result"
    }
   ],
   "source": [
    "model.component_modes"
   ]
  },
  {
   "cell_type": "code",
   "execution_count": 31,
   "id": "confident-richardson",
   "metadata": {},
   "outputs": [],
   "source": [
    "future_dates=model.make_future_dataframe(periods=2920)"
   ]
  },
  {
   "cell_type": "code",
   "execution_count": 32,
   "id": "proved-flush",
   "metadata": {},
   "outputs": [
    {
     "data": {
      "text/html": [
       "<div>\n",
       "<style scoped>\n",
       "    .dataframe tbody tr th:only-of-type {\n",
       "        vertical-align: middle;\n",
       "    }\n",
       "\n",
       "    .dataframe tbody tr th {\n",
       "        vertical-align: top;\n",
       "    }\n",
       "\n",
       "    .dataframe thead th {\n",
       "        text-align: right;\n",
       "    }\n",
       "</style>\n",
       "<table border=\"1\" class=\"dataframe\">\n",
       "  <thead>\n",
       "    <tr style=\"text-align: right;\">\n",
       "      <th></th>\n",
       "      <th>ds</th>\n",
       "    </tr>\n",
       "  </thead>\n",
       "  <tbody>\n",
       "    <tr>\n",
       "      <th>5528</th>\n",
       "      <td>2021-08-26</td>\n",
       "    </tr>\n",
       "    <tr>\n",
       "      <th>5529</th>\n",
       "      <td>2021-08-27</td>\n",
       "    </tr>\n",
       "    <tr>\n",
       "      <th>5530</th>\n",
       "      <td>2021-08-28</td>\n",
       "    </tr>\n",
       "    <tr>\n",
       "      <th>5531</th>\n",
       "      <td>2021-08-29</td>\n",
       "    </tr>\n",
       "    <tr>\n",
       "      <th>5532</th>\n",
       "      <td>2021-08-30</td>\n",
       "    </tr>\n",
       "  </tbody>\n",
       "</table>\n",
       "</div>"
      ],
      "text/plain": [
       "             ds\n",
       "5528 2021-08-26\n",
       "5529 2021-08-27\n",
       "5530 2021-08-28\n",
       "5531 2021-08-29\n",
       "5532 2021-08-30"
      ]
     },
     "execution_count": 32,
     "metadata": {},
     "output_type": "execute_result"
    }
   ],
   "source": [
    "future_dates.tail()"
   ]
  },
  {
   "cell_type": "code",
   "execution_count": 33,
   "id": "circular-rhythm",
   "metadata": {},
   "outputs": [],
   "source": [
    "prediction=model.predict(future_dates)"
   ]
  },
  {
   "cell_type": "code",
   "execution_count": 34,
   "id": "nervous-tsunami",
   "metadata": {},
   "outputs": [],
   "source": [
    "pred_df = prediction"
   ]
  },
  {
   "cell_type": "code",
   "execution_count": 35,
   "id": "public-costs",
   "metadata": {},
   "outputs": [],
   "source": [
    "pred_df['year'] = pred_df['ds'].dt.year\n",
    "pred_df['day'] = pred_df['ds'].dt.day\n",
    "pred_df['month'] = pred_df['ds'].dt.month"
   ]
  },
  {
   "cell_type": "code",
   "execution_count": 36,
   "id": "japanese-literature",
   "metadata": {},
   "outputs": [],
   "source": [
    "def prune_months(df):\n",
    "    df = df[df['year']>2013]\n",
    "    df = df[df['day']==1]\n",
    "    df = df.drop('day',axis=1)\n",
    "    return df"
   ]
  },
  {
   "cell_type": "code",
   "execution_count": 37,
   "id": "copyrighted-mambo",
   "metadata": {},
   "outputs": [],
   "source": [
    "pred_df =  prune_months(pred_df)"
   ]
  },
  {
   "cell_type": "code",
   "execution_count": 38,
   "id": "alternative-cruise",
   "metadata": {},
   "outputs": [
    {
     "data": {
      "text/html": [
       "<div>\n",
       "<style scoped>\n",
       "    .dataframe tbody tr th:only-of-type {\n",
       "        vertical-align: middle;\n",
       "    }\n",
       "\n",
       "    .dataframe tbody tr th {\n",
       "        vertical-align: top;\n",
       "    }\n",
       "\n",
       "    .dataframe thead th {\n",
       "        text-align: right;\n",
       "    }\n",
       "</style>\n",
       "<table border=\"1\" class=\"dataframe\">\n",
       "  <thead>\n",
       "    <tr style=\"text-align: right;\">\n",
       "      <th></th>\n",
       "      <th>ds</th>\n",
       "      <th>trend</th>\n",
       "      <th>yhat_lower</th>\n",
       "      <th>yhat_upper</th>\n",
       "      <th>trend_lower</th>\n",
       "      <th>trend_upper</th>\n",
       "      <th>additive_terms</th>\n",
       "      <th>additive_terms_lower</th>\n",
       "      <th>additive_terms_upper</th>\n",
       "      <th>yearly</th>\n",
       "      <th>yearly_lower</th>\n",
       "      <th>yearly_upper</th>\n",
       "      <th>multiplicative_terms</th>\n",
       "      <th>multiplicative_terms_lower</th>\n",
       "      <th>multiplicative_terms_upper</th>\n",
       "      <th>yhat</th>\n",
       "      <th>year</th>\n",
       "      <th>month</th>\n",
       "    </tr>\n",
       "  </thead>\n",
       "  <tbody>\n",
       "    <tr>\n",
       "      <th>2734</th>\n",
       "      <td>2014-01-01</td>\n",
       "      <td>27.605343</td>\n",
       "      <td>22.472639</td>\n",
       "      <td>24.785437</td>\n",
       "      <td>27.605343</td>\n",
       "      <td>27.605343</td>\n",
       "      <td>-4.024911</td>\n",
       "      <td>-4.024911</td>\n",
       "      <td>-4.024911</td>\n",
       "      <td>-4.024911</td>\n",
       "      <td>-4.024911</td>\n",
       "      <td>-4.024911</td>\n",
       "      <td>0.0</td>\n",
       "      <td>0.0</td>\n",
       "      <td>0.0</td>\n",
       "      <td>23.580432</td>\n",
       "      <td>2014</td>\n",
       "      <td>1</td>\n",
       "    </tr>\n",
       "    <tr>\n",
       "      <th>2765</th>\n",
       "      <td>2014-02-01</td>\n",
       "      <td>27.606214</td>\n",
       "      <td>24.817748</td>\n",
       "      <td>27.289525</td>\n",
       "      <td>27.606214</td>\n",
       "      <td>27.606214</td>\n",
       "      <td>-1.509316</td>\n",
       "      <td>-1.509316</td>\n",
       "      <td>-1.509316</td>\n",
       "      <td>-1.509316</td>\n",
       "      <td>-1.509316</td>\n",
       "      <td>-1.509316</td>\n",
       "      <td>0.0</td>\n",
       "      <td>0.0</td>\n",
       "      <td>0.0</td>\n",
       "      <td>26.096898</td>\n",
       "      <td>2014</td>\n",
       "      <td>2</td>\n",
       "    </tr>\n",
       "    <tr>\n",
       "      <th>2793</th>\n",
       "      <td>2014-03-01</td>\n",
       "      <td>27.607000</td>\n",
       "      <td>28.225860</td>\n",
       "      <td>30.704397</td>\n",
       "      <td>27.607000</td>\n",
       "      <td>27.607000</td>\n",
       "      <td>1.866353</td>\n",
       "      <td>1.866353</td>\n",
       "      <td>1.866353</td>\n",
       "      <td>1.866353</td>\n",
       "      <td>1.866353</td>\n",
       "      <td>1.866353</td>\n",
       "      <td>0.0</td>\n",
       "      <td>0.0</td>\n",
       "      <td>0.0</td>\n",
       "      <td>29.473353</td>\n",
       "      <td>2014</td>\n",
       "      <td>3</td>\n",
       "    </tr>\n",
       "    <tr>\n",
       "      <th>2824</th>\n",
       "      <td>2014-04-01</td>\n",
       "      <td>27.607871</td>\n",
       "      <td>30.666691</td>\n",
       "      <td>33.178775</td>\n",
       "      <td>27.607871</td>\n",
       "      <td>27.607871</td>\n",
       "      <td>4.379347</td>\n",
       "      <td>4.379347</td>\n",
       "      <td>4.379347</td>\n",
       "      <td>4.379347</td>\n",
       "      <td>4.379347</td>\n",
       "      <td>4.379347</td>\n",
       "      <td>0.0</td>\n",
       "      <td>0.0</td>\n",
       "      <td>0.0</td>\n",
       "      <td>31.987217</td>\n",
       "      <td>2014</td>\n",
       "      <td>4</td>\n",
       "    </tr>\n",
       "    <tr>\n",
       "      <th>2854</th>\n",
       "      <td>2014-05-01</td>\n",
       "      <td>27.608713</td>\n",
       "      <td>32.224809</td>\n",
       "      <td>34.668349</td>\n",
       "      <td>27.608713</td>\n",
       "      <td>27.608713</td>\n",
       "      <td>5.786946</td>\n",
       "      <td>5.786946</td>\n",
       "      <td>5.786946</td>\n",
       "      <td>5.786946</td>\n",
       "      <td>5.786946</td>\n",
       "      <td>5.786946</td>\n",
       "      <td>0.0</td>\n",
       "      <td>0.0</td>\n",
       "      <td>0.0</td>\n",
       "      <td>33.395659</td>\n",
       "      <td>2014</td>\n",
       "      <td>5</td>\n",
       "    </tr>\n",
       "    <tr>\n",
       "      <th>...</th>\n",
       "      <td>...</td>\n",
       "      <td>...</td>\n",
       "      <td>...</td>\n",
       "      <td>...</td>\n",
       "      <td>...</td>\n",
       "      <td>...</td>\n",
       "      <td>...</td>\n",
       "      <td>...</td>\n",
       "      <td>...</td>\n",
       "      <td>...</td>\n",
       "      <td>...</td>\n",
       "      <td>...</td>\n",
       "      <td>...</td>\n",
       "      <td>...</td>\n",
       "      <td>...</td>\n",
       "      <td>...</td>\n",
       "      <td>...</td>\n",
       "      <td>...</td>\n",
       "    </tr>\n",
       "    <tr>\n",
       "      <th>5381</th>\n",
       "      <td>2021-04-01</td>\n",
       "      <td>27.679679</td>\n",
       "      <td>30.862234</td>\n",
       "      <td>33.193675</td>\n",
       "      <td>27.668473</td>\n",
       "      <td>27.691024</td>\n",
       "      <td>4.380771</td>\n",
       "      <td>4.380771</td>\n",
       "      <td>4.380771</td>\n",
       "      <td>4.380771</td>\n",
       "      <td>4.380771</td>\n",
       "      <td>4.380771</td>\n",
       "      <td>0.0</td>\n",
       "      <td>0.0</td>\n",
       "      <td>0.0</td>\n",
       "      <td>32.060450</td>\n",
       "      <td>2021</td>\n",
       "      <td>4</td>\n",
       "    </tr>\n",
       "    <tr>\n",
       "      <th>5411</th>\n",
       "      <td>2021-05-01</td>\n",
       "      <td>27.680522</td>\n",
       "      <td>32.211966</td>\n",
       "      <td>34.598935</td>\n",
       "      <td>27.669091</td>\n",
       "      <td>27.692263</td>\n",
       "      <td>5.699514</td>\n",
       "      <td>5.699514</td>\n",
       "      <td>5.699514</td>\n",
       "      <td>5.699514</td>\n",
       "      <td>5.699514</td>\n",
       "      <td>5.699514</td>\n",
       "      <td>0.0</td>\n",
       "      <td>0.0</td>\n",
       "      <td>0.0</td>\n",
       "      <td>33.380036</td>\n",
       "      <td>2021</td>\n",
       "      <td>5</td>\n",
       "    </tr>\n",
       "    <tr>\n",
       "      <th>5442</th>\n",
       "      <td>2021-06-01</td>\n",
       "      <td>27.681392</td>\n",
       "      <td>29.418103</td>\n",
       "      <td>31.802119</td>\n",
       "      <td>27.669781</td>\n",
       "      <td>27.693304</td>\n",
       "      <td>2.916890</td>\n",
       "      <td>2.916890</td>\n",
       "      <td>2.916890</td>\n",
       "      <td>2.916890</td>\n",
       "      <td>2.916890</td>\n",
       "      <td>2.916890</td>\n",
       "      <td>0.0</td>\n",
       "      <td>0.0</td>\n",
       "      <td>0.0</td>\n",
       "      <td>30.598282</td>\n",
       "      <td>2021</td>\n",
       "      <td>6</td>\n",
       "    </tr>\n",
       "    <tr>\n",
       "      <th>5472</th>\n",
       "      <td>2021-07-01</td>\n",
       "      <td>27.682235</td>\n",
       "      <td>26.703509</td>\n",
       "      <td>29.176078</td>\n",
       "      <td>27.670420</td>\n",
       "      <td>27.694395</td>\n",
       "      <td>0.265184</td>\n",
       "      <td>0.265184</td>\n",
       "      <td>0.265184</td>\n",
       "      <td>0.265184</td>\n",
       "      <td>0.265184</td>\n",
       "      <td>0.265184</td>\n",
       "      <td>0.0</td>\n",
       "      <td>0.0</td>\n",
       "      <td>0.0</td>\n",
       "      <td>27.947419</td>\n",
       "      <td>2021</td>\n",
       "      <td>7</td>\n",
       "    </tr>\n",
       "    <tr>\n",
       "      <th>5503</th>\n",
       "      <td>2021-08-01</td>\n",
       "      <td>27.683105</td>\n",
       "      <td>26.192591</td>\n",
       "      <td>28.577512</td>\n",
       "      <td>27.670871</td>\n",
       "      <td>27.695498</td>\n",
       "      <td>-0.266920</td>\n",
       "      <td>-0.266920</td>\n",
       "      <td>-0.266920</td>\n",
       "      <td>-0.266920</td>\n",
       "      <td>-0.266920</td>\n",
       "      <td>-0.266920</td>\n",
       "      <td>0.0</td>\n",
       "      <td>0.0</td>\n",
       "      <td>0.0</td>\n",
       "      <td>27.416185</td>\n",
       "      <td>2021</td>\n",
       "      <td>8</td>\n",
       "    </tr>\n",
       "  </tbody>\n",
       "</table>\n",
       "<p>92 rows × 18 columns</p>\n",
       "</div>"
      ],
      "text/plain": [
       "             ds      trend  yhat_lower  yhat_upper  trend_lower  trend_upper  \\\n",
       "2734 2014-01-01  27.605343   22.472639   24.785437    27.605343    27.605343   \n",
       "2765 2014-02-01  27.606214   24.817748   27.289525    27.606214    27.606214   \n",
       "2793 2014-03-01  27.607000   28.225860   30.704397    27.607000    27.607000   \n",
       "2824 2014-04-01  27.607871   30.666691   33.178775    27.607871    27.607871   \n",
       "2854 2014-05-01  27.608713   32.224809   34.668349    27.608713    27.608713   \n",
       "...         ...        ...         ...         ...          ...          ...   \n",
       "5381 2021-04-01  27.679679   30.862234   33.193675    27.668473    27.691024   \n",
       "5411 2021-05-01  27.680522   32.211966   34.598935    27.669091    27.692263   \n",
       "5442 2021-06-01  27.681392   29.418103   31.802119    27.669781    27.693304   \n",
       "5472 2021-07-01  27.682235   26.703509   29.176078    27.670420    27.694395   \n",
       "5503 2021-08-01  27.683105   26.192591   28.577512    27.670871    27.695498   \n",
       "\n",
       "      additive_terms  additive_terms_lower  additive_terms_upper    yearly  \\\n",
       "2734       -4.024911             -4.024911             -4.024911 -4.024911   \n",
       "2765       -1.509316             -1.509316             -1.509316 -1.509316   \n",
       "2793        1.866353              1.866353              1.866353  1.866353   \n",
       "2824        4.379347              4.379347              4.379347  4.379347   \n",
       "2854        5.786946              5.786946              5.786946  5.786946   \n",
       "...              ...                   ...                   ...       ...   \n",
       "5381        4.380771              4.380771              4.380771  4.380771   \n",
       "5411        5.699514              5.699514              5.699514  5.699514   \n",
       "5442        2.916890              2.916890              2.916890  2.916890   \n",
       "5472        0.265184              0.265184              0.265184  0.265184   \n",
       "5503       -0.266920             -0.266920             -0.266920 -0.266920   \n",
       "\n",
       "      yearly_lower  yearly_upper  multiplicative_terms  \\\n",
       "2734     -4.024911     -4.024911                   0.0   \n",
       "2765     -1.509316     -1.509316                   0.0   \n",
       "2793      1.866353      1.866353                   0.0   \n",
       "2824      4.379347      4.379347                   0.0   \n",
       "2854      5.786946      5.786946                   0.0   \n",
       "...            ...           ...                   ...   \n",
       "5381      4.380771      4.380771                   0.0   \n",
       "5411      5.699514      5.699514                   0.0   \n",
       "5442      2.916890      2.916890                   0.0   \n",
       "5472      0.265184      0.265184                   0.0   \n",
       "5503     -0.266920     -0.266920                   0.0   \n",
       "\n",
       "      multiplicative_terms_lower  multiplicative_terms_upper       yhat  year  \\\n",
       "2734                         0.0                         0.0  23.580432  2014   \n",
       "2765                         0.0                         0.0  26.096898  2014   \n",
       "2793                         0.0                         0.0  29.473353  2014   \n",
       "2824                         0.0                         0.0  31.987217  2014   \n",
       "2854                         0.0                         0.0  33.395659  2014   \n",
       "...                          ...                         ...        ...   ...   \n",
       "5381                         0.0                         0.0  32.060450  2021   \n",
       "5411                         0.0                         0.0  33.380036  2021   \n",
       "5442                         0.0                         0.0  30.598282  2021   \n",
       "5472                         0.0                         0.0  27.947419  2021   \n",
       "5503                         0.0                         0.0  27.416185  2021   \n",
       "\n",
       "      month  \n",
       "2734      1  \n",
       "2765      2  \n",
       "2793      3  \n",
       "2824      4  \n",
       "2854      5  \n",
       "...     ...  \n",
       "5381      4  \n",
       "5411      5  \n",
       "5442      6  \n",
       "5472      7  \n",
       "5503      8  \n",
       "\n",
       "[92 rows x 18 columns]"
      ]
     },
     "execution_count": 38,
     "metadata": {},
     "output_type": "execute_result"
    }
   ],
   "source": [
    "pred_df"
   ]
  },
  {
   "cell_type": "code",
   "execution_count": 39,
   "id": "equivalent-tulsa",
   "metadata": {},
   "outputs": [
    {
     "data": {
      "text/html": [
       "<div>\n",
       "<style scoped>\n",
       "    .dataframe tbody tr th:only-of-type {\n",
       "        vertical-align: middle;\n",
       "    }\n",
       "\n",
       "    .dataframe tbody tr th {\n",
       "        vertical-align: top;\n",
       "    }\n",
       "\n",
       "    .dataframe thead th {\n",
       "        text-align: right;\n",
       "    }\n",
       "</style>\n",
       "<table border=\"1\" class=\"dataframe\">\n",
       "  <thead>\n",
       "    <tr style=\"text-align: right;\">\n",
       "      <th></th>\n",
       "      <th>month</th>\n",
       "      <th>yhat</th>\n",
       "      <th>yhat_lower</th>\n",
       "      <th>yhat_upper</th>\n",
       "    </tr>\n",
       "  </thead>\n",
       "  <tbody>\n",
       "    <tr>\n",
       "      <th>4195</th>\n",
       "      <td>1</td>\n",
       "      <td>23.621461</td>\n",
       "      <td>22.425523</td>\n",
       "      <td>24.861085</td>\n",
       "    </tr>\n",
       "    <tr>\n",
       "      <th>4226</th>\n",
       "      <td>2</td>\n",
       "      <td>26.137927</td>\n",
       "      <td>25.002894</td>\n",
       "      <td>27.337757</td>\n",
       "    </tr>\n",
       "    <tr>\n",
       "      <th>4254</th>\n",
       "      <td>3</td>\n",
       "      <td>29.514382</td>\n",
       "      <td>28.378013</td>\n",
       "      <td>30.687652</td>\n",
       "    </tr>\n",
       "    <tr>\n",
       "      <th>4285</th>\n",
       "      <td>4</td>\n",
       "      <td>32.028247</td>\n",
       "      <td>30.758103</td>\n",
       "      <td>33.256612</td>\n",
       "    </tr>\n",
       "    <tr>\n",
       "      <th>4315</th>\n",
       "      <td>5</td>\n",
       "      <td>33.436688</td>\n",
       "      <td>32.341577</td>\n",
       "      <td>34.637568</td>\n",
       "    </tr>\n",
       "    <tr>\n",
       "      <th>4346</th>\n",
       "      <td>6</td>\n",
       "      <td>30.510760</td>\n",
       "      <td>29.323567</td>\n",
       "      <td>31.678619</td>\n",
       "    </tr>\n",
       "    <tr>\n",
       "      <th>4376</th>\n",
       "      <td>7</td>\n",
       "      <td>27.862323</td>\n",
       "      <td>26.556659</td>\n",
       "      <td>28.973154</td>\n",
       "    </tr>\n",
       "    <tr>\n",
       "      <th>4407</th>\n",
       "      <td>8</td>\n",
       "      <td>27.392843</td>\n",
       "      <td>26.211274</td>\n",
       "      <td>28.572307</td>\n",
       "    </tr>\n",
       "    <tr>\n",
       "      <th>4438</th>\n",
       "      <td>9</td>\n",
       "      <td>27.550866</td>\n",
       "      <td>26.246064</td>\n",
       "      <td>28.651484</td>\n",
       "    </tr>\n",
       "    <tr>\n",
       "      <th>4468</th>\n",
       "      <td>10</td>\n",
       "      <td>26.731021</td>\n",
       "      <td>25.552102</td>\n",
       "      <td>27.862267</td>\n",
       "    </tr>\n",
       "    <tr>\n",
       "      <th>4499</th>\n",
       "      <td>11</td>\n",
       "      <td>24.513291</td>\n",
       "      <td>23.380745</td>\n",
       "      <td>25.673979</td>\n",
       "    </tr>\n",
       "    <tr>\n",
       "      <th>4529</th>\n",
       "      <td>12</td>\n",
       "      <td>22.763954</td>\n",
       "      <td>21.629906</td>\n",
       "      <td>24.003237</td>\n",
       "    </tr>\n",
       "  </tbody>\n",
       "</table>\n",
       "</div>"
      ],
      "text/plain": [
       "      month       yhat  yhat_lower  yhat_upper\n",
       "4195      1  23.621461   22.425523   24.861085\n",
       "4226      2  26.137927   25.002894   27.337757\n",
       "4254      3  29.514382   28.378013   30.687652\n",
       "4285      4  32.028247   30.758103   33.256612\n",
       "4315      5  33.436688   32.341577   34.637568\n",
       "4346      6  30.510760   29.323567   31.678619\n",
       "4376      7  27.862323   26.556659   28.973154\n",
       "4407      8  27.392843   26.211274   28.572307\n",
       "4438      9  27.550866   26.246064   28.651484\n",
       "4468     10  26.731021   25.552102   27.862267\n",
       "4499     11  24.513291   23.380745   25.673979\n",
       "4529     12  22.763954   21.629906   24.003237"
      ]
     },
     "execution_count": 39,
     "metadata": {},
     "output_type": "execute_result"
    }
   ],
   "source": [
    "pred_df[pred_df['year']==2018][['month','yhat','yhat_lower','yhat_upper']]"
   ]
  },
  {
   "cell_type": "code",
   "execution_count": 40,
   "id": "opposite-statistics",
   "metadata": {},
   "outputs": [
    {
     "data": {
      "text/html": [
       "<div>\n",
       "<style scoped>\n",
       "    .dataframe tbody tr th:only-of-type {\n",
       "        vertical-align: middle;\n",
       "    }\n",
       "\n",
       "    .dataframe tbody tr th {\n",
       "        vertical-align: top;\n",
       "    }\n",
       "\n",
       "    .dataframe thead th {\n",
       "        text-align: right;\n",
       "    }\n",
       "</style>\n",
       "<table border=\"1\" class=\"dataframe\">\n",
       "  <thead>\n",
       "    <tr style=\"text-align: right;\">\n",
       "      <th></th>\n",
       "      <th>month</th>\n",
       "      <th>yhat</th>\n",
       "    </tr>\n",
       "  </thead>\n",
       "  <tbody>\n",
       "    <tr>\n",
       "      <th>4925</th>\n",
       "      <td>1</td>\n",
       "      <td>23.535941</td>\n",
       "    </tr>\n",
       "    <tr>\n",
       "      <th>4956</th>\n",
       "      <td>2</td>\n",
       "      <td>26.121499</td>\n",
       "    </tr>\n",
       "    <tr>\n",
       "      <th>4985</th>\n",
       "      <td>3</td>\n",
       "      <td>29.548271</td>\n",
       "    </tr>\n",
       "    <tr>\n",
       "      <th>5016</th>\n",
       "      <td>4</td>\n",
       "      <td>32.052027</td>\n",
       "    </tr>\n",
       "    <tr>\n",
       "      <th>5046</th>\n",
       "      <td>5</td>\n",
       "      <td>33.279909</td>\n",
       "    </tr>\n",
       "    <tr>\n",
       "      <th>5077</th>\n",
       "      <td>6</td>\n",
       "      <td>30.642501</td>\n",
       "    </tr>\n",
       "    <tr>\n",
       "      <th>5107</th>\n",
       "      <td>7</td>\n",
       "      <td>27.993028</td>\n",
       "    </tr>\n",
       "    <tr>\n",
       "      <th>5138</th>\n",
       "      <td>8</td>\n",
       "      <td>27.400866</td>\n",
       "    </tr>\n",
       "    <tr>\n",
       "      <th>5169</th>\n",
       "      <td>9</td>\n",
       "      <td>27.487697</td>\n",
       "    </tr>\n",
       "    <tr>\n",
       "      <th>5199</th>\n",
       "      <td>10</td>\n",
       "      <td>26.592936</td>\n",
       "    </tr>\n",
       "    <tr>\n",
       "      <th>5230</th>\n",
       "      <td>11</td>\n",
       "      <td>24.481162</td>\n",
       "    </tr>\n",
       "    <tr>\n",
       "      <th>5260</th>\n",
       "      <td>12</td>\n",
       "      <td>22.902320</td>\n",
       "    </tr>\n",
       "  </tbody>\n",
       "</table>\n",
       "</div>"
      ],
      "text/plain": [
       "      month       yhat\n",
       "4925      1  23.535941\n",
       "4956      2  26.121499\n",
       "4985      3  29.548271\n",
       "5016      4  32.052027\n",
       "5046      5  33.279909\n",
       "5077      6  30.642501\n",
       "5107      7  27.993028\n",
       "5138      8  27.400866\n",
       "5169      9  27.487697\n",
       "5199     10  26.592936\n",
       "5230     11  24.481162\n",
       "5260     12  22.902320"
      ]
     },
     "execution_count": 40,
     "metadata": {},
     "output_type": "execute_result"
    }
   ],
   "source": [
    "pred_df[pred_df['year']==2020][['month','yhat']]"
   ]
  },
  {
   "cell_type": "code",
   "execution_count": 41,
   "id": "mental-title",
   "metadata": {},
   "outputs": [
    {
     "data": {
      "image/png": "[encoded data removed]",
      "text/plain": [
       "<Figure size 648x432 with 2 Axes>"
      ]
     },
     "metadata": {},
     "output_type": "display_data"
    }
   ],
   "source": [
    "model.plot_components(pred_df);"
   ]
  },
  {
   "cell_type": "code",
   "execution_count": 65,
   "id": "furnished-sleeping",
   "metadata": {},
   "outputs": [],
   "source": [
    "def prophetize(dmajcity, province,periods=None):\n",
    "    \n",
    "    df = dmajcity[dmajcity['City']==province]\n",
    "    df = re_transform(df)\n",
    "    \n",
    "    # initialise model\n",
    "    model = Prophet(yearly_seasonality=True)\n",
    "    \n",
    "    dt_prophet = df[['dt','AverageTemperature']]\n",
    "    dt_prophet.columns = ['ds','y']\n",
    "    \n",
    "    # fit model\n",
    "    model.fit(dt_prophet)\n",
    "    \n",
    "    future_dates=model.make_future_dataframe(periods=2920)\n",
    "    prediction=model.predict(future_dates)\n",
    "    pred_df = prediction\n",
    "    pred_df['year'] = pred_df['ds'].dt.year\n",
    "    pred_df['day'] = pred_df['ds'].dt.day\n",
    "    pred_df['month'] = pred_df['ds'].dt.strftime(\"%b\")\n",
    "    \n",
    "    # prune dates\n",
    "    pred_df = pred_df[pred_df['year']>2013]\n",
    "    pred_df = pred_df[pred_df['day']==1]\n",
    "    pred_df = pred_df.drop('day',axis=1)\n",
    "    \n",
    "    return pred_df\n",
    "    "
   ]
  },
  {
   "cell_type": "code",
   "execution_count": 66,
   "id": "joint-publicity",
   "metadata": {
    "scrolled": true
   },
   "outputs": [
    {
     "name": "stderr",
     "output_type": "stream",
     "text": [
      "INFO:prophet:Disabling weekly seasonality. Run prophet with weekly_seasonality=True to override this.\n",
      "INFO:prophet:Disabling daily seasonality. Run prophet with daily_seasonality=True to override this.\n"
     ]
    }
   ],
   "source": [
    "hydpreds = prophetize(dmajcity, province='Hyderabad')"
   ]
  },
  {
   "cell_type": "code",
   "execution_count": 124,
   "id": "clear-capability",
   "metadata": {},
   "outputs": [
    {
     "name": "stderr",
     "output_type": "stream",
     "text": [
      "INFO:prophet:Disabling weekly seasonality. Run prophet with weekly_seasonality=True to override this.\n",
      "INFO:prophet:Disabling daily seasonality. Run prophet with daily_seasonality=True to override this.\n"
     ]
    }
   ],
   "source": [
    "torpreds = prophetize(dmajcity, province='Toronto')"
   ]
  },
  {
   "cell_type": "markdown",
   "id": "local-russell",
   "metadata": {},
   "source": [
    "### Validating Results"
   ]
  },
  {
   "cell_type": "code",
   "execution_count": 45,
   "id": "educational-lying",
   "metadata": {},
   "outputs": [],
   "source": [
    "# Original data\n",
    "hydorg = pd.read_excel('HydAvg18-20Org.xlsx')\n",
    "tororg = pd.read_excel('TorontoAvg18-20Org.xlsx')\n"
   ]
  },
  {
   "cell_type": "code",
   "execution_count": 144,
   "id": "fiscal-probability",
   "metadata": {},
   "outputs": [],
   "source": [
    "import plotly.graph_objects as go\n",
    "def project_yhat(data,city,year,mode='compound'):\n",
    "\n",
    "    if mode == 'compound':\n",
    "        data = data[(data['year']>=2018)&(data['year']<2021)]\n",
    "        prompt = 'Prophet Forecast for Average Temperatures in {}'\n",
    "        if city == 'Hyderabad':\n",
    "            original = hydorg['Average']\n",
    "        else:\n",
    "            original = tororg['Avg.Temp']\n",
    "    elif mode == 'individual':\n",
    "        data = data[data['year']==year]\n",
    "        prompt = 'Prophet Forecast for Average Temperatures in {}, {}'\n",
    "        \n",
    "        if city == 'Hyderabad':\n",
    "            original = hydorg[hydorg['year ']==year]['Average']\n",
    "        else:\n",
    "            original = tororg[tororg['year ']==year]['Avg.Temp']\n",
    "\n",
    "        \n",
    "    x = data['ds']\n",
    "    y0 = data.yhat\n",
    "    y1 = data.yhat_lower\n",
    "    y2 = data.yhat_upper\n",
    "\n",
    "    \n",
    "\n",
    "\n",
    "    # Create traces\n",
    "    fig = go.Figure()\n",
    "    fig.add_trace(go.Scatter(x=x, y=y0,\n",
    "                        mode='lines+markers',\n",
    "                        name='yhat', line=dict(color='crimson')))\n",
    "    fig.add_trace(go.Scatter(x=x, y=original,\n",
    "                        mode='lines+markers',\n",
    "                        name='original', line=dict(color='dodgerblue')))\n",
    "    fig.add_trace(go.Scatter(x=x, y=y1,\n",
    "                        name='yhat_lower', line=dict(color='green', width=2,\n",
    "                              dash='dash')))\n",
    "    fig.add_trace(go.Scatter(x=x, y=y2,\n",
    "\n",
    "                        name='yhat_lower', line=dict(color='orange', width=2,\n",
    "                              dash='dot')))\n",
    "\n",
    "    fig.update_traces(marker=dict(\n",
    "                              line=dict(width=2,\n",
    "                                        color='DarkSlateGrey')),\n",
    "                  selector=dict(mode='markers'))\n",
    "\n",
    "    fig.update_layout(\n",
    "        title=prompt.format(city,year),\n",
    "        title_x=0.5,\n",
    "        xaxis_title=\"Months\",\n",
    "        yaxis_title=\"Average Temperature\",\n",
    "        legend_title=\"Legend\",)\n",
    "\n",
    "    fig.show()\n"
   ]
  },
  {
   "cell_type": "code",
   "execution_count": 136,
   "id": "other-pocket",
   "metadata": {},
   "outputs": [
    {
     "data": {
      "application/vnd.plotly.v1+json": {
       "config": {
        "plotlyServerURL": "https://plot.ly"
       },
       "data": [
        {
         "line": {
          "color": "crimson"
         },
         "mode": "lines+markers",
         "name": "yhat",
         "type": "scatter",
         "x": [
          "2018-01-01T00:00:00",
          "2018-02-01T00:00:00",
          "2018-03-01T00:00:00",
          "2018-04-01T00:00:00",
          "2018-05-01T00:00:00",
          "2018-06-01T00:00:00",
          "2018-07-01T00:00:00",
          "2018-08-01T00:00:00",
          "2018-09-01T00:00:00",
          "2018-10-01T00:00:00",
          "2018-11-01T00:00:00",
          "2018-12-01T00:00:00",
          "2019-01-01T00:00:00",
          "2019-02-01T00:00:00",
          "2019-03-01T00:00:00",
          "2019-04-01T00:00:00",
          "2019-05-01T00:00:00",
          "2019-06-01T00:00:00",
          "2019-07-01T00:00:00",
          "2019-08-01T00:00:00",
          "2019-09-01T00:00:00",
          "2019-10-01T00:00:00",
          "2019-11-01T00:00:00",
          "2019-12-01T00:00:00",
          "2020-01-01T00:00:00",
          "2020-02-01T00:00:00",
          "2020-03-01T00:00:00",
          "2020-04-01T00:00:00",
          "2020-05-01T00:00:00",
          "2020-06-01T00:00:00",
          "2020-07-01T00:00:00",
          "2020-08-01T00:00:00",
          "2020-09-01T00:00:00",
          "2020-10-01T00:00:00",
          "2020-11-01T00:00:00",
          "2020-12-01T00:00:00"
         ],
         "y": [
          23.62146115132085,
          26.13792704832754,
          29.514382248933277,
          32.02824685374223,
          33.43668840260282,
          30.510760122367905,
          27.86232317792412,
          27.392843211177915,
          27.550866444834938,
          26.731021211649583,
          24.51329137089159,
          22.763953872157565,
          23.578107431480106,
          26.12899643475101,
          29.518484894498823,
          32.0374251879717,
          33.53184998495975,
          30.462090774785075,
          27.81990284374948,
          27.412898091310648,
          27.60483287852859,
          26.819047225502047,
          24.546441140766206,
          22.714265972658197,
          23.535940830436097,
          26.121499455463827,
          29.54827147695687,
          32.05202686209288,
          33.27990885586725,
          30.64250051652691,
          27.993027913646884,
          27.400866099474893,
          27.487697255849458,
          26.59293575519091,
          24.48116174852719,
          22.902320487716356
         ]
        },
        {
         "line": {
          "color": "dodgerblue"
         },
         "mode": "lines+markers",
         "name": "original",
         "type": "scatter",
         "x": [
          "2018-01-01T00:00:00",
          "2018-02-01T00:00:00",
          "2018-03-01T00:00:00",
          "2018-04-01T00:00:00",
          "2018-05-01T00:00:00",
          "2018-06-01T00:00:00",
          "2018-07-01T00:00:00",
          "2018-08-01T00:00:00",
          "2018-09-01T00:00:00",
          "2018-10-01T00:00:00",
          "2018-11-01T00:00:00",
          "2018-12-01T00:00:00",
          "2019-01-01T00:00:00",
          "2019-02-01T00:00:00",
          "2019-03-01T00:00:00",
          "2019-04-01T00:00:00",
          "2019-05-01T00:00:00",
          "2019-06-01T00:00:00",
          "2019-07-01T00:00:00",
          "2019-08-01T00:00:00",
          "2019-09-01T00:00:00",
          "2019-10-01T00:00:00",
          "2019-11-01T00:00:00",
          "2019-12-01T00:00:00",
          "2020-01-01T00:00:00",
          "2020-02-01T00:00:00",
          "2020-03-01T00:00:00",
          "2020-04-01T00:00:00",
          "2020-05-01T00:00:00",
          "2020-06-01T00:00:00",
          "2020-07-01T00:00:00",
          "2020-08-01T00:00:00",
          "2020-09-01T00:00:00",
          "2020-10-01T00:00:00",
          "2020-11-01T00:00:00",
          "2020-12-01T00:00:00"
         ],
         "y": [
          25,
          28,
          32,
          34,
          35,
          31,
          28,
          27,
          29,
          29,
          28,
          24,
          25,
          29,
          33,
          34,
          37,
          33,
          29,
          28,
          27,
          27,
          27,
          25,
          26,
          27,
          30,
          35,
          36,
          29,
          26,
          26,
          27,
          26,
          25,
          23
         ]
        },
        {
         "line": {
          "color": "green",
          "dash": "dash",
          "width": 2
         },
         "name": "yhat_lower",
         "type": "scatter",
         "x": [
          "2018-01-01T00:00:00",
          "2018-02-01T00:00:00",
          "2018-03-01T00:00:00",
          "2018-04-01T00:00:00",
          "2018-05-01T00:00:00",
          "2018-06-01T00:00:00",
          "2018-07-01T00:00:00",
          "2018-08-01T00:00:00",
          "2018-09-01T00:00:00",
          "2018-10-01T00:00:00",
          "2018-11-01T00:00:00",
          "2018-12-01T00:00:00",
          "2019-01-01T00:00:00",
          "2019-02-01T00:00:00",
          "2019-03-01T00:00:00",
          "2019-04-01T00:00:00",
          "2019-05-01T00:00:00",
          "2019-06-01T00:00:00",
          "2019-07-01T00:00:00",
          "2019-08-01T00:00:00",
          "2019-09-01T00:00:00",
          "2019-10-01T00:00:00",
          "2019-11-01T00:00:00",
          "2019-12-01T00:00:00",
          "2020-01-01T00:00:00",
          "2020-02-01T00:00:00",
          "2020-03-01T00:00:00",
          "2020-04-01T00:00:00",
          "2020-05-01T00:00:00",
          "2020-06-01T00:00:00",
          "2020-07-01T00:00:00",
          "2020-08-01T00:00:00",
          "2020-09-01T00:00:00",
          "2020-10-01T00:00:00",
          "2020-11-01T00:00:00",
          "2020-12-01T00:00:00"
         ],
         "y": [
          22.503967997208704,
          24.9578288779483,
          28.396819654823013,
          30.85792787269256,
          32.32414599037007,
          29.264230940019644,
          26.67156485938186,
          26.24109114355902,
          26.409651658192505,
          25.534885929450407,
          23.265996453493948,
          21.59363051571436,
          22.380707430152246,
          24.892781555738104,
          28.363608129429586,
          30.76224636875007,
          32.367135952936565,
          29.338528491621688,
          26.7333869555816,
          26.271226681513017,
          26.433198690784515,
          25.64421708951547,
          23.280596217569077,
          21.555046956109127,
          22.333276904826967,
          24.968685801593615,
          28.343333544951,
          30.877772803064108,
          32.06195115475918,
          29.54293734119294,
          26.82064340570996,
          26.13654060053356,
          26.36722294884602,
          25.377550795549038,
          23.230227334255066,
          21.721571064743372
         ]
        },
        {
         "line": {
          "color": "orange",
          "dash": "dot",
          "width": 2
         },
         "name": "yhat_lower",
         "type": "scatter",
         "x": [
          "2018-01-01T00:00:00",
          "2018-02-01T00:00:00",
          "2018-03-01T00:00:00",
          "2018-04-01T00:00:00",
          "2018-05-01T00:00:00",
          "2018-06-01T00:00:00",
          "2018-07-01T00:00:00",
          "2018-08-01T00:00:00",
          "2018-09-01T00:00:00",
          "2018-10-01T00:00:00",
          "2018-11-01T00:00:00",
          "2018-12-01T00:00:00",
          "2019-01-01T00:00:00",
          "2019-02-01T00:00:00",
          "2019-03-01T00:00:00",
          "2019-04-01T00:00:00",
          "2019-05-01T00:00:00",
          "2019-06-01T00:00:00",
          "2019-07-01T00:00:00",
          "2019-08-01T00:00:00",
          "2019-09-01T00:00:00",
          "2019-10-01T00:00:00",
          "2019-11-01T00:00:00",
          "2019-12-01T00:00:00",
          "2020-01-01T00:00:00",
          "2020-02-01T00:00:00",
          "2020-03-01T00:00:00",
          "2020-04-01T00:00:00",
          "2020-05-01T00:00:00",
          "2020-06-01T00:00:00",
          "2020-07-01T00:00:00",
          "2020-08-01T00:00:00",
          "2020-09-01T00:00:00",
          "2020-10-01T00:00:00",
          "2020-11-01T00:00:00",
          "2020-12-01T00:00:00"
         ],
         "y": [
          24.80983094799468,
          27.388147113456867,
          30.627655731681845,
          33.28158683142137,
          34.601242521795164,
          31.67321648491755,
          29.034563150198412,
          28.549653046332487,
          28.72137103966648,
          27.919122292371128,
          25.6597148433397,
          24.01331308501684,
          24.754958506338518,
          27.345506442609246,
          30.611501996198257,
          33.155640767922534,
          34.73762157910292,
          31.663828205342046,
          29.00055340688344,
          28.781039213132416,
          28.826540206992902,
          27.907657220031176,
          25.711869567134062,
          23.851520096390736,
          24.775094192220134,
          27.20860342432898,
          30.698223215814537,
          33.23537036556011,
          34.47021219426453,
          31.81951720180531,
          29.154893521871916,
          28.552798299453023,
          28.649245843836738,
          27.739649400381534,
          25.59729385007487,
          24.00328138428391
         ]
        }
       ],
       "layout": {
        "legend": {
         "title": {
          "text": "Legend"
         }
        },
        "template": {
         "data": {
          "bar": [
           {
            "error_x": {
             "color": "#2a3f5f"
            },
            "error_y": {
             "color": "#2a3f5f"
            },
            "marker": {
             "line": {
              "color": "#E5ECF6",
              "width": 0.5
             }
            },
            "type": "bar"
           }
          ],
          "barpolar": [
           {
            "marker": {
             "line": {
              "color": "#E5ECF6",
              "width": 0.5
             }
            },
            "type": "barpolar"
           }
          ],
          "carpet": [
           {
            "aaxis": {
             "endlinecolor": "#2a3f5f",
             "gridcolor": "white",
             "linecolor": "white",
             "minorgridcolor": "white",
             "startlinecolor": "#2a3f5f"
            },
            "baxis": {
             "endlinecolor": "#2a3f5f",
             "gridcolor": "white",
             "linecolor": "white",
             "minorgridcolor": "white",
             "startlinecolor": "#2a3f5f"
            },
            "type": "carpet"
           }
          ],
          "choropleth": [
           {
            "colorbar": {
             "outlinewidth": 0,
             "ticks": ""
            },
            "type": "choropleth"
           }
          ],
          "contour": [
           {
            "colorbar": {
             "outlinewidth": 0,
             "ticks": ""
            },
            "colorscale": [
             [
              0,
              "#0d0887"
             ],
             [
              0.1111111111111111,
              "#46039f"
             ],
             [
              0.2222222222222222,
              "#7201a8"
             ],
             [
              0.3333333333333333,
              "#9c179e"
             ],
             [
              0.4444444444444444,
              "#bd3786"
             ],
             [
              0.5555555555555556,
              "#d8576b"
             ],
             [
              0.6666666666666666,
              "#ed7953"
             ],
             [
              0.7777777777777778,
              "#fb9f3a"
             ],
             [
              0.8888888888888888,
              "#fdca26"
             ],
             [
              1,
              "#f0f921"
             ]
            ],
            "type": "contour"
           }
          ],
          "contourcarpet": [
           {
            "colorbar": {
             "outlinewidth": 0,
             "ticks": ""
            },
            "type": "contourcarpet"
           }
          ],
          "heatmap": [
           {
            "colorbar": {
             "outlinewidth": 0,
             "ticks": ""
            },
            "colorscale": [
             [
              0,
              "#0d0887"
             ],
             [
              0.1111111111111111,
              "#46039f"
             ],
             [
              0.2222222222222222,
              "#7201a8"
             ],
             [
              0.3333333333333333,
              "#9c179e"
             ],
             [
              0.4444444444444444,
              "#bd3786"
             ],
             [
              0.5555555555555556,
              "#d8576b"
             ],
             [
              0.6666666666666666,
              "#ed7953"
             ],
             [
              0.7777777777777778,
              "#fb9f3a"
             ],
             [
              0.8888888888888888,
              "#fdca26"
             ],
             [
              1,
              "#f0f921"
             ]
            ],
            "type": "heatmap"
           }
          ],
          "heatmapgl": [
           {
            "colorbar": {
             "outlinewidth": 0,
             "ticks": ""
            },
            "colorscale": [
             [
              0,
              "#0d0887"
             ],
             [
              0.1111111111111111,
              "#46039f"
             ],
             [
              0.2222222222222222,
              "#7201a8"
             ],
             [
              0.3333333333333333,
              "#9c179e"
             ],
             [
              0.4444444444444444,
              "#bd3786"
             ],
             [
              0.5555555555555556,
              "#d8576b"
             ],
             [
              0.6666666666666666,
              "#ed7953"
             ],
             [
              0.7777777777777778,
              "#fb9f3a"
             ],
             [
              0.8888888888888888,
              "#fdca26"
             ],
             [
              1,
              "#f0f921"
             ]
            ],
            "type": "heatmapgl"
           }
          ],
          "histogram": [
           {
            "marker": {
             "colorbar": {
              "outlinewidth": 0,
              "ticks": ""
             }
            },
            "type": "histogram"
           }
          ],
          "histogram2d": [
           {
            "colorbar": {
             "outlinewidth": 0,
             "ticks": ""
            },
            "colorscale": [
             [
              0,
              "#0d0887"
             ],
             [
              0.1111111111111111,
              "#46039f"
             ],
             [
              0.2222222222222222,
              "#7201a8"
             ],
             [
              0.3333333333333333,
              "#9c179e"
             ],
             [
              0.4444444444444444,
              "#bd3786"
             ],
             [
              0.5555555555555556,
              "#d8576b"
             ],
             [
              0.6666666666666666,
              "#ed7953"
             ],
             [
              0.7777777777777778,
              "#fb9f3a"
             ],
             [
              0.8888888888888888,
              "#fdca26"
             ],
             [
              1,
              "#f0f921"
             ]
            ],
            "type": "histogram2d"
           }
          ],
          "histogram2dcontour": [
           {
            "colorbar": {
             "outlinewidth": 0,
             "ticks": ""
            },
            "colorscale": [
             [
              0,
              "#0d0887"
             ],
             [
              0.1111111111111111,
              "#46039f"
             ],
             [
              0.2222222222222222,
              "#7201a8"
             ],
             [
              0.3333333333333333,
              "#9c179e"
             ],
             [
              0.4444444444444444,
              "#bd3786"
             ],
             [
              0.5555555555555556,
              "#d8576b"
             ],
             [
              0.6666666666666666,
              "#ed7953"
             ],
             [
              0.7777777777777778,
              "#fb9f3a"
             ],
             [
              0.8888888888888888,
              "#fdca26"
             ],
             [
              1,
              "#f0f921"
             ]
            ],
            "type": "histogram2dcontour"
           }
          ],
          "mesh3d": [
           {
            "colorbar": {
             "outlinewidth": 0,
             "ticks": ""
            },
            "type": "mesh3d"
           }
          ],
          "parcoords": [
           {
            "line": {
             "colorbar": {
              "outlinewidth": 0,
              "ticks": ""
             }
            },
            "type": "parcoords"
           }
          ],
          "pie": [
           {
            "automargin": true,
            "type": "pie"
           }
          ],
          "scatter": [
           {
            "marker": {
             "colorbar": {
              "outlinewidth": 0,
              "ticks": ""
             }
            },
            "type": "scatter"
           }
          ],
          "scatter3d": [
           {
            "line": {
             "colorbar": {
              "outlinewidth": 0,
              "ticks": ""
             }
            },
            "marker": {
             "colorbar": {
              "outlinewidth": 0,
              "ticks": ""
             }
            },
            "type": "scatter3d"
           }
          ],
          "scattercarpet": [
           {
            "marker": {
             "colorbar": {
              "outlinewidth": 0,
              "ticks": ""
             }
            },
            "type": "scattercarpet"
           }
          ],
          "scattergeo": [
           {
            "marker": {
             "colorbar": {
              "outlinewidth": 0,
              "ticks": ""
             }
            },
            "type": "scattergeo"
           }
          ],
          "scattergl": [
           {
            "marker": {
             "colorbar": {
              "outlinewidth": 0,
              "ticks": ""
             }
            },
            "type": "scattergl"
           }
          ],
          "scattermapbox": [
           {
            "marker": {
             "colorbar": {
              "outlinewidth": 0,
              "ticks": ""
             }
            },
            "type": "scattermapbox"
           }
          ],
          "scatterpolar": [
           {
            "marker": {
             "colorbar": {
              "outlinewidth": 0,
              "ticks": ""
             }
            },
            "type": "scatterpolar"
           }
          ],
          "scatterpolargl": [
           {
            "marker": {
             "colorbar": {
              "outlinewidth": 0,
              "ticks": ""
             }
            },
            "type": "scatterpolargl"
           }
          ],
          "scatterternary": [
           {
            "marker": {
             "colorbar": {
              "outlinewidth": 0,
              "ticks": ""
             }
            },
            "type": "scatterternary"
           }
          ],
          "surface": [
           {
            "colorbar": {
             "outlinewidth": 0,
             "ticks": ""
            },
            "colorscale": [
             [
              0,
              "#0d0887"
             ],
             [
              0.1111111111111111,
              "#46039f"
             ],
             [
              0.2222222222222222,
              "#7201a8"
             ],
             [
              0.3333333333333333,
              "#9c179e"
             ],
             [
              0.4444444444444444,
              "#bd3786"
             ],
             [
              0.5555555555555556,
              "#d8576b"
             ],
             [
              0.6666666666666666,
              "#ed7953"
             ],
             [
              0.7777777777777778,
              "#fb9f3a"
             ],
             [
              0.8888888888888888,
              "#fdca26"
             ],
             [
              1,
              "#f0f921"
             ]
            ],
            "type": "surface"
           }
          ],
          "table": [
           {
            "cells": {
             "fill": {
              "color": "#EBF0F8"
             },
             "line": {
              "color": "white"
             }
            },
            "header": {
             "fill": {
              "color": "#C8D4E3"
             },
             "line": {
              "color": "white"
             }
            },
            "type": "table"
           }
          ]
         },
         "layout": {
          "annotationdefaults": {
           "arrowcolor": "#2a3f5f",
           "arrowhead": 0,
           "arrowwidth": 1
          },
          "autotypenumbers": "strict",
          "coloraxis": {
           "colorbar": {
            "outlinewidth": 0,
            "ticks": ""
           }
          },
          "colorscale": {
           "diverging": [
            [
             0,
             "#8e0152"
            ],
            [
             0.1,
             "#c51b7d"
            ],
            [
             0.2,
             "#de77ae"
            ],
            [
             0.3,
             "#f1b6da"
            ],
            [
             0.4,
             "#fde0ef"
            ],
            [
             0.5,
             "#f7f7f7"
            ],
            [
             0.6,
             "#e6f5d0"
            ],
            [
             0.7,
             "#b8e186"
            ],
            [
             0.8,
             "#7fbc41"
            ],
            [
             0.9,
             "#4d9221"
            ],
            [
             1,
             "#276419"
            ]
           ],
           "sequential": [
            [
             0,
             "#0d0887"
            ],
            [
             0.1111111111111111,
             "#46039f"
            ],
            [
             0.2222222222222222,
             "#7201a8"
            ],
            [
             0.3333333333333333,
             "#9c179e"
            ],
            [
             0.4444444444444444,
             "#bd3786"
            ],
            [
             0.5555555555555556,
             "#d8576b"
            ],
            [
             0.6666666666666666,
             "#ed7953"
            ],
            [
             0.7777777777777778,
             "#fb9f3a"
            ],
            [
             0.8888888888888888,
             "#fdca26"
            ],
            [
             1,
             "#f0f921"
            ]
           ],
           "sequentialminus": [
            [
             0,
             "#0d0887"
            ],
            [
             0.1111111111111111,
             "#46039f"
            ],
            [
             0.2222222222222222,
             "#7201a8"
            ],
            [
             0.3333333333333333,
             "#9c179e"
            ],
            [
             0.4444444444444444,
             "#bd3786"
            ],
            [
             0.5555555555555556,
             "#d8576b"
            ],
            [
             0.6666666666666666,
             "#ed7953"
            ],
            [
             0.7777777777777778,
             "#fb9f3a"
            ],
            [
             0.8888888888888888,
             "#fdca26"
            ],
            [
             1,
             "#f0f921"
            ]
           ]
          },
          "colorway": [
           "#636efa",
           "#EF553B",
           "#00cc96",
           "#ab63fa",
           "#FFA15A",
           "#19d3f3",
           "#FF6692",
           "#B6E880",
           "#FF97FF",
           "#FECB52"
          ],
          "font": {
           "color": "#2a3f5f"
          },
          "geo": {
           "bgcolor": "white",
           "lakecolor": "white",
           "landcolor": "#E5ECF6",
           "showlakes": true,
           "showland": true,
           "subunitcolor": "white"
          },
          "hoverlabel": {
           "align": "left"
          },
          "hovermode": "closest",
          "mapbox": {
           "style": "light"
          },
          "paper_bgcolor": "white",
          "plot_bgcolor": "#E5ECF6",
          "polar": {
           "angularaxis": {
            "gridcolor": "white",
            "linecolor": "white",
            "ticks": ""
           },
           "bgcolor": "#E5ECF6",
           "radialaxis": {
            "gridcolor": "white",
            "linecolor": "white",
            "ticks": ""
           }
          },
          "scene": {
           "xaxis": {
            "backgroundcolor": "#E5ECF6",
            "gridcolor": "white",
            "gridwidth": 2,
            "linecolor": "white",
            "showbackground": true,
            "ticks": "",
            "zerolinecolor": "white"
           },
           "yaxis": {
            "backgroundcolor": "#E5ECF6",
            "gridcolor": "white",
            "gridwidth": 2,
            "linecolor": "white",
            "showbackground": true,
            "ticks": "",
            "zerolinecolor": "white"
           },
           "zaxis": {
            "backgroundcolor": "#E5ECF6",
            "gridcolor": "white",
            "gridwidth": 2,
            "linecolor": "white",
            "showbackground": true,
            "ticks": "",
            "zerolinecolor": "white"
           }
          },
          "shapedefaults": {
           "line": {
            "color": "#2a3f5f"
           }
          },
          "ternary": {
           "aaxis": {
            "gridcolor": "white",
            "linecolor": "white",
            "ticks": ""
           },
           "baxis": {
            "gridcolor": "white",
            "linecolor": "white",
            "ticks": ""
           },
           "bgcolor": "#E5ECF6",
           "caxis": {
            "gridcolor": "white",
            "linecolor": "white",
            "ticks": ""
           }
          },
          "title": {
           "x": 0.05
          },
          "xaxis": {
           "automargin": true,
           "gridcolor": "white",
           "linecolor": "white",
           "ticks": "",
           "title": {
            "standoff": 15
           },
           "zerolinecolor": "white",
           "zerolinewidth": 2
          },
          "yaxis": {
           "automargin": true,
           "gridcolor": "white",
           "linecolor": "white",
           "ticks": "",
           "title": {
            "standoff": 15
           },
           "zerolinecolor": "white",
           "zerolinewidth": 2
          }
         }
        },
        "title": {
         "text": "Prophet Forecast for Average Temperatures in Hyderabad",
         "x": 0.5
        },
        "xaxis": {
         "title": {
          "text": "Months"
         }
        },
        "yaxis": {
         "title": {
          "text": "Average Temperature"
         }
        }
       }
      },
      "text/html": [
       "<div>                            <div id=\"34fcfc21-4962-4807-bffb-76d341062316\" class=\"plotly-graph-div\" style=\"height:525px; width:100%;\"></div>            <script type=\"text/javascript\">                require([\"plotly\"], function(Plotly) {                    window.PLOTLYENV=window.PLOTLYENV || {};                                    if (document.getElementById(\"34fcfc21-4962-4807-bffb-76d341062316\")) {                    Plotly.newPlot(                        \"34fcfc21-4962-4807-bffb-76d341062316\",                        [{\"line\": {\"color\": \"crimson\"}, \"mode\": \"lines+markers\", \"name\": \"yhat\", \"type\": \"scatter\", \"x\": [\"2018-01-01T00:00:00\", \"2018-02-01T00:00:00\", \"2018-03-01T00:00:00\", \"2018-04-01T00:00:00\", \"2018-05-01T00:00:00\", \"2018-06-01T00:00:00\", \"2018-07-01T00:00:00\", \"2018-08-01T00:00:00\", \"2018-09-01T00:00:00\", \"2018-10-01T00:00:00\", \"2018-11-01T00:00:00\", \"2018-12-01T00:00:00\", \"2019-01-01T00:00:00\", \"2019-02-01T00:00:00\", \"2019-03-01T00:00:00\", \"2019-04-01T00:00:00\", \"2019-05-01T00:00:00\", \"2019-06-01T00:00:00\", \"2019-07-01T00:00:00\", \"2019-08-01T00:00:00\", \"2019-09-01T00:00:00\", \"2019-10-01T00:00:00\", \"2019-11-01T00:00:00\", \"2019-12-01T00:00:00\", \"2020-01-01T00:00:00\", \"2020-02-01T00:00:00\", \"2020-03-01T00:00:00\", \"2020-04-01T00:00:00\", \"2020-05-01T00:00:00\", \"2020-06-01T00:00:00\", \"2020-07-01T00:00:00\", \"2020-08-01T00:00:00\", \"2020-09-01T00:00:00\", \"2020-10-01T00:00:00\", \"2020-11-01T00:00:00\", \"2020-12-01T00:00:00\"], \"y\": [23.62146115132085, 26.13792704832754, 29.514382248933277, 32.02824685374223, 33.43668840260282, 30.510760122367905, 27.86232317792412, 27.392843211177915, 27.550866444834938, 26.731021211649583, 24.51329137089159, 22.763953872157565, 23.578107431480106, 26.12899643475101, 29.518484894498823, 32.0374251879717, 33.53184998495975, 30.462090774785075, 27.81990284374948, 27.412898091310648, 27.60483287852859, 26.819047225502047, 24.546441140766206, 22.714265972658197, 23.535940830436097, 26.121499455463827, 29.54827147695687, 32.05202686209288, 33.27990885586725, 30.64250051652691, 27.993027913646884, 27.400866099474893, 27.487697255849458, 26.59293575519091, 24.48116174852719, 22.902320487716356]}, {\"line\": {\"color\": \"dodgerblue\"}, \"mode\": \"lines+markers\", \"name\": \"original\", \"type\": \"scatter\", \"x\": [\"2018-01-01T00:00:00\", \"2018-02-01T00:00:00\", \"2018-03-01T00:00:00\", \"2018-04-01T00:00:00\", \"2018-05-01T00:00:00\", \"2018-06-01T00:00:00\", \"2018-07-01T00:00:00\", \"2018-08-01T00:00:00\", \"2018-09-01T00:00:00\", \"2018-10-01T00:00:00\", \"2018-11-01T00:00:00\", \"2018-12-01T00:00:00\", \"2019-01-01T00:00:00\", \"2019-02-01T00:00:00\", \"2019-03-01T00:00:00\", \"2019-04-01T00:00:00\", \"2019-05-01T00:00:00\", \"2019-06-01T00:00:00\", \"2019-07-01T00:00:00\", \"2019-08-01T00:00:00\", \"2019-09-01T00:00:00\", \"2019-10-01T00:00:00\", \"2019-11-01T00:00:00\", \"2019-12-01T00:00:00\", \"2020-01-01T00:00:00\", \"2020-02-01T00:00:00\", \"2020-03-01T00:00:00\", \"2020-04-01T00:00:00\", \"2020-05-01T00:00:00\", \"2020-06-01T00:00:00\", \"2020-07-01T00:00:00\", \"2020-08-01T00:00:00\", \"2020-09-01T00:00:00\", \"2020-10-01T00:00:00\", \"2020-11-01T00:00:00\", \"2020-12-01T00:00:00\"], \"y\": [25, 28, 32, 34, 35, 31, 28, 27, 29, 29, 28, 24, 25, 29, 33, 34, 37, 33, 29, 28, 27, 27, 27, 25, 26, 27, 30, 35, 36, 29, 26, 26, 27, 26, 25, 23]}, {\"line\": {\"color\": \"green\", \"dash\": \"dash\", \"width\": 2}, \"name\": \"yhat_lower\", \"type\": \"scatter\", \"x\": [\"2018-01-01T00:00:00\", \"2018-02-01T00:00:00\", \"2018-03-01T00:00:00\", \"2018-04-01T00:00:00\", \"2018-05-01T00:00:00\", \"2018-06-01T00:00:00\", \"2018-07-01T00:00:00\", \"2018-08-01T00:00:00\", \"2018-09-01T00:00:00\", \"2018-10-01T00:00:00\", \"2018-11-01T00:00:00\", \"2018-12-01T00:00:00\", \"2019-01-01T00:00:00\", \"2019-02-01T00:00:00\", \"2019-03-01T00:00:00\", \"2019-04-01T00:00:00\", \"2019-05-01T00:00:00\", \"2019-06-01T00:00:00\", \"2019-07-01T00:00:00\", \"2019-08-01T00:00:00\", \"2019-09-01T00:00:00\", \"2019-10-01T00:00:00\", \"2019-11-01T00:00:00\", \"2019-12-01T00:00:00\", \"2020-01-01T00:00:00\", \"2020-02-01T00:00:00\", \"2020-03-01T00:00:00\", \"2020-04-01T00:00:00\", \"2020-05-01T00:00:00\", \"2020-06-01T00:00:00\", \"2020-07-01T00:00:00\", \"2020-08-01T00:00:00\", \"2020-09-01T00:00:00\", \"2020-10-01T00:00:00\", \"2020-11-01T00:00:00\", \"2020-12-01T00:00:00\"], \"y\": [22.503967997208704, 24.9578288779483, 28.396819654823013, 30.85792787269256, 32.32414599037007, 29.264230940019644, 26.67156485938186, 26.24109114355902, 26.409651658192505, 25.534885929450407, 23.265996453493948, 21.59363051571436, 22.380707430152246, 24.892781555738104, 28.363608129429586, 30.76224636875007, 32.367135952936565, 29.338528491621688, 26.7333869555816, 26.271226681513017, 26.433198690784515, 25.64421708951547, 23.280596217569077, 21.555046956109127, 22.333276904826967, 24.968685801593615, 28.343333544951, 30.877772803064108, 32.06195115475918, 29.54293734119294, 26.82064340570996, 26.13654060053356, 26.36722294884602, 25.377550795549038, 23.230227334255066, 21.721571064743372]}, {\"line\": {\"color\": \"orange\", \"dash\": \"dot\", \"width\": 2}, \"name\": \"yhat_lower\", \"type\": \"scatter\", \"x\": [\"2018-01-01T00:00:00\", \"2018-02-01T00:00:00\", \"2018-03-01T00:00:00\", \"2018-04-01T00:00:00\", \"2018-05-01T00:00:00\", \"2018-06-01T00:00:00\", \"2018-07-01T00:00:00\", \"2018-08-01T00:00:00\", \"2018-09-01T00:00:00\", \"2018-10-01T00:00:00\", \"2018-11-01T00:00:00\", \"2018-12-01T00:00:00\", \"2019-01-01T00:00:00\", \"2019-02-01T00:00:00\", \"2019-03-01T00:00:00\", \"2019-04-01T00:00:00\", \"2019-05-01T00:00:00\", \"2019-06-01T00:00:00\", \"2019-07-01T00:00:00\", \"2019-08-01T00:00:00\", \"2019-09-01T00:00:00\", \"2019-10-01T00:00:00\", \"2019-11-01T00:00:00\", \"2019-12-01T00:00:00\", \"2020-01-01T00:00:00\", \"2020-02-01T00:00:00\", \"2020-03-01T00:00:00\", \"2020-04-01T00:00:00\", \"2020-05-01T00:00:00\", \"2020-06-01T00:00:00\", \"2020-07-01T00:00:00\", \"2020-08-01T00:00:00\", \"2020-09-01T00:00:00\", \"2020-10-01T00:00:00\", \"2020-11-01T00:00:00\", \"2020-12-01T00:00:00\"], \"y\": [24.80983094799468, 27.388147113456867, 30.627655731681845, 33.28158683142137, 34.601242521795164, 31.67321648491755, 29.034563150198412, 28.549653046332487, 28.72137103966648, 27.919122292371128, 25.6597148433397, 24.01331308501684, 24.754958506338518, 27.345506442609246, 30.611501996198257, 33.155640767922534, 34.73762157910292, 31.663828205342046, 29.00055340688344, 28.781039213132416, 28.826540206992902, 27.907657220031176, 25.711869567134062, 23.851520096390736, 24.775094192220134, 27.20860342432898, 30.698223215814537, 33.23537036556011, 34.47021219426453, 31.81951720180531, 29.154893521871916, 28.552798299453023, 28.649245843836738, 27.739649400381534, 25.59729385007487, 24.00328138428391]}],                        {\"legend\": {\"title\": {\"text\": \"Legend\"}}, \"template\": {\"data\": {\"bar\": [{\"error_x\": {\"color\": \"#2a3f5f\"}, \"error_y\": {\"color\": \"#2a3f5f\"}, \"marker\": {\"line\": {\"color\": \"#E5ECF6\", \"width\": 0.5}}, \"type\": \"bar\"}], \"barpolar\": [{\"marker\": {\"line\": {\"color\": \"#E5ECF6\", \"width\": 0.5}}, \"type\": \"barpolar\"}], \"carpet\": [{\"aaxis\": {\"endlinecolor\": \"#2a3f5f\", \"gridcolor\": \"white\", \"linecolor\": \"white\", \"minorgridcolor\": \"white\", \"startlinecolor\": \"#2a3f5f\"}, \"baxis\": {\"endlinecolor\": \"#2a3f5f\", \"gridcolor\": \"white\", \"linecolor\": \"white\", \"minorgridcolor\": \"white\", \"startlinecolor\": \"#2a3f5f\"}, \"type\": \"carpet\"}], \"choropleth\": [{\"colorbar\": {\"outlinewidth\": 0, \"ticks\": \"\"}, \"type\": \"choropleth\"}], \"contour\": [{\"colorbar\": {\"outlinewidth\": 0, \"ticks\": \"\"}, \"colorscale\": [[0.0, \"#0d0887\"], [0.1111111111111111, \"#46039f\"], [0.2222222222222222, \"#7201a8\"], [0.3333333333333333, \"#9c179e\"], [0.4444444444444444, \"#bd3786\"], [0.5555555555555556, \"#d8576b\"], [0.6666666666666666, \"#ed7953\"], [0.7777777777777778, \"#fb9f3a\"], [0.8888888888888888, \"#fdca26\"], [1.0, \"#f0f921\"]], \"type\": \"contour\"}], \"contourcarpet\": [{\"colorbar\": {\"outlinewidth\": 0, \"ticks\": \"\"}, \"type\": \"contourcarpet\"}], \"heatmap\": [{\"colorbar\": {\"outlinewidth\": 0, \"ticks\": \"\"}, \"colorscale\": [[0.0, \"#0d0887\"], [0.1111111111111111, \"#46039f\"], [0.2222222222222222, \"#7201a8\"], [0.3333333333333333, \"#9c179e\"], [0.4444444444444444, \"#bd3786\"], [0.5555555555555556, \"#d8576b\"], [0.6666666666666666, \"#ed7953\"], [0.7777777777777778, \"#fb9f3a\"], [0.8888888888888888, \"#fdca26\"], [1.0, \"#f0f921\"]], \"type\": \"heatmap\"}], \"heatmapgl\": [{\"colorbar\": {\"outlinewidth\": 0, \"ticks\": \"\"}, \"colorscale\": [[0.0, \"#0d0887\"], [0.1111111111111111, \"#46039f\"], [0.2222222222222222, \"#7201a8\"], [0.3333333333333333, \"#9c179e\"], [0.4444444444444444, \"#bd3786\"], [0.5555555555555556, \"#d8576b\"], [0.6666666666666666, \"#ed7953\"], [0.7777777777777778, \"#fb9f3a\"], [0.8888888888888888, \"#fdca26\"], [1.0, \"#f0f921\"]], \"type\": \"heatmapgl\"}], \"histogram\": [{\"marker\": {\"colorbar\": {\"outlinewidth\": 0, \"ticks\": \"\"}}, \"type\": \"histogram\"}], \"histogram2d\": [{\"colorbar\": {\"outlinewidth\": 0, \"ticks\": \"\"}, \"colorscale\": [[0.0, \"#0d0887\"], [0.1111111111111111, \"#46039f\"], [0.2222222222222222, \"#7201a8\"], [0.3333333333333333, \"#9c179e\"], [0.4444444444444444, \"#bd3786\"], [0.5555555555555556, \"#d8576b\"], [0.6666666666666666, \"#ed7953\"], [0.7777777777777778, \"#fb9f3a\"], [0.8888888888888888, \"#fdca26\"], [1.0, \"#f0f921\"]], \"type\": \"histogram2d\"}], \"histogram2dcontour\": [{\"colorbar\": {\"outlinewidth\": 0, \"ticks\": \"\"}, \"colorscale\": [[0.0, \"#0d0887\"], [0.1111111111111111, \"#46039f\"], [0.2222222222222222, \"#7201a8\"], [0.3333333333333333, \"#9c179e\"], [0.4444444444444444, \"#bd3786\"], [0.5555555555555556, \"#d8576b\"], [0.6666666666666666, \"#ed7953\"], [0.7777777777777778, \"#fb9f3a\"], [0.8888888888888888, \"#fdca26\"], [1.0, \"#f0f921\"]], \"type\": \"histogram2dcontour\"}], \"mesh3d\": [{\"colorbar\": {\"outlinewidth\": 0, \"ticks\": \"\"}, \"type\": \"mesh3d\"}], \"parcoords\": [{\"line\": {\"colorbar\": {\"outlinewidth\": 0, \"ticks\": \"\"}}, \"type\": \"parcoords\"}], \"pie\": [{\"automargin\": true, \"type\": \"pie\"}], \"scatter\": [{\"marker\": {\"colorbar\": {\"outlinewidth\": 0, \"ticks\": \"\"}}, \"type\": \"scatter\"}], \"scatter3d\": [{\"line\": {\"colorbar\": {\"outlinewidth\": 0, \"ticks\": \"\"}}, \"marker\": {\"colorbar\": {\"outlinewidth\": 0, \"ticks\": \"\"}}, \"type\": \"scatter3d\"}], \"scattercarpet\": [{\"marker\": {\"colorbar\": {\"outlinewidth\": 0, \"ticks\": \"\"}}, \"type\": \"scattercarpet\"}], \"scattergeo\": [{\"marker\": {\"colorbar\": {\"outlinewidth\": 0, \"ticks\": \"\"}}, \"type\": \"scattergeo\"}], \"scattergl\": [{\"marker\": {\"colorbar\": {\"outlinewidth\": 0, \"ticks\": \"\"}}, \"type\": \"scattergl\"}], \"scattermapbox\": [{\"marker\": {\"colorbar\": {\"outlinewidth\": 0, \"ticks\": \"\"}}, \"type\": \"scattermapbox\"}], \"scatterpolar\": [{\"marker\": {\"colorbar\": {\"outlinewidth\": 0, \"ticks\": \"\"}}, \"type\": \"scatterpolar\"}], \"scatterpolargl\": [{\"marker\": {\"colorbar\": {\"outlinewidth\": 0, \"ticks\": \"\"}}, \"type\": \"scatterpolargl\"}], \"scatterternary\": [{\"marker\": {\"colorbar\": {\"outlinewidth\": 0, \"ticks\": \"\"}}, \"type\": \"scatterternary\"}], \"surface\": [{\"colorbar\": {\"outlinewidth\": 0, \"ticks\": \"\"}, \"colorscale\": [[0.0, \"#0d0887\"], [0.1111111111111111, \"#46039f\"], [0.2222222222222222, \"#7201a8\"], [0.3333333333333333, \"#9c179e\"], [0.4444444444444444, \"#bd3786\"], [0.5555555555555556, \"#d8576b\"], [0.6666666666666666, \"#ed7953\"], [0.7777777777777778, \"#fb9f3a\"], [0.8888888888888888, \"#fdca26\"], [1.0, \"#f0f921\"]], \"type\": \"surface\"}], \"table\": [{\"cells\": {\"fill\": {\"color\": \"#EBF0F8\"}, \"line\": {\"color\": \"white\"}}, \"header\": {\"fill\": {\"color\": \"#C8D4E3\"}, \"line\": {\"color\": \"white\"}}, \"type\": \"table\"}]}, \"layout\": {\"annotationdefaults\": {\"arrowcolor\": \"#2a3f5f\", \"arrowhead\": 0, \"arrowwidth\": 1}, \"autotypenumbers\": \"strict\", \"coloraxis\": {\"colorbar\": {\"outlinewidth\": 0, \"ticks\": \"\"}}, \"colorscale\": {\"diverging\": [[0, \"#8e0152\"], [0.1, \"#c51b7d\"], [0.2, \"#de77ae\"], [0.3, \"#f1b6da\"], [0.4, \"#fde0ef\"], [0.5, \"#f7f7f7\"], [0.6, \"#e6f5d0\"], [0.7, \"#b8e186\"], [0.8, \"#7fbc41\"], [0.9, \"#4d9221\"], [1, \"#276419\"]], \"sequential\": [[0.0, \"#0d0887\"], [0.1111111111111111, \"#46039f\"], [0.2222222222222222, \"#7201a8\"], [0.3333333333333333, \"#9c179e\"], [0.4444444444444444, \"#bd3786\"], [0.5555555555555556, \"#d8576b\"], [0.6666666666666666, \"#ed7953\"], [0.7777777777777778, \"#fb9f3a\"], [0.8888888888888888, \"#fdca26\"], [1.0, \"#f0f921\"]], \"sequentialminus\": [[0.0, \"#0d0887\"], [0.1111111111111111, \"#46039f\"], [0.2222222222222222, \"#7201a8\"], [0.3333333333333333, \"#9c179e\"], [0.4444444444444444, \"#bd3786\"], [0.5555555555555556, \"#d8576b\"], [0.6666666666666666, \"#ed7953\"], [0.7777777777777778, \"#fb9f3a\"], [0.8888888888888888, \"#fdca26\"], [1.0, \"#f0f921\"]]}, \"colorway\": [\"#636efa\", \"#EF553B\", \"#00cc96\", \"#ab63fa\", \"#FFA15A\", \"#19d3f3\", \"#FF6692\", \"#B6E880\", \"#FF97FF\", \"#FECB52\"], \"font\": {\"color\": \"#2a3f5f\"}, \"geo\": {\"bgcolor\": \"white\", \"lakecolor\": \"white\", \"landcolor\": \"#E5ECF6\", \"showlakes\": true, \"showland\": true, \"subunitcolor\": \"white\"}, \"hoverlabel\": {\"align\": \"left\"}, \"hovermode\": \"closest\", \"mapbox\": {\"style\": \"light\"}, \"paper_bgcolor\": \"white\", \"plot_bgcolor\": \"#E5ECF6\", \"polar\": {\"angularaxis\": {\"gridcolor\": \"white\", \"linecolor\": \"white\", \"ticks\": \"\"}, \"bgcolor\": \"#E5ECF6\", \"radialaxis\": {\"gridcolor\": \"white\", \"linecolor\": \"white\", \"ticks\": \"\"}}, \"scene\": {\"xaxis\": {\"backgroundcolor\": \"#E5ECF6\", \"gridcolor\": \"white\", \"gridwidth\": 2, \"linecolor\": \"white\", \"showbackground\": true, \"ticks\": \"\", \"zerolinecolor\": \"white\"}, \"yaxis\": {\"backgroundcolor\": \"#E5ECF6\", \"gridcolor\": \"white\", \"gridwidth\": 2, \"linecolor\": \"white\", \"showbackground\": true, \"ticks\": \"\", \"zerolinecolor\": \"white\"}, \"zaxis\": {\"backgroundcolor\": \"#E5ECF6\", \"gridcolor\": \"white\", \"gridwidth\": 2, \"linecolor\": \"white\", \"showbackground\": true, \"ticks\": \"\", \"zerolinecolor\": \"white\"}}, \"shapedefaults\": {\"line\": {\"color\": \"#2a3f5f\"}}, \"ternary\": {\"aaxis\": {\"gridcolor\": \"white\", \"linecolor\": \"white\", \"ticks\": \"\"}, \"baxis\": {\"gridcolor\": \"white\", \"linecolor\": \"white\", \"ticks\": \"\"}, \"bgcolor\": \"#E5ECF6\", \"caxis\": {\"gridcolor\": \"white\", \"linecolor\": \"white\", \"ticks\": \"\"}}, \"title\": {\"x\": 0.05}, \"xaxis\": {\"automargin\": true, \"gridcolor\": \"white\", \"linecolor\": \"white\", \"ticks\": \"\", \"title\": {\"standoff\": 15}, \"zerolinecolor\": \"white\", \"zerolinewidth\": 2}, \"yaxis\": {\"automargin\": true, \"gridcolor\": \"white\", \"linecolor\": \"white\", \"ticks\": \"\", \"title\": {\"standoff\": 15}, \"zerolinecolor\": \"white\", \"zerolinewidth\": 2}}}, \"title\": {\"text\": \"Prophet Forecast for Average Temperatures in Hyderabad\", \"x\": 0.5}, \"xaxis\": {\"title\": {\"text\": \"Months\"}}, \"yaxis\": {\"title\": {\"text\": \"Average Temperature\"}}},                        {\"responsive\": true}                    ).then(function(){\n",
       "                            \n",
       "var gd = document.getElementById('34fcfc21-4962-4807-bffb-76d341062316');\n",
       "var x = new MutationObserver(function (mutations, observer) {{\n",
       "        var display = window.getComputedStyle(gd).display;\n",
       "        if (!display || display === 'none') {{\n",
       "            console.log([gd, 'removed!']);\n",
       "            Plotly.purge(gd);\n",
       "            observer.disconnect();\n",
       "        }}\n",
       "}});\n",
       "\n",
       "// Listen for the removal of the full notebook cells\n",
       "var notebookContainer = gd.closest('#notebook-container');\n",
       "if (notebookContainer) {{\n",
       "    x.observe(notebookContainer, {childList: true});\n",
       "}}\n",
       "\n",
       "// Listen for the clearing of the current output cell\n",
       "var outputEl = gd.closest('.output');\n",
       "if (outputEl) {{\n",
       "    x.observe(outputEl, {childList: true});\n",
       "}}\n",
       "\n",
       "                        })                };                });            </script>        </div>"
      ]
     },
     "metadata": {},
     "output_type": "display_data"
    }
   ],
   "source": [
    "project_yhat(hydpreds,city='Hyderabad',mode='compound')"
   ]
  },
  {
   "cell_type": "code",
   "execution_count": 137,
   "id": "interracial-consideration",
   "metadata": {},
   "outputs": [
    {
     "data": {
      "application/vnd.plotly.v1+json": {
       "config": {
        "plotlyServerURL": "https://plot.ly"
       },
       "data": [
        {
         "line": {
          "color": "crimson"
         },
         "mode": "lines+markers",
         "name": "yhat",
         "type": "scatter",
         "x": [
          "2018-01-01T00:00:00",
          "2018-02-01T00:00:00",
          "2018-03-01T00:00:00",
          "2018-04-01T00:00:00",
          "2018-05-01T00:00:00",
          "2018-06-01T00:00:00",
          "2018-07-01T00:00:00",
          "2018-08-01T00:00:00",
          "2018-09-01T00:00:00",
          "2018-10-01T00:00:00",
          "2018-11-01T00:00:00",
          "2018-12-01T00:00:00",
          "2019-01-01T00:00:00",
          "2019-02-01T00:00:00",
          "2019-03-01T00:00:00",
          "2019-04-01T00:00:00",
          "2019-05-01T00:00:00",
          "2019-06-01T00:00:00",
          "2019-07-01T00:00:00",
          "2019-08-01T00:00:00",
          "2019-09-01T00:00:00",
          "2019-10-01T00:00:00",
          "2019-11-01T00:00:00",
          "2019-12-01T00:00:00",
          "2020-01-01T00:00:00",
          "2020-02-01T00:00:00",
          "2020-03-01T00:00:00",
          "2020-04-01T00:00:00",
          "2020-05-01T00:00:00",
          "2020-06-01T00:00:00",
          "2020-07-01T00:00:00",
          "2020-08-01T00:00:00",
          "2020-09-01T00:00:00",
          "2020-10-01T00:00:00",
          "2020-11-01T00:00:00",
          "2020-12-01T00:00:00"
         ],
         "y": [
          -6.491747619286064,
          -6.419267851714956,
          -1.5210187464587115,
          5.60232696862678,
          12.304278157240455,
          17.492217776639617,
          20.09865346573303,
          19.18903473902318,
          15.350179520607572,
          9.055915320638858,
          2.6531063545037226,
          -3.7062683544204216,
          -6.473915382507366,
          -6.4690662589058014,
          -1.4731526628477933,
          5.5549299590769134,
          12.247645787956206,
          17.41666624942874,
          20.123537353003066,
          19.21489821231688,
          15.416010748742988,
          9.178297304904731,
          2.7129202402345145,
          -3.7065972071835356,
          -6.45537819117286,
          -6.516819650468813,
          -1.5658396352341732,
          5.742157922710561,
          12.463886759290844,
          17.69395294304801,
          20.101033959527395,
          19.188397489348684,
          15.270505562162604,
          8.85978772230342,
          2.5780232879585387,
          -3.655268965037785
         ]
        },
        {
         "line": {
          "color": "dodgerblue"
         },
         "mode": "lines+markers",
         "name": "original",
         "type": "scatter",
         "x": [
          "2018-01-01T00:00:00",
          "2018-02-01T00:00:00",
          "2018-03-01T00:00:00",
          "2018-04-01T00:00:00",
          "2018-05-01T00:00:00",
          "2018-06-01T00:00:00",
          "2018-07-01T00:00:00",
          "2018-08-01T00:00:00",
          "2018-09-01T00:00:00",
          "2018-10-01T00:00:00",
          "2018-11-01T00:00:00",
          "2018-12-01T00:00:00",
          "2019-01-01T00:00:00",
          "2019-02-01T00:00:00",
          "2019-03-01T00:00:00",
          "2019-04-01T00:00:00",
          "2019-05-01T00:00:00",
          "2019-06-01T00:00:00",
          "2019-07-01T00:00:00",
          "2019-08-01T00:00:00",
          "2019-09-01T00:00:00",
          "2019-10-01T00:00:00",
          "2019-11-01T00:00:00",
          "2019-12-01T00:00:00",
          "2020-01-01T00:00:00",
          "2020-02-01T00:00:00",
          "2020-03-01T00:00:00",
          "2020-04-01T00:00:00",
          "2020-05-01T00:00:00",
          "2020-06-01T00:00:00",
          "2020-07-01T00:00:00",
          "2020-08-01T00:00:00",
          "2020-09-01T00:00:00",
          "2020-10-01T00:00:00",
          "2020-11-01T00:00:00",
          "2020-12-01T00:00:00"
         ],
         "y": [
          -5,
          -2,
          0,
          3,
          17,
          20,
          24,
          23,
          19,
          9,
          2,
          0,
          -6,
          -4,
          -1,
          6,
          12,
          18,
          24,
          21,
          18,
          11,
          1,
          -1,
          -1,
          -3,
          3,
          6,
          12,
          21,
          25,
          22,
          17,
          10,
          7,
          0
         ]
        },
        {
         "line": {
          "color": "green",
          "dash": "dash",
          "width": 2
         },
         "name": "yhat_lower",
         "type": "scatter",
         "x": [
          "2018-01-01T00:00:00",
          "2018-02-01T00:00:00",
          "2018-03-01T00:00:00",
          "2018-04-01T00:00:00",
          "2018-05-01T00:00:00",
          "2018-06-01T00:00:00",
          "2018-07-01T00:00:00",
          "2018-08-01T00:00:00",
          "2018-09-01T00:00:00",
          "2018-10-01T00:00:00",
          "2018-11-01T00:00:00",
          "2018-12-01T00:00:00",
          "2019-01-01T00:00:00",
          "2019-02-01T00:00:00",
          "2019-03-01T00:00:00",
          "2019-04-01T00:00:00",
          "2019-05-01T00:00:00",
          "2019-06-01T00:00:00",
          "2019-07-01T00:00:00",
          "2019-08-01T00:00:00",
          "2019-09-01T00:00:00",
          "2019-10-01T00:00:00",
          "2019-11-01T00:00:00",
          "2019-12-01T00:00:00",
          "2020-01-01T00:00:00",
          "2020-02-01T00:00:00",
          "2020-03-01T00:00:00",
          "2020-04-01T00:00:00",
          "2020-05-01T00:00:00",
          "2020-06-01T00:00:00",
          "2020-07-01T00:00:00",
          "2020-08-01T00:00:00",
          "2020-09-01T00:00:00",
          "2020-10-01T00:00:00",
          "2020-11-01T00:00:00",
          "2020-12-01T00:00:00"
         ],
         "y": [
          -9.401904860219721,
          -9.506472602466467,
          -4.629338681726529,
          2.596946219356927,
          9.266828414406547,
          14.633300367568388,
          16.790769533737286,
          16.00009023592696,
          12.483871663101558,
          6.26873795279087,
          -0.12258755921883435,
          -7.134022844446483,
          -9.5260646696339,
          -9.513082451682944,
          -4.649081193214018,
          2.4302177864185746,
          9.210421610669286,
          14.082927168880804,
          16.691300865173844,
          16.215176126865718,
          12.603316773345654,
          6.346413885757364,
          -0.4468744255930841,
          -6.891968024987604,
          -9.655537057021856,
          -9.631573576425962,
          -4.341544185922656,
          2.916505818942388,
          9.394854554172143,
          14.959197916768789,
          16.93613131651564,
          16.145527657992005,
          12.272188466601511,
          5.879876492810589,
          -0.5288361903154877,
          -6.684963510976972
         ]
        },
        {
         "line": {
          "color": "orange",
          "dash": "dot",
          "width": 2
         },
         "name": "yhat_lower",
         "type": "scatter",
         "x": [
          "2018-01-01T00:00:00",
          "2018-02-01T00:00:00",
          "2018-03-01T00:00:00",
          "2018-04-01T00:00:00",
          "2018-05-01T00:00:00",
          "2018-06-01T00:00:00",
          "2018-07-01T00:00:00",
          "2018-08-01T00:00:00",
          "2018-09-01T00:00:00",
          "2018-10-01T00:00:00",
          "2018-11-01T00:00:00",
          "2018-12-01T00:00:00",
          "2019-01-01T00:00:00",
          "2019-02-01T00:00:00",
          "2019-03-01T00:00:00",
          "2019-04-01T00:00:00",
          "2019-05-01T00:00:00",
          "2019-06-01T00:00:00",
          "2019-07-01T00:00:00",
          "2019-08-01T00:00:00",
          "2019-09-01T00:00:00",
          "2019-10-01T00:00:00",
          "2019-11-01T00:00:00",
          "2019-12-01T00:00:00",
          "2020-01-01T00:00:00",
          "2020-02-01T00:00:00",
          "2020-03-01T00:00:00",
          "2020-04-01T00:00:00",
          "2020-05-01T00:00:00",
          "2020-06-01T00:00:00",
          "2020-07-01T00:00:00",
          "2020-08-01T00:00:00",
          "2020-09-01T00:00:00",
          "2020-10-01T00:00:00",
          "2020-11-01T00:00:00",
          "2020-12-01T00:00:00"
         ],
         "y": [
          -3.736992020996682,
          -3.35435316387685,
          1.6520224105719192,
          8.654580475848052,
          15.378512609672029,
          20.628970973679998,
          23.314444245686463,
          22.260756397759256,
          18.485139018924254,
          12.09299035643919,
          5.810058260226697,
          -0.8187469809998504,
          -3.2850136172539557,
          -3.3757635832915818,
          1.8276531246716168,
          8.59076279037745,
          15.122544398240816,
          20.507501127298852,
          23.057296324903742,
          22.285464568357877,
          18.54384767823435,
          12.420078862363745,
          5.704088085711607,
          -0.6045675072848024,
          -3.5004226038945263,
          -3.4401836045294587,
          1.5483179029827607,
          8.83617893495318,
          15.689775144507198,
          20.889594368597376,
          23.116377397459996,
          22.15393622218214,
          18.260301365552056,
          11.917870878754922,
          5.567124202265511,
          -0.5324247121484369
         ]
        }
       ],
       "layout": {
        "legend": {
         "title": {
          "text": "Legend"
         }
        },
        "template": {
         "data": {
          "bar": [
           {
            "error_x": {
             "color": "#2a3f5f"
            },
            "error_y": {
             "color": "#2a3f5f"
            },
            "marker": {
             "line": {
              "color": "#E5ECF6",
              "width": 0.5
             }
            },
            "type": "bar"
           }
          ],
          "barpolar": [
           {
            "marker": {
             "line": {
              "color": "#E5ECF6",
              "width": 0.5
             }
            },
            "type": "barpolar"
           }
          ],
          "carpet": [
           {
            "aaxis": {
             "endlinecolor": "#2a3f5f",
             "gridcolor": "white",
             "linecolor": "white",
             "minorgridcolor": "white",
             "startlinecolor": "#2a3f5f"
            },
            "baxis": {
             "endlinecolor": "#2a3f5f",
             "gridcolor": "white",
             "linecolor": "white",
             "minorgridcolor": "white",
             "startlinecolor": "#2a3f5f"
            },
            "type": "carpet"
           }
          ],
          "choropleth": [
           {
            "colorbar": {
             "outlinewidth": 0,
             "ticks": ""
            },
            "type": "choropleth"
           }
          ],
          "contour": [
           {
            "colorbar": {
             "outlinewidth": 0,
             "ticks": ""
            },
            "colorscale": [
             [
              0,
              "#0d0887"
             ],
             [
              0.1111111111111111,
              "#46039f"
             ],
             [
              0.2222222222222222,
              "#7201a8"
             ],
             [
              0.3333333333333333,
              "#9c179e"
             ],
             [
              0.4444444444444444,
              "#bd3786"
             ],
             [
              0.5555555555555556,
              "#d8576b"
             ],
             [
              0.6666666666666666,
              "#ed7953"
             ],
             [
              0.7777777777777778,
              "#fb9f3a"
             ],
             [
              0.8888888888888888,
              "#fdca26"
             ],
             [
              1,
              "#f0f921"
             ]
            ],
            "type": "contour"
           }
          ],
          "contourcarpet": [
           {
            "colorbar": {
             "outlinewidth": 0,
             "ticks": ""
            },
            "type": "contourcarpet"
           }
          ],
          "heatmap": [
           {
            "colorbar": {
             "outlinewidth": 0,
             "ticks": ""
            },
            "colorscale": [
             [
              0,
              "#0d0887"
             ],
             [
              0.1111111111111111,
              "#46039f"
             ],
             [
              0.2222222222222222,
              "#7201a8"
             ],
             [
              0.3333333333333333,
              "#9c179e"
             ],
             [
              0.4444444444444444,
              "#bd3786"
             ],
             [
              0.5555555555555556,
              "#d8576b"
             ],
             [
              0.6666666666666666,
              "#ed7953"
             ],
             [
              0.7777777777777778,
              "#fb9f3a"
             ],
             [
              0.8888888888888888,
              "#fdca26"
             ],
             [
              1,
              "#f0f921"
             ]
            ],
            "type": "heatmap"
           }
          ],
          "heatmapgl": [
           {
            "colorbar": {
             "outlinewidth": 0,
             "ticks": ""
            },
            "colorscale": [
             [
              0,
              "#0d0887"
             ],
             [
              0.1111111111111111,
              "#46039f"
             ],
             [
              0.2222222222222222,
              "#7201a8"
             ],
             [
              0.3333333333333333,
              "#9c179e"
             ],
             [
              0.4444444444444444,
              "#bd3786"
             ],
             [
              0.5555555555555556,
              "#d8576b"
             ],
             [
              0.6666666666666666,
              "#ed7953"
             ],
             [
              0.7777777777777778,
              "#fb9f3a"
             ],
             [
              0.8888888888888888,
              "#fdca26"
             ],
             [
              1,
              "#f0f921"
             ]
            ],
            "type": "heatmapgl"
           }
          ],
          "histogram": [
           {
            "marker": {
             "colorbar": {
              "outlinewidth": 0,
              "ticks": ""
             }
            },
            "type": "histogram"
           }
          ],
          "histogram2d": [
           {
            "colorbar": {
             "outlinewidth": 0,
             "ticks": ""
            },
            "colorscale": [
             [
              0,
              "#0d0887"
             ],
             [
              0.1111111111111111,
              "#46039f"
             ],
             [
              0.2222222222222222,
              "#7201a8"
             ],
             [
              0.3333333333333333,
              "#9c179e"
             ],
             [
              0.4444444444444444,
              "#bd3786"
             ],
             [
              0.5555555555555556,
              "#d8576b"
             ],
             [
              0.6666666666666666,
              "#ed7953"
             ],
             [
              0.7777777777777778,
              "#fb9f3a"
             ],
             [
              0.8888888888888888,
              "#fdca26"
             ],
             [
              1,
              "#f0f921"
             ]
            ],
            "type": "histogram2d"
           }
          ],
          "histogram2dcontour": [
           {
            "colorbar": {
             "outlinewidth": 0,
             "ticks": ""
            },
            "colorscale": [
             [
              0,
              "#0d0887"
             ],
             [
              0.1111111111111111,
              "#46039f"
             ],
             [
              0.2222222222222222,
              "#7201a8"
             ],
             [
              0.3333333333333333,
              "#9c179e"
             ],
             [
              0.4444444444444444,
              "#bd3786"
             ],
             [
              0.5555555555555556,
              "#d8576b"
             ],
             [
              0.6666666666666666,
              "#ed7953"
             ],
             [
              0.7777777777777778,
              "#fb9f3a"
             ],
             [
              0.8888888888888888,
              "#fdca26"
             ],
             [
              1,
              "#f0f921"
             ]
            ],
            "type": "histogram2dcontour"
           }
          ],
          "mesh3d": [
           {
            "colorbar": {
             "outlinewidth": 0,
             "ticks": ""
            },
            "type": "mesh3d"
           }
          ],
          "parcoords": [
           {
            "line": {
             "colorbar": {
              "outlinewidth": 0,
              "ticks": ""
             }
            },
            "type": "parcoords"
           }
          ],
          "pie": [
           {
            "automargin": true,
            "type": "pie"
           }
          ],
          "scatter": [
           {
            "marker": {
             "colorbar": {
              "outlinewidth": 0,
              "ticks": ""
             }
            },
            "type": "scatter"
           }
          ],
          "scatter3d": [
           {
            "line": {
             "colorbar": {
              "outlinewidth": 0,
              "ticks": ""
             }
            },
            "marker": {
             "colorbar": {
              "outlinewidth": 0,
              "ticks": ""
             }
            },
            "type": "scatter3d"
           }
          ],
          "scattercarpet": [
           {
            "marker": {
             "colorbar": {
              "outlinewidth": 0,
              "ticks": ""
             }
            },
            "type": "scattercarpet"
           }
          ],
          "scattergeo": [
           {
            "marker": {
             "colorbar": {
              "outlinewidth": 0,
              "ticks": ""
             }
            },
            "type": "scattergeo"
           }
          ],
          "scattergl": [
           {
            "marker": {
             "colorbar": {
              "outlinewidth": 0,
              "ticks": ""
             }
            },
            "type": "scattergl"
           }
          ],
          "scattermapbox": [
           {
            "marker": {
             "colorbar": {
              "outlinewidth": 0,
              "ticks": ""
             }
            },
            "type": "scattermapbox"
           }
          ],
          "scatterpolar": [
           {
            "marker": {
             "colorbar": {
              "outlinewidth": 0,
              "ticks": ""
             }
            },
            "type": "scatterpolar"
           }
          ],
          "scatterpolargl": [
           {
            "marker": {
             "colorbar": {
              "outlinewidth": 0,
              "ticks": ""
             }
            },
            "type": "scatterpolargl"
           }
          ],
          "scatterternary": [
           {
            "marker": {
             "colorbar": {
              "outlinewidth": 0,
              "ticks": ""
             }
            },
            "type": "scatterternary"
           }
          ],
          "surface": [
           {
            "colorbar": {
             "outlinewidth": 0,
             "ticks": ""
            },
            "colorscale": [
             [
              0,
              "#0d0887"
             ],
             [
              0.1111111111111111,
              "#46039f"
             ],
             [
              0.2222222222222222,
              "#7201a8"
             ],
             [
              0.3333333333333333,
              "#9c179e"
             ],
             [
              0.4444444444444444,
              "#bd3786"
             ],
             [
              0.5555555555555556,
              "#d8576b"
             ],
             [
              0.6666666666666666,
              "#ed7953"
             ],
             [
              0.7777777777777778,
              "#fb9f3a"
             ],
             [
              0.8888888888888888,
              "#fdca26"
             ],
             [
              1,
              "#f0f921"
             ]
            ],
            "type": "surface"
           }
          ],
          "table": [
           {
            "cells": {
             "fill": {
              "color": "#EBF0F8"
             },
             "line": {
              "color": "white"
             }
            },
            "header": {
             "fill": {
              "color": "#C8D4E3"
             },
             "line": {
              "color": "white"
             }
            },
            "type": "table"
           }
          ]
         },
         "layout": {
          "annotationdefaults": {
           "arrowcolor": "#2a3f5f",
           "arrowhead": 0,
           "arrowwidth": 1
          },
          "autotypenumbers": "strict",
          "coloraxis": {
           "colorbar": {
            "outlinewidth": 0,
            "ticks": ""
           }
          },
          "colorscale": {
           "diverging": [
            [
             0,
             "#8e0152"
            ],
            [
             0.1,
             "#c51b7d"
            ],
            [
             0.2,
             "#de77ae"
            ],
            [
             0.3,
             "#f1b6da"
            ],
            [
             0.4,
             "#fde0ef"
            ],
            [
             0.5,
             "#f7f7f7"
            ],
            [
             0.6,
             "#e6f5d0"
            ],
            [
             0.7,
             "#b8e186"
            ],
            [
             0.8,
             "#7fbc41"
            ],
            [
             0.9,
             "#4d9221"
            ],
            [
             1,
             "#276419"
            ]
           ],
           "sequential": [
            [
             0,
             "#0d0887"
            ],
            [
             0.1111111111111111,
             "#46039f"
            ],
            [
             0.2222222222222222,
             "#7201a8"
            ],
            [
             0.3333333333333333,
             "#9c179e"
            ],
            [
             0.4444444444444444,
             "#bd3786"
            ],
            [
             0.5555555555555556,
             "#d8576b"
            ],
            [
             0.6666666666666666,
             "#ed7953"
            ],
            [
             0.7777777777777778,
             "#fb9f3a"
            ],
            [
             0.8888888888888888,
             "#fdca26"
            ],
            [
             1,
             "#f0f921"
            ]
           ],
           "sequentialminus": [
            [
             0,
             "#0d0887"
            ],
            [
             0.1111111111111111,
             "#46039f"
            ],
            [
             0.2222222222222222,
             "#7201a8"
            ],
            [
             0.3333333333333333,
             "#9c179e"
            ],
            [
             0.4444444444444444,
             "#bd3786"
            ],
            [
             0.5555555555555556,
             "#d8576b"
            ],
            [
             0.6666666666666666,
             "#ed7953"
            ],
            [
             0.7777777777777778,
             "#fb9f3a"
            ],
            [
             0.8888888888888888,
             "#fdca26"
            ],
            [
             1,
             "#f0f921"
            ]
           ]
          },
          "colorway": [
           "#636efa",
           "#EF553B",
           "#00cc96",
           "#ab63fa",
           "#FFA15A",
           "#19d3f3",
           "#FF6692",
           "#B6E880",
           "#FF97FF",
           "#FECB52"
          ],
          "font": {
           "color": "#2a3f5f"
          },
          "geo": {
           "bgcolor": "white",
           "lakecolor": "white",
           "landcolor": "#E5ECF6",
           "showlakes": true,
           "showland": true,
           "subunitcolor": "white"
          },
          "hoverlabel": {
           "align": "left"
          },
          "hovermode": "closest",
          "mapbox": {
           "style": "light"
          },
          "paper_bgcolor": "white",
          "plot_bgcolor": "#E5ECF6",
          "polar": {
           "angularaxis": {
            "gridcolor": "white",
            "linecolor": "white",
            "ticks": ""
           },
           "bgcolor": "#E5ECF6",
           "radialaxis": {
            "gridcolor": "white",
            "linecolor": "white",
            "ticks": ""
           }
          },
          "scene": {
           "xaxis": {
            "backgroundcolor": "#E5ECF6",
            "gridcolor": "white",
            "gridwidth": 2,
            "linecolor": "white",
            "showbackground": true,
            "ticks": "",
            "zerolinecolor": "white"
           },
           "yaxis": {
            "backgroundcolor": "#E5ECF6",
            "gridcolor": "white",
            "gridwidth": 2,
            "linecolor": "white",
            "showbackground": true,
            "ticks": "",
            "zerolinecolor": "white"
           },
           "zaxis": {
            "backgroundcolor": "#E5ECF6",
            "gridcolor": "white",
            "gridwidth": 2,
            "linecolor": "white",
            "showbackground": true,
            "ticks": "",
            "zerolinecolor": "white"
           }
          },
          "shapedefaults": {
           "line": {
            "color": "#2a3f5f"
           }
          },
          "ternary": {
           "aaxis": {
            "gridcolor": "white",
            "linecolor": "white",
            "ticks": ""
           },
           "baxis": {
            "gridcolor": "white",
            "linecolor": "white",
            "ticks": ""
           },
           "bgcolor": "#E5ECF6",
           "caxis": {
            "gridcolor": "white",
            "linecolor": "white",
            "ticks": ""
           }
          },
          "title": {
           "x": 0.05
          },
          "xaxis": {
           "automargin": true,
           "gridcolor": "white",
           "linecolor": "white",
           "ticks": "",
           "title": {
            "standoff": 15
           },
           "zerolinecolor": "white",
           "zerolinewidth": 2
          },
          "yaxis": {
           "automargin": true,
           "gridcolor": "white",
           "linecolor": "white",
           "ticks": "",
           "title": {
            "standoff": 15
           },
           "zerolinecolor": "white",
           "zerolinewidth": 2
          }
         }
        },
        "title": {
         "text": "Prophet Forecast for Average Temperatures in Toronto",
         "x": 0.5
        },
        "xaxis": {
         "title": {
          "text": "Months"
         }
        },
        "yaxis": {
         "title": {
          "text": "Average Temperature"
         }
        }
       }
      },
      "text/html": [
       "<div>                            <div id=\"85466c63-e651-45c0-a8ae-b3bab8c34683\" class=\"plotly-graph-div\" style=\"height:525px; width:100%;\"></div>            <script type=\"text/javascript\">                require([\"plotly\"], function(Plotly) {                    window.PLOTLYENV=window.PLOTLYENV || {};                                    if (document.getElementById(\"85466c63-e651-45c0-a8ae-b3bab8c34683\")) {                    Plotly.newPlot(                        \"85466c63-e651-45c0-a8ae-b3bab8c34683\",                        [{\"line\": {\"color\": \"crimson\"}, \"mode\": \"lines+markers\", \"name\": \"yhat\", \"type\": \"scatter\", \"x\": [\"2018-01-01T00:00:00\", \"2018-02-01T00:00:00\", \"2018-03-01T00:00:00\", \"2018-04-01T00:00:00\", \"2018-05-01T00:00:00\", \"2018-06-01T00:00:00\", \"2018-07-01T00:00:00\", \"2018-08-01T00:00:00\", \"2018-09-01T00:00:00\", \"2018-10-01T00:00:00\", \"2018-11-01T00:00:00\", \"2018-12-01T00:00:00\", \"2019-01-01T00:00:00\", \"2019-02-01T00:00:00\", \"2019-03-01T00:00:00\", \"2019-04-01T00:00:00\", \"2019-05-01T00:00:00\", \"2019-06-01T00:00:00\", \"2019-07-01T00:00:00\", \"2019-08-01T00:00:00\", \"2019-09-01T00:00:00\", \"2019-10-01T00:00:00\", \"2019-11-01T00:00:00\", \"2019-12-01T00:00:00\", \"2020-01-01T00:00:00\", \"2020-02-01T00:00:00\", \"2020-03-01T00:00:00\", \"2020-04-01T00:00:00\", \"2020-05-01T00:00:00\", \"2020-06-01T00:00:00\", \"2020-07-01T00:00:00\", \"2020-08-01T00:00:00\", \"2020-09-01T00:00:00\", \"2020-10-01T00:00:00\", \"2020-11-01T00:00:00\", \"2020-12-01T00:00:00\"], \"y\": [-6.491747619286064, -6.419267851714956, -1.5210187464587115, 5.60232696862678, 12.304278157240455, 17.492217776639617, 20.09865346573303, 19.18903473902318, 15.350179520607572, 9.055915320638858, 2.6531063545037226, -3.7062683544204216, -6.473915382507366, -6.4690662589058014, -1.4731526628477933, 5.5549299590769134, 12.247645787956206, 17.41666624942874, 20.123537353003066, 19.21489821231688, 15.416010748742988, 9.178297304904731, 2.7129202402345145, -3.7065972071835356, -6.45537819117286, -6.516819650468813, -1.5658396352341732, 5.742157922710561, 12.463886759290844, 17.69395294304801, 20.101033959527395, 19.188397489348684, 15.270505562162604, 8.85978772230342, 2.5780232879585387, -3.655268965037785]}, {\"line\": {\"color\": \"dodgerblue\"}, \"mode\": \"lines+markers\", \"name\": \"original\", \"type\": \"scatter\", \"x\": [\"2018-01-01T00:00:00\", \"2018-02-01T00:00:00\", \"2018-03-01T00:00:00\", \"2018-04-01T00:00:00\", \"2018-05-01T00:00:00\", \"2018-06-01T00:00:00\", \"2018-07-01T00:00:00\", \"2018-08-01T00:00:00\", \"2018-09-01T00:00:00\", \"2018-10-01T00:00:00\", \"2018-11-01T00:00:00\", \"2018-12-01T00:00:00\", \"2019-01-01T00:00:00\", \"2019-02-01T00:00:00\", \"2019-03-01T00:00:00\", \"2019-04-01T00:00:00\", \"2019-05-01T00:00:00\", \"2019-06-01T00:00:00\", \"2019-07-01T00:00:00\", \"2019-08-01T00:00:00\", \"2019-09-01T00:00:00\", \"2019-10-01T00:00:00\", \"2019-11-01T00:00:00\", \"2019-12-01T00:00:00\", \"2020-01-01T00:00:00\", \"2020-02-01T00:00:00\", \"2020-03-01T00:00:00\", \"2020-04-01T00:00:00\", \"2020-05-01T00:00:00\", \"2020-06-01T00:00:00\", \"2020-07-01T00:00:00\", \"2020-08-01T00:00:00\", \"2020-09-01T00:00:00\", \"2020-10-01T00:00:00\", \"2020-11-01T00:00:00\", \"2020-12-01T00:00:00\"], \"y\": [-5, -2, 0, 3, 17, 20, 24, 23, 19, 9, 2, 0, -6, -4, -1, 6, 12, 18, 24, 21, 18, 11, 1, -1, -1, -3, 3, 6, 12, 21, 25, 22, 17, 10, 7, 0]}, {\"line\": {\"color\": \"green\", \"dash\": \"dash\", \"width\": 2}, \"name\": \"yhat_lower\", \"type\": \"scatter\", \"x\": [\"2018-01-01T00:00:00\", \"2018-02-01T00:00:00\", \"2018-03-01T00:00:00\", \"2018-04-01T00:00:00\", \"2018-05-01T00:00:00\", \"2018-06-01T00:00:00\", \"2018-07-01T00:00:00\", \"2018-08-01T00:00:00\", \"2018-09-01T00:00:00\", \"2018-10-01T00:00:00\", \"2018-11-01T00:00:00\", \"2018-12-01T00:00:00\", \"2019-01-01T00:00:00\", \"2019-02-01T00:00:00\", \"2019-03-01T00:00:00\", \"2019-04-01T00:00:00\", \"2019-05-01T00:00:00\", \"2019-06-01T00:00:00\", \"2019-07-01T00:00:00\", \"2019-08-01T00:00:00\", \"2019-09-01T00:00:00\", \"2019-10-01T00:00:00\", \"2019-11-01T00:00:00\", \"2019-12-01T00:00:00\", \"2020-01-01T00:00:00\", \"2020-02-01T00:00:00\", \"2020-03-01T00:00:00\", \"2020-04-01T00:00:00\", \"2020-05-01T00:00:00\", \"2020-06-01T00:00:00\", \"2020-07-01T00:00:00\", \"2020-08-01T00:00:00\", \"2020-09-01T00:00:00\", \"2020-10-01T00:00:00\", \"2020-11-01T00:00:00\", \"2020-12-01T00:00:00\"], \"y\": [-9.401904860219721, -9.506472602466467, -4.629338681726529, 2.596946219356927, 9.266828414406547, 14.633300367568388, 16.790769533737286, 16.00009023592696, 12.483871663101558, 6.26873795279087, -0.12258755921883435, -7.134022844446483, -9.5260646696339, -9.513082451682944, -4.649081193214018, 2.4302177864185746, 9.210421610669286, 14.082927168880804, 16.691300865173844, 16.215176126865718, 12.603316773345654, 6.346413885757364, -0.4468744255930841, -6.891968024987604, -9.655537057021856, -9.631573576425962, -4.341544185922656, 2.916505818942388, 9.394854554172143, 14.959197916768789, 16.93613131651564, 16.145527657992005, 12.272188466601511, 5.879876492810589, -0.5288361903154877, -6.684963510976972]}, {\"line\": {\"color\": \"orange\", \"dash\": \"dot\", \"width\": 2}, \"name\": \"yhat_lower\", \"type\": \"scatter\", \"x\": [\"2018-01-01T00:00:00\", \"2018-02-01T00:00:00\", \"2018-03-01T00:00:00\", \"2018-04-01T00:00:00\", \"2018-05-01T00:00:00\", \"2018-06-01T00:00:00\", \"2018-07-01T00:00:00\", \"2018-08-01T00:00:00\", \"2018-09-01T00:00:00\", \"2018-10-01T00:00:00\", \"2018-11-01T00:00:00\", \"2018-12-01T00:00:00\", \"2019-01-01T00:00:00\", \"2019-02-01T00:00:00\", \"2019-03-01T00:00:00\", \"2019-04-01T00:00:00\", \"2019-05-01T00:00:00\", \"2019-06-01T00:00:00\", \"2019-07-01T00:00:00\", \"2019-08-01T00:00:00\", \"2019-09-01T00:00:00\", \"2019-10-01T00:00:00\", \"2019-11-01T00:00:00\", \"2019-12-01T00:00:00\", \"2020-01-01T00:00:00\", \"2020-02-01T00:00:00\", \"2020-03-01T00:00:00\", \"2020-04-01T00:00:00\", \"2020-05-01T00:00:00\", \"2020-06-01T00:00:00\", \"2020-07-01T00:00:00\", \"2020-08-01T00:00:00\", \"2020-09-01T00:00:00\", \"2020-10-01T00:00:00\", \"2020-11-01T00:00:00\", \"2020-12-01T00:00:00\"], \"y\": [-3.736992020996682, -3.35435316387685, 1.6520224105719192, 8.654580475848052, 15.378512609672029, 20.628970973679998, 23.314444245686463, 22.260756397759256, 18.485139018924254, 12.09299035643919, 5.810058260226697, -0.8187469809998504, -3.2850136172539557, -3.3757635832915818, 1.8276531246716168, 8.59076279037745, 15.122544398240816, 20.507501127298852, 23.057296324903742, 22.285464568357877, 18.54384767823435, 12.420078862363745, 5.704088085711607, -0.6045675072848024, -3.5004226038945263, -3.4401836045294587, 1.5483179029827607, 8.83617893495318, 15.689775144507198, 20.889594368597376, 23.116377397459996, 22.15393622218214, 18.260301365552056, 11.917870878754922, 5.567124202265511, -0.5324247121484369]}],                        {\"legend\": {\"title\": {\"text\": \"Legend\"}}, \"template\": {\"data\": {\"bar\": [{\"error_x\": {\"color\": \"#2a3f5f\"}, \"error_y\": {\"color\": \"#2a3f5f\"}, \"marker\": {\"line\": {\"color\": \"#E5ECF6\", \"width\": 0.5}}, \"type\": \"bar\"}], \"barpolar\": [{\"marker\": {\"line\": {\"color\": \"#E5ECF6\", \"width\": 0.5}}, \"type\": \"barpolar\"}], \"carpet\": [{\"aaxis\": {\"endlinecolor\": \"#2a3f5f\", \"gridcolor\": \"white\", \"linecolor\": \"white\", \"minorgridcolor\": \"white\", \"startlinecolor\": \"#2a3f5f\"}, \"baxis\": {\"endlinecolor\": \"#2a3f5f\", \"gridcolor\": \"white\", \"linecolor\": \"white\", \"minorgridcolor\": \"white\", \"startlinecolor\": \"#2a3f5f\"}, \"type\": \"carpet\"}], \"choropleth\": [{\"colorbar\": {\"outlinewidth\": 0, \"ticks\": \"\"}, \"type\": \"choropleth\"}], \"contour\": [{\"colorbar\": {\"outlinewidth\": 0, \"ticks\": \"\"}, \"colorscale\": [[0.0, \"#0d0887\"], [0.1111111111111111, \"#46039f\"], [0.2222222222222222, \"#7201a8\"], [0.3333333333333333, \"#9c179e\"], [0.4444444444444444, \"#bd3786\"], [0.5555555555555556, \"#d8576b\"], [0.6666666666666666, \"#ed7953\"], [0.7777777777777778, \"#fb9f3a\"], [0.8888888888888888, \"#fdca26\"], [1.0, \"#f0f921\"]], \"type\": \"contour\"}], \"contourcarpet\": [{\"colorbar\": {\"outlinewidth\": 0, \"ticks\": \"\"}, \"type\": \"contourcarpet\"}], \"heatmap\": [{\"colorbar\": {\"outlinewidth\": 0, \"ticks\": \"\"}, \"colorscale\": [[0.0, \"#0d0887\"], [0.1111111111111111, \"#46039f\"], [0.2222222222222222, \"#7201a8\"], [0.3333333333333333, \"#9c179e\"], [0.4444444444444444, \"#bd3786\"], [0.5555555555555556, \"#d8576b\"], [0.6666666666666666, \"#ed7953\"], [0.7777777777777778, \"#fb9f3a\"], [0.8888888888888888, \"#fdca26\"], [1.0, \"#f0f921\"]], \"type\": \"heatmap\"}], \"heatmapgl\": [{\"colorbar\": {\"outlinewidth\": 0, \"ticks\": \"\"}, \"colorscale\": [[0.0, \"#0d0887\"], [0.1111111111111111, \"#46039f\"], [0.2222222222222222, \"#7201a8\"], [0.3333333333333333, \"#9c179e\"], [0.4444444444444444, \"#bd3786\"], [0.5555555555555556, \"#d8576b\"], [0.6666666666666666, \"#ed7953\"], [0.7777777777777778, \"#fb9f3a\"], [0.8888888888888888, \"#fdca26\"], [1.0, \"#f0f921\"]], \"type\": \"heatmapgl\"}], \"histogram\": [{\"marker\": {\"colorbar\": {\"outlinewidth\": 0, \"ticks\": \"\"}}, \"type\": \"histogram\"}], \"histogram2d\": [{\"colorbar\": {\"outlinewidth\": 0, \"ticks\": \"\"}, \"colorscale\": [[0.0, \"#0d0887\"], [0.1111111111111111, \"#46039f\"], [0.2222222222222222, \"#7201a8\"], [0.3333333333333333, \"#9c179e\"], [0.4444444444444444, \"#bd3786\"], [0.5555555555555556, \"#d8576b\"], [0.6666666666666666, \"#ed7953\"], [0.7777777777777778, \"#fb9f3a\"], [0.8888888888888888, \"#fdca26\"], [1.0, \"#f0f921\"]], \"type\": \"histogram2d\"}], \"histogram2dcontour\": [{\"colorbar\": {\"outlinewidth\": 0, \"ticks\": \"\"}, \"colorscale\": [[0.0, \"#0d0887\"], [0.1111111111111111, \"#46039f\"], [0.2222222222222222, \"#7201a8\"], [0.3333333333333333, \"#9c179e\"], [0.4444444444444444, \"#bd3786\"], [0.5555555555555556, \"#d8576b\"], [0.6666666666666666, \"#ed7953\"], [0.7777777777777778, \"#fb9f3a\"], [0.8888888888888888, \"#fdca26\"], [1.0, \"#f0f921\"]], \"type\": \"histogram2dcontour\"}], \"mesh3d\": [{\"colorbar\": {\"outlinewidth\": 0, \"ticks\": \"\"}, \"type\": \"mesh3d\"}], \"parcoords\": [{\"line\": {\"colorbar\": {\"outlinewidth\": 0, \"ticks\": \"\"}}, \"type\": \"parcoords\"}], \"pie\": [{\"automargin\": true, \"type\": \"pie\"}], \"scatter\": [{\"marker\": {\"colorbar\": {\"outlinewidth\": 0, \"ticks\": \"\"}}, \"type\": \"scatter\"}], \"scatter3d\": [{\"line\": {\"colorbar\": {\"outlinewidth\": 0, \"ticks\": \"\"}}, \"marker\": {\"colorbar\": {\"outlinewidth\": 0, \"ticks\": \"\"}}, \"type\": \"scatter3d\"}], \"scattercarpet\": [{\"marker\": {\"colorbar\": {\"outlinewidth\": 0, \"ticks\": \"\"}}, \"type\": \"scattercarpet\"}], \"scattergeo\": [{\"marker\": {\"colorbar\": {\"outlinewidth\": 0, \"ticks\": \"\"}}, \"type\": \"scattergeo\"}], \"scattergl\": [{\"marker\": {\"colorbar\": {\"outlinewidth\": 0, \"ticks\": \"\"}}, \"type\": \"scattergl\"}], \"scattermapbox\": [{\"marker\": {\"colorbar\": {\"outlinewidth\": 0, \"ticks\": \"\"}}, \"type\": \"scattermapbox\"}], \"scatterpolar\": [{\"marker\": {\"colorbar\": {\"outlinewidth\": 0, \"ticks\": \"\"}}, \"type\": \"scatterpolar\"}], \"scatterpolargl\": [{\"marker\": {\"colorbar\": {\"outlinewidth\": 0, \"ticks\": \"\"}}, \"type\": \"scatterpolargl\"}], \"scatterternary\": [{\"marker\": {\"colorbar\": {\"outlinewidth\": 0, \"ticks\": \"\"}}, \"type\": \"scatterternary\"}], \"surface\": [{\"colorbar\": {\"outlinewidth\": 0, \"ticks\": \"\"}, \"colorscale\": [[0.0, \"#0d0887\"], [0.1111111111111111, \"#46039f\"], [0.2222222222222222, \"#7201a8\"], [0.3333333333333333, \"#9c179e\"], [0.4444444444444444, \"#bd3786\"], [0.5555555555555556, \"#d8576b\"], [0.6666666666666666, \"#ed7953\"], [0.7777777777777778, \"#fb9f3a\"], [0.8888888888888888, \"#fdca26\"], [1.0, \"#f0f921\"]], \"type\": \"surface\"}], \"table\": [{\"cells\": {\"fill\": {\"color\": \"#EBF0F8\"}, \"line\": {\"color\": \"white\"}}, \"header\": {\"fill\": {\"color\": \"#C8D4E3\"}, \"line\": {\"color\": \"white\"}}, \"type\": \"table\"}]}, \"layout\": {\"annotationdefaults\": {\"arrowcolor\": \"#2a3f5f\", \"arrowhead\": 0, \"arrowwidth\": 1}, \"autotypenumbers\": \"strict\", \"coloraxis\": {\"colorbar\": {\"outlinewidth\": 0, \"ticks\": \"\"}}, \"colorscale\": {\"diverging\": [[0, \"#8e0152\"], [0.1, \"#c51b7d\"], [0.2, \"#de77ae\"], [0.3, \"#f1b6da\"], [0.4, \"#fde0ef\"], [0.5, \"#f7f7f7\"], [0.6, \"#e6f5d0\"], [0.7, \"#b8e186\"], [0.8, \"#7fbc41\"], [0.9, \"#4d9221\"], [1, \"#276419\"]], \"sequential\": [[0.0, \"#0d0887\"], [0.1111111111111111, \"#46039f\"], [0.2222222222222222, \"#7201a8\"], [0.3333333333333333, \"#9c179e\"], [0.4444444444444444, \"#bd3786\"], [0.5555555555555556, \"#d8576b\"], [0.6666666666666666, \"#ed7953\"], [0.7777777777777778, \"#fb9f3a\"], [0.8888888888888888, \"#fdca26\"], [1.0, \"#f0f921\"]], \"sequentialminus\": [[0.0, \"#0d0887\"], [0.1111111111111111, \"#46039f\"], [0.2222222222222222, \"#7201a8\"], [0.3333333333333333, \"#9c179e\"], [0.4444444444444444, \"#bd3786\"], [0.5555555555555556, \"#d8576b\"], [0.6666666666666666, \"#ed7953\"], [0.7777777777777778, \"#fb9f3a\"], [0.8888888888888888, \"#fdca26\"], [1.0, \"#f0f921\"]]}, \"colorway\": [\"#636efa\", \"#EF553B\", \"#00cc96\", \"#ab63fa\", \"#FFA15A\", \"#19d3f3\", \"#FF6692\", \"#B6E880\", \"#FF97FF\", \"#FECB52\"], \"font\": {\"color\": \"#2a3f5f\"}, \"geo\": {\"bgcolor\": \"white\", \"lakecolor\": \"white\", \"landcolor\": \"#E5ECF6\", \"showlakes\": true, \"showland\": true, \"subunitcolor\": \"white\"}, \"hoverlabel\": {\"align\": \"left\"}, \"hovermode\": \"closest\", \"mapbox\": {\"style\": \"light\"}, \"paper_bgcolor\": \"white\", \"plot_bgcolor\": \"#E5ECF6\", \"polar\": {\"angularaxis\": {\"gridcolor\": \"white\", \"linecolor\": \"white\", \"ticks\": \"\"}, \"bgcolor\": \"#E5ECF6\", \"radialaxis\": {\"gridcolor\": \"white\", \"linecolor\": \"white\", \"ticks\": \"\"}}, \"scene\": {\"xaxis\": {\"backgroundcolor\": \"#E5ECF6\", \"gridcolor\": \"white\", \"gridwidth\": 2, \"linecolor\": \"white\", \"showbackground\": true, \"ticks\": \"\", \"zerolinecolor\": \"white\"}, \"yaxis\": {\"backgroundcolor\": \"#E5ECF6\", \"gridcolor\": \"white\", \"gridwidth\": 2, \"linecolor\": \"white\", \"showbackground\": true, \"ticks\": \"\", \"zerolinecolor\": \"white\"}, \"zaxis\": {\"backgroundcolor\": \"#E5ECF6\", \"gridcolor\": \"white\", \"gridwidth\": 2, \"linecolor\": \"white\", \"showbackground\": true, \"ticks\": \"\", \"zerolinecolor\": \"white\"}}, \"shapedefaults\": {\"line\": {\"color\": \"#2a3f5f\"}}, \"ternary\": {\"aaxis\": {\"gridcolor\": \"white\", \"linecolor\": \"white\", \"ticks\": \"\"}, \"baxis\": {\"gridcolor\": \"white\", \"linecolor\": \"white\", \"ticks\": \"\"}, \"bgcolor\": \"#E5ECF6\", \"caxis\": {\"gridcolor\": \"white\", \"linecolor\": \"white\", \"ticks\": \"\"}}, \"title\": {\"x\": 0.05}, \"xaxis\": {\"automargin\": true, \"gridcolor\": \"white\", \"linecolor\": \"white\", \"ticks\": \"\", \"title\": {\"standoff\": 15}, \"zerolinecolor\": \"white\", \"zerolinewidth\": 2}, \"yaxis\": {\"automargin\": true, \"gridcolor\": \"white\", \"linecolor\": \"white\", \"ticks\": \"\", \"title\": {\"standoff\": 15}, \"zerolinecolor\": \"white\", \"zerolinewidth\": 2}}}, \"title\": {\"text\": \"Prophet Forecast for Average Temperatures in Toronto\", \"x\": 0.5}, \"xaxis\": {\"title\": {\"text\": \"Months\"}}, \"yaxis\": {\"title\": {\"text\": \"Average Temperature\"}}},                        {\"responsive\": true}                    ).then(function(){\n",
       "                            \n",
       "var gd = document.getElementById('85466c63-e651-45c0-a8ae-b3bab8c34683');\n",
       "var x = new MutationObserver(function (mutations, observer) {{\n",
       "        var display = window.getComputedStyle(gd).display;\n",
       "        if (!display || display === 'none') {{\n",
       "            console.log([gd, 'removed!']);\n",
       "            Plotly.purge(gd);\n",
       "            observer.disconnect();\n",
       "        }}\n",
       "}});\n",
       "\n",
       "// Listen for the removal of the full notebook cells\n",
       "var notebookContainer = gd.closest('#notebook-container');\n",
       "if (notebookContainer) {{\n",
       "    x.observe(notebookContainer, {childList: true});\n",
       "}}\n",
       "\n",
       "// Listen for the clearing of the current output cell\n",
       "var outputEl = gd.closest('.output');\n",
       "if (outputEl) {{\n",
       "    x.observe(outputEl, {childList: true});\n",
       "}}\n",
       "\n",
       "                        })                };                });            </script>        </div>"
      ]
     },
     "metadata": {},
     "output_type": "display_data"
    }
   ],
   "source": [
    "project_yhat(torpreds,city='Toronto',mode='compound')"
   ]
  },
  {
   "cell_type": "code",
   "execution_count": 145,
   "id": "challenging-abuse",
   "metadata": {},
   "outputs": [
    {
     "data": {
      "application/vnd.plotly.v1+json": {
       "config": {
        "plotlyServerURL": "https://plot.ly"
       },
       "data": [
        {
         "line": {
          "color": "crimson"
         },
         "mode": "lines+markers",
         "name": "yhat",
         "type": "scatter",
         "x": [
          "2020-01-01T00:00:00",
          "2020-02-01T00:00:00",
          "2020-03-01T00:00:00",
          "2020-04-01T00:00:00",
          "2020-05-01T00:00:00",
          "2020-06-01T00:00:00",
          "2020-07-01T00:00:00",
          "2020-08-01T00:00:00",
          "2020-09-01T00:00:00",
          "2020-10-01T00:00:00",
          "2020-11-01T00:00:00",
          "2020-12-01T00:00:00"
         ],
         "y": [
          -6.45537819117286,
          -6.516819650468813,
          -1.5658396352341732,
          5.742157922710561,
          12.463886759290844,
          17.69395294304801,
          20.101033959527395,
          19.188397489348684,
          15.270505562162604,
          8.85978772230342,
          2.5780232879585387,
          -3.655268965037785
         ]
        },
        {
         "line": {
          "color": "dodgerblue"
         },
         "mode": "lines+markers",
         "name": "original",
         "type": "scatter",
         "x": [
          "2020-01-01T00:00:00",
          "2020-02-01T00:00:00",
          "2020-03-01T00:00:00",
          "2020-04-01T00:00:00",
          "2020-05-01T00:00:00",
          "2020-06-01T00:00:00",
          "2020-07-01T00:00:00",
          "2020-08-01T00:00:00",
          "2020-09-01T00:00:00",
          "2020-10-01T00:00:00",
          "2020-11-01T00:00:00",
          "2020-12-01T00:00:00"
         ],
         "y": [
          -1,
          -3,
          3,
          6,
          12,
          21,
          25,
          22,
          17,
          10,
          7,
          0
         ]
        },
        {
         "line": {
          "color": "green",
          "dash": "dash",
          "width": 2
         },
         "name": "yhat_lower",
         "type": "scatter",
         "x": [
          "2020-01-01T00:00:00",
          "2020-02-01T00:00:00",
          "2020-03-01T00:00:00",
          "2020-04-01T00:00:00",
          "2020-05-01T00:00:00",
          "2020-06-01T00:00:00",
          "2020-07-01T00:00:00",
          "2020-08-01T00:00:00",
          "2020-09-01T00:00:00",
          "2020-10-01T00:00:00",
          "2020-11-01T00:00:00",
          "2020-12-01T00:00:00"
         ],
         "y": [
          -9.655537057021856,
          -9.631573576425962,
          -4.341544185922656,
          2.916505818942388,
          9.394854554172143,
          14.959197916768789,
          16.93613131651564,
          16.145527657992005,
          12.272188466601511,
          5.879876492810589,
          -0.5288361903154877,
          -6.684963510976972
         ]
        },
        {
         "line": {
          "color": "orange",
          "dash": "dot",
          "width": 2
         },
         "name": "yhat_lower",
         "type": "scatter",
         "x": [
          "2020-01-01T00:00:00",
          "2020-02-01T00:00:00",
          "2020-03-01T00:00:00",
          "2020-04-01T00:00:00",
          "2020-05-01T00:00:00",
          "2020-06-01T00:00:00",
          "2020-07-01T00:00:00",
          "2020-08-01T00:00:00",
          "2020-09-01T00:00:00",
          "2020-10-01T00:00:00",
          "2020-11-01T00:00:00",
          "2020-12-01T00:00:00"
         ],
         "y": [
          -3.5004226038945263,
          -3.4401836045294587,
          1.5483179029827607,
          8.83617893495318,
          15.689775144507198,
          20.889594368597376,
          23.116377397459996,
          22.15393622218214,
          18.260301365552056,
          11.917870878754922,
          5.567124202265511,
          -0.5324247121484369
         ]
        }
       ],
       "layout": {
        "legend": {
         "title": {
          "text": "Legend"
         }
        },
        "template": {
         "data": {
          "bar": [
           {
            "error_x": {
             "color": "#2a3f5f"
            },
            "error_y": {
             "color": "#2a3f5f"
            },
            "marker": {
             "line": {
              "color": "#E5ECF6",
              "width": 0.5
             }
            },
            "type": "bar"
           }
          ],
          "barpolar": [
           {
            "marker": {
             "line": {
              "color": "#E5ECF6",
              "width": 0.5
             }
            },
            "type": "barpolar"
           }
          ],
          "carpet": [
           {
            "aaxis": {
             "endlinecolor": "#2a3f5f",
             "gridcolor": "white",
             "linecolor": "white",
             "minorgridcolor": "white",
             "startlinecolor": "#2a3f5f"
            },
            "baxis": {
             "endlinecolor": "#2a3f5f",
             "gridcolor": "white",
             "linecolor": "white",
             "minorgridcolor": "white",
             "startlinecolor": "#2a3f5f"
            },
            "type": "carpet"
           }
          ],
          "choropleth": [
           {
            "colorbar": {
             "outlinewidth": 0,
             "ticks": ""
            },
            "type": "choropleth"
           }
          ],
          "contour": [
           {
            "colorbar": {
             "outlinewidth": 0,
             "ticks": ""
            },
            "colorscale": [
             [
              0,
              "#0d0887"
             ],
             [
              0.1111111111111111,
              "#46039f"
             ],
             [
              0.2222222222222222,
              "#7201a8"
             ],
             [
              0.3333333333333333,
              "#9c179e"
             ],
             [
              0.4444444444444444,
              "#bd3786"
             ],
             [
              0.5555555555555556,
              "#d8576b"
             ],
             [
              0.6666666666666666,
              "#ed7953"
             ],
             [
              0.7777777777777778,
              "#fb9f3a"
             ],
             [
              0.8888888888888888,
              "#fdca26"
             ],
             [
              1,
              "#f0f921"
             ]
            ],
            "type": "contour"
           }
          ],
          "contourcarpet": [
           {
            "colorbar": {
             "outlinewidth": 0,
             "ticks": ""
            },
            "type": "contourcarpet"
           }
          ],
          "heatmap": [
           {
            "colorbar": {
             "outlinewidth": 0,
             "ticks": ""
            },
            "colorscale": [
             [
              0,
              "#0d0887"
             ],
             [
              0.1111111111111111,
              "#46039f"
             ],
             [
              0.2222222222222222,
              "#7201a8"
             ],
             [
              0.3333333333333333,
              "#9c179e"
             ],
             [
              0.4444444444444444,
              "#bd3786"
             ],
             [
              0.5555555555555556,
              "#d8576b"
             ],
             [
              0.6666666666666666,
              "#ed7953"
             ],
             [
              0.7777777777777778,
              "#fb9f3a"
             ],
             [
              0.8888888888888888,
              "#fdca26"
             ],
             [
              1,
              "#f0f921"
             ]
            ],
            "type": "heatmap"
           }
          ],
          "heatmapgl": [
           {
            "colorbar": {
             "outlinewidth": 0,
             "ticks": ""
            },
            "colorscale": [
             [
              0,
              "#0d0887"
             ],
             [
              0.1111111111111111,
              "#46039f"
             ],
             [
              0.2222222222222222,
              "#7201a8"
             ],
             [
              0.3333333333333333,
              "#9c179e"
             ],
             [
              0.4444444444444444,
              "#bd3786"
             ],
             [
              0.5555555555555556,
              "#d8576b"
             ],
             [
              0.6666666666666666,
              "#ed7953"
             ],
             [
              0.7777777777777778,
              "#fb9f3a"
             ],
             [
              0.8888888888888888,
              "#fdca26"
             ],
             [
              1,
              "#f0f921"
             ]
            ],
            "type": "heatmapgl"
           }
          ],
          "histogram": [
           {
            "marker": {
             "colorbar": {
              "outlinewidth": 0,
              "ticks": ""
             }
            },
            "type": "histogram"
           }
          ],
          "histogram2d": [
           {
            "colorbar": {
             "outlinewidth": 0,
             "ticks": ""
            },
            "colorscale": [
             [
              0,
              "#0d0887"
             ],
             [
              0.1111111111111111,
              "#46039f"
             ],
             [
              0.2222222222222222,
              "#7201a8"
             ],
             [
              0.3333333333333333,
              "#9c179e"
             ],
             [
              0.4444444444444444,
              "#bd3786"
             ],
             [
              0.5555555555555556,
              "#d8576b"
             ],
             [
              0.6666666666666666,
              "#ed7953"
             ],
             [
              0.7777777777777778,
              "#fb9f3a"
             ],
             [
              0.8888888888888888,
              "#fdca26"
             ],
             [
              1,
              "#f0f921"
             ]
            ],
            "type": "histogram2d"
           }
          ],
          "histogram2dcontour": [
           {
            "colorbar": {
             "outlinewidth": 0,
             "ticks": ""
            },
            "colorscale": [
             [
              0,
              "#0d0887"
             ],
             [
              0.1111111111111111,
              "#46039f"
             ],
             [
              0.2222222222222222,
              "#7201a8"
             ],
             [
              0.3333333333333333,
              "#9c179e"
             ],
             [
              0.4444444444444444,
              "#bd3786"
             ],
             [
              0.5555555555555556,
              "#d8576b"
             ],
             [
              0.6666666666666666,
              "#ed7953"
             ],
             [
              0.7777777777777778,
              "#fb9f3a"
             ],
             [
              0.8888888888888888,
              "#fdca26"
             ],
             [
              1,
              "#f0f921"
             ]
            ],
            "type": "histogram2dcontour"
           }
          ],
          "mesh3d": [
           {
            "colorbar": {
             "outlinewidth": 0,
             "ticks": ""
            },
            "type": "mesh3d"
           }
          ],
          "parcoords": [
           {
            "line": {
             "colorbar": {
              "outlinewidth": 0,
              "ticks": ""
             }
            },
            "type": "parcoords"
           }
          ],
          "pie": [
           {
            "automargin": true,
            "type": "pie"
           }
          ],
          "scatter": [
           {
            "marker": {
             "colorbar": {
              "outlinewidth": 0,
              "ticks": ""
             }
            },
            "type": "scatter"
           }
          ],
          "scatter3d": [
           {
            "line": {
             "colorbar": {
              "outlinewidth": 0,
              "ticks": ""
             }
            },
            "marker": {
             "colorbar": {
              "outlinewidth": 0,
              "ticks": ""
             }
            },
            "type": "scatter3d"
           }
          ],
          "scattercarpet": [
           {
            "marker": {
             "colorbar": {
              "outlinewidth": 0,
              "ticks": ""
             }
            },
            "type": "scattercarpet"
           }
          ],
          "scattergeo": [
           {
            "marker": {
             "colorbar": {
              "outlinewidth": 0,
              "ticks": ""
             }
            },
            "type": "scattergeo"
           }
          ],
          "scattergl": [
           {
            "marker": {
             "colorbar": {
              "outlinewidth": 0,
              "ticks": ""
             }
            },
            "type": "scattergl"
           }
          ],
          "scattermapbox": [
           {
            "marker": {
             "colorbar": {
              "outlinewidth": 0,
              "ticks": ""
             }
            },
            "type": "scattermapbox"
           }
          ],
          "scatterpolar": [
           {
            "marker": {
             "colorbar": {
              "outlinewidth": 0,
              "ticks": ""
             }
            },
            "type": "scatterpolar"
           }
          ],
          "scatterpolargl": [
           {
            "marker": {
             "colorbar": {
              "outlinewidth": 0,
              "ticks": ""
             }
            },
            "type": "scatterpolargl"
           }
          ],
          "scatterternary": [
           {
            "marker": {
             "colorbar": {
              "outlinewidth": 0,
              "ticks": ""
             }
            },
            "type": "scatterternary"
           }
          ],
          "surface": [
           {
            "colorbar": {
             "outlinewidth": 0,
             "ticks": ""
            },
            "colorscale": [
             [
              0,
              "#0d0887"
             ],
             [
              0.1111111111111111,
              "#46039f"
             ],
             [
              0.2222222222222222,
              "#7201a8"
             ],
             [
              0.3333333333333333,
              "#9c179e"
             ],
             [
              0.4444444444444444,
              "#bd3786"
             ],
             [
              0.5555555555555556,
              "#d8576b"
             ],
             [
              0.6666666666666666,
              "#ed7953"
             ],
             [
              0.7777777777777778,
              "#fb9f3a"
             ],
             [
              0.8888888888888888,
              "#fdca26"
             ],
             [
              1,
              "#f0f921"
             ]
            ],
            "type": "surface"
           }
          ],
          "table": [
           {
            "cells": {
             "fill": {
              "color": "#EBF0F8"
             },
             "line": {
              "color": "white"
             }
            },
            "header": {
             "fill": {
              "color": "#C8D4E3"
             },
             "line": {
              "color": "white"
             }
            },
            "type": "table"
           }
          ]
         },
         "layout": {
          "annotationdefaults": {
           "arrowcolor": "#2a3f5f",
           "arrowhead": 0,
           "arrowwidth": 1
          },
          "autotypenumbers": "strict",
          "coloraxis": {
           "colorbar": {
            "outlinewidth": 0,
            "ticks": ""
           }
          },
          "colorscale": {
           "diverging": [
            [
             0,
             "#8e0152"
            ],
            [
             0.1,
             "#c51b7d"
            ],
            [
             0.2,
             "#de77ae"
            ],
            [
             0.3,
             "#f1b6da"
            ],
            [
             0.4,
             "#fde0ef"
            ],
            [
             0.5,
             "#f7f7f7"
            ],
            [
             0.6,
             "#e6f5d0"
            ],
            [
             0.7,
             "#b8e186"
            ],
            [
             0.8,
             "#7fbc41"
            ],
            [
             0.9,
             "#4d9221"
            ],
            [
             1,
             "#276419"
            ]
           ],
           "sequential": [
            [
             0,
             "#0d0887"
            ],
            [
             0.1111111111111111,
             "#46039f"
            ],
            [
             0.2222222222222222,
             "#7201a8"
            ],
            [
             0.3333333333333333,
             "#9c179e"
            ],
            [
             0.4444444444444444,
             "#bd3786"
            ],
            [
             0.5555555555555556,
             "#d8576b"
            ],
            [
             0.6666666666666666,
             "#ed7953"
            ],
            [
             0.7777777777777778,
             "#fb9f3a"
            ],
            [
             0.8888888888888888,
             "#fdca26"
            ],
            [
             1,
             "#f0f921"
            ]
           ],
           "sequentialminus": [
            [
             0,
             "#0d0887"
            ],
            [
             0.1111111111111111,
             "#46039f"
            ],
            [
             0.2222222222222222,
             "#7201a8"
            ],
            [
             0.3333333333333333,
             "#9c179e"
            ],
            [
             0.4444444444444444,
             "#bd3786"
            ],
            [
             0.5555555555555556,
             "#d8576b"
            ],
            [
             0.6666666666666666,
             "#ed7953"
            ],
            [
             0.7777777777777778,
             "#fb9f3a"
            ],
            [
             0.8888888888888888,
             "#fdca26"
            ],
            [
             1,
             "#f0f921"
            ]
           ]
          },
          "colorway": [
           "#636efa",
           "#EF553B",
           "#00cc96",
           "#ab63fa",
           "#FFA15A",
           "#19d3f3",
           "#FF6692",
           "#B6E880",
           "#FF97FF",
           "#FECB52"
          ],
          "font": {
           "color": "#2a3f5f"
          },
          "geo": {
           "bgcolor": "white",
           "lakecolor": "white",
           "landcolor": "#E5ECF6",
           "showlakes": true,
           "showland": true,
           "subunitcolor": "white"
          },
          "hoverlabel": {
           "align": "left"
          },
          "hovermode": "closest",
          "mapbox": {
           "style": "light"
          },
          "paper_bgcolor": "white",
          "plot_bgcolor": "#E5ECF6",
          "polar": {
           "angularaxis": {
            "gridcolor": "white",
            "linecolor": "white",
            "ticks": ""
           },
           "bgcolor": "#E5ECF6",
           "radialaxis": {
            "gridcolor": "white",
            "linecolor": "white",
            "ticks": ""
           }
          },
          "scene": {
           "xaxis": {
            "backgroundcolor": "#E5ECF6",
            "gridcolor": "white",
            "gridwidth": 2,
            "linecolor": "white",
            "showbackground": true,
            "ticks": "",
            "zerolinecolor": "white"
           },
           "yaxis": {
            "backgroundcolor": "#E5ECF6",
            "gridcolor": "white",
            "gridwidth": 2,
            "linecolor": "white",
            "showbackground": true,
            "ticks": "",
            "zerolinecolor": "white"
           },
           "zaxis": {
            "backgroundcolor": "#E5ECF6",
            "gridcolor": "white",
            "gridwidth": 2,
            "linecolor": "white",
            "showbackground": true,
            "ticks": "",
            "zerolinecolor": "white"
           }
          },
          "shapedefaults": {
           "line": {
            "color": "#2a3f5f"
           }
          },
          "ternary": {
           "aaxis": {
            "gridcolor": "white",
            "linecolor": "white",
            "ticks": ""
           },
           "baxis": {
            "gridcolor": "white",
            "linecolor": "white",
            "ticks": ""
           },
           "bgcolor": "#E5ECF6",
           "caxis": {
            "gridcolor": "white",
            "linecolor": "white",
            "ticks": ""
           }
          },
          "title": {
           "x": 0.05
          },
          "xaxis": {
           "automargin": true,
           "gridcolor": "white",
           "linecolor": "white",
           "ticks": "",
           "title": {
            "standoff": 15
           },
           "zerolinecolor": "white",
           "zerolinewidth": 2
          },
          "yaxis": {
           "automargin": true,
           "gridcolor": "white",
           "linecolor": "white",
           "ticks": "",
           "title": {
            "standoff": 15
           },
           "zerolinecolor": "white",
           "zerolinewidth": 2
          }
         }
        },
        "title": {
         "text": "Prophet Forecast for Average Temperatures in Toronto, 2020",
         "x": 0.5
        },
        "xaxis": {
         "title": {
          "text": "Months"
         }
        },
        "yaxis": {
         "title": {
          "text": "Average Temperature"
         }
        }
       }
      },
      "text/html": [
       "<div>                            <div id=\"4614eb25-9933-4bd2-866d-7c2573b4a9bf\" class=\"plotly-graph-div\" style=\"height:525px; width:100%;\"></div>            <script type=\"text/javascript\">                require([\"plotly\"], function(Plotly) {                    window.PLOTLYENV=window.PLOTLYENV || {};                                    if (document.getElementById(\"4614eb25-9933-4bd2-866d-7c2573b4a9bf\")) {                    Plotly.newPlot(                        \"4614eb25-9933-4bd2-866d-7c2573b4a9bf\",                        [{\"line\": {\"color\": \"crimson\"}, \"mode\": \"lines+markers\", \"name\": \"yhat\", \"type\": \"scatter\", \"x\": [\"2020-01-01T00:00:00\", \"2020-02-01T00:00:00\", \"2020-03-01T00:00:00\", \"2020-04-01T00:00:00\", \"2020-05-01T00:00:00\", \"2020-06-01T00:00:00\", \"2020-07-01T00:00:00\", \"2020-08-01T00:00:00\", \"2020-09-01T00:00:00\", \"2020-10-01T00:00:00\", \"2020-11-01T00:00:00\", \"2020-12-01T00:00:00\"], \"y\": [-6.45537819117286, -6.516819650468813, -1.5658396352341732, 5.742157922710561, 12.463886759290844, 17.69395294304801, 20.101033959527395, 19.188397489348684, 15.270505562162604, 8.85978772230342, 2.5780232879585387, -3.655268965037785]}, {\"line\": {\"color\": \"dodgerblue\"}, \"mode\": \"lines+markers\", \"name\": \"original\", \"type\": \"scatter\", \"x\": [\"2020-01-01T00:00:00\", \"2020-02-01T00:00:00\", \"2020-03-01T00:00:00\", \"2020-04-01T00:00:00\", \"2020-05-01T00:00:00\", \"2020-06-01T00:00:00\", \"2020-07-01T00:00:00\", \"2020-08-01T00:00:00\", \"2020-09-01T00:00:00\", \"2020-10-01T00:00:00\", \"2020-11-01T00:00:00\", \"2020-12-01T00:00:00\"], \"y\": [-1, -3, 3, 6, 12, 21, 25, 22, 17, 10, 7, 0]}, {\"line\": {\"color\": \"green\", \"dash\": \"dash\", \"width\": 2}, \"name\": \"yhat_lower\", \"type\": \"scatter\", \"x\": [\"2020-01-01T00:00:00\", \"2020-02-01T00:00:00\", \"2020-03-01T00:00:00\", \"2020-04-01T00:00:00\", \"2020-05-01T00:00:00\", \"2020-06-01T00:00:00\", \"2020-07-01T00:00:00\", \"2020-08-01T00:00:00\", \"2020-09-01T00:00:00\", \"2020-10-01T00:00:00\", \"2020-11-01T00:00:00\", \"2020-12-01T00:00:00\"], \"y\": [-9.655537057021856, -9.631573576425962, -4.341544185922656, 2.916505818942388, 9.394854554172143, 14.959197916768789, 16.93613131651564, 16.145527657992005, 12.272188466601511, 5.879876492810589, -0.5288361903154877, -6.684963510976972]}, {\"line\": {\"color\": \"orange\", \"dash\": \"dot\", \"width\": 2}, \"name\": \"yhat_lower\", \"type\": \"scatter\", \"x\": [\"2020-01-01T00:00:00\", \"2020-02-01T00:00:00\", \"2020-03-01T00:00:00\", \"2020-04-01T00:00:00\", \"2020-05-01T00:00:00\", \"2020-06-01T00:00:00\", \"2020-07-01T00:00:00\", \"2020-08-01T00:00:00\", \"2020-09-01T00:00:00\", \"2020-10-01T00:00:00\", \"2020-11-01T00:00:00\", \"2020-12-01T00:00:00\"], \"y\": [-3.5004226038945263, -3.4401836045294587, 1.5483179029827607, 8.83617893495318, 15.689775144507198, 20.889594368597376, 23.116377397459996, 22.15393622218214, 18.260301365552056, 11.917870878754922, 5.567124202265511, -0.5324247121484369]}],                        {\"legend\": {\"title\": {\"text\": \"Legend\"}}, \"template\": {\"data\": {\"bar\": [{\"error_x\": {\"color\": \"#2a3f5f\"}, \"error_y\": {\"color\": \"#2a3f5f\"}, \"marker\": {\"line\": {\"color\": \"#E5ECF6\", \"width\": 0.5}}, \"type\": \"bar\"}], \"barpolar\": [{\"marker\": {\"line\": {\"color\": \"#E5ECF6\", \"width\": 0.5}}, \"type\": \"barpolar\"}], \"carpet\": [{\"aaxis\": {\"endlinecolor\": \"#2a3f5f\", \"gridcolor\": \"white\", \"linecolor\": \"white\", \"minorgridcolor\": \"white\", \"startlinecolor\": \"#2a3f5f\"}, \"baxis\": {\"endlinecolor\": \"#2a3f5f\", \"gridcolor\": \"white\", \"linecolor\": \"white\", \"minorgridcolor\": \"white\", \"startlinecolor\": \"#2a3f5f\"}, \"type\": \"carpet\"}], \"choropleth\": [{\"colorbar\": {\"outlinewidth\": 0, \"ticks\": \"\"}, \"type\": \"choropleth\"}], \"contour\": [{\"colorbar\": {\"outlinewidth\": 0, \"ticks\": \"\"}, \"colorscale\": [[0.0, \"#0d0887\"], [0.1111111111111111, \"#46039f\"], [0.2222222222222222, \"#7201a8\"], [0.3333333333333333, \"#9c179e\"], [0.4444444444444444, \"#bd3786\"], [0.5555555555555556, \"#d8576b\"], [0.6666666666666666, \"#ed7953\"], [0.7777777777777778, \"#fb9f3a\"], [0.8888888888888888, \"#fdca26\"], [1.0, \"#f0f921\"]], \"type\": \"contour\"}], \"contourcarpet\": [{\"colorbar\": {\"outlinewidth\": 0, \"ticks\": \"\"}, \"type\": \"contourcarpet\"}], \"heatmap\": [{\"colorbar\": {\"outlinewidth\": 0, \"ticks\": \"\"}, \"colorscale\": [[0.0, \"#0d0887\"], [0.1111111111111111, \"#46039f\"], [0.2222222222222222, \"#7201a8\"], [0.3333333333333333, \"#9c179e\"], [0.4444444444444444, \"#bd3786\"], [0.5555555555555556, \"#d8576b\"], [0.6666666666666666, \"#ed7953\"], [0.7777777777777778, \"#fb9f3a\"], [0.8888888888888888, \"#fdca26\"], [1.0, \"#f0f921\"]], \"type\": \"heatmap\"}], \"heatmapgl\": [{\"colorbar\": {\"outlinewidth\": 0, \"ticks\": \"\"}, \"colorscale\": [[0.0, \"#0d0887\"], [0.1111111111111111, \"#46039f\"], [0.2222222222222222, \"#7201a8\"], [0.3333333333333333, \"#9c179e\"], [0.4444444444444444, \"#bd3786\"], [0.5555555555555556, \"#d8576b\"], [0.6666666666666666, \"#ed7953\"], [0.7777777777777778, \"#fb9f3a\"], [0.8888888888888888, \"#fdca26\"], [1.0, \"#f0f921\"]], \"type\": \"heatmapgl\"}], \"histogram\": [{\"marker\": {\"colorbar\": {\"outlinewidth\": 0, \"ticks\": \"\"}}, \"type\": \"histogram\"}], \"histogram2d\": [{\"colorbar\": {\"outlinewidth\": 0, \"ticks\": \"\"}, \"colorscale\": [[0.0, \"#0d0887\"], [0.1111111111111111, \"#46039f\"], [0.2222222222222222, \"#7201a8\"], [0.3333333333333333, \"#9c179e\"], [0.4444444444444444, \"#bd3786\"], [0.5555555555555556, \"#d8576b\"], [0.6666666666666666, \"#ed7953\"], [0.7777777777777778, \"#fb9f3a\"], [0.8888888888888888, \"#fdca26\"], [1.0, \"#f0f921\"]], \"type\": \"histogram2d\"}], \"histogram2dcontour\": [{\"colorbar\": {\"outlinewidth\": 0, \"ticks\": \"\"}, \"colorscale\": [[0.0, \"#0d0887\"], [0.1111111111111111, \"#46039f\"], [0.2222222222222222, \"#7201a8\"], [0.3333333333333333, \"#9c179e\"], [0.4444444444444444, \"#bd3786\"], [0.5555555555555556, \"#d8576b\"], [0.6666666666666666, \"#ed7953\"], [0.7777777777777778, \"#fb9f3a\"], [0.8888888888888888, \"#fdca26\"], [1.0, \"#f0f921\"]], \"type\": \"histogram2dcontour\"}], \"mesh3d\": [{\"colorbar\": {\"outlinewidth\": 0, \"ticks\": \"\"}, \"type\": \"mesh3d\"}], \"parcoords\": [{\"line\": {\"colorbar\": {\"outlinewidth\": 0, \"ticks\": \"\"}}, \"type\": \"parcoords\"}], \"pie\": [{\"automargin\": true, \"type\": \"pie\"}], \"scatter\": [{\"marker\": {\"colorbar\": {\"outlinewidth\": 0, \"ticks\": \"\"}}, \"type\": \"scatter\"}], \"scatter3d\": [{\"line\": {\"colorbar\": {\"outlinewidth\": 0, \"ticks\": \"\"}}, \"marker\": {\"colorbar\": {\"outlinewidth\": 0, \"ticks\": \"\"}}, \"type\": \"scatter3d\"}], \"scattercarpet\": [{\"marker\": {\"colorbar\": {\"outlinewidth\": 0, \"ticks\": \"\"}}, \"type\": \"scattercarpet\"}], \"scattergeo\": [{\"marker\": {\"colorbar\": {\"outlinewidth\": 0, \"ticks\": \"\"}}, \"type\": \"scattergeo\"}], \"scattergl\": [{\"marker\": {\"colorbar\": {\"outlinewidth\": 0, \"ticks\": \"\"}}, \"type\": \"scattergl\"}], \"scattermapbox\": [{\"marker\": {\"colorbar\": {\"outlinewidth\": 0, \"ticks\": \"\"}}, \"type\": \"scattermapbox\"}], \"scatterpolar\": [{\"marker\": {\"colorbar\": {\"outlinewidth\": 0, \"ticks\": \"\"}}, \"type\": \"scatterpolar\"}], \"scatterpolargl\": [{\"marker\": {\"colorbar\": {\"outlinewidth\": 0, \"ticks\": \"\"}}, \"type\": \"scatterpolargl\"}], \"scatterternary\": [{\"marker\": {\"colorbar\": {\"outlinewidth\": 0, \"ticks\": \"\"}}, \"type\": \"scatterternary\"}], \"surface\": [{\"colorbar\": {\"outlinewidth\": 0, \"ticks\": \"\"}, \"colorscale\": [[0.0, \"#0d0887\"], [0.1111111111111111, \"#46039f\"], [0.2222222222222222, \"#7201a8\"], [0.3333333333333333, \"#9c179e\"], [0.4444444444444444, \"#bd3786\"], [0.5555555555555556, \"#d8576b\"], [0.6666666666666666, \"#ed7953\"], [0.7777777777777778, \"#fb9f3a\"], [0.8888888888888888, \"#fdca26\"], [1.0, \"#f0f921\"]], \"type\": \"surface\"}], \"table\": [{\"cells\": {\"fill\": {\"color\": \"#EBF0F8\"}, \"line\": {\"color\": \"white\"}}, \"header\": {\"fill\": {\"color\": \"#C8D4E3\"}, \"line\": {\"color\": \"white\"}}, \"type\": \"table\"}]}, \"layout\": {\"annotationdefaults\": {\"arrowcolor\": \"#2a3f5f\", \"arrowhead\": 0, \"arrowwidth\": 1}, \"autotypenumbers\": \"strict\", \"coloraxis\": {\"colorbar\": {\"outlinewidth\": 0, \"ticks\": \"\"}}, \"colorscale\": {\"diverging\": [[0, \"#8e0152\"], [0.1, \"#c51b7d\"], [0.2, \"#de77ae\"], [0.3, \"#f1b6da\"], [0.4, \"#fde0ef\"], [0.5, \"#f7f7f7\"], [0.6, \"#e6f5d0\"], [0.7, \"#b8e186\"], [0.8, \"#7fbc41\"], [0.9, \"#4d9221\"], [1, \"#276419\"]], \"sequential\": [[0.0, \"#0d0887\"], [0.1111111111111111, \"#46039f\"], [0.2222222222222222, \"#7201a8\"], [0.3333333333333333, \"#9c179e\"], [0.4444444444444444, \"#bd3786\"], [0.5555555555555556, \"#d8576b\"], [0.6666666666666666, \"#ed7953\"], [0.7777777777777778, \"#fb9f3a\"], [0.8888888888888888, \"#fdca26\"], [1.0, \"#f0f921\"]], \"sequentialminus\": [[0.0, \"#0d0887\"], [0.1111111111111111, \"#46039f\"], [0.2222222222222222, \"#7201a8\"], [0.3333333333333333, \"#9c179e\"], [0.4444444444444444, \"#bd3786\"], [0.5555555555555556, \"#d8576b\"], [0.6666666666666666, \"#ed7953\"], [0.7777777777777778, \"#fb9f3a\"], [0.8888888888888888, \"#fdca26\"], [1.0, \"#f0f921\"]]}, \"colorway\": [\"#636efa\", \"#EF553B\", \"#00cc96\", \"#ab63fa\", \"#FFA15A\", \"#19d3f3\", \"#FF6692\", \"#B6E880\", \"#FF97FF\", \"#FECB52\"], \"font\": {\"color\": \"#2a3f5f\"}, \"geo\": {\"bgcolor\": \"white\", \"lakecolor\": \"white\", \"landcolor\": \"#E5ECF6\", \"showlakes\": true, \"showland\": true, \"subunitcolor\": \"white\"}, \"hoverlabel\": {\"align\": \"left\"}, \"hovermode\": \"closest\", \"mapbox\": {\"style\": \"light\"}, \"paper_bgcolor\": \"white\", \"plot_bgcolor\": \"#E5ECF6\", \"polar\": {\"angularaxis\": {\"gridcolor\": \"white\", \"linecolor\": \"white\", \"ticks\": \"\"}, \"bgcolor\": \"#E5ECF6\", \"radialaxis\": {\"gridcolor\": \"white\", \"linecolor\": \"white\", \"ticks\": \"\"}}, \"scene\": {\"xaxis\": {\"backgroundcolor\": \"#E5ECF6\", \"gridcolor\": \"white\", \"gridwidth\": 2, \"linecolor\": \"white\", \"showbackground\": true, \"ticks\": \"\", \"zerolinecolor\": \"white\"}, \"yaxis\": {\"backgroundcolor\": \"#E5ECF6\", \"gridcolor\": \"white\", \"gridwidth\": 2, \"linecolor\": \"white\", \"showbackground\": true, \"ticks\": \"\", \"zerolinecolor\": \"white\"}, \"zaxis\": {\"backgroundcolor\": \"#E5ECF6\", \"gridcolor\": \"white\", \"gridwidth\": 2, \"linecolor\": \"white\", \"showbackground\": true, \"ticks\": \"\", \"zerolinecolor\": \"white\"}}, \"shapedefaults\": {\"line\": {\"color\": \"#2a3f5f\"}}, \"ternary\": {\"aaxis\": {\"gridcolor\": \"white\", \"linecolor\": \"white\", \"ticks\": \"\"}, \"baxis\": {\"gridcolor\": \"white\", \"linecolor\": \"white\", \"ticks\": \"\"}, \"bgcolor\": \"#E5ECF6\", \"caxis\": {\"gridcolor\": \"white\", \"linecolor\": \"white\", \"ticks\": \"\"}}, \"title\": {\"x\": 0.05}, \"xaxis\": {\"automargin\": true, \"gridcolor\": \"white\", \"linecolor\": \"white\", \"ticks\": \"\", \"title\": {\"standoff\": 15}, \"zerolinecolor\": \"white\", \"zerolinewidth\": 2}, \"yaxis\": {\"automargin\": true, \"gridcolor\": \"white\", \"linecolor\": \"white\", \"ticks\": \"\", \"title\": {\"standoff\": 15}, \"zerolinecolor\": \"white\", \"zerolinewidth\": 2}}}, \"title\": {\"text\": \"Prophet Forecast for Average Temperatures in Toronto, 2020\", \"x\": 0.5}, \"xaxis\": {\"title\": {\"text\": \"Months\"}}, \"yaxis\": {\"title\": {\"text\": \"Average Temperature\"}}},                        {\"responsive\": true}                    ).then(function(){\n",
       "                            \n",
       "var gd = document.getElementById('4614eb25-9933-4bd2-866d-7c2573b4a9bf');\n",
       "var x = new MutationObserver(function (mutations, observer) {{\n",
       "        var display = window.getComputedStyle(gd).display;\n",
       "        if (!display || display === 'none') {{\n",
       "            console.log([gd, 'removed!']);\n",
       "            Plotly.purge(gd);\n",
       "            observer.disconnect();\n",
       "        }}\n",
       "}});\n",
       "\n",
       "// Listen for the removal of the full notebook cells\n",
       "var notebookContainer = gd.closest('#notebook-container');\n",
       "if (notebookContainer) {{\n",
       "    x.observe(notebookContainer, {childList: true});\n",
       "}}\n",
       "\n",
       "// Listen for the clearing of the current output cell\n",
       "var outputEl = gd.closest('.output');\n",
       "if (outputEl) {{\n",
       "    x.observe(outputEl, {childList: true});\n",
       "}}\n",
       "\n",
       "                        })                };                });            </script>        </div>"
      ]
     },
     "metadata": {},
     "output_type": "display_data"
    }
   ],
   "source": [
    "project_yhat(torpreds,city='Toronto',year=2020,mode='individual')"
   ]
  },
  {
   "cell_type": "code",
   "execution_count": 146,
   "id": "failing-discovery",
   "metadata": {},
   "outputs": [
    {
     "data": {
      "application/vnd.plotly.v1+json": {
       "config": {
        "plotlyServerURL": "https://plot.ly"
       },
       "data": [
        {
         "line": {
          "color": "crimson"
         },
         "mode": "lines+markers",
         "name": "yhat",
         "type": "scatter",
         "x": [
          "2020-01-01T00:00:00",
          "2020-02-01T00:00:00",
          "2020-03-01T00:00:00",
          "2020-04-01T00:00:00",
          "2020-05-01T00:00:00",
          "2020-06-01T00:00:00",
          "2020-07-01T00:00:00",
          "2020-08-01T00:00:00",
          "2020-09-01T00:00:00",
          "2020-10-01T00:00:00",
          "2020-11-01T00:00:00",
          "2020-12-01T00:00:00"
         ],
         "y": [
          23.535940830436097,
          26.121499455463827,
          29.54827147695687,
          32.05202686209288,
          33.27990885586725,
          30.64250051652691,
          27.993027913646884,
          27.400866099474893,
          27.487697255849458,
          26.59293575519091,
          24.48116174852719,
          22.902320487716356
         ]
        },
        {
         "line": {
          "color": "dodgerblue"
         },
         "mode": "lines+markers",
         "name": "original",
         "type": "scatter",
         "x": [
          "2020-01-01T00:00:00",
          "2020-02-01T00:00:00",
          "2020-03-01T00:00:00",
          "2020-04-01T00:00:00",
          "2020-05-01T00:00:00",
          "2020-06-01T00:00:00",
          "2020-07-01T00:00:00",
          "2020-08-01T00:00:00",
          "2020-09-01T00:00:00",
          "2020-10-01T00:00:00",
          "2020-11-01T00:00:00",
          "2020-12-01T00:00:00"
         ],
         "y": [
          26,
          27,
          30,
          35,
          36,
          29,
          26,
          26,
          27,
          26,
          25,
          23
         ]
        },
        {
         "line": {
          "color": "green",
          "dash": "dash",
          "width": 2
         },
         "name": "yhat_lower",
         "type": "scatter",
         "x": [
          "2020-01-01T00:00:00",
          "2020-02-01T00:00:00",
          "2020-03-01T00:00:00",
          "2020-04-01T00:00:00",
          "2020-05-01T00:00:00",
          "2020-06-01T00:00:00",
          "2020-07-01T00:00:00",
          "2020-08-01T00:00:00",
          "2020-09-01T00:00:00",
          "2020-10-01T00:00:00",
          "2020-11-01T00:00:00",
          "2020-12-01T00:00:00"
         ],
         "y": [
          22.333276904826967,
          24.968685801593615,
          28.343333544951,
          30.877772803064108,
          32.06195115475918,
          29.54293734119294,
          26.82064340570996,
          26.13654060053356,
          26.36722294884602,
          25.377550795549038,
          23.230227334255066,
          21.721571064743372
         ]
        },
        {
         "line": {
          "color": "orange",
          "dash": "dot",
          "width": 2
         },
         "name": "yhat_lower",
         "type": "scatter",
         "x": [
          "2020-01-01T00:00:00",
          "2020-02-01T00:00:00",
          "2020-03-01T00:00:00",
          "2020-04-01T00:00:00",
          "2020-05-01T00:00:00",
          "2020-06-01T00:00:00",
          "2020-07-01T00:00:00",
          "2020-08-01T00:00:00",
          "2020-09-01T00:00:00",
          "2020-10-01T00:00:00",
          "2020-11-01T00:00:00",
          "2020-12-01T00:00:00"
         ],
         "y": [
          24.775094192220134,
          27.20860342432898,
          30.698223215814537,
          33.23537036556011,
          34.47021219426453,
          31.81951720180531,
          29.154893521871916,
          28.552798299453023,
          28.649245843836738,
          27.739649400381534,
          25.59729385007487,
          24.00328138428391
         ]
        }
       ],
       "layout": {
        "legend": {
         "title": {
          "text": "Legend"
         }
        },
        "template": {
         "data": {
          "bar": [
           {
            "error_x": {
             "color": "#2a3f5f"
            },
            "error_y": {
             "color": "#2a3f5f"
            },
            "marker": {
             "line": {
              "color": "#E5ECF6",
              "width": 0.5
             }
            },
            "type": "bar"
           }
          ],
          "barpolar": [
           {
            "marker": {
             "line": {
              "color": "#E5ECF6",
              "width": 0.5
             }
            },
            "type": "barpolar"
           }
          ],
          "carpet": [
           {
            "aaxis": {
             "endlinecolor": "#2a3f5f",
             "gridcolor": "white",
             "linecolor": "white",
             "minorgridcolor": "white",
             "startlinecolor": "#2a3f5f"
            },
            "baxis": {
             "endlinecolor": "#2a3f5f",
             "gridcolor": "white",
             "linecolor": "white",
             "minorgridcolor": "white",
             "startlinecolor": "#2a3f5f"
            },
            "type": "carpet"
           }
          ],
          "choropleth": [
           {
            "colorbar": {
             "outlinewidth": 0,
             "ticks": ""
            },
            "type": "choropleth"
           }
          ],
          "contour": [
           {
            "colorbar": {
             "outlinewidth": 0,
             "ticks": ""
            },
            "colorscale": [
             [
              0,
              "#0d0887"
             ],
             [
              0.1111111111111111,
              "#46039f"
             ],
             [
              0.2222222222222222,
              "#7201a8"
             ],
             [
              0.3333333333333333,
              "#9c179e"
             ],
             [
              0.4444444444444444,
              "#bd3786"
             ],
             [
              0.5555555555555556,
              "#d8576b"
             ],
             [
              0.6666666666666666,
              "#ed7953"
             ],
             [
              0.7777777777777778,
              "#fb9f3a"
             ],
             [
              0.8888888888888888,
              "#fdca26"
             ],
             [
              1,
              "#f0f921"
             ]
            ],
            "type": "contour"
           }
          ],
          "contourcarpet": [
           {
            "colorbar": {
             "outlinewidth": 0,
             "ticks": ""
            },
            "type": "contourcarpet"
           }
          ],
          "heatmap": [
           {
            "colorbar": {
             "outlinewidth": 0,
             "ticks": ""
            },
            "colorscale": [
             [
              0,
              "#0d0887"
             ],
             [
              0.1111111111111111,
              "#46039f"
             ],
             [
              0.2222222222222222,
              "#7201a8"
             ],
             [
              0.3333333333333333,
              "#9c179e"
             ],
             [
              0.4444444444444444,
              "#bd3786"
             ],
             [
              0.5555555555555556,
              "#d8576b"
             ],
             [
              0.6666666666666666,
              "#ed7953"
             ],
             [
              0.7777777777777778,
              "#fb9f3a"
             ],
             [
              0.8888888888888888,
              "#fdca26"
             ],
             [
              1,
              "#f0f921"
             ]
            ],
            "type": "heatmap"
           }
          ],
          "heatmapgl": [
           {
            "colorbar": {
             "outlinewidth": 0,
             "ticks": ""
            },
            "colorscale": [
             [
              0,
              "#0d0887"
             ],
             [
              0.1111111111111111,
              "#46039f"
             ],
             [
              0.2222222222222222,
              "#7201a8"
             ],
             [
              0.3333333333333333,
              "#9c179e"
             ],
             [
              0.4444444444444444,
              "#bd3786"
             ],
             [
              0.5555555555555556,
              "#d8576b"
             ],
             [
              0.6666666666666666,
              "#ed7953"
             ],
             [
              0.7777777777777778,
              "#fb9f3a"
             ],
             [
              0.8888888888888888,
              "#fdca26"
             ],
             [
              1,
              "#f0f921"
             ]
            ],
            "type": "heatmapgl"
           }
          ],
          "histogram": [
           {
            "marker": {
             "colorbar": {
              "outlinewidth": 0,
              "ticks": ""
             }
            },
            "type": "histogram"
           }
          ],
          "histogram2d": [
           {
            "colorbar": {
             "outlinewidth": 0,
             "ticks": ""
            },
            "colorscale": [
             [
              0,
              "#0d0887"
             ],
             [
              0.1111111111111111,
              "#46039f"
             ],
             [
              0.2222222222222222,
              "#7201a8"
             ],
             [
              0.3333333333333333,
              "#9c179e"
             ],
             [
              0.4444444444444444,
              "#bd3786"
             ],
             [
              0.5555555555555556,
              "#d8576b"
             ],
             [
              0.6666666666666666,
              "#ed7953"
             ],
             [
              0.7777777777777778,
              "#fb9f3a"
             ],
             [
              0.8888888888888888,
              "#fdca26"
             ],
             [
              1,
              "#f0f921"
             ]
            ],
            "type": "histogram2d"
           }
          ],
          "histogram2dcontour": [
           {
            "colorbar": {
             "outlinewidth": 0,
             "ticks": ""
            },
            "colorscale": [
             [
              0,
              "#0d0887"
             ],
             [
              0.1111111111111111,
              "#46039f"
             ],
             [
              0.2222222222222222,
              "#7201a8"
             ],
             [
              0.3333333333333333,
              "#9c179e"
             ],
             [
              0.4444444444444444,
              "#bd3786"
             ],
             [
              0.5555555555555556,
              "#d8576b"
             ],
             [
              0.6666666666666666,
              "#ed7953"
             ],
             [
              0.7777777777777778,
              "#fb9f3a"
             ],
             [
              0.8888888888888888,
              "#fdca26"
             ],
             [
              1,
              "#f0f921"
             ]
            ],
            "type": "histogram2dcontour"
           }
          ],
          "mesh3d": [
           {
            "colorbar": {
             "outlinewidth": 0,
             "ticks": ""
            },
            "type": "mesh3d"
           }
          ],
          "parcoords": [
           {
            "line": {
             "colorbar": {
              "outlinewidth": 0,
              "ticks": ""
             }
            },
            "type": "parcoords"
           }
          ],
          "pie": [
           {
            "automargin": true,
            "type": "pie"
           }
          ],
          "scatter": [
           {
            "marker": {
             "colorbar": {
              "outlinewidth": 0,
              "ticks": ""
             }
            },
            "type": "scatter"
           }
          ],
          "scatter3d": [
           {
            "line": {
             "colorbar": {
              "outlinewidth": 0,
              "ticks": ""
             }
            },
            "marker": {
             "colorbar": {
              "outlinewidth": 0,
              "ticks": ""
             }
            },
            "type": "scatter3d"
           }
          ],
          "scattercarpet": [
           {
            "marker": {
             "colorbar": {
              "outlinewidth": 0,
              "ticks": ""
             }
            },
            "type": "scattercarpet"
           }
          ],
          "scattergeo": [
           {
            "marker": {
             "colorbar": {
              "outlinewidth": 0,
              "ticks": ""
             }
            },
            "type": "scattergeo"
           }
          ],
          "scattergl": [
           {
            "marker": {
             "colorbar": {
              "outlinewidth": 0,
              "ticks": ""
             }
            },
            "type": "scattergl"
           }
          ],
          "scattermapbox": [
           {
            "marker": {
             "colorbar": {
              "outlinewidth": 0,
              "ticks": ""
             }
            },
            "type": "scattermapbox"
           }
          ],
          "scatterpolar": [
           {
            "marker": {
             "colorbar": {
              "outlinewidth": 0,
              "ticks": ""
             }
            },
            "type": "scatterpolar"
           }
          ],
          "scatterpolargl": [
           {
            "marker": {
             "colorbar": {
              "outlinewidth": 0,
              "ticks": ""
             }
            },
            "type": "scatterpolargl"
           }
          ],
          "scatterternary": [
           {
            "marker": {
             "colorbar": {
              "outlinewidth": 0,
              "ticks": ""
             }
            },
            "type": "scatterternary"
           }
          ],
          "surface": [
           {
            "colorbar": {
             "outlinewidth": 0,
             "ticks": ""
            },
            "colorscale": [
             [
              0,
              "#0d0887"
             ],
             [
              0.1111111111111111,
              "#46039f"
             ],
             [
              0.2222222222222222,
              "#7201a8"
             ],
             [
              0.3333333333333333,
              "#9c179e"
             ],
             [
              0.4444444444444444,
              "#bd3786"
             ],
             [
              0.5555555555555556,
              "#d8576b"
             ],
             [
              0.6666666666666666,
              "#ed7953"
             ],
             [
              0.7777777777777778,
              "#fb9f3a"
             ],
             [
              0.8888888888888888,
              "#fdca26"
             ],
             [
              1,
              "#f0f921"
             ]
            ],
            "type": "surface"
           }
          ],
          "table": [
           {
            "cells": {
             "fill": {
              "color": "#EBF0F8"
             },
             "line": {
              "color": "white"
             }
            },
            "header": {
             "fill": {
              "color": "#C8D4E3"
             },
             "line": {
              "color": "white"
             }
            },
            "type": "table"
           }
          ]
         },
         "layout": {
          "annotationdefaults": {
           "arrowcolor": "#2a3f5f",
           "arrowhead": 0,
           "arrowwidth": 1
          },
          "autotypenumbers": "strict",
          "coloraxis": {
           "colorbar": {
            "outlinewidth": 0,
            "ticks": ""
           }
          },
          "colorscale": {
           "diverging": [
            [
             0,
             "#8e0152"
            ],
            [
             0.1,
             "#c51b7d"
            ],
            [
             0.2,
             "#de77ae"
            ],
            [
             0.3,
             "#f1b6da"
            ],
            [
             0.4,
             "#fde0ef"
            ],
            [
             0.5,
             "#f7f7f7"
            ],
            [
             0.6,
             "#e6f5d0"
            ],
            [
             0.7,
             "#b8e186"
            ],
            [
             0.8,
             "#7fbc41"
            ],
            [
             0.9,
             "#4d9221"
            ],
            [
             1,
             "#276419"
            ]
           ],
           "sequential": [
            [
             0,
             "#0d0887"
            ],
            [
             0.1111111111111111,
             "#46039f"
            ],
            [
             0.2222222222222222,
             "#7201a8"
            ],
            [
             0.3333333333333333,
             "#9c179e"
            ],
            [
             0.4444444444444444,
             "#bd3786"
            ],
            [
             0.5555555555555556,
             "#d8576b"
            ],
            [
             0.6666666666666666,
             "#ed7953"
            ],
            [
             0.7777777777777778,
             "#fb9f3a"
            ],
            [
             0.8888888888888888,
             "#fdca26"
            ],
            [
             1,
             "#f0f921"
            ]
           ],
           "sequentialminus": [
            [
             0,
             "#0d0887"
            ],
            [
             0.1111111111111111,
             "#46039f"
            ],
            [
             0.2222222222222222,
             "#7201a8"
            ],
            [
             0.3333333333333333,
             "#9c179e"
            ],
            [
             0.4444444444444444,
             "#bd3786"
            ],
            [
             0.5555555555555556,
             "#d8576b"
            ],
            [
             0.6666666666666666,
             "#ed7953"
            ],
            [
             0.7777777777777778,
             "#fb9f3a"
            ],
            [
             0.8888888888888888,
             "#fdca26"
            ],
            [
             1,
             "#f0f921"
            ]
           ]
          },
          "colorway": [
           "#636efa",
           "#EF553B",
           "#00cc96",
           "#ab63fa",
           "#FFA15A",
           "#19d3f3",
           "#FF6692",
           "#B6E880",
           "#FF97FF",
           "#FECB52"
          ],
          "font": {
           "color": "#2a3f5f"
          },
          "geo": {
           "bgcolor": "white",
           "lakecolor": "white",
           "landcolor": "#E5ECF6",
           "showlakes": true,
           "showland": true,
           "subunitcolor": "white"
          },
          "hoverlabel": {
           "align": "left"
          },
          "hovermode": "closest",
          "mapbox": {
           "style": "light"
          },
          "paper_bgcolor": "white",
          "plot_bgcolor": "#E5ECF6",
          "polar": {
           "angularaxis": {
            "gridcolor": "white",
            "linecolor": "white",
            "ticks": ""
           },
           "bgcolor": "#E5ECF6",
           "radialaxis": {
            "gridcolor": "white",
            "linecolor": "white",
            "ticks": ""
           }
          },
          "scene": {
           "xaxis": {
            "backgroundcolor": "#E5ECF6",
            "gridcolor": "white",
            "gridwidth": 2,
            "linecolor": "white",
            "showbackground": true,
            "ticks": "",
            "zerolinecolor": "white"
           },
           "yaxis": {
            "backgroundcolor": "#E5ECF6",
            "gridcolor": "white",
            "gridwidth": 2,
            "linecolor": "white",
            "showbackground": true,
            "ticks": "",
            "zerolinecolor": "white"
           },
           "zaxis": {
            "backgroundcolor": "#E5ECF6",
            "gridcolor": "white",
            "gridwidth": 2,
            "linecolor": "white",
            "showbackground": true,
            "ticks": "",
            "zerolinecolor": "white"
           }
          },
          "shapedefaults": {
           "line": {
            "color": "#2a3f5f"
           }
          },
          "ternary": {
           "aaxis": {
            "gridcolor": "white",
            "linecolor": "white",
            "ticks": ""
           },
           "baxis": {
            "gridcolor": "white",
            "linecolor": "white",
            "ticks": ""
           },
           "bgcolor": "#E5ECF6",
           "caxis": {
            "gridcolor": "white",
            "linecolor": "white",
            "ticks": ""
           }
          },
          "title": {
           "x": 0.05
          },
          "xaxis": {
           "automargin": true,
           "gridcolor": "white",
           "linecolor": "white",
           "ticks": "",
           "title": {
            "standoff": 15
           },
           "zerolinecolor": "white",
           "zerolinewidth": 2
          },
          "yaxis": {
           "automargin": true,
           "gridcolor": "white",
           "linecolor": "white",
           "ticks": "",
           "title": {
            "standoff": 15
           },
           "zerolinecolor": "white",
           "zerolinewidth": 2
          }
         }
        },
        "title": {
         "text": "Prophet Forecast for Average Temperatures in Hyderabad, 2020",
         "x": 0.5
        },
        "xaxis": {
         "title": {
          "text": "Months"
         }
        },
        "yaxis": {
         "title": {
          "text": "Average Temperature"
         }
        }
       }
      },
      "text/html": [
       "<div>                            <div id=\"b040433e-ca2a-4d91-a008-ba84fb39644f\" class=\"plotly-graph-div\" style=\"height:525px; width:100%;\"></div>            <script type=\"text/javascript\">                require([\"plotly\"], function(Plotly) {                    window.PLOTLYENV=window.PLOTLYENV || {};                                    if (document.getElementById(\"b040433e-ca2a-4d91-a008-ba84fb39644f\")) {                    Plotly.newPlot(                        \"b040433e-ca2a-4d91-a008-ba84fb39644f\",                        [{\"line\": {\"color\": \"crimson\"}, \"mode\": \"lines+markers\", \"name\": \"yhat\", \"type\": \"scatter\", \"x\": [\"2020-01-01T00:00:00\", \"2020-02-01T00:00:00\", \"2020-03-01T00:00:00\", \"2020-04-01T00:00:00\", \"2020-05-01T00:00:00\", \"2020-06-01T00:00:00\", \"2020-07-01T00:00:00\", \"2020-08-01T00:00:00\", \"2020-09-01T00:00:00\", \"2020-10-01T00:00:00\", \"2020-11-01T00:00:00\", \"2020-12-01T00:00:00\"], \"y\": [23.535940830436097, 26.121499455463827, 29.54827147695687, 32.05202686209288, 33.27990885586725, 30.64250051652691, 27.993027913646884, 27.400866099474893, 27.487697255849458, 26.59293575519091, 24.48116174852719, 22.902320487716356]}, {\"line\": {\"color\": \"dodgerblue\"}, \"mode\": \"lines+markers\", \"name\": \"original\", \"type\": \"scatter\", \"x\": [\"2020-01-01T00:00:00\", \"2020-02-01T00:00:00\", \"2020-03-01T00:00:00\", \"2020-04-01T00:00:00\", \"2020-05-01T00:00:00\", \"2020-06-01T00:00:00\", \"2020-07-01T00:00:00\", \"2020-08-01T00:00:00\", \"2020-09-01T00:00:00\", \"2020-10-01T00:00:00\", \"2020-11-01T00:00:00\", \"2020-12-01T00:00:00\"], \"y\": [26, 27, 30, 35, 36, 29, 26, 26, 27, 26, 25, 23]}, {\"line\": {\"color\": \"green\", \"dash\": \"dash\", \"width\": 2}, \"name\": \"yhat_lower\", \"type\": \"scatter\", \"x\": [\"2020-01-01T00:00:00\", \"2020-02-01T00:00:00\", \"2020-03-01T00:00:00\", \"2020-04-01T00:00:00\", \"2020-05-01T00:00:00\", \"2020-06-01T00:00:00\", \"2020-07-01T00:00:00\", \"2020-08-01T00:00:00\", \"2020-09-01T00:00:00\", \"2020-10-01T00:00:00\", \"2020-11-01T00:00:00\", \"2020-12-01T00:00:00\"], \"y\": [22.333276904826967, 24.968685801593615, 28.343333544951, 30.877772803064108, 32.06195115475918, 29.54293734119294, 26.82064340570996, 26.13654060053356, 26.36722294884602, 25.377550795549038, 23.230227334255066, 21.721571064743372]}, {\"line\": {\"color\": \"orange\", \"dash\": \"dot\", \"width\": 2}, \"name\": \"yhat_lower\", \"type\": \"scatter\", \"x\": [\"2020-01-01T00:00:00\", \"2020-02-01T00:00:00\", \"2020-03-01T00:00:00\", \"2020-04-01T00:00:00\", \"2020-05-01T00:00:00\", \"2020-06-01T00:00:00\", \"2020-07-01T00:00:00\", \"2020-08-01T00:00:00\", \"2020-09-01T00:00:00\", \"2020-10-01T00:00:00\", \"2020-11-01T00:00:00\", \"2020-12-01T00:00:00\"], \"y\": [24.775094192220134, 27.20860342432898, 30.698223215814537, 33.23537036556011, 34.47021219426453, 31.81951720180531, 29.154893521871916, 28.552798299453023, 28.649245843836738, 27.739649400381534, 25.59729385007487, 24.00328138428391]}],                        {\"legend\": {\"title\": {\"text\": \"Legend\"}}, \"template\": {\"data\": {\"bar\": [{\"error_x\": {\"color\": \"#2a3f5f\"}, \"error_y\": {\"color\": \"#2a3f5f\"}, \"marker\": {\"line\": {\"color\": \"#E5ECF6\", \"width\": 0.5}}, \"type\": \"bar\"}], \"barpolar\": [{\"marker\": {\"line\": {\"color\": \"#E5ECF6\", \"width\": 0.5}}, \"type\": \"barpolar\"}], \"carpet\": [{\"aaxis\": {\"endlinecolor\": \"#2a3f5f\", \"gridcolor\": \"white\", \"linecolor\": \"white\", \"minorgridcolor\": \"white\", \"startlinecolor\": \"#2a3f5f\"}, \"baxis\": {\"endlinecolor\": \"#2a3f5f\", \"gridcolor\": \"white\", \"linecolor\": \"white\", \"minorgridcolor\": \"white\", \"startlinecolor\": \"#2a3f5f\"}, \"type\": \"carpet\"}], \"choropleth\": [{\"colorbar\": {\"outlinewidth\": 0, \"ticks\": \"\"}, \"type\": \"choropleth\"}], \"contour\": [{\"colorbar\": {\"outlinewidth\": 0, \"ticks\": \"\"}, \"colorscale\": [[0.0, \"#0d0887\"], [0.1111111111111111, \"#46039f\"], [0.2222222222222222, \"#7201a8\"], [0.3333333333333333, \"#9c179e\"], [0.4444444444444444, \"#bd3786\"], [0.5555555555555556, \"#d8576b\"], [0.6666666666666666, \"#ed7953\"], [0.7777777777777778, \"#fb9f3a\"], [0.8888888888888888, \"#fdca26\"], [1.0, \"#f0f921\"]], \"type\": \"contour\"}], \"contourcarpet\": [{\"colorbar\": {\"outlinewidth\": 0, \"ticks\": \"\"}, \"type\": \"contourcarpet\"}], \"heatmap\": [{\"colorbar\": {\"outlinewidth\": 0, \"ticks\": \"\"}, \"colorscale\": [[0.0, \"#0d0887\"], [0.1111111111111111, \"#46039f\"], [0.2222222222222222, \"#7201a8\"], [0.3333333333333333, \"#9c179e\"], [0.4444444444444444, \"#bd3786\"], [0.5555555555555556, \"#d8576b\"], [0.6666666666666666, \"#ed7953\"], [0.7777777777777778, \"#fb9f3a\"], [0.8888888888888888, \"#fdca26\"], [1.0, \"#f0f921\"]], \"type\": \"heatmap\"}], \"heatmapgl\": [{\"colorbar\": {\"outlinewidth\": 0, \"ticks\": \"\"}, \"colorscale\": [[0.0, \"#0d0887\"], [0.1111111111111111, \"#46039f\"], [0.2222222222222222, \"#7201a8\"], [0.3333333333333333, \"#9c179e\"], [0.4444444444444444, \"#bd3786\"], [0.5555555555555556, \"#d8576b\"], [0.6666666666666666, \"#ed7953\"], [0.7777777777777778, \"#fb9f3a\"], [0.8888888888888888, \"#fdca26\"], [1.0, \"#f0f921\"]], \"type\": \"heatmapgl\"}], \"histogram\": [{\"marker\": {\"colorbar\": {\"outlinewidth\": 0, \"ticks\": \"\"}}, \"type\": \"histogram\"}], \"histogram2d\": [{\"colorbar\": {\"outlinewidth\": 0, \"ticks\": \"\"}, \"colorscale\": [[0.0, \"#0d0887\"], [0.1111111111111111, \"#46039f\"], [0.2222222222222222, \"#7201a8\"], [0.3333333333333333, \"#9c179e\"], [0.4444444444444444, \"#bd3786\"], [0.5555555555555556, \"#d8576b\"], [0.6666666666666666, \"#ed7953\"], [0.7777777777777778, \"#fb9f3a\"], [0.8888888888888888, \"#fdca26\"], [1.0, \"#f0f921\"]], \"type\": \"histogram2d\"}], \"histogram2dcontour\": [{\"colorbar\": {\"outlinewidth\": 0, \"ticks\": \"\"}, \"colorscale\": [[0.0, \"#0d0887\"], [0.1111111111111111, \"#46039f\"], [0.2222222222222222, \"#7201a8\"], [0.3333333333333333, \"#9c179e\"], [0.4444444444444444, \"#bd3786\"], [0.5555555555555556, \"#d8576b\"], [0.6666666666666666, \"#ed7953\"], [0.7777777777777778, \"#fb9f3a\"], [0.8888888888888888, \"#fdca26\"], [1.0, \"#f0f921\"]], \"type\": \"histogram2dcontour\"}], \"mesh3d\": [{\"colorbar\": {\"outlinewidth\": 0, \"ticks\": \"\"}, \"type\": \"mesh3d\"}], \"parcoords\": [{\"line\": {\"colorbar\": {\"outlinewidth\": 0, \"ticks\": \"\"}}, \"type\": \"parcoords\"}], \"pie\": [{\"automargin\": true, \"type\": \"pie\"}], \"scatter\": [{\"marker\": {\"colorbar\": {\"outlinewidth\": 0, \"ticks\": \"\"}}, \"type\": \"scatter\"}], \"scatter3d\": [{\"line\": {\"colorbar\": {\"outlinewidth\": 0, \"ticks\": \"\"}}, \"marker\": {\"colorbar\": {\"outlinewidth\": 0, \"ticks\": \"\"}}, \"type\": \"scatter3d\"}], \"scattercarpet\": [{\"marker\": {\"colorbar\": {\"outlinewidth\": 0, \"ticks\": \"\"}}, \"type\": \"scattercarpet\"}], \"scattergeo\": [{\"marker\": {\"colorbar\": {\"outlinewidth\": 0, \"ticks\": \"\"}}, \"type\": \"scattergeo\"}], \"scattergl\": [{\"marker\": {\"colorbar\": {\"outlinewidth\": 0, \"ticks\": \"\"}}, \"type\": \"scattergl\"}], \"scattermapbox\": [{\"marker\": {\"colorbar\": {\"outlinewidth\": 0, \"ticks\": \"\"}}, \"type\": \"scattermapbox\"}], \"scatterpolar\": [{\"marker\": {\"colorbar\": {\"outlinewidth\": 0, \"ticks\": \"\"}}, \"type\": \"scatterpolar\"}], \"scatterpolargl\": [{\"marker\": {\"colorbar\": {\"outlinewidth\": 0, \"ticks\": \"\"}}, \"type\": \"scatterpolargl\"}], \"scatterternary\": [{\"marker\": {\"colorbar\": {\"outlinewidth\": 0, \"ticks\": \"\"}}, \"type\": \"scatterternary\"}], \"surface\": [{\"colorbar\": {\"outlinewidth\": 0, \"ticks\": \"\"}, \"colorscale\": [[0.0, \"#0d0887\"], [0.1111111111111111, \"#46039f\"], [0.2222222222222222, \"#7201a8\"], [0.3333333333333333, \"#9c179e\"], [0.4444444444444444, \"#bd3786\"], [0.5555555555555556, \"#d8576b\"], [0.6666666666666666, \"#ed7953\"], [0.7777777777777778, \"#fb9f3a\"], [0.8888888888888888, \"#fdca26\"], [1.0, \"#f0f921\"]], \"type\": \"surface\"}], \"table\": [{\"cells\": {\"fill\": {\"color\": \"#EBF0F8\"}, \"line\": {\"color\": \"white\"}}, \"header\": {\"fill\": {\"color\": \"#C8D4E3\"}, \"line\": {\"color\": \"white\"}}, \"type\": \"table\"}]}, \"layout\": {\"annotationdefaults\": {\"arrowcolor\": \"#2a3f5f\", \"arrowhead\": 0, \"arrowwidth\": 1}, \"autotypenumbers\": \"strict\", \"coloraxis\": {\"colorbar\": {\"outlinewidth\": 0, \"ticks\": \"\"}}, \"colorscale\": {\"diverging\": [[0, \"#8e0152\"], [0.1, \"#c51b7d\"], [0.2, \"#de77ae\"], [0.3, \"#f1b6da\"], [0.4, \"#fde0ef\"], [0.5, \"#f7f7f7\"], [0.6, \"#e6f5d0\"], [0.7, \"#b8e186\"], [0.8, \"#7fbc41\"], [0.9, \"#4d9221\"], [1, \"#276419\"]], \"sequential\": [[0.0, \"#0d0887\"], [0.1111111111111111, \"#46039f\"], [0.2222222222222222, \"#7201a8\"], [0.3333333333333333, \"#9c179e\"], [0.4444444444444444, \"#bd3786\"], [0.5555555555555556, \"#d8576b\"], [0.6666666666666666, \"#ed7953\"], [0.7777777777777778, \"#fb9f3a\"], [0.8888888888888888, \"#fdca26\"], [1.0, \"#f0f921\"]], \"sequentialminus\": [[0.0, \"#0d0887\"], [0.1111111111111111, \"#46039f\"], [0.2222222222222222, \"#7201a8\"], [0.3333333333333333, \"#9c179e\"], [0.4444444444444444, \"#bd3786\"], [0.5555555555555556, \"#d8576b\"], [0.6666666666666666, \"#ed7953\"], [0.7777777777777778, \"#fb9f3a\"], [0.8888888888888888, \"#fdca26\"], [1.0, \"#f0f921\"]]}, \"colorway\": [\"#636efa\", \"#EF553B\", \"#00cc96\", \"#ab63fa\", \"#FFA15A\", \"#19d3f3\", \"#FF6692\", \"#B6E880\", \"#FF97FF\", \"#FECB52\"], \"font\": {\"color\": \"#2a3f5f\"}, \"geo\": {\"bgcolor\": \"white\", \"lakecolor\": \"white\", \"landcolor\": \"#E5ECF6\", \"showlakes\": true, \"showland\": true, \"subunitcolor\": \"white\"}, \"hoverlabel\": {\"align\": \"left\"}, \"hovermode\": \"closest\", \"mapbox\": {\"style\": \"light\"}, \"paper_bgcolor\": \"white\", \"plot_bgcolor\": \"#E5ECF6\", \"polar\": {\"angularaxis\": {\"gridcolor\": \"white\", \"linecolor\": \"white\", \"ticks\": \"\"}, \"bgcolor\": \"#E5ECF6\", \"radialaxis\": {\"gridcolor\": \"white\", \"linecolor\": \"white\", \"ticks\": \"\"}}, \"scene\": {\"xaxis\": {\"backgroundcolor\": \"#E5ECF6\", \"gridcolor\": \"white\", \"gridwidth\": 2, \"linecolor\": \"white\", \"showbackground\": true, \"ticks\": \"\", \"zerolinecolor\": \"white\"}, \"yaxis\": {\"backgroundcolor\": \"#E5ECF6\", \"gridcolor\": \"white\", \"gridwidth\": 2, \"linecolor\": \"white\", \"showbackground\": true, \"ticks\": \"\", \"zerolinecolor\": \"white\"}, \"zaxis\": {\"backgroundcolor\": \"#E5ECF6\", \"gridcolor\": \"white\", \"gridwidth\": 2, \"linecolor\": \"white\", \"showbackground\": true, \"ticks\": \"\", \"zerolinecolor\": \"white\"}}, \"shapedefaults\": {\"line\": {\"color\": \"#2a3f5f\"}}, \"ternary\": {\"aaxis\": {\"gridcolor\": \"white\", \"linecolor\": \"white\", \"ticks\": \"\"}, \"baxis\": {\"gridcolor\": \"white\", \"linecolor\": \"white\", \"ticks\": \"\"}, \"bgcolor\": \"#E5ECF6\", \"caxis\": {\"gridcolor\": \"white\", \"linecolor\": \"white\", \"ticks\": \"\"}}, \"title\": {\"x\": 0.05}, \"xaxis\": {\"automargin\": true, \"gridcolor\": \"white\", \"linecolor\": \"white\", \"ticks\": \"\", \"title\": {\"standoff\": 15}, \"zerolinecolor\": \"white\", \"zerolinewidth\": 2}, \"yaxis\": {\"automargin\": true, \"gridcolor\": \"white\", \"linecolor\": \"white\", \"ticks\": \"\", \"title\": {\"standoff\": 15}, \"zerolinecolor\": \"white\", \"zerolinewidth\": 2}}}, \"title\": {\"text\": \"Prophet Forecast for Average Temperatures in Hyderabad, 2020\", \"x\": 0.5}, \"xaxis\": {\"title\": {\"text\": \"Months\"}}, \"yaxis\": {\"title\": {\"text\": \"Average Temperature\"}}},                        {\"responsive\": true}                    ).then(function(){\n",
       "                            \n",
       "var gd = document.getElementById('b040433e-ca2a-4d91-a008-ba84fb39644f');\n",
       "var x = new MutationObserver(function (mutations, observer) {{\n",
       "        var display = window.getComputedStyle(gd).display;\n",
       "        if (!display || display === 'none') {{\n",
       "            console.log([gd, 'removed!']);\n",
       "            Plotly.purge(gd);\n",
       "            observer.disconnect();\n",
       "        }}\n",
       "}});\n",
       "\n",
       "// Listen for the removal of the full notebook cells\n",
       "var notebookContainer = gd.closest('#notebook-container');\n",
       "if (notebookContainer) {{\n",
       "    x.observe(notebookContainer, {childList: true});\n",
       "}}\n",
       "\n",
       "// Listen for the clearing of the current output cell\n",
       "var outputEl = gd.closest('.output');\n",
       "if (outputEl) {{\n",
       "    x.observe(outputEl, {childList: true});\n",
       "}}\n",
       "\n",
       "                        })                };                });            </script>        </div>"
      ]
     },
     "metadata": {},
     "output_type": "display_data"
    }
   ],
   "source": [
    "project_yhat(hydpreds,city='Hyderabad',year=2020,mode='individual')"
   ]
  },
  {
   "cell_type": "markdown",
   "id": "molecular-disaster",
   "metadata": {},
   "source": [
    " **references**\n",
    " https://www.timeanddate.com/weather/india/hyderabad/historic?month=10&year=2020"
   ]
  },
  {
   "cell_type": "markdown",
   "id": "dramatic-thriller",
   "metadata": {},
   "source": [
    "### Seasonal Quantification"
   ]
  },
  {
   "cell_type": "markdown",
   "id": "muslim-mechanism",
   "metadata": {},
   "source": [
    "* Iteratively slice dataframes into the seasonalities\n",
    "* Iteratively fit the data into new models with yearly_seasonality=True\n",
    "* Figure out the logic for the predicting future years\n",
    "* Present the quantification in a range"
   ]
  },
  {
   "cell_type": "code",
   "execution_count": 160,
   "id": "coated-softball",
   "metadata": {},
   "outputs": [
    {
     "data": {
      "text/html": [
       "<div>\n",
       "<style scoped>\n",
       "    .dataframe tbody tr th:only-of-type {\n",
       "        vertical-align: middle;\n",
       "    }\n",
       "\n",
       "    .dataframe tbody tr th {\n",
       "        vertical-align: top;\n",
       "    }\n",
       "\n",
       "    .dataframe thead th {\n",
       "        text-align: right;\n",
       "    }\n",
       "</style>\n",
       "<table border=\"1\" class=\"dataframe\">\n",
       "  <thead>\n",
       "    <tr style=\"text-align: right;\">\n",
       "      <th></th>\n",
       "      <th>dt</th>\n",
       "      <th>AverageTemperature</th>\n",
       "      <th>AverageTemperatureUncertainty</th>\n",
       "      <th>City</th>\n",
       "      <th>Country</th>\n",
       "      <th>Latitude</th>\n",
       "      <th>Longitude</th>\n",
       "      <th>Month</th>\n",
       "      <th>Year</th>\n",
       "      <th>Hemisphere</th>\n",
       "      <th>Seasons</th>\n",
       "      <th>DeltaT</th>\n",
       "    </tr>\n",
       "  </thead>\n",
       "  <tbody>\n",
       "    <tr>\n",
       "      <th>11911</th>\n",
       "      <td>1796-01-01</td>\n",
       "      <td>22.759000</td>\n",
       "      <td>2.322000</td>\n",
       "      <td>Hyderabad</td>\n",
       "      <td>India</td>\n",
       "      <td>16.87N</td>\n",
       "      <td>78.70E</td>\n",
       "      <td>Jan</td>\n",
       "      <td>1796</td>\n",
       "      <td>Northern Hemisphere</td>\n",
       "      <td>Winter</td>\n",
       "      <td>-9.003000</td>\n",
       "    </tr>\n",
       "    <tr>\n",
       "      <th>11912</th>\n",
       "      <td>1797-01-01</td>\n",
       "      <td>26.869335</td>\n",
       "      <td>0.956286</td>\n",
       "      <td>Hyderabad</td>\n",
       "      <td>India</td>\n",
       "      <td>16.87N</td>\n",
       "      <td>78.70E</td>\n",
       "      <td>Jan</td>\n",
       "      <td>1797</td>\n",
       "      <td>Northern Hemisphere</td>\n",
       "      <td>Winter</td>\n",
       "      <td>-4.110335</td>\n",
       "    </tr>\n",
       "    <tr>\n",
       "      <th>11913</th>\n",
       "      <td>1798-01-01</td>\n",
       "      <td>22.789000</td>\n",
       "      <td>2.426000</td>\n",
       "      <td>Hyderabad</td>\n",
       "      <td>India</td>\n",
       "      <td>16.87N</td>\n",
       "      <td>78.70E</td>\n",
       "      <td>Jan</td>\n",
       "      <td>1798</td>\n",
       "      <td>Northern Hemisphere</td>\n",
       "      <td>Winter</td>\n",
       "      <td>4.080335</td>\n",
       "    </tr>\n",
       "    <tr>\n",
       "      <th>11914</th>\n",
       "      <td>1799-01-01</td>\n",
       "      <td>22.441000</td>\n",
       "      <td>2.254000</td>\n",
       "      <td>Hyderabad</td>\n",
       "      <td>India</td>\n",
       "      <td>16.87N</td>\n",
       "      <td>78.70E</td>\n",
       "      <td>Jan</td>\n",
       "      <td>1799</td>\n",
       "      <td>Northern Hemisphere</td>\n",
       "      <td>Winter</td>\n",
       "      <td>0.348000</td>\n",
       "    </tr>\n",
       "    <tr>\n",
       "      <th>11915</th>\n",
       "      <td>1800-01-01</td>\n",
       "      <td>22.979000</td>\n",
       "      <td>1.872000</td>\n",
       "      <td>Hyderabad</td>\n",
       "      <td>India</td>\n",
       "      <td>16.87N</td>\n",
       "      <td>78.70E</td>\n",
       "      <td>Jan</td>\n",
       "      <td>1800</td>\n",
       "      <td>Northern Hemisphere</td>\n",
       "      <td>Winter</td>\n",
       "      <td>-0.538000</td>\n",
       "    </tr>\n",
       "    <tr>\n",
       "      <th>...</th>\n",
       "      <td>...</td>\n",
       "      <td>...</td>\n",
       "      <td>...</td>\n",
       "      <td>...</td>\n",
       "      <td>...</td>\n",
       "      <td>...</td>\n",
       "      <td>...</td>\n",
       "      <td>...</td>\n",
       "      <td>...</td>\n",
       "      <td>...</td>\n",
       "      <td>...</td>\n",
       "      <td>...</td>\n",
       "    </tr>\n",
       "    <tr>\n",
       "      <th>231385</th>\n",
       "      <td>2008-12-01</td>\n",
       "      <td>23.396000</td>\n",
       "      <td>0.218000</td>\n",
       "      <td>Hyderabad</td>\n",
       "      <td>India</td>\n",
       "      <td>16.87N</td>\n",
       "      <td>78.70E</td>\n",
       "      <td>Dec</td>\n",
       "      <td>2008</td>\n",
       "      <td>Northern Hemisphere</td>\n",
       "      <td>Winter</td>\n",
       "      <td>0.071000</td>\n",
       "    </tr>\n",
       "    <tr>\n",
       "      <th>231386</th>\n",
       "      <td>2009-12-01</td>\n",
       "      <td>23.173000</td>\n",
       "      <td>0.195000</td>\n",
       "      <td>Hyderabad</td>\n",
       "      <td>India</td>\n",
       "      <td>16.87N</td>\n",
       "      <td>78.70E</td>\n",
       "      <td>Dec</td>\n",
       "      <td>2009</td>\n",
       "      <td>Northern Hemisphere</td>\n",
       "      <td>Winter</td>\n",
       "      <td>0.223000</td>\n",
       "    </tr>\n",
       "    <tr>\n",
       "      <th>231387</th>\n",
       "      <td>2010-12-01</td>\n",
       "      <td>22.234000</td>\n",
       "      <td>0.305000</td>\n",
       "      <td>Hyderabad</td>\n",
       "      <td>India</td>\n",
       "      <td>16.87N</td>\n",
       "      <td>78.70E</td>\n",
       "      <td>Dec</td>\n",
       "      <td>2010</td>\n",
       "      <td>Northern Hemisphere</td>\n",
       "      <td>Winter</td>\n",
       "      <td>0.939000</td>\n",
       "    </tr>\n",
       "    <tr>\n",
       "      <th>231388</th>\n",
       "      <td>2011-12-01</td>\n",
       "      <td>23.613000</td>\n",
       "      <td>0.822000</td>\n",
       "      <td>Hyderabad</td>\n",
       "      <td>India</td>\n",
       "      <td>16.87N</td>\n",
       "      <td>78.70E</td>\n",
       "      <td>Dec</td>\n",
       "      <td>2011</td>\n",
       "      <td>Northern Hemisphere</td>\n",
       "      <td>Winter</td>\n",
       "      <td>-1.379000</td>\n",
       "    </tr>\n",
       "    <tr>\n",
       "      <th>231389</th>\n",
       "      <td>2012-12-01</td>\n",
       "      <td>24.006000</td>\n",
       "      <td>0.708000</td>\n",
       "      <td>Hyderabad</td>\n",
       "      <td>India</td>\n",
       "      <td>16.87N</td>\n",
       "      <td>78.70E</td>\n",
       "      <td>Dec</td>\n",
       "      <td>2012</td>\n",
       "      <td>Northern Hemisphere</td>\n",
       "      <td>Winter</td>\n",
       "      <td>-0.393000</td>\n",
       "    </tr>\n",
       "  </tbody>\n",
       "</table>\n",
       "<p>870 rows × 12 columns</p>\n",
       "</div>"
      ],
      "text/plain": [
       "               dt  AverageTemperature  AverageTemperatureUncertainty  \\\n",
       "11911  1796-01-01           22.759000                       2.322000   \n",
       "11912  1797-01-01           26.869335                       0.956286   \n",
       "11913  1798-01-01           22.789000                       2.426000   \n",
       "11914  1799-01-01           22.441000                       2.254000   \n",
       "11915  1800-01-01           22.979000                       1.872000   \n",
       "...           ...                 ...                            ...   \n",
       "231385 2008-12-01           23.396000                       0.218000   \n",
       "231386 2009-12-01           23.173000                       0.195000   \n",
       "231387 2010-12-01           22.234000                       0.305000   \n",
       "231388 2011-12-01           23.613000                       0.822000   \n",
       "231389 2012-12-01           24.006000                       0.708000   \n",
       "\n",
       "             City Country Latitude Longitude Month  Year           Hemisphere  \\\n",
       "11911   Hyderabad   India   16.87N    78.70E   Jan  1796  Northern Hemisphere   \n",
       "11912   Hyderabad   India   16.87N    78.70E   Jan  1797  Northern Hemisphere   \n",
       "11913   Hyderabad   India   16.87N    78.70E   Jan  1798  Northern Hemisphere   \n",
       "11914   Hyderabad   India   16.87N    78.70E   Jan  1799  Northern Hemisphere   \n",
       "11915   Hyderabad   India   16.87N    78.70E   Jan  1800  Northern Hemisphere   \n",
       "...           ...     ...      ...       ...   ...   ...                  ...   \n",
       "231385  Hyderabad   India   16.87N    78.70E   Dec  2008  Northern Hemisphere   \n",
       "231386  Hyderabad   India   16.87N    78.70E   Dec  2009  Northern Hemisphere   \n",
       "231387  Hyderabad   India   16.87N    78.70E   Dec  2010  Northern Hemisphere   \n",
       "231388  Hyderabad   India   16.87N    78.70E   Dec  2011  Northern Hemisphere   \n",
       "231389  Hyderabad   India   16.87N    78.70E   Dec  2012  Northern Hemisphere   \n",
       "\n",
       "       Seasons    DeltaT  \n",
       "11911   Winter -9.003000  \n",
       "11912   Winter -4.110335  \n",
       "11913   Winter  4.080335  \n",
       "11914   Winter  0.348000  \n",
       "11915   Winter -0.538000  \n",
       "...        ...       ...  \n",
       "231385  Winter  0.071000  \n",
       "231386  Winter  0.223000  \n",
       "231387  Winter  0.939000  \n",
       "231388  Winter -1.379000  \n",
       "231389  Winter -0.393000  \n",
       "\n",
       "[870 rows x 12 columns]"
      ]
     },
     "execution_count": 160,
     "metadata": {},
     "output_type": "execute_result"
    }
   ],
   "source": [
    "hyddf = dmajcity[dmajcity['City']=='Hyderabad']\n",
    "hyddf[hyddf['Seasons']=='Winter']"
   ]
  },
  {
   "cell_type": "code",
   "execution_count": 163,
   "id": "raising-calvin",
   "metadata": {},
   "outputs": [],
   "source": [
    "# iteratively creating seasonal dfs\n",
    "\n",
    "def gen_seasonal_dfs(dmajcity,city):\n",
    "    \n",
    "    datapackage = {}\n",
    "    seasondfs = []\n",
    "    \n",
    "    # slice by CITY\n",
    "    data = dmajcity[dmajcity['City']=='Hyderabad']\n",
    "    \n",
    "    # get seasons \n",
    "    seasons = data['Seasons'].unique()\n",
    "    datapackage['Seasons'] = seasons \n",
    "    \n",
    "    # hemisphere \n",
    "    datapackage['Hemisphere'] = data['Hemisphere'].unique()[0]\n",
    "    \n",
    "    for season in seasons:\n",
    "        seasondfs.append(data[data['Seasons']==season])\n",
    "        \n",
    "    datapackage['dfs'] = seasondfs\n",
    "    \n",
    "    return datapackage"
   ]
  },
  {
   "cell_type": "code",
   "execution_count": 164,
   "id": "heavy-memorabilia",
   "metadata": {},
   "outputs": [],
   "source": [
    "datapackage = gen_seasonal_dfs(dmajcity,city='Hyderabad')"
   ]
  },
  {
   "cell_type": "code",
   "execution_count": 167,
   "id": "otherwise-cambodia",
   "metadata": {},
   "outputs": [],
   "source": [
    "hyddfs = datapackage['dfs']"
   ]
  },
  {
   "cell_type": "code",
   "execution_count": 168,
   "id": "exotic-password",
   "metadata": {},
   "outputs": [
    {
     "data": {
      "text/html": [
       "<div>\n",
       "<style scoped>\n",
       "    .dataframe tbody tr th:only-of-type {\n",
       "        vertical-align: middle;\n",
       "    }\n",
       "\n",
       "    .dataframe tbody tr th {\n",
       "        vertical-align: top;\n",
       "    }\n",
       "\n",
       "    .dataframe thead th {\n",
       "        text-align: right;\n",
       "    }\n",
       "</style>\n",
       "<table border=\"1\" class=\"dataframe\">\n",
       "  <thead>\n",
       "    <tr style=\"text-align: right;\">\n",
       "      <th></th>\n",
       "      <th>dt</th>\n",
       "      <th>AverageTemperature</th>\n",
       "      <th>AverageTemperatureUncertainty</th>\n",
       "      <th>City</th>\n",
       "      <th>Country</th>\n",
       "      <th>Latitude</th>\n",
       "      <th>Longitude</th>\n",
       "      <th>Month</th>\n",
       "      <th>Year</th>\n",
       "      <th>Hemisphere</th>\n",
       "      <th>Seasons</th>\n",
       "      <th>DeltaT</th>\n",
       "    </tr>\n",
       "  </thead>\n",
       "  <tbody>\n",
       "    <tr>\n",
       "      <th>11911</th>\n",
       "      <td>1796-01-01</td>\n",
       "      <td>22.759000</td>\n",
       "      <td>2.322000</td>\n",
       "      <td>Hyderabad</td>\n",
       "      <td>India</td>\n",
       "      <td>16.87N</td>\n",
       "      <td>78.70E</td>\n",
       "      <td>Jan</td>\n",
       "      <td>1796</td>\n",
       "      <td>Northern Hemisphere</td>\n",
       "      <td>Winter</td>\n",
       "      <td>-9.003000</td>\n",
       "    </tr>\n",
       "    <tr>\n",
       "      <th>11912</th>\n",
       "      <td>1797-01-01</td>\n",
       "      <td>26.869335</td>\n",
       "      <td>0.956286</td>\n",
       "      <td>Hyderabad</td>\n",
       "      <td>India</td>\n",
       "      <td>16.87N</td>\n",
       "      <td>78.70E</td>\n",
       "      <td>Jan</td>\n",
       "      <td>1797</td>\n",
       "      <td>Northern Hemisphere</td>\n",
       "      <td>Winter</td>\n",
       "      <td>-4.110335</td>\n",
       "    </tr>\n",
       "    <tr>\n",
       "      <th>11913</th>\n",
       "      <td>1798-01-01</td>\n",
       "      <td>22.789000</td>\n",
       "      <td>2.426000</td>\n",
       "      <td>Hyderabad</td>\n",
       "      <td>India</td>\n",
       "      <td>16.87N</td>\n",
       "      <td>78.70E</td>\n",
       "      <td>Jan</td>\n",
       "      <td>1798</td>\n",
       "      <td>Northern Hemisphere</td>\n",
       "      <td>Winter</td>\n",
       "      <td>4.080335</td>\n",
       "    </tr>\n",
       "    <tr>\n",
       "      <th>11914</th>\n",
       "      <td>1799-01-01</td>\n",
       "      <td>22.441000</td>\n",
       "      <td>2.254000</td>\n",
       "      <td>Hyderabad</td>\n",
       "      <td>India</td>\n",
       "      <td>16.87N</td>\n",
       "      <td>78.70E</td>\n",
       "      <td>Jan</td>\n",
       "      <td>1799</td>\n",
       "      <td>Northern Hemisphere</td>\n",
       "      <td>Winter</td>\n",
       "      <td>0.348000</td>\n",
       "    </tr>\n",
       "    <tr>\n",
       "      <th>11915</th>\n",
       "      <td>1800-01-01</td>\n",
       "      <td>22.979000</td>\n",
       "      <td>1.872000</td>\n",
       "      <td>Hyderabad</td>\n",
       "      <td>India</td>\n",
       "      <td>16.87N</td>\n",
       "      <td>78.70E</td>\n",
       "      <td>Jan</td>\n",
       "      <td>1800</td>\n",
       "      <td>Northern Hemisphere</td>\n",
       "      <td>Winter</td>\n",
       "      <td>-0.538000</td>\n",
       "    </tr>\n",
       "    <tr>\n",
       "      <th>...</th>\n",
       "      <td>...</td>\n",
       "      <td>...</td>\n",
       "      <td>...</td>\n",
       "      <td>...</td>\n",
       "      <td>...</td>\n",
       "      <td>...</td>\n",
       "      <td>...</td>\n",
       "      <td>...</td>\n",
       "      <td>...</td>\n",
       "      <td>...</td>\n",
       "      <td>...</td>\n",
       "      <td>...</td>\n",
       "    </tr>\n",
       "    <tr>\n",
       "      <th>231385</th>\n",
       "      <td>2008-12-01</td>\n",
       "      <td>23.396000</td>\n",
       "      <td>0.218000</td>\n",
       "      <td>Hyderabad</td>\n",
       "      <td>India</td>\n",
       "      <td>16.87N</td>\n",
       "      <td>78.70E</td>\n",
       "      <td>Dec</td>\n",
       "      <td>2008</td>\n",
       "      <td>Northern Hemisphere</td>\n",
       "      <td>Winter</td>\n",
       "      <td>0.071000</td>\n",
       "    </tr>\n",
       "    <tr>\n",
       "      <th>231386</th>\n",
       "      <td>2009-12-01</td>\n",
       "      <td>23.173000</td>\n",
       "      <td>0.195000</td>\n",
       "      <td>Hyderabad</td>\n",
       "      <td>India</td>\n",
       "      <td>16.87N</td>\n",
       "      <td>78.70E</td>\n",
       "      <td>Dec</td>\n",
       "      <td>2009</td>\n",
       "      <td>Northern Hemisphere</td>\n",
       "      <td>Winter</td>\n",
       "      <td>0.223000</td>\n",
       "    </tr>\n",
       "    <tr>\n",
       "      <th>231387</th>\n",
       "      <td>2010-12-01</td>\n",
       "      <td>22.234000</td>\n",
       "      <td>0.305000</td>\n",
       "      <td>Hyderabad</td>\n",
       "      <td>India</td>\n",
       "      <td>16.87N</td>\n",
       "      <td>78.70E</td>\n",
       "      <td>Dec</td>\n",
       "      <td>2010</td>\n",
       "      <td>Northern Hemisphere</td>\n",
       "      <td>Winter</td>\n",
       "      <td>0.939000</td>\n",
       "    </tr>\n",
       "    <tr>\n",
       "      <th>231388</th>\n",
       "      <td>2011-12-01</td>\n",
       "      <td>23.613000</td>\n",
       "      <td>0.822000</td>\n",
       "      <td>Hyderabad</td>\n",
       "      <td>India</td>\n",
       "      <td>16.87N</td>\n",
       "      <td>78.70E</td>\n",
       "      <td>Dec</td>\n",
       "      <td>2011</td>\n",
       "      <td>Northern Hemisphere</td>\n",
       "      <td>Winter</td>\n",
       "      <td>-1.379000</td>\n",
       "    </tr>\n",
       "    <tr>\n",
       "      <th>231389</th>\n",
       "      <td>2012-12-01</td>\n",
       "      <td>24.006000</td>\n",
       "      <td>0.708000</td>\n",
       "      <td>Hyderabad</td>\n",
       "      <td>India</td>\n",
       "      <td>16.87N</td>\n",
       "      <td>78.70E</td>\n",
       "      <td>Dec</td>\n",
       "      <td>2012</td>\n",
       "      <td>Northern Hemisphere</td>\n",
       "      <td>Winter</td>\n",
       "      <td>-0.393000</td>\n",
       "    </tr>\n",
       "  </tbody>\n",
       "</table>\n",
       "<p>870 rows × 12 columns</p>\n",
       "</div>"
      ],
      "text/plain": [
       "               dt  AverageTemperature  AverageTemperatureUncertainty  \\\n",
       "11911  1796-01-01           22.759000                       2.322000   \n",
       "11912  1797-01-01           26.869335                       0.956286   \n",
       "11913  1798-01-01           22.789000                       2.426000   \n",
       "11914  1799-01-01           22.441000                       2.254000   \n",
       "11915  1800-01-01           22.979000                       1.872000   \n",
       "...           ...                 ...                            ...   \n",
       "231385 2008-12-01           23.396000                       0.218000   \n",
       "231386 2009-12-01           23.173000                       0.195000   \n",
       "231387 2010-12-01           22.234000                       0.305000   \n",
       "231388 2011-12-01           23.613000                       0.822000   \n",
       "231389 2012-12-01           24.006000                       0.708000   \n",
       "\n",
       "             City Country Latitude Longitude Month  Year           Hemisphere  \\\n",
       "11911   Hyderabad   India   16.87N    78.70E   Jan  1796  Northern Hemisphere   \n",
       "11912   Hyderabad   India   16.87N    78.70E   Jan  1797  Northern Hemisphere   \n",
       "11913   Hyderabad   India   16.87N    78.70E   Jan  1798  Northern Hemisphere   \n",
       "11914   Hyderabad   India   16.87N    78.70E   Jan  1799  Northern Hemisphere   \n",
       "11915   Hyderabad   India   16.87N    78.70E   Jan  1800  Northern Hemisphere   \n",
       "...           ...     ...      ...       ...   ...   ...                  ...   \n",
       "231385  Hyderabad   India   16.87N    78.70E   Dec  2008  Northern Hemisphere   \n",
       "231386  Hyderabad   India   16.87N    78.70E   Dec  2009  Northern Hemisphere   \n",
       "231387  Hyderabad   India   16.87N    78.70E   Dec  2010  Northern Hemisphere   \n",
       "231388  Hyderabad   India   16.87N    78.70E   Dec  2011  Northern Hemisphere   \n",
       "231389  Hyderabad   India   16.87N    78.70E   Dec  2012  Northern Hemisphere   \n",
       "\n",
       "       Seasons    DeltaT  \n",
       "11911   Winter -9.003000  \n",
       "11912   Winter -4.110335  \n",
       "11913   Winter  4.080335  \n",
       "11914   Winter  0.348000  \n",
       "11915   Winter -0.538000  \n",
       "...        ...       ...  \n",
       "231385  Winter  0.071000  \n",
       "231386  Winter  0.223000  \n",
       "231387  Winter  0.939000  \n",
       "231388  Winter -1.379000  \n",
       "231389  Winter -0.393000  \n",
       "\n",
       "[870 rows x 12 columns]"
      ]
     },
     "execution_count": 168,
     "metadata": {},
     "output_type": "execute_result"
    }
   ],
   "source": [
    "hyddfs[0]"
   ]
  },
  {
   "cell_type": "code",
   "execution_count": null,
   "id": "anonymous-wyoming",
   "metadata": {},
   "outputs": [],
   "source": []
  }
 ],
 "metadata": {
  "kernelspec": {
   "display_name": "Python 3",
   "language": "python",
   "name": "python3"
  },
  "language_info": {
   "codemirror_mode": {
    "name": "ipython",
    "version": 3
   },
   "file_extension": ".py",
   "mimetype": "text/x-python",
   "name": "python",
   "nbconvert_exporter": "python",
   "pygments_lexer": "ipython3",
   "version": "3.8.5"
  }
 },
 "nbformat": 4,
 "nbformat_minor": 5
}
