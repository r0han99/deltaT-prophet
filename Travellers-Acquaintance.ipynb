{
 "cells": [
  {
   "cell_type": "code",
   "execution_count": 1,
   "id": "compliant-theorem",
   "metadata": {},
   "outputs": [],
   "source": [
    "import pandas as pd \n",
    "import numpy as np\n",
    "import seaborn as sns \n",
    "import matplotlib.pyplot as plt"
   ]
  },
  {
   "cell_type": "code",
   "execution_count": 2,
   "id": "veterinary-consultation",
   "metadata": {},
   "outputs": [],
   "source": [
    "dmajcity = pd.read_csv('../Data/AvgTempMajorCity.csv').drop('Unnamed: 0',axis=1)\n",
    "dcity = pd.read_csv('../Data/AvgTempcities.csv').drop('Unnamed: 0',axis=1)\n",
    "# unis = pd.read_csv('../Data/traveller-dat/Word_University_Rank_2020.csv',encoding='latin8')\n"
   ]
  },
  {
   "cell_type": "code",
   "execution_count": 3,
   "id": "personalized-trigger",
   "metadata": {},
   "outputs": [
    {
     "data": {
      "text/plain": [
       "False"
      ]
     },
     "execution_count": 3,
     "metadata": {},
     "output_type": "execute_result"
    }
   ],
   "source": [
    "'American Samoa' in np.sort(dcity['Country'].unique())"
   ]
  },
  {
   "cell_type": "code",
   "execution_count": 4,
   "id": "occupied-executive",
   "metadata": {},
   "outputs": [
    {
     "data": {
      "text/plain": [
       "array(['Afghanistan', 'Albania', 'Algeria', 'Angola', 'Argentina',\n",
       "       'Armenia', 'Australia', 'Austria', 'Azerbaijan', 'Bahamas',\n",
       "       'Bahrain', 'Bangladesh', 'Belarus', 'Belgium', 'Benin', 'Bolivia',\n",
       "       'Bosnia And Herzegovina', 'Botswana', 'Brazil', 'Bulgaria',\n",
       "       'Burkina Faso', 'Burma', 'Burundi', 'Cambodia', 'Cameroon',\n",
       "       'Canada', 'Central African Republic', 'Chad', 'Chile', 'China',\n",
       "       'Colombia', 'Congo', 'Congo (Democratic Republic Of The)',\n",
       "       'Costa Rica', 'Croatia', 'Cuba', 'Cyprus', 'Czech Republic',\n",
       "       \"Côte D'Ivoire\", 'Denmark', 'Djibouti', 'Dominican Republic',\n",
       "       'Ecuador', 'Egypt', 'El Salvador', 'Equatorial Guinea', 'Eritrea',\n",
       "       'Estonia', 'Ethiopia', 'Finland', 'France', 'Gabon', 'Gambia',\n",
       "       'Georgia', 'Germany', 'Ghana', 'Greece', 'Guatemala', 'Guinea',\n",
       "       'Guinea Bissau', 'Guyana', 'Haiti', 'Honduras', 'Hong Kong',\n",
       "       'Hungary', 'Iceland', 'India', 'Indonesia', 'Iran', 'Iraq',\n",
       "       'Ireland', 'Israel', 'Italy', 'Jamaica', 'Japan', 'Jordan',\n",
       "       'Kazakhstan', 'Kenya', 'Laos', 'Latvia', 'Lebanon', 'Lesotho',\n",
       "       'Liberia', 'Libya', 'Lithuania', 'Macedonia', 'Madagascar',\n",
       "       'Malawi', 'Malaysia', 'Mali', 'Mauritania', 'Mauritius', 'Mexico',\n",
       "       'Moldova', 'Mongolia', 'Montenegro', 'Morocco', 'Mozambique',\n",
       "       'Namibia', 'Nepal', 'Netherlands', 'New Zealand', 'Nicaragua',\n",
       "       'Niger', 'Nigeria', 'Norway', 'Oman', 'Pakistan', 'Panama',\n",
       "       'Papua New Guinea', 'Paraguay', 'Peru', 'Philippines', 'Poland',\n",
       "       'Portugal', 'Puerto Rico', 'Qatar', 'Reunion', 'Romania', 'Russia',\n",
       "       'Rwanda', 'Saudi Arabia', 'Senegal', 'Serbia', 'Sierra Leone',\n",
       "       'Singapore', 'Slovakia', 'Slovenia', 'Somalia', 'South Africa',\n",
       "       'South Korea', 'Spain', 'Sri Lanka', 'Sudan', 'Suriname',\n",
       "       'Swaziland', 'Sweden', 'Switzerland', 'Syria', 'Taiwan',\n",
       "       'Tajikistan', 'Tanzania', 'Thailand', 'Togo', 'Tunisia', 'Turkey',\n",
       "       'Turkmenistan', 'Uganda', 'Ukraine', 'United Arab Emirates',\n",
       "       'United Kingdom', 'United States', 'Uruguay', 'Uzbekistan',\n",
       "       'Venezuela', 'Vietnam', 'Yemen', 'Zambia', 'Zimbabwe'],\n",
       "      dtype=object)"
      ]
     },
     "execution_count": 4,
     "metadata": {},
     "output_type": "execute_result"
    }
   ],
   "source": [
    "np.sort(dcity['Country'].unique())"
   ]
  },
  {
   "cell_type": "markdown",
   "id": "analyzed-juice",
   "metadata": {},
   "source": [
    "### Migrating "
   ]
  },
  {
   "cell_type": "code",
   "execution_count": null,
   "id": "closed-citizenship",
   "metadata": {},
   "outputs": [],
   "source": [
    "hcountry = 'India'\n",
    "hcity = 'Hyderabad'"
   ]
  },
  {
   "cell_type": "code",
   "execution_count": null,
   "id": "reverse-intranet",
   "metadata": {},
   "outputs": [],
   "source": [
    "mcountry = 'United States'\n",
    "muni = 'Northeastern University'"
   ]
  },
  {
   "cell_type": "code",
   "execution_count": null,
   "id": "shared-prairie",
   "metadata": {},
   "outputs": [],
   "source": [
    "np.sort(dcity[dcity['Country']=='United States']['City'].unique())"
   ]
  },
  {
   "cell_type": "code",
   "execution_count": null,
   "id": "graphic-holly",
   "metadata": {},
   "outputs": [],
   "source": [
    "plt.figure(figsize=(15,7))\n",
    "plt.style.use('seaborn-whitegrid')\n",
    "sns.boxplot(x=dcity[dcity['City']==hcity]['AverageTemperature'])"
   ]
  },
  {
   "cell_type": "code",
   "execution_count": null,
   "id": "spiritual-april",
   "metadata": {},
   "outputs": [],
   "source": []
  },
  {
   "cell_type": "code",
   "execution_count": null,
   "id": "intended-knowing",
   "metadata": {},
   "outputs": [],
   "source": []
  },
  {
   "cell_type": "markdown",
   "id": "developmental-support",
   "metadata": {},
   "source": [
    "#### **Summary Content -- Traverller's**\n",
    "---\n",
    "* hemisphere differences \n",
    "* seasons \n",
    "* A statement with number of records for that particular city \n",
    "* Avgerage temperature for each season & each month \n",
    "* Winters can get as cold as .., summers can get as hot as \n",
    "* A small box plot with annotations \n",
    "* selective scrutiny -- to check for a particular year\n",
    "\n"
   ]
  },
  {
   "cell_type": "code",
   "execution_count": null,
   "id": "elementary-titanium",
   "metadata": {},
   "outputs": [],
   "source": []
  },
  {
   "cell_type": "code",
   "execution_count": null,
   "id": "ready-disclosure",
   "metadata": {},
   "outputs": [],
   "source": []
  },
  {
   "cell_type": "code",
   "execution_count": null,
   "id": "naval-option",
   "metadata": {},
   "outputs": [],
   "source": []
  }
 ],
 "metadata": {
  "kernelspec": {
   "display_name": "Python 3",
   "language": "python",
   "name": "python3"
  },
  "language_info": {
   "codemirror_mode": {
    "name": "ipython",
    "version": 3
   },
   "file_extension": ".py",
   "mimetype": "text/x-python",
   "name": "python",
   "nbconvert_exporter": "python",
   "pygments_lexer": "ipython3",
   "version": "3.8.5"
  }
 },
 "nbformat": 4,
 "nbformat_minor": 5
}
